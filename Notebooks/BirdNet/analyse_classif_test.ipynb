{
 "cells": [
  {
   "cell_type": "code",
   "execution_count": 66,
   "metadata": {},
   "outputs": [],
   "source": [
    "import pandas as pd\n",
    "import seaborn as sns\n",
    "import matplotlib.pyplot as plt\n",
    "import numpy as np\n",
    "import librosa\n",
    "import os "
   ]
  },
  {
   "cell_type": "code",
   "execution_count": 67,
   "metadata": {},
   "outputs": [],
   "source": [
    "# Ajuster les options d'affichage\n",
    "pd.set_option('display.max_columns', None)  # Aucune limite sur le nombre de colonnes affichées\n",
    "pd.set_option('display.max_colwidth', None)  # Aucune limite sur la largeur du contenu de la colonne"
   ]
  },
  {
   "cell_type": "code",
   "execution_count": 68,
   "metadata": {},
   "outputs": [
    {
     "name": "stderr",
     "output_type": "stream",
     "text": [
      "C:\\Users\\cdelm\\AppData\\Local\\Temp\\ipykernel_183424\\2334637947.py:7: DtypeWarning: Columns (41) have mixed types. Specify dtype option on import or set low_memory=False.\n",
      "  data_train = pd.read_csv(path_audible_5s_train_csv)\n"
     ]
    }
   ],
   "source": [
    "path_audible_5s_test_csv = \"../../Dataset3/CSVs/Audible/test_audible_recording_chunks.csv\"\n",
    "path_audible_5s_train_csv = \"../../Dataset3/CSVs/Audible/train_audible_recording_chunks.csv\"\n",
    "path_audible_5s_val_csv = \"../../Dataset3/CSVs/Audible/val_audible_recording_chunks.csv\"\n",
    "\n",
    "# Using pandas to read the CSV file into a DataFrame\n",
    "data_test = pd.read_csv(path_audible_5s_test_csv)\n",
    "data_train = pd.read_csv(path_audible_5s_train_csv)\n",
    "data_val = pd.read_csv(path_audible_5s_val_csv)"
   ]
  },
  {
   "cell_type": "code",
   "execution_count": 69,
   "metadata": {},
   "outputs": [
    {
     "name": "stdout",
     "output_type": "stream",
     "text": [
      "173\n"
     ]
    },
    {
     "name": "stderr",
     "output_type": "stream",
     "text": [
      "C:\\Users\\cdelm\\AppData\\Local\\Temp\\ipykernel_183424\\1382958805.py:9: SettingWithCopyWarning: \n",
      "A value is trying to be set on a copy of a slice from a DataFrame.\n",
      "Try using .loc[row_indexer,col_indexer] = value instead\n",
      "\n",
      "See the caveats in the documentation: https://pandas.pydata.org/pandas-docs/stable/user_guide/indexing.html#returning-a-view-versus-a-copy\n",
      "  labels[\"label_str\"] = labels[\"label\"]\n",
      "C:\\Users\\cdelm\\AppData\\Local\\Temp\\ipykernel_183424\\1382958805.py:11: SettingWithCopyWarning: \n",
      "A value is trying to be set on a copy of a slice from a DataFrame.\n",
      "Try using .loc[row_indexer,col_indexer] = value instead\n",
      "\n",
      "See the caveats in the documentation: https://pandas.pydata.org/pandas-docs/stable/user_guide/indexing.html#returning-a-view-versus-a-copy\n",
      "  labels['label'] = label_encoder.transform(labels['label'])\n"
     ]
    }
   ],
   "source": [
    "from sklearn.preprocessing import LabelEncoder\n",
    "\n",
    "label_encoder = LabelEncoder()\n",
    "label_encoder.fit(data_train['label'])\n",
    "\n",
    "def clean_data(df):\n",
    "    labels = df[['label','code_unique','chunk_initial_time','chunk_final_time','sampling_rate','label_class']]\n",
    "\n",
    "    labels[\"label_str\"] = labels[\"label\"]\n",
    "\n",
    "    labels['label'] = label_encoder.transform(labels['label'])\n",
    "\n",
    "    return labels\n",
    "\n",
    "#data_val = clean_data(data_val)\n",
    "data_train = clean_data(data_train)\n",
    "\n",
    "num_labels = max(data_train['label']) + 1\n",
    "print(num_labels)"
   ]
  },
  {
   "cell_type": "code",
   "execution_count": 70,
   "metadata": {},
   "outputs": [
    {
     "name": "stderr",
     "output_type": "stream",
     "text": [
      "C:\\Users\\cdelm\\AppData\\Local\\Temp\\ipykernel_183424\\1382958805.py:9: SettingWithCopyWarning: \n",
      "A value is trying to be set on a copy of a slice from a DataFrame.\n",
      "Try using .loc[row_indexer,col_indexer] = value instead\n",
      "\n",
      "See the caveats in the documentation: https://pandas.pydata.org/pandas-docs/stable/user_guide/indexing.html#returning-a-view-versus-a-copy\n",
      "  labels[\"label_str\"] = labels[\"label\"]\n",
      "C:\\Users\\cdelm\\AppData\\Local\\Temp\\ipykernel_183424\\1382958805.py:11: SettingWithCopyWarning: \n",
      "A value is trying to be set on a copy of a slice from a DataFrame.\n",
      "Try using .loc[row_indexer,col_indexer] = value instead\n",
      "\n",
      "See the caveats in the documentation: https://pandas.pydata.org/pandas-docs/stable/user_guide/indexing.html#returning-a-view-versus-a-copy\n",
      "  labels['label'] = label_encoder.transform(labels['label'])\n"
     ]
    }
   ],
   "source": [
    "label_encoder = LabelEncoder()\n",
    "label_encoder.fit(data_test['label'])\n",
    "\n",
    "data_test = clean_data(data_test)"
   ]
  },
  {
   "cell_type": "code",
   "execution_count": 71,
   "metadata": {},
   "outputs": [
    {
     "name": "stdout",
     "output_type": "stream",
     "text": [
      "Hippolais polyglotta\n",
      "['Aegithalos caudatus', 'Alarme', 'Alauda arvensis', 'Alytes obstetricans', 'Anthus trivialis', 'Apis mellifera', 'Avion', 'Bicolorana bicolor', 'Bombina variegata', 'Bos taurus', 'Branche', 'Bug informatique', 'Buteo buteo', 'Camion', 'Canis familiaris', 'Certhia brachydactyla', 'Certhia familiaris', 'Chanson', 'Choc', 'Chorthippus apricarius', 'Chorthippus biguttulus', 'Chorthippus brunneus', 'Chorthippus dorsatus', 'Chorthippus jacobsi', 'Chorthippus mollis', 'Chorthippus saulcyi', 'Chorthippus vagans', 'Chrysochraon dispar', 'Cicada orni', 'Cicadatra atra', 'Cicadetta petryi', 'Cisticola juncidis', 'Cloche', 'Cloche_v', 'Columba palumbus', 'Conocephalus fuscus', 'Corvus corax', 'Corvus corone', 'Cris', 'Curruca communis', 'Curruca melanocephala', 'Cyanistes caeruleus', 'Decticus albifrons', 'Decticus verrucivorus', 'Delichon urbicum', 'Dendrocopos major', 'Disqueuse', 'Déplacement', 'Déplacement animal', 'Eau', 'Emberiza calandra', 'Emberiza cia', 'Emberiza cirlus', 'Emberiza citrinella', 'Engin_c', 'Envol', 'Ephippiger diurnus', 'Ephippiger terrestris', 'Equus caballus', 'Erithacus rubecula', 'Euchorthippus declivus', 'Euchorthippus elegantulus', 'Eumodicogryllus bordigalensis', 'Euthystira brachyptera', 'Fermeture_e', 'Feuilles', 'Ficedula hypoleuca', 'Fringilla coelebs', 'Gallus gallus', 'Gargouillement', 'Gomphocerippus rufus', 'Gomphocerus sibiricus', 'Goutte', 'Grincement', 'Gryllotalpa gryllotalpa', 'Gryllus bimaculatus', 'Gryllus campestris', 'Hirundo rustica', 'Hélicoptère', 'Klaxon', 'Leiopicus medius', 'Leptophyes punctatissima', 'Loxia curvirostra', 'Luscinia megarhynchos', 'Lyristes plebejus', 'Marmota marmota', 'Melanogryllus desertus', 'Merops apiaster', 'Metrioptera buyssoni', 'Metrioptera saussuriana', 'Micro', 'Milvus migrans', 'Moissonneuse', 'Motacilla cinerea', 'Moto', 'Mouche', 'Myrmeleotettix maculatus', 'Nemobius sylvestris', 'Non identifié', 'Oecanthus pellucens', 'Omocestus raymondi', 'Omocestus rufipes', 'Omocestus viridulus', 'Oriolus oriolus', 'Ovis aries', 'Parus major', 'Pas', 'Passer domesticus', 'Pelodytes punctatus', 'Pelophylax kl.', 'Periparus ater', 'Phaneroptera laticerca', 'Phaneroptera nana', 'Pholidoptera femorata', 'Pholidoptera griseoaptera', 'Phylloscopus bonelli', 'Phylloscopus collybita', 'Pica pica', 'Picus viridis', 'Platycleis albopunctata', 'Platycleis falx', 'Platycleis sabulosa', 'Plongeon', 'Poecile palustris', 'Polysarcus denticauda', 'Prunella modularis', 'Pseudochorthippus parallelus', 'Pteronemobius heydenii', 'Pteronemobius lineolatus', 'Pyrrhocorax graculus', 'Pyrrhocorax pyrrhocorax', 'Pyrrhula pyrrhula', 'Raclement', 'Radar', 'Rana temporaria', 'Regulus ignicapilla', 'Regulus regulus', 'Rire', 'Roeseliana roeselii', 'Ruisseau', 'Ruspolia nitidula', 'Saxicola rubetra', 'Sifflement', 'Sitta europaea', 'Sorapagus catalaunicus', 'Stauroderus scalaris', 'Stenobothrus lineatus', 'Stenobothrus stigmaticus', 'Streptopelia decaocto', 'Streptopelia turtur', 'Strix aluco', 'Sylvia atricapilla', 'Tettigettalna argentata', 'Tettigonia cantans', 'Tettigonia viridissima', 'Tibicina haematodes', 'Torrent', 'Toux', 'Tracteur', 'Travaux', 'Troglodytes troglodytes', 'Tronçonneuse', 'Turdus merula', 'Turdus philomelos', 'Turdus viscivorus', 'Tylopsis lilifolia', 'Uromenus rugosicollis', 'Vent', 'Ventilation', 'Vespa velutina', 'Voiture', 'Voix', 'Zeuneriana abbreviata']\n",
      "['Alauda arvensis', 'Anthus trivialis', 'Apis mellifera', 'Avion', 'Bicolorana bicolor', 'Bombina variegata', 'Bos taurus', 'Branche', 'Bug informatique', 'Buteo buteo', 'Canis familiaris', 'Certhia brachydactyla', 'Certhia familiaris', 'Chanson', 'Choc', 'Chorthippus apricarius', 'Chorthippus biguttulus', 'Chorthippus brunneus', 'Chorthippus dorsatus', 'Chorthippus jacobsi', 'Chorthippus mollis', 'Chorthippus saulcyi', 'Chorthippus vagans', 'Chrysochraon dispar', 'Cicada orni', 'Cicadatra atra', 'Cicadetta petryi', 'Cloche', 'Cloche_v', 'Columba palumbus', 'Conocephalus fuscus', 'Corvus corone', 'Cris', 'Curruca melanocephala', 'Cyanistes caeruleus', 'Decticus albifrons', 'Decticus verrucivorus', 'Delichon urbicum', 'Déplacement', 'Déplacement animal', 'Emberiza calandra', 'Engin_c', 'Ephippiger diurnus', 'Ephippiger terrestris', 'Euchorthippus declivus', 'Euchorthippus elegantulus', 'Eumodicogryllus bordigalensis', 'Euthystira brachyptera', 'Fringilla coelebs', 'Gallus gallus', 'Gargouillement', 'Gomphocerippus rufus', 'Gomphocerus sibiricus', 'Goutte', 'Gryllotalpa gryllotalpa', 'Gryllus bimaculatus', 'Gryllus campestris', 'Hippolais polyglotta', 'Hirundo rustica', 'Klaxon', 'Leptophyes punctatissima', 'Luscinia megarhynchos', 'Lyristes plebejus', 'Melanogryllus desertus', 'Metrioptera buyssoni', 'Metrioptera saussuriana', 'Micro', 'Moto', 'Mouche', 'Myrmeleotettix maculatus', 'Nemobius sylvestris', 'Non identifié', 'Oecanthus pellucens', 'Omocestus raymondi', 'Omocestus rufipes', 'Omocestus viridulus', 'Ovis aries', 'Parus major', 'Passer domesticus', 'Periparus ater', 'Phaneroptera laticerca', 'Phaneroptera nana', 'Pholidoptera griseoaptera', 'Phylloscopus bonelli', 'Phylloscopus collybita', 'Platycleis albopunctata', 'Polysarcus denticauda', 'Pseudochorthippus parallelus', 'Pteronemobius heydenii', 'Pteronemobius lineolatus', 'Pyrrhocorax pyrrhocorax', 'Pyrrhula pyrrhula', 'Raclement', 'Rire', 'Roeseliana roeselii', 'Ruspolia nitidula', 'Sitta europaea', 'Sorapagus catalaunicus', 'Stauroderus scalaris', 'Stenobothrus lineatus', 'Stenobothrus stigmaticus', 'Strix aluco', 'Sylvia atricapilla', 'Tettigettalna argentata', 'Tettigonia cantans', 'Tettigonia viridissima', 'Tibicina haematodes', 'Torrent', 'Toux', 'Tracteur', 'Tronçonneuse', 'Turdus merula', 'Tylopsis lilifolia', 'Uromenus rugosicollis', 'Vent', 'Ventilation', 'Vespa velutina', 'Voiture', 'Voix', 'Zeuneriana abbreviata']\n"
     ]
    }
   ],
   "source": [
    "liste_labels = []\n",
    "liste_labels2 = []\n",
    "\n",
    "for i in range(num_labels):\n",
    "    label_str = data_train[data_train[\"label\"] == i][\"label_str\"].values[0]\n",
    "    liste_labels.append(label_str)\n",
    "\n",
    "for i in range(120):\n",
    "    label_str = data_test[data_test[\"label\"] == i][\"label_str\"].values[0]\n",
    "    liste_labels2.append(label_str)\n",
    "    if label_str not in liste_labels:\n",
    "        print(label_str)\n",
    "\n",
    "print(liste_labels)\n",
    "print(liste_labels2)\n"
   ]
  },
  {
   "cell_type": "code",
   "execution_count": 72,
   "metadata": {},
   "outputs": [
    {
     "name": "stdout",
     "output_type": "stream",
     "text": [
      "889\n"
     ]
    }
   ],
   "source": [
    "path_predictions_csv = \"BirdNET-Analyzer-main/example/test2/\"\n",
    "\n",
    "files_pred = os.listdir(path_predictions_csv)\n",
    "\n",
    "data_pred_list = []\n",
    "\n",
    "for file in files_pred:\n",
    "    data_pred = []\n",
    "    with open(path_predictions_csv + file, 'r') as file:\n",
    "        # Skip the header line if it exists\n",
    "        header = file.readline()\n",
    "\n",
    "        # Loop through each line in the file\n",
    "        for line in file:\n",
    "            # Split the line into individual values using tab as the delimiter\n",
    "            values = line.strip().split('\\t')\n",
    "\n",
    "            # Create a dictionary using column names as keys\n",
    "            data_dict = {\n",
    "                'Selection': int(values[0]),\n",
    "                'View': values[1],\n",
    "                'Channel': int(values[2]),\n",
    "                'Begin Path': values[3],\n",
    "                'File Duration (s)': float(values[4]),\n",
    "                'Begin Time (s)': float(values[5]),\n",
    "                'End Time (s)': float(values[6]),\n",
    "                'Low Freq (Hz)': float(values[7]),\n",
    "                'High Freq (Hz)': float(values[8]),\n",
    "                'Species Code': values[9],\n",
    "                'Common Name': values[10],\n",
    "                'Confidence': float(values[11]),\n",
    "            }\n",
    "\n",
    "            # Append the dictionary to the list\n",
    "            data_pred.append(data_dict)\n",
    "\n",
    "    data_pred_list.append(data_pred)\n",
    "\n",
    "print(len(data_pred_list))"
   ]
  },
  {
   "cell_type": "code",
   "execution_count": 74,
   "metadata": {},
   "outputs": [],
   "source": [
    "path_audible_5s_test_audio = \"../../Dataset3/Selection morceaux audio 5s/Audible/test/\"\n",
    "files_test = os.listdir(path_audible_5s_test_audio)\n",
    "\n",
    "y_test = []\n",
    "for file in files_test:\n",
    "    split_str_file = file.split(\"_split_\")\n",
    "    split_2 = split_str_file[1].split(\"_\")\n",
    "    chunk_initial_time = split_2[0]\n",
    "    code = split_str_file[0]\n",
    "    condition1 = data_test[\"code_unique\"]==code\n",
    "    condition2 = data_test[\"chunk_initial_time\"]==int(chunk_initial_time)\n",
    "    labels = data_test[condition1 & condition2][\"label_str\"].values\n",
    "    labels_categorical = [0] * num_labels\n",
    "    for label_str in labels:\n",
    "        if label_str != \"Hippolais polyglotta\":\n",
    "            idx = liste_labels.index(label_str)\n",
    "            labels_categorical[idx] = 1\n",
    "    y_test.append(labels_categorical)"
   ]
  },
  {
   "cell_type": "code",
   "execution_count": 75,
   "metadata": {},
   "outputs": [
    {
     "data": {
      "text/plain": [
       "[0,\n",
       " 0,\n",
       " 0,\n",
       " 0,\n",
       " 0,\n",
       " 0,\n",
       " 0,\n",
       " 0,\n",
       " 1,\n",
       " 0,\n",
       " 0,\n",
       " 0,\n",
       " 0,\n",
       " 0,\n",
       " 0,\n",
       " 0,\n",
       " 0,\n",
       " 0,\n",
       " 0,\n",
       " 0,\n",
       " 0,\n",
       " 0,\n",
       " 0,\n",
       " 0,\n",
       " 0,\n",
       " 0,\n",
       " 0,\n",
       " 0,\n",
       " 0,\n",
       " 0,\n",
       " 0,\n",
       " 0,\n",
       " 0,\n",
       " 0,\n",
       " 0,\n",
       " 0,\n",
       " 0,\n",
       " 0,\n",
       " 0,\n",
       " 0,\n",
       " 0,\n",
       " 0,\n",
       " 0,\n",
       " 0,\n",
       " 0,\n",
       " 0,\n",
       " 0,\n",
       " 0,\n",
       " 0,\n",
       " 0,\n",
       " 0,\n",
       " 0,\n",
       " 0,\n",
       " 0,\n",
       " 0,\n",
       " 0,\n",
       " 0,\n",
       " 0,\n",
       " 0,\n",
       " 0,\n",
       " 0,\n",
       " 0,\n",
       " 0,\n",
       " 0,\n",
       " 0,\n",
       " 0,\n",
       " 0,\n",
       " 0,\n",
       " 0,\n",
       " 0,\n",
       " 0,\n",
       " 0,\n",
       " 0,\n",
       " 0,\n",
       " 0,\n",
       " 0,\n",
       " 1,\n",
       " 0,\n",
       " 0,\n",
       " 0,\n",
       " 0,\n",
       " 0,\n",
       " 0,\n",
       " 0,\n",
       " 0,\n",
       " 0,\n",
       " 0,\n",
       " 0,\n",
       " 0,\n",
       " 0,\n",
       " 0,\n",
       " 0,\n",
       " 0,\n",
       " 0,\n",
       " 0,\n",
       " 0,\n",
       " 0,\n",
       " 0,\n",
       " 0,\n",
       " 0,\n",
       " 0,\n",
       " 0,\n",
       " 0,\n",
       " 0,\n",
       " 0,\n",
       " 0,\n",
       " 0,\n",
       " 0,\n",
       " 0,\n",
       " 0,\n",
       " 0,\n",
       " 0,\n",
       " 0,\n",
       " 0,\n",
       " 0,\n",
       " 0,\n",
       " 0,\n",
       " 0,\n",
       " 0,\n",
       " 0,\n",
       " 0,\n",
       " 0,\n",
       " 0,\n",
       " 0,\n",
       " 0,\n",
       " 0,\n",
       " 0,\n",
       " 0,\n",
       " 0,\n",
       " 0,\n",
       " 0,\n",
       " 0,\n",
       " 0,\n",
       " 0,\n",
       " 0,\n",
       " 0,\n",
       " 0,\n",
       " 0,\n",
       " 0,\n",
       " 0,\n",
       " 0,\n",
       " 0,\n",
       " 0,\n",
       " 0,\n",
       " 0,\n",
       " 0,\n",
       " 0,\n",
       " 0,\n",
       " 0,\n",
       " 0,\n",
       " 0,\n",
       " 0,\n",
       " 0,\n",
       " 0,\n",
       " 0,\n",
       " 0,\n",
       " 0,\n",
       " 0,\n",
       " 0,\n",
       " 0,\n",
       " 0,\n",
       " 0,\n",
       " 0,\n",
       " 0,\n",
       " 0,\n",
       " 0,\n",
       " 0,\n",
       " 0,\n",
       " 0,\n",
       " 0,\n",
       " 1,\n",
       " 0,\n",
       " 0]"
      ]
     },
     "execution_count": 75,
     "metadata": {},
     "output_type": "execute_result"
    }
   ],
   "source": [
    "y_test[3]"
   ]
  },
  {
   "cell_type": "code",
   "execution_count": 76,
   "metadata": {},
   "outputs": [
    {
     "name": "stdout",
     "output_type": "stream",
     "text": [
      "['Aegithalos caudatus', 'Alarme', 'Alauda arvensis', 'Alytes obstetricans', 'Anthus trivialis', 'Apis mellifera', 'Avion', 'Bicolorana bicolor', 'Bombina variegata', 'Bos taurus', 'Branche', 'Bug informatique', 'Buteo buteo', 'Camion', 'Canis familiaris', 'Certhia brachydactyla', 'Certhia familiaris', 'Chanson', 'Choc', 'Chorthippus apricarius', 'Chorthippus biguttulus', 'Chorthippus brunneus', 'Chorthippus dorsatus', 'Chorthippus jacobsi', 'Chorthippus mollis', 'Chorthippus saulcyi', 'Chorthippus vagans', 'Chrysochraon dispar', 'Cicada orni', 'Cicadatra atra', 'Cicadetta petryi', 'Cisticola juncidis', 'Cloche', 'Cloche_v', 'Columba palumbus', 'Conocephalus fuscus', 'Corvus corax', 'Corvus corone', 'Cris', 'Curruca communis', 'Curruca melanocephala', 'Cyanistes caeruleus', 'Decticus albifrons', 'Decticus verrucivorus', 'Delichon urbicum', 'Dendrocopos major', 'Disqueuse', 'Deplacement', 'Deplacement animal', 'Eau', 'Emberiza calandra', 'Emberiza cia', 'Emberiza cirlus', 'Emberiza citrinella', 'Engin_c', 'Envol', 'Ephippiger diurnus', 'Ephippiger terrestris', 'Equus caballus', 'Erithacus rubecula', 'Euchorthippus declivus', 'Euchorthippus elegantulus', 'Eumodicogryllus bordigalensis', 'Euthystira brachyptera', 'Fermeture_e', 'Feuilles', 'Ficedula hypoleuca', 'Fringilla coelebs', 'Gallus gallus', 'Gargouillement', 'Gomphocerippus rufus', 'Gomphocerus sibiricus', 'Goutte', 'Grincement', 'Gryllotalpa gryllotalpa', 'Gryllus bimaculatus', 'Gryllus campestris', 'Hirundo rustica', 'Helicoptère', 'Klaxon', 'Leiopicus medius', 'Leptophyes punctatissima', 'Loxia curvirostra', 'Luscinia megarhynchos', 'Lyristes plebejus', 'Marmota marmota', 'Melanogryllus desertus', 'Merops apiaster', 'Metrioptera buyssoni', 'Metrioptera saussuriana', 'Micro', 'Milvus migrans', 'Moissonneuse', 'Motacilla cinerea', 'Moto', 'Mouche', 'Myrmeleotettix maculatus', 'Nemobius sylvestris', 'Non identifie', 'Oecanthus pellucens', 'Omocestus raymondi', 'Omocestus rufipes', 'Omocestus viridulus', 'Oriolus oriolus', 'Ovis aries', 'Parus major', 'Pas', 'Passer domesticus', 'Pelodytes punctatus', 'Pelophylax kl.', 'Periparus ater', 'Phaneroptera laticerca', 'Phaneroptera nana', 'Pholidoptera femorata', 'Pholidoptera griseoaptera', 'Phylloscopus bonelli', 'Phylloscopus collybita', 'Pica pica', 'Picus viridis', 'Platycleis albopunctata', 'Platycleis falx', 'Platycleis sabulosa', 'Plongeon', 'Poecile palustris', 'Polysarcus denticauda', 'Prunella modularis', 'Pseudochorthippus parallelus', 'Pteronemobius heydenii', 'Pteronemobius lineolatus', 'Pyrrhocorax graculus', 'Pyrrhocorax pyrrhocorax', 'Pyrrhula pyrrhula', 'Raclement', 'Radar', 'Rana temporaria', 'Regulus ignicapilla', 'Regulus regulus', 'Rire', 'Roeseliana roeselii', 'Ruisseau', 'Ruspolia nitidula', 'Saxicola rubetra', 'Sifflement', 'Sitta europaea', 'Sorapagus catalaunicus', 'Stauroderus scalaris', 'Stenobothrus lineatus', 'Stenobothrus stigmaticus', 'Streptopelia decaocto', 'Streptopelia turtur', 'Strix aluco', 'Sylvia atricapilla', 'Tettigettalna argentata', 'Tettigonia cantans', 'Tettigonia viridissima', 'Tibicina haematodes', 'Torrent', 'Toux', 'Tracteur', 'Travaux', 'Troglodytes troglodytes', 'Tronconneuse', 'Turdus merula', 'Turdus philomelos', 'Turdus viscivorus', 'Tylopsis lilifolia', 'Uromenus rugosicollis', 'Vent', 'Ventilation', 'Vespa velutina', 'Voiture', 'Voix', 'Zeuneriana abbreviata']\n"
     ]
    }
   ],
   "source": [
    "liste_labels = []\n",
    "\n",
    "for i in range(num_labels):\n",
    "    label_str = data_train[data_train[\"label\"] == i][\"label_str\"].values[0]\n",
    "    liste_labels.append(label_str)\n",
    "\n",
    "liste_labels = [label.replace(\"é\",\"e\") for label in liste_labels]\n",
    "liste_labels = [label.replace(\"ç\",\"c\") for label in liste_labels]\n",
    "print(liste_labels)"
   ]
  },
  {
   "cell_type": "code",
   "execution_count": 77,
   "metadata": {},
   "outputs": [
    {
     "data": {
      "text/plain": [
       "171"
      ]
     },
     "execution_count": 77,
     "metadata": {},
     "output_type": "execute_result"
    }
   ],
   "source": [
    "liste_labels.index(\"Voix\")"
   ]
  },
  {
   "cell_type": "code",
   "execution_count": 78,
   "metadata": {},
   "outputs": [],
   "source": [
    "y_pred = []\n",
    "\n",
    "treshold_confidence = 0.5\n",
    "\n",
    "for pred in data_pred_list:\n",
    "    pred_categorical = [0]*num_labels\n",
    "    for selec in pred:\n",
    "        if selec['Species Code'] == \"nocall\":\n",
    "            pass\n",
    "        elif selec['Confidence'] > treshold_confidence:\n",
    "            predicted_label = selec['Species Code'].replace(\"Ã©\",\"e\").replace(\"Ã§\",\"c\")\n",
    "            predicted_label = liste_labels.index(predicted_label)\n",
    "            pred_categorical[predicted_label] = 1\n",
    "    y_pred.append(pred_categorical)"
   ]
  },
  {
   "cell_type": "code",
   "execution_count": 86,
   "metadata": {},
   "outputs": [
    {
     "name": "stdout",
     "output_type": "stream",
     "text": [
      "[False, False, False, False, False, True, False, True, False, False, False, False, False, False, False, False, False, False, False, True, True, True, True, True, True, True, True, True, True, True, True, False, False, False, False, True, False, False, False, False, False, False, True, True, False, False, False, False, False, False, False, False, False, False, False, False, True, True, False, False, True, True, True, True, False, False, False, False, False, False, True, True, False, False, True, True, True, False, False, False, False, True, False, False, True, False, True, False, True, True, False, False, False, False, False, False, True, True, False, True, True, True, True, False, False, False, False, False, False, False, False, True, True, True, True, False, False, False, False, True, True, True, False, False, True, False, True, True, True, False, False, False, False, False, False, False, False, False, True, False, True, False, False, False, True, True, True, True, False, False, False, False, True, True, True, True, False, False, False, False, False, False, False, False, False, True, True, False, False, True, False, False, True]\n",
      "64\n"
     ]
    }
   ],
   "source": [
    "is_insecte = [0]*num_labels\n",
    "\n",
    "for i in range(num_labels):\n",
    "    label_class_str = data_train[data_train[\"label\"] == i][\"label_class\"].values[0]\n",
    "    is_insecte[i] = (label_class_str==\"Insecta\")\n",
    "is_insecte[liste_labels.index(\"Mouche\")] = False\n",
    "print(is_insecte)\n",
    "num_labels_insecta =sum(is_insecte)\n",
    "\n",
    "print(num_labels_insecta)"
   ]
  },
  {
   "cell_type": "code",
   "execution_count": 87,
   "metadata": {},
   "outputs": [],
   "source": [
    "y_pred_insecta = []\n",
    "y_truth_insecta = []\n",
    "\n",
    "for i in range(len(y_pred)):\n",
    "    new_pred = []\n",
    "    new_truth = []\n",
    "    for j in range(num_labels):    \n",
    "        if is_insecte[j]:\n",
    "            new_pred.append(y_pred[i][j])\n",
    "            new_truth.append(y_test[i][j])\n",
    "    y_pred_insecta.append(new_pred)\n",
    "    y_truth_insecta.append(new_truth)"
   ]
  },
  {
   "cell_type": "code",
   "execution_count": 88,
   "metadata": {},
   "outputs": [
    {
     "name": "stdout",
     "output_type": "stream",
     "text": [
      "['Apis mellifera', 'Bicolorana bicolor', 'Chorthippus apricarius', 'Chorthippus biguttulus', 'Chorthippus brunneus', 'Chorthippus dorsatus', 'Chorthippus jacobsi', 'Chorthippus mollis', 'Chorthippus saulcyi', 'Chorthippus vagans', 'Chrysochraon dispar', 'Cicada orni', 'Cicadatra atra', 'Cicadetta petryi', 'Conocephalus fuscus', 'Decticus albifrons', 'Decticus verrucivorus', 'Ephippiger diurnus', 'Ephippiger terrestris', 'Euchorthippus declivus', 'Euchorthippus elegantulus', 'Eumodicogryllus bordigalensis', 'Euthystira brachyptera', 'Gomphocerippus rufus', 'Gomphocerus sibiricus', 'Gryllotalpa gryllotalpa', 'Gryllus bimaculatus', 'Gryllus campestris', 'Leptophyes punctatissima', 'Lyristes plebejus', 'Melanogryllus desertus', 'Metrioptera buyssoni', 'Metrioptera saussuriana', 'Myrmeleotettix maculatus', 'Nemobius sylvestris', 'Oecanthus pellucens', 'Omocestus raymondi', 'Omocestus rufipes', 'Omocestus viridulus', 'Phaneroptera laticerca', 'Phaneroptera nana', 'Pholidoptera femorata', 'Pholidoptera griseoaptera', 'Platycleis albopunctata', 'Platycleis falx', 'Platycleis sabulosa', 'Polysarcus denticauda', 'Pseudochorthippus parallelus', 'Pteronemobius heydenii', 'Pteronemobius lineolatus', 'Roeseliana roeselii', 'Ruspolia nitidula', 'Sorapagus catalaunicus', 'Stauroderus scalaris', 'Stenobothrus lineatus', 'Stenobothrus stigmaticus', 'Tettigettalna argentata', 'Tettigonia cantans', 'Tettigonia viridissima', 'Tibicina haematodes', 'Tylopsis lilifolia', 'Uromenus rugosicollis', 'Vespa velutina', 'Zeuneriana abbreviata']\n"
     ]
    }
   ],
   "source": [
    "liste_labels_insectes = []\n",
    "\n",
    "for i in range(num_labels):\n",
    "    if is_insecte[i]:\n",
    "        liste_labels_insectes.append(liste_labels[i])\n",
    "\n",
    "print(liste_labels_insectes)"
   ]
  },
  {
   "cell_type": "code",
   "execution_count": 89,
   "metadata": {},
   "outputs": [
    {
     "name": "stdout",
     "output_type": "stream",
     "text": [
      "0.49718785151856015\n"
     ]
    }
   ],
   "source": [
    "num_correct = 0\n",
    "\n",
    "true_positives = [0]*num_labels_insecta\n",
    "false_positives = [0]*num_labels_insecta\n",
    "false_negatives = [0]*num_labels_insecta\n",
    "true_negatives = [0]*num_labels_insecta\n",
    "\n",
    "i = 0\n",
    "for predicted_l in y_pred_insecta:\n",
    "    predicted = np.array(predicted_l)\n",
    "    truth = np.array(y_truth_insecta[i])\n",
    "\n",
    "    true_positives += ((predicted == 1) & (truth == 1))\n",
    "    false_positives += ((predicted == 1) & (truth == 0))\n",
    "    false_negatives += ((predicted == 0) & (truth == 1))\n",
    "    true_negatives += ((predicted == 0) & (truth == 0))\n",
    "\n",
    "    num_correct += np.all(truth-predicted == 0)\n",
    "\n",
    "    i += 1\n",
    "\n",
    "print(num_correct/i)"
   ]
  },
  {
   "cell_type": "code",
   "execution_count": 90,
   "metadata": {},
   "outputs": [
    {
     "name": "stdout",
     "output_type": "stream",
     "text": [
      "accuracy \t precision \t recall \t F1 \t classe\n",
      "1.00 \t \t 1.00 \t \t 0.79 \t \t 0.88 \t Apis mellifera\n",
      "1.00 \t \t 0.83 \t \t 0.62 \t \t 0.71 \t Bicolorana bicolor\n",
      "1.00 \t \t 0.60 \t \t 0.75 \t \t 0.67 \t Chorthippus apricarius\n",
      "1.00 \t \t 1.00 \t \t 0.83 \t \t 0.91 \t Chorthippus biguttulus\n",
      "0.99 \t \t 0.50 \t \t 0.11 \t \t 0.18 \t Chorthippus brunneus\n",
      "0.99 \t \t 0.00 \t \t 0.00 \t \t 0.00 \t Chorthippus dorsatus\n",
      "0.99 \t \t 1.00 \t \t 0.42 \t \t 0.59 \t Chorthippus jacobsi\n",
      "0.99 \t \t 0.64 \t \t 0.75 \t \t 0.69 \t Chorthippus mollis\n",
      "0.99 \t \t 0.56 \t \t 0.38 \t \t 0.45 \t Chorthippus saulcyi\n",
      "0.99 \t \t 0.67 \t \t 0.60 \t \t 0.63 \t Chorthippus vagans\n",
      "0.99 \t \t 0.67 \t \t 0.18 \t \t 0.29 \t Chrysochraon dispar\n",
      "0.99 \t \t 0.90 \t \t 0.82 \t \t 0.86 \t Cicada orni\n",
      "1.00 \t \t 1.00 \t \t 1.00 \t \t 1.00 \t Cicadatra atra\n",
      "0.99 \t \t 1.00 \t \t 0.45 \t \t 0.62 \t Cicadetta petryi\n",
      "0.98 \t \t 0.00 \t \t 0.00 \t \t 0.00 \t Conocephalus fuscus\n",
      "1.00 \t \t 1.00 \t \t 0.73 \t \t 0.84 \t Decticus albifrons\n",
      "0.97 \t \t 1.00 \t \t 0.66 \t \t 0.79 \t Decticus verrucivorus\n",
      "0.98 \t \t 0.39 \t \t 0.50 \t \t 0.44 \t Ephippiger diurnus\n",
      "1.00 \t \t 1.00 \t \t 0.33 \t \t 0.50 \t Ephippiger terrestris\n",
      "0.99 \t \t 1.00 \t \t 0.33 \t \t 0.50 \t Euchorthippus declivus\n",
      "1.00 \t \t 1.00 \t \t 0.91 \t \t 0.95 \t Euchorthippus elegantulus\n",
      "0.99 \t \t 0.77 \t \t 0.83 \t \t 0.80 \t Eumodicogryllus bordigalensis\n",
      "0.98 \t \t 0.00 \t \t 0.00 \t \t 0.00 \t Euthystira brachyptera\n",
      "1.00 \t \t 0.00 \t \t 0.00 \t \t 0.00 \t Gomphocerippus rufus\n",
      "1.00 \t \t 0.88 \t \t 0.70 \t \t 0.78 \t Gomphocerus sibiricus\n",
      "0.99 \t \t 1.00 \t \t 0.08 \t \t 0.15 \t Gryllotalpa gryllotalpa\n",
      "1.00 \t \t 0.86 \t \t 1.00 \t \t 0.93 \t Gryllus bimaculatus\n",
      "0.98 \t \t 0.94 \t \t 0.85 \t \t 0.90 \t Gryllus campestris\n",
      "1.00 \t \t 0.50 \t \t 0.33 \t \t 0.40 \t Leptophyes punctatissima\n",
      "0.99 \t \t 1.00 \t \t 0.50 \t \t 0.67 \t Lyristes plebejus\n",
      "1.00 \t \t 1.00 \t \t 0.75 \t \t 0.86 \t Melanogryllus desertus\n",
      "0.99 \t \t 0.62 \t \t 0.50 \t \t 0.56 \t Metrioptera buyssoni\n",
      "0.96 \t \t 0.00 \t \t 0.00 \t \t 0.00 \t Metrioptera saussuriana\n",
      "0.99 \t \t 1.00 \t \t 0.58 \t \t 0.74 \t Myrmeleotettix maculatus\n",
      "0.98 \t \t 0.73 \t \t 0.42 \t \t 0.53 \t Nemobius sylvestris\n",
      "0.98 \t \t 0.81 \t \t 0.93 \t \t 0.86 \t Oecanthus pellucens\n",
      "0.99 \t \t 0.80 \t \t 0.40 \t \t 0.53 \t Omocestus raymondi\n",
      "0.97 \t \t 0.42 \t \t 0.38 \t \t 0.40 \t Omocestus rufipes\n",
      "0.98 \t \t 0.62 \t \t 0.31 \t \t 0.42 \t Omocestus viridulus\n",
      "0.99 \t \t 0.00 \t \t 0.00 \t \t 0.00 \t Phaneroptera laticerca\n",
      "0.97 \t \t 1.00 \t \t 0.07 \t \t 0.13 \t Phaneroptera nana\n",
      "1.00 \t \t 0.00 \t \t 0.00 \t \t 0.00 \t Pholidoptera femorata\n",
      "0.99 \t \t 1.00 \t \t 0.32 \t \t 0.48 \t Pholidoptera griseoaptera\n",
      "0.96 \t \t 0.80 \t \t 0.36 \t \t 0.49 \t Platycleis albopunctata\n",
      "1.00 \t \t 0.00 \t \t 0.00 \t \t 0.00 \t Platycleis falx\n",
      "1.00 \t \t 0.00 \t \t 0.00 \t \t 0.00 \t Platycleis sabulosa\n",
      "1.00 \t \t 1.00 \t \t 0.85 \t \t 0.92 \t Polysarcus denticauda\n",
      "0.98 \t \t 0.72 \t \t 0.74 \t \t 0.73 \t Pseudochorthippus parallelus\n",
      "0.97 \t \t 0.79 \t \t 0.85 \t \t 0.81 \t Pteronemobius heydenii\n",
      "1.00 \t \t 1.00 \t \t 0.94 \t \t 0.97 \t Pteronemobius lineolatus\n",
      "0.98 \t \t 0.95 \t \t 0.59 \t \t 0.73 \t Roeseliana roeselii\n",
      "1.00 \t \t 0.99 \t \t 0.97 \t \t 0.98 \t Ruspolia nitidula\n",
      "1.00 \t \t 1.00 \t \t 0.56 \t \t 0.71 \t Sorapagus catalaunicus\n",
      "1.00 \t \t 1.00 \t \t 0.78 \t \t 0.88 \t Stauroderus scalaris\n",
      "0.99 \t \t 0.76 \t \t 0.76 \t \t 0.76 \t Stenobothrus lineatus\n",
      "0.99 \t \t 0.62 \t \t 0.38 \t \t 0.48 \t Stenobothrus stigmaticus\n",
      "0.99 \t \t 1.00 \t \t 0.44 \t \t 0.62 \t Tettigettalna argentata\n",
      "0.97 \t \t 0.93 \t \t 0.53 \t \t 0.68 \t Tettigonia cantans\n",
      "0.94 \t \t 0.03 \t \t 0.05 \t \t 0.04 \t Tettigonia viridissima\n",
      "1.00 \t \t 1.00 \t \t 0.80 \t \t 0.89 \t Tibicina haematodes\n",
      "0.98 \t \t 0.30 \t \t 0.70 \t \t 0.42 \t Tylopsis lilifolia\n",
      "1.00 \t \t 1.00 \t \t 1.00 \t \t 1.00 \t Uromenus rugosicollis\n",
      "0.99 \t \t 0.50 \t \t 0.83 \t \t 0.62 \t Vespa velutina\n",
      "1.00 \t \t 1.00 \t \t 1.00 \t \t 1.00 \t Zeuneriana abbreviata\n",
      "\n",
      "\n",
      "Moyennes:\t0.988\t0.705\t0.52\t0.568\n"
     ]
    },
    {
     "name": "stderr",
     "output_type": "stream",
     "text": [
      "C:\\Users\\cdelm\\AppData\\Local\\Temp\\ipykernel_183424\\2750595247.py:2: RuntimeWarning: invalid value encountered in divide\n",
      "  precision = true_positives / (true_positives + false_positives)\n",
      "C:\\Users\\cdelm\\AppData\\Local\\Temp\\ipykernel_183424\\2750595247.py:3: RuntimeWarning: invalid value encountered in divide\n",
      "  recall = true_positives / (true_positives + false_negatives)\n",
      "C:\\Users\\cdelm\\AppData\\Local\\Temp\\ipykernel_183424\\2750595247.py:4: RuntimeWarning: invalid value encountered in divide\n",
      "  F1 = 2 * precision * recall / (precision + recall)\n"
     ]
    }
   ],
   "source": [
    "accuracy = (true_positives + true_negatives) / (true_positives + true_negatives + false_positives + false_negatives)\n",
    "precision = true_positives / (true_positives + false_positives)\n",
    "recall = true_positives / (true_positives + false_negatives)\n",
    "F1 = 2 * precision * recall / (precision + recall)\n",
    "\n",
    "accuracy = np.nan_to_num(accuracy)\n",
    "precision = np.nan_to_num(precision)\n",
    "recall = np.nan_to_num(recall)\n",
    "F1 = np.nan_to_num(F1)\n",
    "\n",
    "print(\"accuracy \\t precision \\t recall \\t F1 \\t classe\")\n",
    "for i in range(len(accuracy)):\n",
    "    print(f'{accuracy[i]:.2f} \\t \\t {precision[i]:.2f} \\t \\t {recall[i]:.2f} \\t \\t {F1[i]:.2f} \\t {liste_labels_insectes[i]}')\n",
    "\n",
    "print('\\n')\n",
    "\n",
    "accuracy_mean = round(np.nanmean(accuracy),3)\n",
    "precision_mean =round(np.nanmean(precision),3)\n",
    "recall_mean = round(np.nanmean(recall),3)\n",
    "F1_mean = round(np.nanmean(F1),3)\n",
    "\n",
    "print(\"Moyennes:\\t\" + str(accuracy_mean) + \"\\t\" + str(precision_mean) + \"\\t\" + str(recall_mean) + \"\\t\" + str(F1_mean))"
   ]
  },
  {
   "cell_type": "code",
   "execution_count": null,
   "metadata": {},
   "outputs": [],
   "source": []
  }
 ],
 "metadata": {
  "kernelspec": {
   "display_name": "Python 3",
   "language": "python",
   "name": "python3"
  },
  "language_info": {
   "codemirror_mode": {
    "name": "ipython",
    "version": 3
   },
   "file_extension": ".py",
   "mimetype": "text/x-python",
   "name": "python",
   "nbconvert_exporter": "python",
   "pygments_lexer": "ipython3",
   "version": "3.10.11"
  }
 },
 "nbformat": 4,
 "nbformat_minor": 2
}
