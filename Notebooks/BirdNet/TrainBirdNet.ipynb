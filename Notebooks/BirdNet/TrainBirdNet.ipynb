{
 "cells": [
  {
   "cell_type": "code",
   "execution_count": 49,
   "metadata": {},
   "outputs": [
    {
     "name": "stdout",
     "output_type": "stream",
     "text": [
      "Requirement already satisfied: birdnetlib in /usr/local/lib/python3.10/dist-packages (0.15.0)\n",
      "Requirement already satisfied: requests>=2.28.1 in /usr/local/lib/python3.10/dist-packages (from birdnetlib) (2.31.0)\n",
      "Requirement already satisfied: watchdog==2.1.9 in /usr/local/lib/python3.10/dist-packages (from birdnetlib) (2.1.9)\n",
      "Requirement already satisfied: matplotlib>=3.5.3 in /usr/local/lib/python3.10/dist-packages (from birdnetlib) (3.8.0)\n",
      "Requirement already satisfied: pydub==0.25.1 in /usr/local/lib/python3.10/dist-packages (from birdnetlib) (0.25.1)\n",
      "Requirement already satisfied: python-dateutil>=2.7 in /usr/local/lib/python3.10/dist-packages (from matplotlib>=3.5.3->birdnetlib) (2.8.2)\n",
      "Requirement already satisfied: packaging>=20.0 in /usr/local/lib/python3.10/dist-packages (from matplotlib>=3.5.3->birdnetlib) (21.3)\n",
      "Requirement already satisfied: contourpy>=1.0.1 in /usr/local/lib/python3.10/dist-packages (from matplotlib>=3.5.3->birdnetlib) (1.1.1)\n",
      "Requirement already satisfied: pillow>=6.2.0 in /usr/local/lib/python3.10/dist-packages (from matplotlib>=3.5.3->birdnetlib) (10.1.0)\n",
      "Requirement already satisfied: numpy<2,>=1.21 in /usr/local/lib/python3.10/dist-packages (from matplotlib>=3.5.3->birdnetlib) (1.26.1)\n",
      "Requirement already satisfied: kiwisolver>=1.0.1 in /usr/local/lib/python3.10/dist-packages (from matplotlib>=3.5.3->birdnetlib) (1.4.5)\n",
      "Requirement already satisfied: pyparsing>=2.3.1 in /usr/lib/python3/dist-packages (from matplotlib>=3.5.3->birdnetlib) (2.4.7)\n",
      "Requirement already satisfied: fonttools>=4.22.0 in /usr/local/lib/python3.10/dist-packages (from matplotlib>=3.5.3->birdnetlib) (4.43.1)\n",
      "Requirement already satisfied: cycler>=0.10 in /usr/local/lib/python3.10/dist-packages (from matplotlib>=3.5.3->birdnetlib) (0.12.1)\n",
      "Requirement already satisfied: charset-normalizer<4,>=2 in /usr/local/lib/python3.10/dist-packages (from requests>=2.28.1->birdnetlib) (3.3.2)\n",
      "Requirement already satisfied: urllib3<3,>=1.21.1 in /usr/lib/python3/dist-packages (from requests>=2.28.1->birdnetlib) (1.26.5)\n",
      "Requirement already satisfied: certifi>=2017.4.17 in /usr/lib/python3/dist-packages (from requests>=2.28.1->birdnetlib) (2020.6.20)\n",
      "Requirement already satisfied: idna<4,>=2.5 in /usr/lib/python3/dist-packages (from requests>=2.28.1->birdnetlib) (3.3)\n",
      "Requirement already satisfied: six>=1.5 in /usr/lib/python3/dist-packages (from python-dateutil>=2.7->matplotlib>=3.5.3->birdnetlib) (1.16.0)\n",
      "\u001b[33mWARNING: Running pip as the 'root' user can result in broken permissions and conflicting behaviour with the system package manager. It is recommended to use a virtual environment instead: https://pip.pypa.io/warnings/venv\u001b[0m\u001b[33m\n",
      "\u001b[0mNote: you may need to restart the kernel to use updated packages.\n"
     ]
    }
   ],
   "source": [
    "pip install birdnetlib"
   ]
  },
  {
   "cell_type": "code",
   "execution_count": 2,
   "metadata": {},
   "outputs": [
    {
     "name": "stdout",
     "output_type": "stream",
     "text": [
      "/root/3A/ProjetLong/OrthopteraStridulationClassifier/Notebooks\n"
     ]
    }
   ],
   "source": [
    "!pwd"
   ]
  },
  {
   "cell_type": "code",
   "execution_count": 4,
   "metadata": {},
   "outputs": [
    {
     "name": "stdout",
     "output_type": "stream",
     "text": [
      "[Errno 2] No such file or directory: 'BirdNet/'\n",
      "/root/3A/ProjetLong/OrthopteraStridulationClassifier/Notebooks/BirdNet\n"
     ]
    }
   ],
   "source": [
    "%cd ../../OrthopteraStridulationClassifier/Notebooks/BirdNet/\n",
    "#%cd BirdNet/"
   ]
  },
  {
   "cell_type": "code",
   "execution_count": 61,
   "metadata": {},
   "outputs": [],
   "source": [
    "csv_file = \"../../../DataSet/CSVs_morceaux_audio_5s/Audible/train_audible_recording_chunks.csv\"  # Change this to your CSV file path\n",
    "data_folder = \"../../../Dataset/Selection_morceaux_audio_5s/Audible/train/\"  # Change this to your data folder path\n",
    "#organize_data(csv_file, data_folder)"
   ]
  },
  {
   "cell_type": "code",
   "execution_count": 62,
   "metadata": {},
   "outputs": [],
   "source": [
    "import os\n",
    "import shutil\n",
    "import csv\n",
    "import pandas as pd\n",
    "\n",
    "from sklearn.preprocessing import LabelEncoder\n",
    "\n",
    "df_train = pd.read_csv(csv_file)\n",
    "\n",
    "label_encoder = LabelEncoder()\n",
    "label_encoder.fit(df_train['label'])\n",
    "\n",
    "def get_data_info(df):\n",
    "    #y = df['label']\n",
    "    # y_category = df['label_category']\n",
    "    # y_kingdom = df['label_kingdom']\n",
    "    # y_class = df['label_class']\n",
    "    # y_order = df['label_order']\n",
    "    # y_family = df['label_family']\n",
    "    # y_subfamily = df['label_subfamily']\n",
    "\n",
    "    # Convertir les étiquettes en nombres\n",
    "    #y_encoded = label_encoder.transform(y)\n",
    "\n",
    "    # create new empty dataframe\n",
    "    new_df = pd.DataFrame()\n",
    "\n",
    "    new_df['label'] = df['label']\n",
    "    new_df['label_family'] = df['label_family']\n",
    "    #new_df['t1'] = df[\"annotation_initial_time\"] - df[\"chunk_initial_time\"]\n",
    "    #new_df['t2'] = df[\"annotation_final_time\"] - df[\"chunk_initial_time\"]\n",
    "    #new_df['f1'] = df['min_frequency'].astype(int)\n",
    "    #new_df['f2'] = df['max_frequency'].astype(int)\n",
    "    code_unique = df['code_unique']\n",
    "    str_to_add = '_split_' + df['chunk_initial_time'].astype(str) + '_' + df['chunk_final_time'].astype(str)\n",
    "    new_df['filename'] = code_unique + str_to_add + '.wav'\n",
    "    #new_df['sr'] = df['sampling_rate']\n",
    "    new_df['debut'] = df['chunk_initial_time']\n",
    "    new_df['fin'] = df['chunk_final_time']\n",
    "    new_df['duration_chunk'] = df['chunk_final_time'] - df['chunk_initial_time']\n",
    "\n",
    "    # Gestion des valeurs manquantes\n",
    "    new_df = new_df.dropna()\n",
    "\n",
    "    return new_df\n",
    "\n",
    "info_train = get_data_info(df_train)"
   ]
  },
  {
   "cell_type": "code",
   "execution_count": 63,
   "metadata": {},
   "outputs": [
    {
     "name": "stdout",
     "output_type": "stream",
     "text": [
      "/root/3A/ProjetLong/DataSet\n"
     ]
    }
   ],
   "source": [
    "%cd ../../../DataSet/"
   ]
  },
  {
   "cell_type": "code",
   "execution_count": 64,
   "metadata": {},
   "outputs": [],
   "source": [
    "%mkdir BirdNetFolder"
   ]
  },
  {
   "cell_type": "code",
   "execution_count": 65,
   "metadata": {},
   "outputs": [
    {
     "name": "stdout",
     "output_type": "stream",
     "text": [
      "/root/3A/ProjetLong/DataSet/BirdNetFolder\n"
     ]
    }
   ],
   "source": [
    "%cd BirdNetFolder"
   ]
  },
  {
   "cell_type": "code",
   "execution_count": 66,
   "metadata": {},
   "outputs": [],
   "source": [
    "#create folders for each label\n",
    "for index, row in info_train.iterrows():\n",
    "  label = row['label']\n",
    "  label = label.replace(\" \", \"\")\n",
    "  labelf = row['label_family']\n",
    "  if labelf != \"\" : \n",
    "    label = label + \"_\" + labelf\n",
    "  if not os.path.exists(label):\n",
    "        # Créer le dossier s'il n'existe pas\n",
    "        os.makedirs(label)"
   ]
  },
  {
   "cell_type": "code",
   "execution_count": 1,
   "metadata": {},
   "outputs": [
    {
     "name": "stdout",
     "output_type": "stream",
     "text": [
      "/root/3A/ProjetLong/OrthopteraStridulationClassifier/Notebooks\n"
     ]
    }
   ],
   "source": [
    "%cd .."
   ]
  },
  {
   "cell_type": "code",
   "execution_count": 68,
   "metadata": {},
   "outputs": [
    {
     "name": "stdout",
     "output_type": "stream",
     "text": [
      "/root/3A/ProjetLong/DataSet\n"
     ]
    }
   ],
   "source": [
    "!pwd"
   ]
  },
  {
   "cell_type": "code",
   "execution_count": 70,
   "metadata": {},
   "outputs": [],
   "source": [
    "files_path = \"Selection_morceaux_audio_5s/Audible/Audible/train/\"\n",
    "for index, row in info_train.iterrows():\n",
    "  file = row['filename']\n",
    "  label = row['label']\n",
    "  label = label.replace(\" \", \"\")\n",
    "  labelf = row['label_family']\n",
    "  if labelf != \"\" : \n",
    "    label = label + \"_\" + labelf\n",
    "  path = files_path + file\n",
    "  #dest = \"drive/MyDrive/Dataset5sec/BirdNetFolder/\" + label\n",
    "  # Se déplacer vers le dossier spécifique\n",
    "  #os.chdir(\"/BirdNetFolder/\" + label + \"/\")\n",
    "  \n",
    "  # Copier le fichier dans le dossier spécifique\n",
    "  shutil.copy(path, \"BirdNetFolder/\" + label + \"/\")"
   ]
  },
  {
   "cell_type": "code",
   "execution_count": 5,
   "metadata": {},
   "outputs": [
    {
     "name": "stdout",
     "output_type": "stream",
     "text": [
      "/root/3A/ProjetLong/OrthopteraStridulationClassifier/Notebooks/BirdNet\n"
     ]
    }
   ],
   "source": [
    "!pwd"
   ]
  },
  {
   "cell_type": "code",
   "execution_count": 6,
   "metadata": {},
   "outputs": [
    {
     "name": "stdout",
     "output_type": "stream",
     "text": [
      "/root/3A/ProjetLong/birdnet/BirdNET-Analyzer\n"
     ]
    }
   ],
   "source": [
    "%cd ../../../birdnet/BirdNET-Analyzer/\n",
    "# A changer "
   ]
  },
  {
   "cell_type": "code",
   "execution_count": 12,
   "metadata": {},
   "outputs": [
    {
     "name": "stdout",
     "output_type": "stream",
     "text": [
      "Loading training data...\n",
      " - loading 'Apismellifera_Apidae':   0%|                  | 0/43 [00:00<?, ?f/s]\t Error when loading file BirdNetFolder/Apismellifera_Apidae/Hymenoptera_crcatou31FR_15IX2022_645_split_0_5.wav\n",
      "\t Error when loading file BirdNetFolder/Apismellifera_Apidae/Hymenoptera_crcatou31FR_15IX2022_643_split_0_5.wav\n",
      " - loading 'Apismellifera_Apidae':   0%|                  | 0/43 [00:02<?, ?f/s]\n",
      "multiprocessing.pool.RemoteTraceback: \n",
      "\"\"\"\n",
      "Traceback (most recent call last):\n",
      "  File \"/usr/lib/python3.10/multiprocessing/pool.py\", line 125, in worker\n",
      "    result = (True, func(*args, **kwds))\n",
      "  File \"/root/3A/ProjetLong/DataSet/../birdnet/BirdNET-Analyzer/train.py\", line 47, in _loadAudioFile\n",
      "    sig_splits = [audio.cropCenter(sig, rate, cfg.SIG_LENGTH)]\n",
      "UnboundLocalError: local variable 'sig' referenced before assignment\n",
      "\"\"\"\n",
      "\n",
      "The above exception was the direct cause of the following exception:\n",
      "\n",
      "Traceback (most recent call last):\n",
      "  File \"/root/3A/ProjetLong/DataSet/../birdnet/BirdNET-Analyzer/train.py\", line 410, in <module>\n",
      "    trainModel()\n",
      "  File \"/root/3A/ProjetLong/DataSet/../birdnet/BirdNET-Analyzer/train.py\", line 207, in trainModel\n",
      "    x_train, y_train, labels = _loadTrainingData(cfg.TRAIN_CACHE_MODE, cfg.TRAIN_CACHE_FILE, on_data_load_end)\n",
      "  File \"/root/3A/ProjetLong/DataSet/../birdnet/BirdNET-Analyzer/train.py\", line 170, in _loadTrainingData\n",
      "    result = task.get()\n",
      "  File \"/usr/lib/python3.10/multiprocessing/pool.py\", line 774, in get\n",
      "    raise self._value\n",
      "UnboundLocalError: local variable 'sig' referenced before assignment\n"
     ]
    }
   ],
   "source": [
    "!python3 ../birdnet/BirdNET-Analyzer/train.py --i BirdNetFolder/ --o ../birdnet/BirdNET-Analyzer/checkpoints/V2.4/BirdNET_GLOBAL_6K_V2.4_Model_FP32.tflite"
   ]
  },
  {
   "cell_type": "code",
   "execution_count": null,
   "metadata": {},
   "outputs": [],
   "source": []
  }
 ],
 "metadata": {
  "kernelspec": {
   "display_name": "Python 3",
   "language": "python",
   "name": "python3"
  },
  "language_info": {
   "codemirror_mode": {
    "name": "ipython",
    "version": 3
   },
   "file_extension": ".py",
   "mimetype": "text/x-python",
   "name": "python",
   "nbconvert_exporter": "python",
   "pygments_lexer": "ipython3",
   "version": "3.10.12"
  }
 },
 "nbformat": 4,
 "nbformat_minor": 2
}
