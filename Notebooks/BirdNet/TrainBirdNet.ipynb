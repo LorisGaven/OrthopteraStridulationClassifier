{
 "cells": [
  {
   "cell_type": "code",
   "execution_count": 2,
   "metadata": {},
   "outputs": [
    {
     "name": "stdout",
     "output_type": "stream",
     "text": [
      "Requirement already satisfied: birdnetlib in c:\\users\\cdelm\\appdata\\local\\packages\\pythonsoftwarefoundation.python.3.10_qbz5n2kfra8p0\\localcache\\local-packages\\python310\\site-packages (0.15.0)\n",
      "Requirement already satisfied: requests>=2.28.1 in c:\\users\\cdelm\\appdata\\local\\packages\\pythonsoftwarefoundation.python.3.10_qbz5n2kfra8p0\\localcache\\local-packages\\python310\\site-packages (from birdnetlib) (2.28.2)\n",
      "Requirement already satisfied: matplotlib>=3.5.3 in c:\\users\\cdelm\\appdata\\local\\packages\\pythonsoftwarefoundation.python.3.10_qbz5n2kfra8p0\\localcache\\local-packages\\python310\\site-packages (from birdnetlib) (3.6.2)\n",
      "Requirement already satisfied: watchdog==2.1.9 in c:\\users\\cdelm\\appdata\\local\\packages\\pythonsoftwarefoundation.python.3.10_qbz5n2kfra8p0\\localcache\\local-packages\\python310\\site-packages (from birdnetlib) (2.1.9)\n",
      "Requirement already satisfied: pydub==0.25.1 in c:\\users\\cdelm\\appdata\\local\\packages\\pythonsoftwarefoundation.python.3.10_qbz5n2kfra8p0\\localcache\\local-packages\\python310\\site-packages (from birdnetlib) (0.25.1)\n",
      "Requirement already satisfied: python-dateutil>=2.7 in c:\\users\\cdelm\\appdata\\local\\packages\\pythonsoftwarefoundation.python.3.10_qbz5n2kfra8p0\\localcache\\local-packages\\python310\\site-packages (from matplotlib>=3.5.3->birdnetlib) (2.8.2)\n",
      "Requirement already satisfied: fonttools>=4.22.0 in c:\\users\\cdelm\\appdata\\local\\packages\\pythonsoftwarefoundation.python.3.10_qbz5n2kfra8p0\\localcache\\local-packages\\python310\\site-packages (from matplotlib>=3.5.3->birdnetlib) (4.38.0)\n",
      "Requirement already satisfied: pyparsing>=2.2.1 in c:\\users\\cdelm\\appdata\\local\\packages\\pythonsoftwarefoundation.python.3.10_qbz5n2kfra8p0\\localcache\\local-packages\\python310\\site-packages (from matplotlib>=3.5.3->birdnetlib) (3.0.9)\n",
      "Requirement already satisfied: packaging>=20.0 in c:\\users\\cdelm\\appdata\\local\\packages\\pythonsoftwarefoundation.python.3.10_qbz5n2kfra8p0\\localcache\\local-packages\\python310\\site-packages (from matplotlib>=3.5.3->birdnetlib) (22.0)\n",
      "Requirement already satisfied: pillow>=6.2.0 in c:\\users\\cdelm\\appdata\\local\\packages\\pythonsoftwarefoundation.python.3.10_qbz5n2kfra8p0\\localcache\\local-packages\\python310\\site-packages (from matplotlib>=3.5.3->birdnetlib) (9.4.0)\n",
      "Requirement already satisfied: kiwisolver>=1.0.1 in c:\\users\\cdelm\\appdata\\local\\packages\\pythonsoftwarefoundation.python.3.10_qbz5n2kfra8p0\\localcache\\local-packages\\python310\\site-packages (from matplotlib>=3.5.3->birdnetlib) (1.4.4)\n",
      "Requirement already satisfied: cycler>=0.10 in c:\\users\\cdelm\\appdata\\local\\packages\\pythonsoftwarefoundation.python.3.10_qbz5n2kfra8p0\\localcache\\local-packages\\python310\\site-packages (from matplotlib>=3.5.3->birdnetlib) (0.11.0)\n",
      "Requirement already satisfied: contourpy>=1.0.1 in c:\\users\\cdelm\\appdata\\local\\packages\\pythonsoftwarefoundation.python.3.10_qbz5n2kfra8p0\\localcache\\local-packages\\python310\\site-packages (from matplotlib>=3.5.3->birdnetlib) (1.0.6)\n",
      "Requirement already satisfied: numpy>=1.19 in c:\\users\\cdelm\\appdata\\local\\packages\\pythonsoftwarefoundation.python.3.10_qbz5n2kfra8p0\\localcache\\local-packages\\python310\\site-packages (from matplotlib>=3.5.3->birdnetlib) (1.23.5)\n",
      "Requirement already satisfied: charset-normalizer<4,>=2 in c:\\users\\cdelm\\appdata\\local\\packages\\pythonsoftwarefoundation.python.3.10_qbz5n2kfra8p0\\localcache\\local-packages\\python310\\site-packages (from requests>=2.28.1->birdnetlib) (3.1.0)\n",
      "Requirement already satisfied: idna<4,>=2.5 in c:\\users\\cdelm\\appdata\\local\\packages\\pythonsoftwarefoundation.python.3.10_qbz5n2kfra8p0\\localcache\\local-packages\\python310\\site-packages (from requests>=2.28.1->birdnetlib) (3.4)\n",
      "Requirement already satisfied: urllib3<1.27,>=1.21.1 in c:\\users\\cdelm\\appdata\\local\\packages\\pythonsoftwarefoundation.python.3.10_qbz5n2kfra8p0\\localcache\\local-packages\\python310\\site-packages (from requests>=2.28.1->birdnetlib) (1.26.15)\n",
      "Requirement already satisfied: certifi>=2017.4.17 in c:\\users\\cdelm\\appdata\\local\\packages\\pythonsoftwarefoundation.python.3.10_qbz5n2kfra8p0\\localcache\\local-packages\\python310\\site-packages (from requests>=2.28.1->birdnetlib) (2022.12.7)\n",
      "Requirement already satisfied: six>=1.5 in c:\\users\\cdelm\\appdata\\local\\packages\\pythonsoftwarefoundation.python.3.10_qbz5n2kfra8p0\\localcache\\local-packages\\python310\\site-packages (from python-dateutil>=2.7->matplotlib>=3.5.3->birdnetlib) (1.16.0)\n",
      "Note: you may need to restart the kernel to use updated packages.\n"
     ]
    },
    {
     "name": "stderr",
     "output_type": "stream",
     "text": [
      "\n",
      "[notice] A new release of pip is available: 23.0.1 -> 24.0\n",
      "[notice] To update, run: C:\\Users\\cdelm\\AppData\\Local\\Microsoft\\WindowsApps\\PythonSoftwareFoundation.Python.3.10_qbz5n2kfra8p0\\python.exe -m pip install --upgrade pip\n"
     ]
    }
   ],
   "source": [
    "pip install birdnetlib"
   ]
  },
  {
   "cell_type": "code",
   "execution_count": 13,
   "metadata": {},
   "outputs": [
    {
     "name": "stdout",
     "output_type": "stream",
     "text": [
      "Note: you may need to restart the kernel to use updated packages.\n"
     ]
    },
    {
     "name": "stderr",
     "output_type": "stream",
     "text": [
      "ERROR: Could not find a version that satisfies the requirement tensorflow.python (from versions: none)\n",
      "ERROR: No matching distribution found for tensorflow.python\n",
      "\n",
      "[notice] A new release of pip is available: 23.0.1 -> 24.0\n",
      "[notice] To update, run: C:\\Users\\cdelm\\AppData\\Local\\Microsoft\\WindowsApps\\PythonSoftwareFoundation.Python.3.10_qbz5n2kfra8p0\\python.exe -m pip install --upgrade pip\n"
     ]
    }
   ],
   "source": [
    "pip install tensorflow.python"
   ]
  },
  {
   "cell_type": "code",
   "execution_count": 11,
   "metadata": {},
   "outputs": [
    {
     "name": "stdout",
     "output_type": "stream",
     "text": [
      "C:\\Users\\cdelm\\AppData\\Local\\Microsoft\\WindowsApps\\PythonSoftwareFoundation.Python.3.10_qbz5n2kfra8p0\\python.exe\n"
     ]
    }
   ],
   "source": [
    "import sys\n",
    "print(sys.executable)"
   ]
  },
  {
   "cell_type": "code",
   "execution_count": 8,
   "metadata": {},
   "outputs": [
    {
     "ename": "CalledProcessError",
     "evalue": "Command 'python3 BirdNET-Analyzer-main/train.py --i trainingFolder/ --o trainedClassifierModel/' returned non-zero exit status 1.",
     "output_type": "error",
     "traceback": [
      "\u001b[1;31m---------------------------------------------------------------------------\u001b[0m",
      "\u001b[1;31mCalledProcessError\u001b[0m                        Traceback (most recent call last)",
      "Cell \u001b[1;32mIn[8], line 8\u001b[0m\n\u001b[0;32m      4\u001b[0m trainedClassifierModel \u001b[38;5;241m=\u001b[39m \u001b[38;5;124m\"\u001b[39m\u001b[38;5;124mtrainedClassifierModel/\u001b[39m\u001b[38;5;124m\"\u001b[39m\n\u001b[0;32m      6\u001b[0m command \u001b[38;5;241m=\u001b[39m \u001b[38;5;124m\"\u001b[39m\u001b[38;5;124mpython3 BirdNET-Analyzer-main/train.py --i \u001b[39m\u001b[38;5;124m\"\u001b[39m \u001b[38;5;241m+\u001b[39m trainingFolder \u001b[38;5;241m+\u001b[39m \u001b[38;5;124m\"\u001b[39m\u001b[38;5;124m --o \u001b[39m\u001b[38;5;124m\"\u001b[39m \u001b[38;5;241m+\u001b[39m trainedClassifierModel\n\u001b[1;32m----> 8\u001b[0m \u001b[43msubprocess\u001b[49m\u001b[38;5;241;43m.\u001b[39;49m\u001b[43mrun\u001b[49m\u001b[43m(\u001b[49m\u001b[43mcommand\u001b[49m\u001b[43m,\u001b[49m\u001b[43m \u001b[49m\u001b[43mshell\u001b[49m\u001b[38;5;241;43m=\u001b[39;49m\u001b[38;5;28;43;01mTrue\u001b[39;49;00m\u001b[43m,\u001b[49m\u001b[43m \u001b[49m\u001b[43mcheck\u001b[49m\u001b[38;5;241;43m=\u001b[39;49m\u001b[38;5;28;43;01mTrue\u001b[39;49;00m\u001b[43m)\u001b[49m\n",
      "File \u001b[1;32mC:\\Program Files\\WindowsApps\\PythonSoftwareFoundation.Python.3.10_3.10.3056.0_x64__qbz5n2kfra8p0\\lib\\subprocess.py:526\u001b[0m, in \u001b[0;36mrun\u001b[1;34m(input, capture_output, timeout, check, *popenargs, **kwargs)\u001b[0m\n\u001b[0;32m    524\u001b[0m     retcode \u001b[38;5;241m=\u001b[39m process\u001b[38;5;241m.\u001b[39mpoll()\n\u001b[0;32m    525\u001b[0m     \u001b[38;5;28;01mif\u001b[39;00m check \u001b[38;5;129;01mand\u001b[39;00m retcode:\n\u001b[1;32m--> 526\u001b[0m         \u001b[38;5;28;01mraise\u001b[39;00m CalledProcessError(retcode, process\u001b[38;5;241m.\u001b[39margs,\n\u001b[0;32m    527\u001b[0m                                  output\u001b[38;5;241m=\u001b[39mstdout, stderr\u001b[38;5;241m=\u001b[39mstderr)\n\u001b[0;32m    528\u001b[0m \u001b[38;5;28;01mreturn\u001b[39;00m CompletedProcess(process\u001b[38;5;241m.\u001b[39margs, retcode, stdout, stderr)\n",
      "\u001b[1;31mCalledProcessError\u001b[0m: Command 'python3 BirdNET-Analyzer-main/train.py --i trainingFolder/ --o trainedClassifierModel/' returned non-zero exit status 1."
     ]
    }
   ],
   "source": [
    "import subprocess\n",
    "\n",
    "trainingFolder = \"trainingFolder/\" \n",
    "trainedClassifierModel = \"trainedClassifierModel/\"\n",
    "\n",
    "command = \"python3 BirdNET-Analyzer-main/train.py --i \" + trainingFolder + \" --o \" + trainedClassifierModel\n",
    "\n",
    "subprocess.run(command, shell=True, check=True)"
   ]
  },
  {
   "cell_type": "code",
   "execution_count": 62,
   "metadata": {},
   "outputs": [],
   "source": [
    "import os\n",
    "import shutil\n",
    "import csv\n",
    "import pandas as pd\n",
    "\n",
    "from sklearn.preprocessing import LabelEncoder\n",
    "\n",
    "df_train = pd.read_csv(csv_file)\n",
    "\n",
    "label_encoder = LabelEncoder()\n",
    "label_encoder.fit(df_train['label'])\n",
    "\n",
    "def get_data_info(df):\n",
    "    #y = df['label']\n",
    "    # y_category = df['label_category']\n",
    "    # y_kingdom = df['label_kingdom']\n",
    "    # y_class = df['label_class']\n",
    "    # y_order = df['label_order']\n",
    "    # y_family = df['label_family']\n",
    "    # y_subfamily = df['label_subfamily']\n",
    "\n",
    "    # Convertir les étiquettes en nombres\n",
    "    #y_encoded = label_encoder.transform(y)\n",
    "\n",
    "    # create new empty dataframe\n",
    "    new_df = pd.DataFrame()\n",
    "\n",
    "    new_df['label'] = df['label']\n",
    "    new_df['label_family'] = df['label_family']\n",
    "    #new_df['t1'] = df[\"annotation_initial_time\"] - df[\"chunk_initial_time\"]\n",
    "    #new_df['t2'] = df[\"annotation_final_time\"] - df[\"chunk_initial_time\"]\n",
    "    #new_df['f1'] = df['min_frequency'].astype(int)\n",
    "    #new_df['f2'] = df['max_frequency'].astype(int)\n",
    "    code_unique = df['code_unique']\n",
    "    str_to_add = '_split_' + df['chunk_initial_time'].astype(str) + '_' + df['chunk_final_time'].astype(str)\n",
    "    new_df['filename'] = code_unique + str_to_add + '.wav'\n",
    "    #new_df['sr'] = df['sampling_rate']\n",
    "    new_df['debut'] = df['chunk_initial_time']\n",
    "    new_df['fin'] = df['chunk_final_time']\n",
    "    new_df['duration_chunk'] = df['chunk_final_time'] - df['chunk_initial_time']\n",
    "\n",
    "    # Gestion des valeurs manquantes\n",
    "    new_df = new_df.dropna()\n",
    "\n",
    "    return new_df\n",
    "\n",
    "info_train = get_data_info(df_train)"
   ]
  },
  {
   "cell_type": "code",
   "execution_count": 63,
   "metadata": {},
   "outputs": [
    {
     "name": "stdout",
     "output_type": "stream",
     "text": [
      "/root/3A/ProjetLong/DataSet\n"
     ]
    }
   ],
   "source": [
    "%cd ../../../DataSet/"
   ]
  },
  {
   "cell_type": "code",
   "execution_count": 64,
   "metadata": {},
   "outputs": [],
   "source": [
    "%mkdir BirdNetFolder"
   ]
  },
  {
   "cell_type": "code",
   "execution_count": 65,
   "metadata": {},
   "outputs": [
    {
     "name": "stdout",
     "output_type": "stream",
     "text": [
      "/root/3A/ProjetLong/DataSet/BirdNetFolder\n"
     ]
    }
   ],
   "source": [
    "%cd BirdNetFolder"
   ]
  },
  {
   "cell_type": "code",
   "execution_count": 66,
   "metadata": {},
   "outputs": [],
   "source": [
    "#create folders for each label\n",
    "for index, row in info_train.iterrows():\n",
    "  label = row['label']\n",
    "  label = label.replace(\" \", \"\")\n",
    "  labelf = row['label_family']\n",
    "  if labelf != \"\" : \n",
    "    label = label + \"_\" + labelf\n",
    "  if not os.path.exists(label):\n",
    "        # Créer le dossier s'il n'existe pas\n",
    "        os.makedirs(label)"
   ]
  },
  {
   "cell_type": "code",
   "execution_count": 1,
   "metadata": {},
   "outputs": [
    {
     "name": "stdout",
     "output_type": "stream",
     "text": [
      "/root/3A/ProjetLong/OrthopteraStridulationClassifier/Notebooks\n"
     ]
    }
   ],
   "source": [
    "%cd .."
   ]
  },
  {
   "cell_type": "code",
   "execution_count": 68,
   "metadata": {},
   "outputs": [
    {
     "name": "stdout",
     "output_type": "stream",
     "text": [
      "/root/3A/ProjetLong/DataSet\n"
     ]
    }
   ],
   "source": [
    "!pwd"
   ]
  },
  {
   "cell_type": "code",
   "execution_count": 70,
   "metadata": {},
   "outputs": [],
   "source": [
    "files_path = \"Selection_morceaux_audio_5s/Audible/Audible/train/\"\n",
    "for index, row in info_train.iterrows():\n",
    "  file = row['filename']\n",
    "  label = row['label']\n",
    "  label = label.replace(\" \", \"\")\n",
    "  labelf = row['label_family']\n",
    "  if labelf != \"\" : \n",
    "    label = label + \"_\" + labelf\n",
    "  path = files_path + file\n",
    "  #dest = \"drive/MyDrive/Dataset5sec/BirdNetFolder/\" + label\n",
    "  # Se déplacer vers le dossier spécifique\n",
    "  #os.chdir(\"/BirdNetFolder/\" + label + \"/\")\n",
    "  \n",
    "  # Copier le fichier dans le dossier spécifique\n",
    "  shutil.copy(path, \"BirdNetFolder/\" + label + \"/\")"
   ]
  },
  {
   "cell_type": "code",
   "execution_count": 5,
   "metadata": {},
   "outputs": [
    {
     "name": "stdout",
     "output_type": "stream",
     "text": [
      "/root/3A/ProjetLong/OrthopteraStridulationClassifier/Notebooks/BirdNet\n"
     ]
    }
   ],
   "source": [
    "!pwd"
   ]
  },
  {
   "cell_type": "code",
   "execution_count": 6,
   "metadata": {},
   "outputs": [
    {
     "name": "stdout",
     "output_type": "stream",
     "text": [
      "/root/3A/ProjetLong/birdnet/BirdNET-Analyzer\n"
     ]
    }
   ],
   "source": [
    "%cd ../../../birdnet/BirdNET-Analyzer/\n",
    "# A changer "
   ]
  },
  {
   "cell_type": "code",
   "execution_count": 12,
   "metadata": {},
   "outputs": [
    {
     "name": "stdout",
     "output_type": "stream",
     "text": [
      "Loading training data...\n",
      " - loading 'Apismellifera_Apidae':   0%|                  | 0/43 [00:00<?, ?f/s]\t Error when loading file BirdNetFolder/Apismellifera_Apidae/Hymenoptera_crcatou31FR_15IX2022_645_split_0_5.wav\n",
      "\t Error when loading file BirdNetFolder/Apismellifera_Apidae/Hymenoptera_crcatou31FR_15IX2022_643_split_0_5.wav\n",
      " - loading 'Apismellifera_Apidae':   0%|                  | 0/43 [00:02<?, ?f/s]\n",
      "multiprocessing.pool.RemoteTraceback: \n",
      "\"\"\"\n",
      "Traceback (most recent call last):\n",
      "  File \"/usr/lib/python3.10/multiprocessing/pool.py\", line 125, in worker\n",
      "    result = (True, func(*args, **kwds))\n",
      "  File \"/root/3A/ProjetLong/DataSet/../birdnet/BirdNET-Analyzer/train.py\", line 47, in _loadAudioFile\n",
      "    sig_splits = [audio.cropCenter(sig, rate, cfg.SIG_LENGTH)]\n",
      "UnboundLocalError: local variable 'sig' referenced before assignment\n",
      "\"\"\"\n",
      "\n",
      "The above exception was the direct cause of the following exception:\n",
      "\n",
      "Traceback (most recent call last):\n",
      "  File \"/root/3A/ProjetLong/DataSet/../birdnet/BirdNET-Analyzer/train.py\", line 410, in <module>\n",
      "    trainModel()\n",
      "  File \"/root/3A/ProjetLong/DataSet/../birdnet/BirdNET-Analyzer/train.py\", line 207, in trainModel\n",
      "    x_train, y_train, labels = _loadTrainingData(cfg.TRAIN_CACHE_MODE, cfg.TRAIN_CACHE_FILE, on_data_load_end)\n",
      "  File \"/root/3A/ProjetLong/DataSet/../birdnet/BirdNET-Analyzer/train.py\", line 170, in _loadTrainingData\n",
      "    result = task.get()\n",
      "  File \"/usr/lib/python3.10/multiprocessing/pool.py\", line 774, in get\n",
      "    raise self._value\n",
      "UnboundLocalError: local variable 'sig' referenced before assignment\n"
     ]
    }
   ],
   "source": [
    "!python3 ../birdnet/BirdNET-Analyzer/train.py --i BirdNetFolder/ --o ../birdnet/BirdNET-Analyzer/checkpoints/V2.4/BirdNET_GLOBAL_6K_V2.4_Model_FP32.tflite"
   ]
  },
  {
   "cell_type": "code",
   "execution_count": null,
   "metadata": {},
   "outputs": [],
   "source": []
  }
 ],
 "metadata": {
  "kernelspec": {
   "display_name": "Python 3",
   "language": "python",
   "name": "python3"
  },
  "language_info": {
   "codemirror_mode": {
    "name": "ipython",
    "version": 3
   },
   "file_extension": ".py",
   "mimetype": "text/x-python",
   "name": "python",
   "nbconvert_exporter": "python",
   "pygments_lexer": "ipython3",
   "version": "3.10.11"
  }
 },
 "nbformat": 4,
 "nbformat_minor": 2
}
