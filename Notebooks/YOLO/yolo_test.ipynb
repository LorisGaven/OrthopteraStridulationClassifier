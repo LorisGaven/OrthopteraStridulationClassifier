{
 "cells": [
  {
   "cell_type": "code",
   "execution_count": 1,
   "metadata": {},
   "outputs": [
    {
     "name": "stdout",
     "output_type": "stream",
     "text": [
      "cuda available:  True\n"
     ]
    },
    {
     "data": {
      "text/plain": [
       "'0.15.2+cu118'"
      ]
     },
     "execution_count": 1,
     "metadata": {},
     "output_type": "execute_result"
    }
   ],
   "source": [
    "from ultralytics import YOLO\n",
    "import torch\n",
    "import torchvision\n",
    "import os\n",
    "from matplotlib import pyplot as plt\n",
    "import numpy as np\n",
    "from PIL import Image\n",
    "\n",
    "print(\"cuda available: \",torch.cuda.is_available())\n",
    "torchvision.__version__"
   ]
  },
  {
   "cell_type": "code",
   "execution_count": 2,
   "metadata": {},
   "outputs": [],
   "source": [
    "# Load model\n",
    "model_version = \"best.pt\"\n",
    "modelpath = r\"runs/detect/all insect/weights\" + os.sep + model_version\n",
    "conf_tresh = 0.325\n",
    "model = YOLO(modelpath)"
   ]
  },
  {
   "cell_type": "code",
   "execution_count": 3,
   "metadata": {},
   "outputs": [],
   "source": [
    "path_test = r\"C:\\Users\\lucas\\Documents\\Annee_3_ENSEEIHT\\Projet long\\OrthopteraStridulationClassifier\\Dataset acoustique insectes\\DatasetStretch\\test_spectro\"\n",
    "yaml_path = r\"C:\\Users\\lucas\\Documents\\Annee_3_ENSEEIHT\\Projet long\\OrthopteraStridulationClassifier\\Dataset acoustique insectes\\Selection morceaux audio 5s\\Audible\\Yolo_1_class\\data.yaml\""
   ]
  },
  {
   "cell_type": "code",
   "execution_count": 4,
   "metadata": {},
   "outputs": [
    {
     "name": "stdout",
     "output_type": "stream",
     "text": [
      "Ultralytics YOLOv8.1.9 🚀 Python-3.11.2 torch-2.0.1+cu118 CUDA:0 (NVIDIA GeForce RTX 3050 Ti Laptop GPU, 4096MiB)\n"
     ]
    },
    {
     "name": "stdout",
     "output_type": "stream",
     "text": [
      "Model summary (fused): 168 layers, 11125971 parameters, 0 gradients, 28.4 GFLOPs\n"
     ]
    },
    {
     "name": "stderr",
     "output_type": "stream",
     "text": [
      "\u001b[34m\u001b[1mval: \u001b[0mScanning C:\\Users\\lucas\\Documents\\Annee_3_ENSEEIHT\\Projet long\\OrthopteraStridulationClassifier\\Dataset acoustique insectes\\Selection morceaux audio 5s\\Audible\\Yolo_1_class\\labels\\val... 563 images, 72 backgrounds, 0 corrupt: 100%|██████████| 563/563 [00:00<00:00, 1961.15it/s]\n"
     ]
    },
    {
     "name": "stdout",
     "output_type": "stream",
     "text": [
      "\u001b[34m\u001b[1mval: \u001b[0mNew cache created: C:\\Users\\lucas\\Documents\\Annee_3_ENSEEIHT\\Projet long\\OrthopteraStridulationClassifier\\Dataset acoustique insectes\\Selection morceaux audio 5s\\Audible\\Yolo_1_class\\labels\\val.cache\n"
     ]
    },
    {
     "name": "stderr",
     "output_type": "stream",
     "text": [
      "                 Class     Images  Instances      Box(P          R      mAP50  mAP50-95): 100%|██████████| 36/36 [00:05<00:00,  7.16it/s]\n"
     ]
    },
    {
     "name": "stdout",
     "output_type": "stream",
     "text": [
      "                   all        563        759      0.737      0.651       0.74      0.643\n",
      "Speed: 0.2ms preprocess, 6.0ms inference, 0.0ms loss, 0.9ms postprocess per image\n",
      "Results saved to \u001b[1mruns\\detect\\val44\u001b[0m\n"
     ]
    }
   ],
   "source": [
    "# Validate the model on the validation set\n",
    "\n",
    "with open(yaml_path, 'r') as file:\n",
    "    yaml_file = file.readlines()\n",
    "\n",
    "# Modify the 4th line (index 3) to change the validation set path\n",
    "yaml_file[3] = \"val: images/val\\n\"\n",
    "\n",
    "# Write the modified content back to the file\n",
    "with open(yaml_path, 'w') as file:\n",
    "    file.writelines(yaml_file)\n",
    "\n",
    "\n",
    "metrics_val = model.val(conf=conf_tresh)"
   ]
  },
  {
   "cell_type": "code",
   "execution_count": 5,
   "metadata": {},
   "outputs": [
    {
     "name": "stdout",
     "output_type": "stream",
     "text": [
      "Ultralytics YOLOv8.1.9 🚀 Python-3.11.2 torch-2.0.1+cu118 CUDA:0 (NVIDIA GeForce RTX 3050 Ti Laptop GPU, 4096MiB)\n"
     ]
    },
    {
     "name": "stderr",
     "output_type": "stream",
     "text": [
      "\u001b[34m\u001b[1mval: \u001b[0mScanning C:\\Users\\lucas\\Documents\\Annee_3_ENSEEIHT\\Projet long\\OrthopteraStridulationClassifier\\Dataset acoustique insectes\\Selection morceaux audio 5s\\Audible\\Yolo_1_class\\labels\\test... 565 images, 68 backgrounds, 0 corrupt: 100%|██████████| 565/565 [00:00<00:00, 2318.10it/s]\n"
     ]
    },
    {
     "name": "stdout",
     "output_type": "stream",
     "text": [
      "\u001b[34m\u001b[1mval: \u001b[0mNew cache created: C:\\Users\\lucas\\Documents\\Annee_3_ENSEEIHT\\Projet long\\OrthopteraStridulationClassifier\\Dataset acoustique insectes\\Selection morceaux audio 5s\\Audible\\Yolo_1_class\\labels\\test.cache\n"
     ]
    },
    {
     "name": "stderr",
     "output_type": "stream",
     "text": [
      "                 Class     Images  Instances      Box(P          R      mAP50  mAP50-95): 100%|██████████| 36/36 [00:04<00:00,  7.44it/s]\n"
     ]
    },
    {
     "name": "stdout",
     "output_type": "stream",
     "text": [
      "                   all        565        734      0.853      0.696      0.802        0.7\n",
      "Speed: 0.2ms preprocess, 5.6ms inference, 0.0ms loss, 0.8ms postprocess per image\n",
      "Results saved to \u001b[1mruns\\detect\\val45\u001b[0m\n"
     ]
    }
   ],
   "source": [
    "# Validate the model on the test set\n",
    "\n",
    "with open(yaml_path, 'r') as file:\n",
    "    yaml_file = file.readlines()\n",
    "\n",
    "# Modify the 4th line (index 3) to change the validation set path\n",
    "yaml_file[3] = \"val: images/test\\n\"\n",
    "\n",
    "# Write the modified content back to the file\n",
    "with open(yaml_path, 'w') as file:\n",
    "    file.writelines(yaml_file)\n",
    "\n",
    "\n",
    "metrics_test = model.val(conf=conf_tresh)"
   ]
  },
  {
   "cell_type": "code",
   "execution_count": 6,
   "metadata": {},
   "outputs": [
    {
     "name": "stdout",
     "output_type": "stream",
     "text": [
      "Ultralytics YOLOv8.1.9 🚀 Python-3.11.2 torch-2.0.1+cu118 CUDA:0 (NVIDIA GeForce RTX 3050 Ti Laptop GPU, 4096MiB)\n"
     ]
    },
    {
     "name": "stderr",
     "output_type": "stream",
     "text": [
      "\u001b[34m\u001b[1mval: \u001b[0mScanning C:\\Users\\lucas\\Documents\\Annee_3_ENSEEIHT\\Projet long\\OrthopteraStridulationClassifier\\Dataset acoustique insectes\\Selection morceaux audio 5s\\Audible\\Yolo_1_class\\labels\\test_passif... 116 images, 63 backgrounds, 0 corrupt: 100%|██████████| 116/116 [00:00<00:00, 1771.64it/s]"
     ]
    },
    {
     "name": "stdout",
     "output_type": "stream",
     "text": [
      "\u001b[34m\u001b[1mval: \u001b[0mNew cache created: C:\\Users\\lucas\\Documents\\Annee_3_ENSEEIHT\\Projet long\\OrthopteraStridulationClassifier\\Dataset acoustique insectes\\Selection morceaux audio 5s\\Audible\\Yolo_1_class\\labels\\test_passif.cache\n"
     ]
    },
    {
     "name": "stderr",
     "output_type": "stream",
     "text": [
      "\n",
      "                 Class     Images  Instances      Box(P          R      mAP50  mAP50-95): 100%|██████████| 8/8 [00:02<00:00,  4.00it/s]\n"
     ]
    },
    {
     "name": "stdout",
     "output_type": "stream",
     "text": [
      "                   all        116         71      0.866      0.676      0.802      0.731\n",
      "Speed: 0.7ms preprocess, 8.1ms inference, 0.0ms loss, 1.2ms postprocess per image\n",
      "Results saved to \u001b[1mruns\\detect\\val46\u001b[0m\n"
     ]
    }
   ],
   "source": [
    "# Validate the model on the test_passif set\n",
    "\n",
    "with open(yaml_path, 'r') as file:\n",
    "    yaml_file = file.readlines()\n",
    "\n",
    "# Modify the 4th line (index 3) to change the validation set path\n",
    "yaml_file[3] = \"val: images/test_passif\\n\"\n",
    "\n",
    "# Write the modified content back to the file\n",
    "with open(yaml_path, 'w') as file:\n",
    "    file.writelines(yaml_file)\n",
    "\n",
    "\n",
    "metrics_test = model.val(conf=conf_tresh)"
   ]
  },
  {
   "cell_type": "code",
   "execution_count": 7,
   "metadata": {},
   "outputs": [
    {
     "name": "stdout",
     "output_type": "stream",
     "text": [
      "Ultralytics YOLOv8.1.9 🚀 Python-3.11.2 torch-2.0.1+cu118 CUDA:0 (NVIDIA GeForce RTX 3050 Ti Laptop GPU, 4096MiB)\n"
     ]
    },
    {
     "name": "stderr",
     "output_type": "stream",
     "text": [
      "\u001b[34m\u001b[1mval: \u001b[0mScanning C:\\Users\\lucas\\Documents\\Annee_3_ENSEEIHT\\Projet long\\OrthopteraStridulationClassifier\\Dataset acoustique insectes\\Selection morceaux audio 5s\\Audible\\Yolo_1_class\\labels\\test_actif...:   0%|          | 0/449 [00:00<?, ?it/s]"
     ]
    },
    {
     "name": "stderr",
     "output_type": "stream",
     "text": [
      "\u001b[34m\u001b[1mval: \u001b[0mScanning C:\\Users\\lucas\\Documents\\Annee_3_ENSEEIHT\\Projet long\\OrthopteraStridulationClassifier\\Dataset acoustique insectes\\Selection morceaux audio 5s\\Audible\\Yolo_1_class\\labels\\test_actif... 449 images, 5 backgrounds, 0 corrupt: 100%|██████████| 449/449 [00:00<00:00, 1961.06it/s]\n"
     ]
    },
    {
     "name": "stdout",
     "output_type": "stream",
     "text": [
      "\u001b[34m\u001b[1mval: \u001b[0mNew cache created: C:\\Users\\lucas\\Documents\\Annee_3_ENSEEIHT\\Projet long\\OrthopteraStridulationClassifier\\Dataset acoustique insectes\\Selection morceaux audio 5s\\Audible\\Yolo_1_class\\labels\\test_actif.cache\n"
     ]
    },
    {
     "name": "stderr",
     "output_type": "stream",
     "text": [
      "                 Class     Images  Instances      Box(P          R      mAP50  mAP50-95): 100%|██████████| 29/29 [00:04<00:00,  6.60it/s]\n"
     ]
    },
    {
     "name": "stdout",
     "output_type": "stream",
     "text": [
      "                   all        449        663      0.853      0.698      0.803      0.698\n",
      "Speed: 0.2ms preprocess, 6.0ms inference, 0.0ms loss, 1.0ms postprocess per image\n",
      "Results saved to \u001b[1mruns\\detect\\val47\u001b[0m\n"
     ]
    }
   ],
   "source": [
    "# Validate the model on the test_actif set\n",
    "\n",
    "with open(yaml_path, 'r') as file:\n",
    "    yaml_file = file.readlines()\n",
    "\n",
    "# Modify the 4th line (index 3) to change the validation set path\n",
    "yaml_file[3] = \"val: images/test_actif\\n\"\n",
    "\n",
    "# Write the modified content back to the file\n",
    "with open(yaml_path, 'w') as file:\n",
    "    file.writelines(yaml_file)\n",
    "\n",
    "\n",
    "metrics_test = model.val(conf=conf_tresh)"
   ]
  },
  {
   "cell_type": "code",
   "execution_count": 8,
   "metadata": {},
   "outputs": [
    {
     "name": "stdout",
     "output_type": "stream",
     "text": [
      "Ultralytics YOLOv8.1.9 🚀 Python-3.11.2 torch-2.0.1+cu118 CUDA:0 (NVIDIA GeForce RTX 3050 Ti Laptop GPU, 4096MiB)\n"
     ]
    },
    {
     "name": "stderr",
     "output_type": "stream",
     "text": [
      "\u001b[34m\u001b[1mval: \u001b[0mScanning C:\\Users\\lucas\\Documents\\Annee_3_ENSEEIHT\\Projet long\\OrthopteraStridulationClassifier\\Dataset acoustique insectes\\Selection morceaux audio 5s\\Audible\\Yolo_1_class\\labels\\train... 4717 images, 595 backgrounds, 0 corrupt: 100%|██████████| 4717/4717 [00:02<00:00, 1692.64it/s]\n"
     ]
    },
    {
     "name": "stdout",
     "output_type": "stream",
     "text": [
      "\u001b[34m\u001b[1mval: \u001b[0mNew cache created: C:\\Users\\lucas\\Documents\\Annee_3_ENSEEIHT\\Projet long\\OrthopteraStridulationClassifier\\Dataset acoustique insectes\\Selection morceaux audio 5s\\Audible\\Yolo_1_class\\labels\\train.cache\n"
     ]
    },
    {
     "name": "stderr",
     "output_type": "stream",
     "text": [
      "                 Class     Images  Instances      Box(P          R      mAP50  mAP50-95): 100%|██████████| 295/295 [00:55<00:00,  5.27it/s]\n"
     ]
    },
    {
     "name": "stdout",
     "output_type": "stream",
     "text": [
      "                   all       4717       5867      0.916      0.805      0.894      0.819\n",
      "Speed: 0.1ms preprocess, 7.8ms inference, 0.0ms loss, 0.8ms postprocess per image\n",
      "Results saved to \u001b[1mruns\\detect\\val48\u001b[0m\n"
     ]
    }
   ],
   "source": [
    "# Validate the model on the train set\n",
    "\n",
    "with open(yaml_path, 'r') as file:\n",
    "    yaml_file = file.readlines()\n",
    "\n",
    "# Modify the 4th line (index 3) to change the validation set path\n",
    "yaml_file[3] = \"val: images/train\\n\"\n",
    "\n",
    "# Write the modified content back to the file\n",
    "with open(yaml_path, 'w') as file:\n",
    "    file.writelines(yaml_file)\n",
    "\n",
    "\n",
    "metrics_test = model.val(conf=conf_tresh)"
   ]
  }
 ],
 "metadata": {
  "kernelspec": {
   "display_name": "Python 3",
   "language": "python",
   "name": "python3"
  },
  "language_info": {
   "codemirror_mode": {
    "name": "ipython",
    "version": 3
   },
   "file_extension": ".py",
   "mimetype": "text/x-python",
   "name": "python",
   "nbconvert_exporter": "python",
   "pygments_lexer": "ipython3",
   "version": "3.11.2"
  }
 },
 "nbformat": 4,
 "nbformat_minor": 2
}
