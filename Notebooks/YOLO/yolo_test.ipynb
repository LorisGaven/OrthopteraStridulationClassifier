{
 "cells": [
  {
   "cell_type": "code",
   "execution_count": 1,
   "metadata": {},
   "outputs": [
    {
     "name": "stdout",
     "output_type": "stream",
     "text": [
      "cuda available:  True\n"
     ]
    },
    {
     "data": {
      "text/plain": [
       "'0.15.2+cu118'"
      ]
     },
     "execution_count": 1,
     "metadata": {},
     "output_type": "execute_result"
    }
   ],
   "source": [
    "from ultralytics import YOLO\n",
    "import torch\n",
    "import torchvision\n",
    "import os\n",
    "from matplotlib import pyplot as plt\n",
    "import numpy as np\n",
    "from PIL import Image\n",
    "\n",
    "print(\"cuda available: \",torch.cuda.is_available())\n",
    "torchvision.__version__"
   ]
  },
  {
   "cell_type": "code",
   "execution_count": 2,
   "metadata": {},
   "outputs": [],
   "source": [
    "# Load model\n",
    "model_version = \"best.pt\"\n",
    "modelpath1 = r\"runs/detect/all insect/weights\" + os.sep + model_version\n",
    "modelpath2 = r\"runs/detect/new dataset/weights\" + os.sep + model_version\n",
    "conf_tresh = 0.319\n",
    "model1 = YOLO(modelpath1)\n",
    "model2 = YOLO(modelpath2)"
   ]
  },
  {
   "cell_type": "code",
   "execution_count": 3,
   "metadata": {},
   "outputs": [],
   "source": [
    "path_test = r\"C:\\Users\\lucas\\Documents\\Annee_3_ENSEEIHT\\Projet long\\OrthopteraStridulationClassifier\\Dataset acoustique insectes\\DatasetStretch\\test_spectro\"\n",
    "yaml_path = r\"C:\\Users\\lucas\\Documents\\Annee_3_ENSEEIHT\\Projet long\\OrthopteraStridulationClassifier\\Dataset acoustique insectes\\Selection morceaux audio 5s\\Audible\\Yolo_1_class\\data.yaml\""
   ]
  },
  {
   "cell_type": "code",
   "execution_count": 4,
   "metadata": {},
   "outputs": [
    {
     "name": "stdout",
     "output_type": "stream",
     "text": [
      "Ultralytics YOLOv8.1.9 🚀 Python-3.11.2 torch-2.0.1+cu118 CUDA:0 (NVIDIA GeForce RTX 3050 Ti Laptop GPU, 4096MiB)\n"
     ]
    },
    {
     "name": "stdout",
     "output_type": "stream",
     "text": [
      "Model summary (fused): 168 layers, 11125971 parameters, 0 gradients, 28.4 GFLOPs\n"
     ]
    },
    {
     "name": "stderr",
     "output_type": "stream",
     "text": [
      "\u001b[34m\u001b[1mval: \u001b[0mScanning C:\\Users\\lucas\\Documents\\Annee_3_ENSEEIHT\\Projet long\\OrthopteraStridulationClassifier\\Dataset acoustique insectes\\Selection morceaux audio 5s\\Audible\\Yolo_1_class\\labels\\val.cache... 823 images, 0 backgrounds, 0 corrupt: 100%|██████████| 823/823 [00:00<?, ?it/s]\n",
      "                 Class     Images  Instances      Box(P          R      mAP50  mAP50-95): 100%|██████████| 52/52 [00:07<00:00,  6.58it/s]\n"
     ]
    },
    {
     "name": "stdout",
     "output_type": "stream",
     "text": [
      "                   all        823       1546      0.737      0.565      0.686      0.483\n",
      "Speed: 0.2ms preprocess, 6.0ms inference, 0.0ms loss, 1.0ms postprocess per image\n",
      "Results saved to \u001b[1mruns\\detect\\val49\u001b[0m\n"
     ]
    }
   ],
   "source": [
    "# Validate the model on the validation set\n",
    "\n",
    "with open(yaml_path, 'r') as file:\n",
    "    yaml_file = file.readlines()\n",
    "\n",
    "# Modify the 4th line (index 3) to change the validation set path\n",
    "yaml_file[3] = \"val: images/val\\n\"\n",
    "\n",
    "# Write the modified content back to the file\n",
    "with open(yaml_path, 'w') as file:\n",
    "    file.writelines(yaml_file)\n",
    "\n",
    "\n",
    "metrics_val = model1.val(conf=conf_tresh)"
   ]
  },
  {
   "cell_type": "code",
   "execution_count": 5,
   "metadata": {},
   "outputs": [
    {
     "name": "stdout",
     "output_type": "stream",
     "text": [
      "Ultralytics YOLOv8.1.9 🚀 Python-3.11.2 torch-2.0.1+cu118 CUDA:0 (NVIDIA GeForce RTX 3050 Ti Laptop GPU, 4096MiB)\n"
     ]
    },
    {
     "name": "stderr",
     "output_type": "stream",
     "text": [
      "\u001b[34m\u001b[1mval: \u001b[0mScanning C:\\Users\\lucas\\Documents\\Annee_3_ENSEEIHT\\Projet long\\OrthopteraStridulationClassifier\\Dataset acoustique insectes\\Selection morceaux audio 5s\\Audible\\Yolo_1_class\\labels\\test... 868 images, 0 backgrounds, 0 corrupt: 100%|██████████| 868/868 [00:00<00:00, 1089.34it/s]\n"
     ]
    },
    {
     "name": "stdout",
     "output_type": "stream",
     "text": [
      "\u001b[34m\u001b[1mval: \u001b[0mNew cache created: C:\\Users\\lucas\\Documents\\Annee_3_ENSEEIHT\\Projet long\\OrthopteraStridulationClassifier\\Dataset acoustique insectes\\Selection morceaux audio 5s\\Audible\\Yolo_1_class\\labels\\test.cache\n"
     ]
    },
    {
     "name": "stderr",
     "output_type": "stream",
     "text": [
      "                 Class     Images  Instances      Box(P          R      mAP50  mAP50-95): 100%|██████████| 55/55 [00:09<00:00,  5.72it/s]\n"
     ]
    },
    {
     "name": "stdout",
     "output_type": "stream",
     "text": [
      "                   all        868       1732      0.695       0.55      0.655       0.46\n",
      "Speed: 0.2ms preprocess, 7.5ms inference, 0.0ms loss, 0.9ms postprocess per image\n",
      "Results saved to \u001b[1mruns\\detect\\val50\u001b[0m\n"
     ]
    }
   ],
   "source": [
    "# Validate the model on the test set\n",
    "\n",
    "with open(yaml_path, 'r') as file:\n",
    "    yaml_file = file.readlines()\n",
    "\n",
    "# Modify the 4th line (index 3) to change the validation set path\n",
    "yaml_file[3] = \"val: images/test\\n\"\n",
    "\n",
    "# Write the modified content back to the file\n",
    "with open(yaml_path, 'w') as file:\n",
    "    file.writelines(yaml_file)\n",
    "\n",
    "\n",
    "metrics_test = model.val(conf=conf_tresh)"
   ]
  },
  {
   "cell_type": "code",
   "execution_count": 7,
   "metadata": {},
   "outputs": [
    {
     "name": "stdout",
     "output_type": "stream",
     "text": [
      "Ultralytics YOLOv8.1.9 🚀 Python-3.11.2 torch-2.0.1+cu118 CUDA:0 (NVIDIA GeForce RTX 3050 Ti Laptop GPU, 4096MiB)\n"
     ]
    },
    {
     "name": "stderr",
     "output_type": "stream",
     "text": [
      "\u001b[34m\u001b[1mval: \u001b[0mScanning C:\\Users\\lucas\\Documents\\Annee_3_ENSEEIHT\\Projet long\\OrthopteraStridulationClassifier\\Dataset acoustique insectes\\Selection morceaux audio 5s\\Audible\\Yolo_1_class\\labels\\train.cache... 5243 images, 0 backgrounds, 0 corrupt: 100%|██████████| 5243/5243 [00:00<?, ?it/s]\n",
      "                 Class     Images  Instances      Box(P          R      mAP50  mAP50-95): 100%|██████████| 328/328 [00:55<00:00,  5.89it/s]\n"
     ]
    },
    {
     "name": "stdout",
     "output_type": "stream",
     "text": [
      "                   all       5243       8815      0.841      0.737      0.834      0.724\n",
      "Speed: 0.1ms preprocess, 5.4ms inference, 0.0ms loss, 1.0ms postprocess per image\n",
      "Results saved to \u001b[1mruns\\detect\\val52\u001b[0m\n"
     ]
    }
   ],
   "source": [
    "# Validate the model on the train set\n",
    "\n",
    "with open(yaml_path, 'r') as file:\n",
    "    yaml_file = file.readlines()\n",
    "\n",
    "# Modify the 4th line (index 3) to change the validation set path\n",
    "yaml_file[3] = \"val: images/train\\n\"\n",
    "\n",
    "# Write the modified content back to the file\n",
    "with open(yaml_path, 'w') as file:\n",
    "    file.writelines(yaml_file)\n",
    "\n",
    "\n",
    "metrics_test = model.val(conf=conf_tresh)"
   ]
  }
 ],
 "metadata": {
  "kernelspec": {
   "display_name": "Python 3",
   "language": "python",
   "name": "python3"
  },
  "language_info": {
   "codemirror_mode": {
    "name": "ipython",
    "version": 3
   },
   "file_extension": ".py",
   "mimetype": "text/x-python",
   "name": "python",
   "nbconvert_exporter": "python",
   "pygments_lexer": "ipython3",
   "version": "3.11.2"
  }
 },
 "nbformat": 4,
 "nbformat_minor": 2
}
