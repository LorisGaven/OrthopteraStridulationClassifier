{
 "cells": [
  {
   "cell_type": "code",
   "execution_count": 2,
   "metadata": {},
   "outputs": [
    {
     "name": "stdout",
     "output_type": "stream",
     "text": [
      "cuda available:  True\n"
     ]
    },
    {
     "data": {
      "text/plain": [
       "'0.15.2+cu118'"
      ]
     },
     "execution_count": 2,
     "metadata": {},
     "output_type": "execute_result"
    }
   ],
   "source": [
    "from ultralytics import YOLO\n",
    "import torch\n",
    "import torchvision\n",
    "import os\n",
    "from matplotlib import pyplot as plt\n",
    "import numpy as np\n",
    "from PIL import Image\n",
    "\n",
    "print(\"cuda available: \",torch.cuda.is_available())\n",
    "torchvision.__version__"
   ]
  },
  {
   "cell_type": "code",
   "execution_count": 3,
   "metadata": {},
   "outputs": [],
   "source": [
    "# Load model\n",
    "model_version = \"best.pt\"\n",
    "modelpath = r\"runs/detect/small 1 classe spectrogramme 48k/weights\" + os.sep + model_version\n",
    "model = YOLO(modelpath)"
   ]
  },
  {
   "cell_type": "code",
   "execution_count": 4,
   "metadata": {},
   "outputs": [],
   "source": [
    "# Load data for prediction\n",
    "imgpath = r\"../../Dataset acoustique insectes\\test soundscape split 5s\"\n",
    "\n",
    "# load test image \n",
    "img_path = r\"../../Dataset acoustique insectes\\Selection soundscapes 1 min spectro/Anura_pechpuy46FR_09V2022_2330.png\""
   ]
  },
  {
   "cell_type": "code",
   "execution_count": 5,
   "metadata": {},
   "outputs": [
    {
     "name": "stdout",
     "output_type": "stream",
     "text": [
      "\n",
      "0: 640x320 1 Insecta, 167.3ms\n",
      "Speed: 4.0ms preprocess, 167.3ms inference, 86.5ms postprocess per image at shape (1, 3, 640, 320)\n",
      "Results saved to \u001b[1mruns\\detect\\predict5\u001b[0m\n",
      "\n",
      "0: 640x320 2 Insectas, 6.7ms\n",
      "Speed: 3.0ms preprocess, 6.7ms inference, 1.0ms postprocess per image at shape (1, 3, 640, 320)\n",
      "Results saved to \u001b[1mruns\\detect\\predict5\u001b[0m\n",
      "\n",
      "0: 640x320 1 Insecta, 8.2ms\n",
      "Speed: 1.0ms preprocess, 8.2ms inference, 2.0ms postprocess per image at shape (1, 3, 640, 320)\n",
      "Results saved to \u001b[1mruns\\detect\\predict5\u001b[0m\n",
      "\n",
      "0: 640x320 1 Insecta, 17.2ms\n",
      "Speed: 3.0ms preprocess, 17.2ms inference, 2.0ms postprocess per image at shape (1, 3, 640, 320)\n",
      "Results saved to \u001b[1mruns\\detect\\predict5\u001b[0m\n",
      "\n",
      "0: 640x320 1 Insecta, 15.2ms\n",
      "Speed: 2.2ms preprocess, 15.2ms inference, 2.0ms postprocess per image at shape (1, 3, 640, 320)\n",
      "Results saved to \u001b[1mruns\\detect\\predict5\u001b[0m\n",
      "\n",
      "0: 640x320 1 Insecta, 594.0ms\n",
      "Speed: 2.0ms preprocess, 594.0ms inference, 17.4ms postprocess per image at shape (1, 3, 640, 320)\n",
      "Results saved to \u001b[1mruns\\detect\\predict5\u001b[0m\n",
      "\n",
      "0: 640x320 1 Insecta, 1840.7ms\n",
      "Speed: 2.2ms preprocess, 1840.7ms inference, 6.0ms postprocess per image at shape (1, 3, 640, 320)\n",
      "Results saved to \u001b[1mruns\\detect\\predict5\u001b[0m\n",
      "\n",
      "0: 640x320 (no detections), 1942.8ms\n",
      "Speed: 3.0ms preprocess, 1942.8ms inference, 6.0ms postprocess per image at shape (1, 3, 640, 320)\n",
      "Results saved to \u001b[1mruns\\detect\\predict5\u001b[0m\n",
      "\n",
      "0: 640x320 (no detections), 22.4ms\n",
      "Speed: 2.0ms preprocess, 22.4ms inference, 7.1ms postprocess per image at shape (1, 3, 640, 320)\n",
      "Results saved to \u001b[1mruns\\detect\\predict5\u001b[0m\n",
      "\n",
      "0: 640x320 1 Insecta, 22.1ms\n",
      "Speed: 3.0ms preprocess, 22.1ms inference, 8.0ms postprocess per image at shape (1, 3, 640, 320)\n",
      "Results saved to \u001b[1mruns\\detect\\predict5\u001b[0m\n",
      "\n",
      "0: 640x320 1 Insecta, 23.8ms\n",
      "Speed: 3.0ms preprocess, 23.8ms inference, 9.0ms postprocess per image at shape (1, 3, 640, 320)\n",
      "Results saved to \u001b[1mruns\\detect\\predict5\u001b[0m\n",
      "\n",
      "0: 640x320 1 Insecta, 56.5ms\n",
      "Speed: 3.0ms preprocess, 56.5ms inference, 18.1ms postprocess per image at shape (1, 3, 640, 320)\n",
      "Results saved to \u001b[1mruns\\detect\\predict5\u001b[0m\n",
      "\n",
      "0: 640x32 (no detections), 142.0ms\n",
      "Speed: 4.0ms preprocess, 142.0ms inference, 3.1ms postprocess per image at shape (1, 3, 640, 32)\n",
      "Results saved to \u001b[1mruns\\detect\\predict5\u001b[0m\n"
     ]
    }
   ],
   "source": [
    "for img in os.listdir(imgpath):\n",
    "    img = Image.open(imgpath + os.sep + img)\n",
    "    results = model.predict(img, save=True, conf=0.417)\n",
    "\n"
   ]
  },
  {
   "cell_type": "code",
   "execution_count": 7,
   "metadata": {},
   "outputs": [
    {
     "name": "stdout",
     "output_type": "stream",
     "text": [
      "\n",
      "0: 640x320 1 Insecta, 350.2ms\n",
      "Speed: 18.7ms preprocess, 350.2ms inference, 169.7ms postprocess per image at shape (1, 3, 640, 320)\n",
      "Results saved to \u001b[1mruns\\detect\\predict4\u001b[0m\n",
      "1 label saved to runs\\detect\\predict4\\labels\n"
     ]
    },
    {
     "ename": "",
     "evalue": "",
     "output_type": "error",
     "traceback": [
      "\u001b[1;31mThe Kernel crashed while executing code in the current cell or a previous cell. \n",
      "\u001b[1;31mPlease review the code in the cell(s) to identify a possible cause of the failure. \n",
      "\u001b[1;31mClick <a href='https://aka.ms/vscodeJupyterKernelCrash'>here</a> for more info. \n",
      "\u001b[1;31mView Jupyter <a href='command:jupyter.viewOutput'>log</a> for further details."
     ]
    }
   ],
   "source": []
  }
 ],
 "metadata": {
  "kernelspec": {
   "display_name": "Python 3",
   "language": "python",
   "name": "python3"
  },
  "language_info": {
   "codemirror_mode": {
    "name": "ipython",
    "version": 3
   },
   "file_extension": ".py",
   "mimetype": "text/x-python",
   "name": "python",
   "nbconvert_exporter": "python",
   "pygments_lexer": "ipython3",
   "version": "3.11.2"
  }
 },
 "nbformat": 4,
 "nbformat_minor": 2
}
