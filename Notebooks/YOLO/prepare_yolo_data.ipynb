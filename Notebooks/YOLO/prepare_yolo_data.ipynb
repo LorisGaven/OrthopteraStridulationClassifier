{
 "cells": [
  {
   "cell_type": "markdown",
   "metadata": {},
   "source": [
    "# Script to prepare data for YOLO training"
   ]
  },
  {
   "cell_type": "code",
   "execution_count": 1,
   "metadata": {},
   "outputs": [],
   "source": [
    "import torch\n",
    "from IPython.display import Image  # for displaying images\n",
    "import os \n",
    "import random\n",
    "import shutil\n",
    "import xml.etree.ElementTree as ET\n",
    "from xml.dom import minidom\n",
    "from tqdm import tqdm\n",
    "from PIL import Image, ImageDraw\n",
    "import numpy as np\n",
    "import matplotlib.pyplot as plt\n",
    "import pandas as pd"
   ]
  },
  {
   "cell_type": "code",
   "execution_count": null,
   "metadata": {},
   "outputs": [],
   "source": [
    "# Correctly specifying your file path\n",
    "path_global_5s_train = \"../../Dataset acoustique insectes/CSVs morceaux audio 5s/Global/train_global_recording_chunks.csv\"\n",
    "path_global_5s_test = \"../../Dataset acoustique insectes/CSVs morceaux audio 5s/Global/test_global_recording_chunks.csv\"\n",
    "path_global_5s_val = \"../../Dataset acoustique insectes/CSVs morceaux audio 5s/Global/val_global_recording_chunks.csv\"\n",
    "\n",
    "# Using pandas to read the CSV file into a DataFrame\n",
    "df_train = pd.read_csv(path_global_5s_train)\n",
    "df_test = pd.read_csv(path_global_5s_test)\n",
    "df_val = pd.read_csv(path_global_5s_val)"
   ]
  }
 ],
 "metadata": {
  "kernelspec": {
   "display_name": "Python 3",
   "language": "python",
   "name": "python3"
  },
  "language_info": {
   "codemirror_mode": {
    "name": "ipython",
    "version": 3
   },
   "file_extension": ".py",
   "mimetype": "text/x-python",
   "name": "python",
   "nbconvert_exporter": "python",
   "pygments_lexer": "ipython3",
   "version": "3.11.2"
  }
 },
 "nbformat": 4,
 "nbformat_minor": 2
}
