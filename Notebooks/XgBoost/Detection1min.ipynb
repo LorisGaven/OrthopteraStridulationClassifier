{
 "cells": [
  {
   "cell_type": "code",
   "execution_count": 21,
   "metadata": {},
   "outputs": [],
   "source": [
    "import pandas as pd\n",
    "import seaborn as sns\n",
    "import matplotlib.pyplot as plt\n",
    "import numpy as np\n",
    "import csv\n",
    "from PIL import Image"
   ]
  },
  {
   "cell_type": "code",
   "execution_count": 22,
   "metadata": {},
   "outputs": [
    {
     "name": "stdout",
     "output_type": "stream",
     "text": [
      "Requirement already satisfied: librosa in /usr/local/lib/python3.10/dist-packages (0.10.1)\n",
      "Requirement already satisfied: pooch>=1.0 in /usr/local/lib/python3.10/dist-packages (from librosa) (1.8.0)\n",
      "Requirement already satisfied: audioread>=2.1.9 in /usr/local/lib/python3.10/dist-packages (from librosa) (3.0.1)\n",
      "Requirement already satisfied: lazy-loader>=0.1 in /usr/local/lib/python3.10/dist-packages (from librosa) (0.3)\n",
      "Requirement already satisfied: joblib>=0.14 in /usr/local/lib/python3.10/dist-packages (from librosa) (1.3.2)\n",
      "Requirement already satisfied: numpy!=1.22.0,!=1.22.1,!=1.22.2,>=1.20.3 in /usr/local/lib/python3.10/dist-packages (from librosa) (1.26.1)\n",
      "Requirement already satisfied: scikit-learn>=0.20.0 in /usr/local/lib/python3.10/dist-packages (from librosa) (1.4.0)\n",
      "Requirement already satisfied: soundfile>=0.12.1 in /usr/local/lib/python3.10/dist-packages (from librosa) (0.12.1)\n",
      "Requirement already satisfied: soxr>=0.3.2 in /usr/local/lib/python3.10/dist-packages (from librosa) (0.3.7)\n",
      "Requirement already satisfied: msgpack>=1.0 in /usr/local/lib/python3.10/dist-packages (from librosa) (1.0.7)\n",
      "Requirement already satisfied: numba>=0.51.0 in /usr/local/lib/python3.10/dist-packages (from librosa) (0.59.0)\n",
      "Requirement already satisfied: decorator>=4.3.0 in /usr/local/lib/python3.10/dist-packages (from librosa) (5.1.1)\n",
      "Requirement already satisfied: typing-extensions>=4.1.1 in /usr/local/lib/python3.10/dist-packages (from librosa) (4.9.0)\n",
      "Requirement already satisfied: scipy>=1.2.0 in /usr/local/lib/python3.10/dist-packages (from librosa) (1.11.4)\n",
      "Requirement already satisfied: llvmlite<0.43,>=0.42.0dev0 in /usr/local/lib/python3.10/dist-packages (from numba>=0.51.0->librosa) (0.42.0)\n",
      "Requirement already satisfied: packaging>=20.0 in /usr/local/lib/python3.10/dist-packages (from pooch>=1.0->librosa) (21.3)\n",
      "Requirement already satisfied: platformdirs>=2.5.0 in /usr/local/lib/python3.10/dist-packages (from pooch>=1.0->librosa) (4.2.0)\n",
      "Requirement already satisfied: requests>=2.19.0 in /usr/local/lib/python3.10/dist-packages (from pooch>=1.0->librosa) (2.31.0)\n",
      "Requirement already satisfied: threadpoolctl>=2.0.0 in /usr/local/lib/python3.10/dist-packages (from scikit-learn>=0.20.0->librosa) (3.3.0)\n",
      "Requirement already satisfied: cffi>=1.0 in /usr/local/lib/python3.10/dist-packages (from soundfile>=0.12.1->librosa) (1.15.1)\n",
      "Requirement already satisfied: pycparser in /usr/local/lib/python3.10/dist-packages (from cffi>=1.0->soundfile>=0.12.1->librosa) (2.21)\n",
      "Requirement already satisfied: pyparsing!=3.0.5,>=2.0.2 in /usr/lib/python3/dist-packages (from packaging>=20.0->pooch>=1.0->librosa) (2.4.7)\n",
      "Requirement already satisfied: charset-normalizer<4,>=2 in /usr/local/lib/python3.10/dist-packages (from requests>=2.19.0->pooch>=1.0->librosa) (3.3.2)\n",
      "Requirement already satisfied: urllib3<3,>=1.21.1 in /usr/lib/python3/dist-packages (from requests>=2.19.0->pooch>=1.0->librosa) (1.26.5)\n",
      "Requirement already satisfied: idna<4,>=2.5 in /usr/lib/python3/dist-packages (from requests>=2.19.0->pooch>=1.0->librosa) (3.3)\n",
      "Requirement already satisfied: certifi>=2017.4.17 in /usr/lib/python3/dist-packages (from requests>=2.19.0->pooch>=1.0->librosa) (2020.6.20)\n",
      "\u001b[33mWARNING: Running pip as the 'root' user can result in broken permissions and conflicting behaviour with the system package manager. It is recommended to use a virtual environment instead: https://pip.pypa.io/warnings/venv\u001b[0m\u001b[33m\n",
      "\u001b[0mNote: you may need to restart the kernel to use updated packages.\n"
     ]
    }
   ],
   "source": [
    "pip install librosa"
   ]
  },
  {
   "cell_type": "code",
   "execution_count": 23,
   "metadata": {},
   "outputs": [
    {
     "name": "stdout",
     "output_type": "stream",
     "text": [
      "Requirement already satisfied: xgboost in /usr/local/lib/python3.10/dist-packages (2.0.3)\n",
      "Requirement already satisfied: numpy in /usr/local/lib/python3.10/dist-packages (from xgboost) (1.26.1)\n",
      "Requirement already satisfied: scipy in /usr/local/lib/python3.10/dist-packages (from xgboost) (1.11.4)\n",
      "\u001b[33mWARNING: Running pip as the 'root' user can result in broken permissions and conflicting behaviour with the system package manager. It is recommended to use a virtual environment instead: https://pip.pypa.io/warnings/venv\u001b[0m\u001b[33m\n",
      "\u001b[0mNote: you may need to restart the kernel to use updated packages.\n"
     ]
    }
   ],
   "source": [
    "pip install xgboost"
   ]
  },
  {
   "cell_type": "code",
   "execution_count": 24,
   "metadata": {},
   "outputs": [
    {
     "name": "stdout",
     "output_type": "stream",
     "text": [
      "/root/3A/ProjetLong/OrthopteraStridulationClassifier/Notebooks/XgBoost\n"
     ]
    }
   ],
   "source": [
    "!pwd"
   ]
  },
  {
   "cell_type": "code",
   "execution_count": 26,
   "metadata": {},
   "outputs": [],
   "source": [
    "# Path Yolo results\n",
    "path_audible_results_YOLO = \"../../../DataSet/soundscape_to_5s/Selection soundscapes 1 min split 5s/\"\n",
    "path_audible_csv_YOLO = \"../../../DataSet/soundscape_to_5s/CSV soundscapes 1 min split 5s boxes/1min_to_5s_boxes.csv\"\n",
    "df_yolo = pd.read_csv(path_audible_csv_YOLO)\n",
    "\n",
    "# path for audio files \n",
    "path_audible_audio_files = \"../../../DataSet/NewDataSet5sec/Selection soundscapes 1 min/\"\n",
    "path_audible_csv = \"../../../DataSet/NewDataSet5sec/selected_soundscapes.csv\" \n",
    "df = pd.read_csv(path_audible_csv)"
   ]
  },
  {
   "cell_type": "code",
   "execution_count": 6,
   "metadata": {},
   "outputs": [],
   "source": [
    "# spectrogrammes pour chaque audio\n",
    "# Charger l'audio\n",
    "filtered_audio = set()\n",
    "with open(path_audible_csv, newline='') as fichier_csv:\n",
    "    lecteur_csv = csv.reader(fichier_csv)\n",
    "    next(lecteur_csv)\n",
    "    # Parcourir chaque ligne du fichier CSV\n",
    "    for ligne in lecteur_csv:\n",
    "        filtered_audio.add(ligne[1])\n",
    "\n",
    "audio_list = list(filtered_audio)\n"
   ]
  },
  {
   "cell_type": "code",
   "execution_count": 27,
   "metadata": {},
   "outputs": [],
   "source": [
    "colonnes = [\"unique_code\", \"max_frequency\", \"min_frequency\",\"img_width\", \"img_height\", \"x1\", \"x2\", \"y1\", \"y2\", \"duree\", \"start_split\", \"end_split\", \"predicted_label\"]\n",
    "new_df = pd.DataFrame(columns=colonnes)\n",
    "new_df[\"unique_code\"] = df_yolo[\"unique_code\"]\n",
    "new_df[\"start_split\"] = df_yolo[\"start_split\"]\n",
    "new_df[\"end_split\"] = df_yolo[\"end_split\"]\n",
    "new_df[\"x1\"] = df_yolo[\"x1\"]\n",
    "new_df[\"x2\"] = df_yolo[\"x2\"]\n",
    "new_df[\"y1\"] = df_yolo[\"y1\"]\n",
    "new_df[\"y2\"] = df_yolo[\"y2\"]\n",
    "new_df[\"img_width\"] = df_yolo[\"img_width\"]\n",
    "new_df[\"img_height\"] = df_yolo[\"img_height\"]\n",
    "#new_df = df_yolo\n",
    "\n",
    "based_sr = 48000\n",
    "for ind, row in new_df.iterrows():\n",
    "    #print(row)\n",
    "    # get y1 et y2 \n",
    "    width = row[\"img_width\"]\n",
    "    height = row[\"img_height\"]\n",
    "    x1 = row[\"x1\"]\n",
    "    x2 = row[\"x2\"]\n",
    "    y1 = row[\"y1\"]\n",
    "    y2 = row[\"y2\"]\n",
    "    start = row[\"start_split\"]\n",
    "    end = row[\"end_split\"]\n",
    "\n",
    "    #debut = int((start + x1*5/width)*based_sr)\n",
    "    #fin = int((start + x2*5/width)*based_sr)\n",
    "\n",
    "    minfreq = (y1 * based_sr)/(2*height)\n",
    "    maxfreq = (y2 * based_sr)/(2*height)\n",
    "    #print(minfreq)\n",
    "    #print(maxfreq)\n",
    "    new_df.loc[ind, \"min_frequency\"] = minfreq\n",
    "    new_df.loc[ind, \"max_frequency\"] = maxfreq\n",
    "    new_df.loc[ind, \"duree\"] = end - start\n"
   ]
  },
  {
   "cell_type": "code",
   "execution_count": 28,
   "metadata": {},
   "outputs": [
    {
     "name": "stdout",
     "output_type": "stream",
     "text": [
      "                              unique_code max_frequency min_frequency  \\\n",
      "0        Anura_estalep09FR_27III2022_1330   23601.95122  21752.195122   \n",
      "1          Anura_pechpuy46FR_06V2022_1915  20417.560976  15313.170732   \n",
      "2          Anura_pechpuy46FR_06V2022_1915  20394.146341       15360.0   \n",
      "3          Anura_pechpuy46FR_06V2022_1915  20417.560976  15313.170732   \n",
      "4          Anura_pechpuy46FR_06V2022_1915  20394.146341  15313.170732   \n",
      "...                                   ...           ...           ...   \n",
      "2324  Orthoptera_XXXXsma07FR_27IV2022_112  20815.609756   5830.243902   \n",
      "2325  Orthoptera_XXXXsma07FR_27IV2022_112  20979.512195   5900.487805   \n",
      "2326  Orthoptera_XXXXsma07FR_27IV2022_112  20956.097561        5760.0   \n",
      "2327  Orthoptera_XXXXsma07FR_27IV2022_112  20909.268293   5853.658537   \n",
      "2328  Orthoptera_XXXXsma07FR_27IV2022_112   20839.02439   5783.414634   \n",
      "\n",
      "      img_width  img_height   x1   x2   y1    y2 duree  start_split  \\\n",
      "0           469        1025   44   93  929  1008     5           15   \n",
      "1           469        1025    0  240  654   872     5            0   \n",
      "2           469        1025  247  469  656   871     5            0   \n",
      "3           469        1025    0  469  654   872     5            0   \n",
      "4           469        1025    0  469  654   871     5           10   \n",
      "...         ...         ...  ...  ...  ...   ...   ...          ...   \n",
      "2324        469        1025    0  469  249   889     5           75   \n",
      "2325        469        1025    0  469  252   896     5           80   \n",
      "2326        469        1025    1  468  246   895     5           85   \n",
      "2327        469        1025    0  469  250   893     5           90   \n",
      "2328        469        1025    0  468  247   890     5           95   \n",
      "\n",
      "      end_split predicted_label  \n",
      "0            20             NaN  \n",
      "1             5             NaN  \n",
      "2             5             NaN  \n",
      "3             5             NaN  \n",
      "4            15             NaN  \n",
      "...         ...             ...  \n",
      "2324         80             NaN  \n",
      "2325         85             NaN  \n",
      "2326         90             NaN  \n",
      "2327         95             NaN  \n",
      "2328        100             NaN  \n",
      "\n",
      "[2329 rows x 13 columns]\n"
     ]
    }
   ],
   "source": [
    "print(new_df)"
   ]
  },
  {
   "cell_type": "code",
   "execution_count": 29,
   "metadata": {},
   "outputs": [
    {
     "name": "stderr",
     "output_type": "stream",
     "text": [
      "/tmp/ipykernel_464/4017526263.py:11: DtypeWarning: Columns (41) have mixed types. Specify dtype option on import or set low_memory=False.\n",
      "  df_train = pd.read_csv(path_global_5s_train)\n",
      "/tmp/ipykernel_464/4017526263.py:37: SettingWithCopyWarning: \n",
      "A value is trying to be set on a copy of a slice from a DataFrame.\n",
      "Try using .loc[row_indexer,col_indexer] = value instead\n",
      "\n",
      "See the caveats in the documentation: https://pandas.pydata.org/pandas-docs/stable/user_guide/indexing.html#returning-a-view-versus-a-copy\n",
      "  new_dftest['min_frequency'] = new_dftest['min_frequency'].astype(int)\n",
      "/tmp/ipykernel_464/4017526263.py:38: SettingWithCopyWarning: \n",
      "A value is trying to be set on a copy of a slice from a DataFrame.\n",
      "Try using .loc[row_indexer,col_indexer] = value instead\n",
      "\n",
      "See the caveats in the documentation: https://pandas.pydata.org/pandas-docs/stable/user_guide/indexing.html#returning-a-view-versus-a-copy\n",
      "  new_dftest['max_frequency'] = new_dftest['max_frequency'].astype(int)\n",
      "/tmp/ipykernel_464/4017526263.py:41: FutureWarning: Downcasting object dtype arrays on .fillna, .ffill, .bfill is deprecated and will change in a future version. Call result.infer_objects(copy=False) instead. To opt-in to the future behavior, set `pd.set_option('future.no_silent_downcasting', True)`\n",
      "  new_dftest.fillna(new_dftest.mean(), inplace=True)\n",
      "/tmp/ipykernel_464/4017526263.py:41: SettingWithCopyWarning: \n",
      "A value is trying to be set on a copy of a slice from a DataFrame.\n",
      "Try using .loc[row_indexer,col_indexer] = value instead\n",
      "\n",
      "See the caveats in the documentation: https://pandas.pydata.org/pandas-docs/stable/user_guide/indexing.html#returning-a-view-versus-a-copy\n",
      "  new_dftest.fillna(new_dftest.mean(), inplace=True)\n",
      "/tmp/ipykernel_464/4017526263.py:41: SettingWithCopyWarning: \n",
      "A value is trying to be set on a copy of a slice from a DataFrame\n",
      "\n",
      "See the caveats in the documentation: https://pandas.pydata.org/pandas-docs/stable/user_guide/indexing.html#returning-a-view-versus-a-copy\n",
      "  new_dftest.fillna(new_dftest.mean(), inplace=True)\n"
     ]
    }
   ],
   "source": [
    "# Préparation des données \n",
    "from sklearn.preprocessing import LabelEncoder\n",
    "from xgboost import XGBClassifier\n",
    "from sklearn.utils.class_weight import compute_class_weight\n",
    "from sklearn.metrics import accuracy_score, classification_report\n",
    "from sklearn.metrics import confusion_matrix\n",
    "\n",
    "#path_global_5s_train = \"../../../DataSet/CSVs_morceaux_audio_5s/Audible/train_audible_recording_chunks.csv\"\n",
    "path_global_5s_train = \"../../../DataSet/NewDataSet5sec/train_audible_recording_chunks.csv\"\n",
    "\n",
    "df_train = pd.read_csv(path_global_5s_train)\n",
    "#df_train = df_train[df_train[\"label_class\"] == \"Insecta\"]\n",
    "\n",
    "label_encoder = LabelEncoder()\n",
    "label_encoder.fit(df_train['label'])\n",
    "\n",
    "y_label = label_encoder.transform(df_train['label'])\n",
    "\n",
    "df_train['duree'] = df_train['duree_min'] * 60 + df_train['duree_sec']\n",
    "df_train = df_train[['max_frequency', 'min_frequency', 'duree']]\n",
    "df_train['min_frequency'] = df_train['min_frequency'].astype(int)\n",
    "df_train['max_frequency'] = df_train['max_frequency'].astype(int)\n",
    "\n",
    "# Gestion des valeurs manquantes\n",
    "#df.fillna(df.mean(), inplace=True)\n",
    "df_train = df_train.dropna()\n",
    "\n",
    "# Gestion des variables catégorielles\n",
    "df_train = pd.get_dummies(df_train)\n",
    "\n",
    "X_train = df_train\n",
    "\n",
    "#################### Préparer X_test avec les données ci-dessus \n",
    "#y_yolo_label = label_encoder.transform(new_df['label']) # A changer\n",
    "\n",
    "new_dftest = new_df[['max_frequency', 'min_frequency', 'duree']]\n",
    "new_dftest['min_frequency'] = new_dftest['min_frequency'].astype(int)\n",
    "new_dftest['max_frequency'] = new_dftest['max_frequency'].astype(int)\n",
    "\n",
    "# Gestion des valeurs manquantes\n",
    "new_dftest.fillna(new_dftest.mean(), inplace=True)\n",
    "new_dftest = new_dftest.dropna()\n",
    "\n",
    "# Gestion des variables catégorielles\n",
    "new_dftest = pd.get_dummies(new_dftest)\n",
    "\n",
    "X_test = new_dftest"
   ]
  },
  {
   "cell_type": "code",
   "execution_count": 30,
   "metadata": {},
   "outputs": [
    {
     "name": "stdout",
     "output_type": "stream",
     "text": [
      "      max_frequency  min_frequency  duree\n",
      "0             23601          21752      5\n",
      "1             20417          15313      5\n",
      "2             20394          15360      5\n",
      "3             20417          15313      5\n",
      "4             20394          15313      5\n",
      "...             ...            ...    ...\n",
      "2324          20815           5830      5\n",
      "2325          20979           5900      5\n",
      "2326          20956           5760      5\n",
      "2327          20909           5853      5\n",
      "2328          20839           5783      5\n",
      "\n",
      "[2329 rows x 3 columns]\n"
     ]
    }
   ],
   "source": [
    "print(X_test)"
   ]
  },
  {
   "cell_type": "code",
   "execution_count": 31,
   "metadata": {},
   "outputs": [],
   "source": [
    "# XGBoost\n",
    "# Initialiser et entraîner le modèle XGBoost\n",
    "xgb_model = XGBClassifier(use_label_encoder=False, eval_metric='logloss', verbosity=2)\n",
    "\n",
    "# Calculer les poids des classes\n",
    "# 'balanced' ajuste automatiquement les poids inversément proportionnels aux fréquences des classes\n",
    "class_weights = compute_class_weight(class_weight='balanced', classes=np.unique(y_label), y=y_label)\n",
    "\n",
    "# Créer un dictionnaire des poids pour faciliter l'application des poids aux échantillons\n",
    "weights_dict = {i: class_weights[i] for i in range(len(class_weights))}\n",
    "\n",
    "# Appliquer les poids aux instances de formation\n",
    "sample_weight = np.array([weights_dict[y] for y in y_label])\n",
    "\n",
    "# Entraînement du modèle avec les poids des instances\n",
    "xgb_model.fit(X_train, y_label)\n",
    "\n",
    "predictions_xgb = xgb_model.predict(X_test)\n",
    "\n",
    "predictions_label_xgb = label_encoder.inverse_transform(predictions_xgb)\n",
    "\n",
    "# Évaluation LightGBM\n",
    "#print(\"Évaluation Yolo :\")\n",
    "#print(\"Accuracy sur l'ensemble de validation:\", accuracy_score(y_yolo_label, predictions_label))\n",
    "#print(classification_report(y_yolo_label, predictions_label))\n",
    "\n",
    "# matrice de confusion\n",
    "#cm = confusion_matrix(y_yolo_label, predictions_label)\n",
    "#y_test_inversed = label_encoder.inverse_transform(y_yolo_label)\n",
    "\n",
    "#unique_labels = np.unique(y_test_inversed)\n",
    "\n",
    "# plt.figure(figsize=(30,30))\n",
    "# sns.heatmap(cm, annot=True, fmt=\"d\", cmap=\"Blues\", xticklabels=unique_labels, yticklabels=unique_labels)\n",
    "# plt.title('Matrice de confusion - Labels')\n",
    "# plt.ylabel('Valeur réelle')\n",
    "# plt.xlabel('Valeur prédite')\n",
    "# plt.show()"
   ]
  },
  {
   "cell_type": "code",
   "execution_count": 32,
   "metadata": {},
   "outputs": [
    {
     "name": "stdout",
     "output_type": "stream",
     "text": [
      "['Phaneroptera nana' 'Phaneroptera nana' 'Phaneroptera nana' ...\n",
      " 'Chorthippus brunneus' 'Chorthippus brunneus' 'Chorthippus brunneus']\n"
     ]
    }
   ],
   "source": [
    "print(predictions_label_xgb)\n",
    "#print(len(predictions_label_xgb))\n",
    "#print(np.count_nonzero(predictions_label_xgb == 17))"
   ]
  },
  {
   "cell_type": "code",
   "execution_count": 33,
   "metadata": {},
   "outputs": [],
   "source": [
    "# Random forest\n",
    "from sklearn.ensemble import RandomForestClassifier\n",
    "from sklearn.metrics import accuracy_score, classification_report\n",
    "from sklearn.metrics import confusion_matrix\n",
    "\n",
    "rf_classifier = RandomForestClassifier(n_estimators=100, random_state=42, class_weight=\"balanced\")\n",
    "\n",
    "rf_classifier.fit(X_train, y_label)\n",
    "\n",
    "predictions_randomf = rf_classifier.predict(X_test)\n",
    "\n",
    "predictions_label_randomf = label_encoder.inverse_transform(predictions_randomf)\n",
    "\n",
    "# # Évaluation LightGBM\n",
    "# print(\"Évaluation LightGBM :\")\n",
    "# print(\"Accuracy sur l'ensemble de validation:\", accuracy_score(y_label, predictions_label))\n",
    "# print(classification_report(y_label, predictions_label))\n",
    "\n",
    "# # matrice de confusion\n",
    "# cm = confusion_matrix(y_label, predictions_label)\n",
    "# y_test_inversed = label_encoder.inverse_transform(y_label)\n",
    "\n",
    "# unique_labels = np.unique(y_test_inversed)\n",
    "\n",
    "# plt.figure(figsize=(30,30))\n",
    "# sns.heatmap(cm, annot=True, fmt=\"d\", cmap=\"Blues\", xticklabels=unique_labels, yticklabels=unique_labels)\n",
    "# plt.title('Matrice de confusion - Labels')\n",
    "# plt.ylabel('Valeur réelle')\n",
    "# plt.xlabel('Valeur prédite')\n",
    "# plt.show()"
   ]
  },
  {
   "cell_type": "code",
   "execution_count": 34,
   "metadata": {},
   "outputs": [
    {
     "name": "stdout",
     "output_type": "stream",
     "text": [
      "['Phaneroptera nana' 'Phaneroptera nana' 'Phaneroptera nana' ...\n",
      " 'Decticus albifrons' 'Decticus albifrons' 'Decticus albifrons']\n"
     ]
    }
   ],
   "source": [
    "print(predictions_label_randomf)"
   ]
  },
  {
   "cell_type": "code",
   "execution_count": 35,
   "metadata": {},
   "outputs": [
    {
     "name": "stdout",
     "output_type": "stream",
     "text": [
      "2329\n",
      "0.012881064834693002\n",
      "2329\n",
      "0.012881064834693002\n"
     ]
    }
   ],
   "source": [
    "df_randomf = new_df\n",
    "df_randomf['predicted_label'] = predictions_label_randomf\n",
    "\n",
    "df_xgb= new_df\n",
    "df_xgb['predicted_label'] = predictions_label_xgb\n",
    "\n",
    "def acc(sub_df) : \n",
    "    val = 0 \n",
    "    for _,row in sub_df.iterrows() : \n",
    "        pred = row['predicted_label']\n",
    "        code = row['unique_code']\n",
    "        inter_df = df[df['code_unique'] == code]\n",
    "        for _, row2 in inter_df.iterrows() : \n",
    "            truth = row2['label'] \n",
    "            if truth == pred : \n",
    "                val +=1 \n",
    "                break\n",
    "    result = val/len(sub_df['predicted_label'])\n",
    "    print(len(new_df['predicted_label']))\n",
    "    return result \n",
    "\n",
    "acc_xgb  = acc(df_xgb)\n",
    "print(acc_xgb)\n",
    "acc_randf = acc(df_randomf)\n",
    "print(acc_randf)"
   ]
  },
  {
   "cell_type": "code",
   "execution_count": 15,
   "metadata": {},
   "outputs": [],
   "source": [
    "import matplotlib.pyplot as plt\n",
    "import matplotlib.patches as patches\n",
    "from tqdm import tqdm\n",
    "\n",
    "df_truth = pd.read_csv(path_audible_csv)\n",
    "# TODO : génerer les spectrogrammes \n",
    "soundscape_image_path = \"../../../DataSet/Spectro_1min/\"\n",
    "\n",
    "def image_to_compare(code_unique, save_path, df_yolo) : \n",
    "\n",
    "    df_yolo_filtered = df_yolo[df_yolo[\"unique_code\"] == code_unique]\n",
    "    df_truth_filtered = df_truth[(df_truth[\"code_unique\"] == code_unique) & (df_truth[\"label_class\"] == \"Insecta\")]\n",
    "\n",
    "    chunk_duration = (df_truth_filtered[\"duree_min\"] * 60 + df_truth_filtered[\"duree_sec\"]).iloc[0]\n",
    "\n",
    "    image = Image.open(f'{soundscape_image_path}{code_unique}.png')\n",
    "    img_width, img_height = image.width, image.height\n",
    "\n",
    "    # On fait le truth\n",
    "    image = Image.open(f'{soundscape_image_path}{code_unique}.png')\n",
    "    img_width, img_height = image.width, image.height\n",
    "\n",
    "    plt.figure(figsize=(50, 10))\n",
    "\n",
    "    for _, row in df_yolo_filtered.iterrows():\n",
    "        label = row[\"predicted_label\"]\n",
    "        x1 = row[\"x1\"]\n",
    "        x2 = row[\"x2\"]\n",
    "        y1 = row[\"y1\"]\n",
    "        y2 = row[\"y2\"]\n",
    "        start_split = row[\"start_split\"] * (img_width // chunk_duration)\n",
    "        end_split = row[\"end_split\"] * (img_width // chunk_duration)\n",
    "\n",
    "        t1_pixel = x1 + start_split\n",
    "        f1_pixel = y1\n",
    "        f2_pixel = y2\n",
    "        t2_pixel = x2 + start_split\n",
    "\n",
    "        rect = patches.Rectangle((t1_pixel, f1_pixel), t2_pixel - t1_pixel, f2_pixel - f1_pixel, linewidth=2, edgecolor='yellow', facecolor='none')\n",
    "        plt.gca().add_patch(rect)\n",
    "\n",
    "        plt.text(t1_pixel, f1_pixel + 0.01, label, verticalalignment='bottom', horizontalalignment='left',\n",
    "            color='black',  # Couleur du texte\n",
    "            bbox=dict(facecolor='yellow', edgecolor='none', pad=2.0))\n",
    "\n",
    "    plt.imshow(image)\n",
    "    plt.title(f'{code_unique} predicted')\n",
    "    plt.tight_layout()\n",
    "    plt.savefig(f'{save_path}/{code_unique}_predicted.png')\n",
    "    plt.close()\n",
    "    plt.figure(figsize=(50, 10))\n",
    "\n",
    "    for _, row in df_truth_filtered.iterrows():\n",
    "        chunk_initial_time = 0.0\n",
    "        chunk_final_time = 60.0\n",
    "        annotation_initial_time = row[\"annotation_initial_time\"]\n",
    "        annotation_final_time = row[\"annotation_final_time\"]\n",
    "        min_frequency = row[\"min_frequency\"]\n",
    "        max_frequency = row[\"max_frequency\"]\n",
    "        label = row[\"label\"]\n",
    "\n",
    "        # Create the BB\n",
    "        t1 = row[\"annotation_initial_time\"]\n",
    "        t2 = row[\"annotation_final_time\"]\n",
    "        f1 = int(row['min_frequency'])\n",
    "        f2 = int(row['max_frequency'])\n",
    "        sr = 48000 #row['sampling_rate']\n",
    "        #sr = row['sampling_rate']\n",
    "\n",
    "        t1_pixel = int(t1 * img_width/chunk_duration)\n",
    "        t2_pixel = int(t2 * img_width/chunk_duration)\n",
    "\n",
    "        # for the frequency, the spectrogram is flipped\n",
    "        f1_pixel = img_height - int(f1 * img_height/(sr/2))\n",
    "        f2_pixel = img_height - int(f2 * img_height/(sr/2))\n",
    "\n",
    "        rect = patches.Rectangle((t1_pixel, f1_pixel), t2_pixel - t1_pixel, f2_pixel - f1_pixel, linewidth=2, edgecolor='r', facecolor='none')\n",
    "        plt.gca().add_patch(rect)\n",
    "\n",
    "        plt.text(t1_pixel, f2_pixel + 0.01, label, verticalalignment='bottom', horizontalalignment='left',\n",
    "            color='white',  # Couleur du texte\n",
    "            bbox=dict(facecolor='red', edgecolor='none', pad=2.0))\n",
    "\n",
    "    plt.imshow(image)\n",
    "    plt.title(f'{code_unique} truth')\n",
    "    plt.tight_layout()\n",
    "    plt.savefig(f'{save_path}/{code_unique}_truth.png')\n",
    "    plt.clf()\n",
    "    plt.cla()\n",
    "    plt.close\n",
    "    \n",
    "    print(f'{code_unique} fini')"
   ]
  },
  {
   "cell_type": "code",
   "execution_count": 16,
   "metadata": {},
   "outputs": [
    {
     "name": "stderr",
     "output_type": "stream",
     "text": [
      "  0%|          | 0/243 [00:00<?, ?it/s]"
     ]
    },
    {
     "name": "stderr",
     "output_type": "stream",
     "text": [
      "  0%|          | 1/243 [00:07<31:18,  7.76s/it]"
     ]
    },
    {
     "name": "stdout",
     "output_type": "stream",
     "text": [
      "Orthoptera_cdpotsa09FR_05X2022_806 fini\n"
     ]
    },
    {
     "name": "stderr",
     "output_type": "stream",
     "text": [
      "  1%|          | 2/243 [00:13<25:45,  6.41s/it]"
     ]
    },
    {
     "name": "stdout",
     "output_type": "stream",
     "text": [
      "Orthoptera_plmarsa31FR_12V2023_1213 fini\n"
     ]
    },
    {
     "name": "stderr",
     "output_type": "stream",
     "text": [
      "  1%|          | 3/243 [00:18<23:45,  5.94s/it]"
     ]
    },
    {
     "name": "stdout",
     "output_type": "stream",
     "text": [
      "Orthoptera_cdpotsa09FR_05X2022_830 fini\n"
     ]
    },
    {
     "name": "stderr",
     "output_type": "stream",
     "text": [
      "  2%|▏         | 4/243 [00:23<22:28,  5.64s/it]"
     ]
    },
    {
     "name": "stdout",
     "output_type": "stream",
     "text": [
      "Orthoptera_guneust09FR_10VII2023_1329 fini\n"
     ]
    },
    {
     "name": "stderr",
     "output_type": "stream",
     "text": [
      "  2%|▏         | 5/243 [00:28<20:39,  5.21s/it]"
     ]
    },
    {
     "name": "stdout",
     "output_type": "stream",
     "text": [
      "Orthoptera_guneust09FR_10VII2023_1332 fini\n"
     ]
    },
    {
     "name": "stderr",
     "output_type": "stream",
     "text": [
      "  2%|▏         | 6/243 [00:32<19:30,  4.94s/it]"
     ]
    },
    {
     "name": "stdout",
     "output_type": "stream",
     "text": [
      "Orthoptera_adkarsa31FR_21IX2022_1023 fini\n"
     ]
    },
    {
     "name": "stderr",
     "output_type": "stream",
     "text": [
      "  3%|▎         | 7/243 [00:36<18:15,  4.64s/it]"
     ]
    },
    {
     "name": "stdout",
     "output_type": "stream",
     "text": [
      "Orthoptera_hotrrsa31FR_21IX2022_706 fini\n"
     ]
    },
    {
     "name": "stderr",
     "output_type": "stream",
     "text": [
      "  3%|▎         | 8/243 [00:40<17:33,  4.48s/it]"
     ]
    },
    {
     "name": "stdout",
     "output_type": "stream",
     "text": [
      "Orthoptera_hotrrsa31FR_21IX2022_991 fini\n"
     ]
    },
    {
     "name": "stderr",
     "output_type": "stream",
     "text": [
      "  4%|▎         | 9/243 [00:43<14:45,  3.78s/it]"
     ]
    },
    {
     "name": "stdout",
     "output_type": "stream",
     "text": [
      "Orthoptera_cdchcau09FR_18IX2022_1055 fini\n"
     ]
    },
    {
     "name": "stderr",
     "output_type": "stream",
     "text": [
      "  4%|▍         | 10/243 [00:45<13:25,  3.46s/it]"
     ]
    },
    {
     "name": "stdout",
     "output_type": "stream",
     "text": [
      "Orthoptera_cdchcau09FR_18IX2022_1048 fini\n"
     ]
    },
    {
     "name": "stderr",
     "output_type": "stream",
     "text": [
      "/tmp/ipykernel_443/1048303626.py:23: RuntimeWarning: More than 20 figures have been opened. Figures created through the pyplot interface (`matplotlib.pyplot.figure`) are retained until explicitly closed and may consume too much memory. (To control this warning, see the rcParam `figure.max_open_warning`). Consider using `matplotlib.pyplot.close()`.\n",
      "  plt.figure(figsize=(50, 10))\n",
      "  5%|▍         | 11/243 [00:48<12:17,  3.18s/it]"
     ]
    },
    {
     "name": "stdout",
     "output_type": "stream",
     "text": [
      "Orthoptera_cdchcau09FR_18IX2022_1052 fini\n"
     ]
    },
    {
     "name": "stderr",
     "output_type": "stream",
     "text": [
      "  5%|▍         | 12/243 [00:53<15:00,  3.90s/it]"
     ]
    },
    {
     "name": "stdout",
     "output_type": "stream",
     "text": [
      "Orthoptera_XXXXigeXXES_01VII2022_331 fini\n"
     ]
    },
    {
     "name": "stderr",
     "output_type": "stream",
     "text": [
      "  5%|▌         | 13/243 [00:58<15:24,  4.02s/it]"
     ]
    },
    {
     "name": "stdout",
     "output_type": "stream",
     "text": [
      "Orthoptera_XXXXigeXXES_01VII2022_332 fini\n"
     ]
    },
    {
     "name": "stderr",
     "output_type": "stream",
     "text": [
      "  6%|▌         | 14/243 [01:02<16:10,  4.24s/it]"
     ]
    },
    {
     "name": "stdout",
     "output_type": "stream",
     "text": [
      "Orthoptera_XXXXigeXXES_01VIII2022_900 fini\n"
     ]
    },
    {
     "name": "stderr",
     "output_type": "stream",
     "text": [
      "  6%|▌         | 15/243 [01:08<17:21,  4.57s/it]"
     ]
    },
    {
     "name": "stdout",
     "output_type": "stream",
     "text": [
      "Orthoptera_XXXXigeXXES_02VIII2022_901 fini\n"
     ]
    },
    {
     "name": "stderr",
     "output_type": "stream",
     "text": [
      "  7%|▋         | 16/243 [01:12<16:39,  4.40s/it]"
     ]
    },
    {
     "name": "stdout",
     "output_type": "stream",
     "text": [
      "Orthoptera_XXXXjacXXES_26VIII2022_1035 fini\n"
     ]
    },
    {
     "name": "stderr",
     "output_type": "stream",
     "text": [
      "  7%|▋         | 17/243 [01:17<17:08,  4.55s/it]"
     ]
    },
    {
     "name": "stdout",
     "output_type": "stream",
     "text": [
      "Orthoptera_XXXXporXXES_06V2022_123 fini\n"
     ]
    },
    {
     "name": "stderr",
     "output_type": "stream",
     "text": [
      "  7%|▋         | 18/243 [01:21<17:20,  4.63s/it]"
     ]
    },
    {
     "name": "stdout",
     "output_type": "stream",
     "text": [
      "Orthoptera_XXXXporXXES_06V2022_124 fini\n"
     ]
    },
    {
     "name": "stderr",
     "output_type": "stream",
     "text": [
      "  8%|▊         | 19/243 [01:26<16:54,  4.53s/it]"
     ]
    },
    {
     "name": "stdout",
     "output_type": "stream",
     "text": [
      "Orthoptera_XXXXporXXES_06V2022_125 fini\n"
     ]
    },
    {
     "name": "stderr",
     "output_type": "stream",
     "text": [
      "  8%|▊         | 20/243 [01:29<15:16,  4.11s/it]"
     ]
    },
    {
     "name": "stdout",
     "output_type": "stream",
     "text": [
      "Orthoptera_XXXXporXXES_30IV2022_117 fini\n"
     ]
    },
    {
     "name": "stderr",
     "output_type": "stream",
     "text": [
      "  9%|▊         | 21/243 [01:32<13:50,  3.74s/it]"
     ]
    },
    {
     "name": "stdout",
     "output_type": "stream",
     "text": [
      "Orthoptera_XXXXporXXES_30IV2022_118 fini\n"
     ]
    },
    {
     "name": "stderr",
     "output_type": "stream",
     "text": [
      "  9%|▉         | 22/243 [01:36<14:22,  3.90s/it]"
     ]
    },
    {
     "name": "stdout",
     "output_type": "stream",
     "text": [
      "Orthoptera_XXXXbid07FR_27IV2022_98 fini\n"
     ]
    },
    {
     "name": "stderr",
     "output_type": "stream",
     "text": [
      "  9%|▉         | 23/243 [01:41<15:14,  4.16s/it]"
     ]
    },
    {
     "name": "stdout",
     "output_type": "stream",
     "text": [
      "Orthoptera_XXXXjacXXES_26VIII2022_1029 fini\n"
     ]
    },
    {
     "name": "stderr",
     "output_type": "stream",
     "text": [
      " 10%|▉         | 24/243 [01:45<15:05,  4.13s/it]"
     ]
    },
    {
     "name": "stdout",
     "output_type": "stream",
     "text": [
      "Orthoptera_XXXXsma07FR_27IV2022_112 fini\n"
     ]
    },
    {
     "name": "stderr",
     "output_type": "stream",
     "text": [
      " 10%|█         | 25/243 [01:48<13:23,  3.69s/it]"
     ]
    },
    {
     "name": "stdout",
     "output_type": "stream",
     "text": [
      "Orthoptera_cdchcau09FR_18IX2022_1056 fini\n"
     ]
    },
    {
     "name": "stderr",
     "output_type": "stream",
     "text": [
      " 11%|█         | 26/243 [01:52<14:32,  4.02s/it]"
     ]
    },
    {
     "name": "stdout",
     "output_type": "stream",
     "text": [
      "Orthoptera_XXXXjacXXES_26VIII2022_1058 fini\n"
     ]
    },
    {
     "name": "stderr",
     "output_type": "stream",
     "text": [
      " 11%|█         | 27/243 [01:57<15:26,  4.29s/it]"
     ]
    },
    {
     "name": "stdout",
     "output_type": "stream",
     "text": [
      "Orthoptera_XXXXigeXXES_01VIII2022_896 fini\n"
     ]
    },
    {
     "name": "stderr",
     "output_type": "stream",
     "text": [
      " 12%|█▏        | 28/243 [02:02<16:18,  4.55s/it]"
     ]
    },
    {
     "name": "stdout",
     "output_type": "stream",
     "text": [
      "Orthoptera_XXXXigeXXES_01VIII2022_898 fini\n"
     ]
    },
    {
     "name": "stderr",
     "output_type": "stream",
     "text": [
      " 12%|█▏        | 29/243 [02:07<16:20,  4.58s/it]"
     ]
    },
    {
     "name": "stdout",
     "output_type": "stream",
     "text": [
      "Orthoptera_XXXXigeXXES_01VIII2022_899 fini\n"
     ]
    },
    {
     "name": "stderr",
     "output_type": "stream",
     "text": [
      " 12%|█▏        | 30/243 [02:12<17:00,  4.79s/it]"
     ]
    },
    {
     "name": "stdout",
     "output_type": "stream",
     "text": [
      "Orthoptera_XXXXigeXXES_10VIII2022_1190 fini\n"
     ]
    },
    {
     "name": "stderr",
     "output_type": "stream",
     "text": [
      " 13%|█▎        | 31/243 [02:17<16:17,  4.61s/it]"
     ]
    },
    {
     "name": "stdout",
     "output_type": "stream",
     "text": [
      "Orthoptera_XXXXigeXXES_15VII2022_876 fini\n"
     ]
    },
    {
     "name": "stderr",
     "output_type": "stream",
     "text": [
      " 13%|█▎        | 32/243 [02:22<16:55,  4.81s/it]"
     ]
    },
    {
     "name": "stdout",
     "output_type": "stream",
     "text": [
      "Orthoptera_XXXXigeXXES_17VII2022_880 fini\n"
     ]
    },
    {
     "name": "stderr",
     "output_type": "stream",
     "text": [
      " 14%|█▎        | 33/243 [02:27<16:42,  4.77s/it]"
     ]
    },
    {
     "name": "stdout",
     "output_type": "stream",
     "text": [
      "Orthoptera_XXXXigeXXES_19VII2022_1198 fini\n"
     ]
    },
    {
     "name": "stderr",
     "output_type": "stream",
     "text": [
      " 14%|█▍        | 34/243 [02:31<15:53,  4.56s/it]"
     ]
    },
    {
     "name": "stdout",
     "output_type": "stream",
     "text": [
      "Orthoptera_XXXXjacXXES_26VIII2022_1030 fini\n"
     ]
    },
    {
     "name": "stderr",
     "output_type": "stream",
     "text": [
      " 14%|█▍        | 35/243 [02:35<15:22,  4.44s/it]"
     ]
    },
    {
     "name": "stdout",
     "output_type": "stream",
     "text": [
      "Orthoptera_XXXXjacXXES_26VIII2022_661 fini\n"
     ]
    },
    {
     "name": "stderr",
     "output_type": "stream",
     "text": [
      " 15%|█▍        | 36/243 [02:40<15:59,  4.64s/it]"
     ]
    },
    {
     "name": "stdout",
     "output_type": "stream",
     "text": [
      "Orthoptera_XXXXjacXXES_26VIII2022_662 fini\n"
     ]
    },
    {
     "name": "stderr",
     "output_type": "stream",
     "text": [
      " 15%|█▌        | 37/243 [02:44<15:20,  4.47s/it]"
     ]
    },
    {
     "name": "stdout",
     "output_type": "stream",
     "text": [
      "Orthoptera_XXXXsma07FR_10VIII2022_904 fini\n"
     ]
    },
    {
     "name": "stderr",
     "output_type": "stream",
     "text": [
      " 16%|█▌        | 38/243 [02:48<15:05,  4.42s/it]"
     ]
    },
    {
     "name": "stdout",
     "output_type": "stream",
     "text": [
      "Orthoptera_XXXXsma07FR_10VIII2022_905 fini\n"
     ]
    },
    {
     "name": "stderr",
     "output_type": "stream",
     "text": [
      " 16%|█▌        | 39/243 [02:52<14:48,  4.35s/it]"
     ]
    },
    {
     "name": "stdout",
     "output_type": "stream",
     "text": [
      "Orthoptera_XXXXigeXXES_17VII2022_877 fini\n"
     ]
    },
    {
     "name": "stderr",
     "output_type": "stream",
     "text": [
      " 16%|█▋        | 40/243 [02:57<14:42,  4.35s/it]"
     ]
    },
    {
     "name": "stdout",
     "output_type": "stream",
     "text": [
      "Orthoptera_XXXXigeXXES_14VII2022_863 fini\n"
     ]
    },
    {
     "name": "stderr",
     "output_type": "stream",
     "text": [
      " 17%|█▋        | 41/243 [03:01<14:30,  4.31s/it]"
     ]
    },
    {
     "name": "stdout",
     "output_type": "stream",
     "text": [
      "Orthoptera_cdmasma07FR_14VIII2022_908 fini\n"
     ]
    },
    {
     "name": "stderr",
     "output_type": "stream",
     "text": [
      " 17%|█▋        | 42/243 [03:04<13:20,  3.98s/it]"
     ]
    },
    {
     "name": "stdout",
     "output_type": "stream",
     "text": [
      "Orthoptera_cdmasma07FR_14VIII2022_909 fini\n"
     ]
    },
    {
     "name": "stderr",
     "output_type": "stream",
     "text": [
      " 18%|█▊        | 43/243 [03:07<11:52,  3.56s/it]"
     ]
    },
    {
     "name": "stdout",
     "output_type": "stream",
     "text": [
      "Orthoptera_XXXXascXXES_26VIII2022_1027 fini\n"
     ]
    },
    {
     "name": "stderr",
     "output_type": "stream",
     "text": [
      " 18%|█▊        | 44/243 [03:09<10:45,  3.24s/it]"
     ]
    },
    {
     "name": "stdout",
     "output_type": "stream",
     "text": [
      "Orthoptera_XXXXascXXES_26VIII2022_660 fini\n"
     ]
    },
    {
     "name": "stderr",
     "output_type": "stream",
     "text": [
      " 19%|█▊        | 45/243 [03:15<12:49,  3.88s/it]"
     ]
    },
    {
     "name": "stdout",
     "output_type": "stream",
     "text": [
      "Orthoptera_XXXXigeXXES_03VII2022_423 fini\n"
     ]
    },
    {
     "name": "stderr",
     "output_type": "stream",
     "text": [
      " 19%|█▉        | 46/243 [03:20<14:25,  4.39s/it]"
     ]
    },
    {
     "name": "stdout",
     "output_type": "stream",
     "text": [
      "Orthoptera_XXXXigeXXES_14VII2022_871 fini\n"
     ]
    },
    {
     "name": "stderr",
     "output_type": "stream",
     "text": [
      " 19%|█▉        | 47/243 [03:25<14:18,  4.38s/it]"
     ]
    },
    {
     "name": "stdout",
     "output_type": "stream",
     "text": [
      "Orthoptera_XXXXigeXXES_02VIII2022_1189 fini\n"
     ]
    },
    {
     "name": "stderr",
     "output_type": "stream",
     "text": [
      " 20%|█▉        | 48/243 [03:29<14:12,  4.37s/it]"
     ]
    },
    {
     "name": "stdout",
     "output_type": "stream",
     "text": [
      "Orthoptera_XXXXigeXXES_02VII2022_337 fini\n"
     ]
    },
    {
     "name": "stderr",
     "output_type": "stream",
     "text": [
      " 20%|██        | 49/243 [03:33<14:19,  4.43s/it]"
     ]
    },
    {
     "name": "stdout",
     "output_type": "stream",
     "text": [
      "Orthoptera_XXXXigeXXES_02VIII2022_1188 fini\n"
     ]
    },
    {
     "name": "stderr",
     "output_type": "stream",
     "text": [
      " 21%|██        | 50/243 [03:38<14:08,  4.40s/it]"
     ]
    },
    {
     "name": "stdout",
     "output_type": "stream",
     "text": [
      "Orthoptera_XXXXigeXXES_14VII2022_861 fini\n"
     ]
    },
    {
     "name": "stderr",
     "output_type": "stream",
     "text": [
      " 21%|██        | 51/243 [03:42<14:07,  4.42s/it]"
     ]
    },
    {
     "name": "stdout",
     "output_type": "stream",
     "text": [
      "Orthoptera_XXXXigeXXES_17VII2022_879 fini\n"
     ]
    },
    {
     "name": "stderr",
     "output_type": "stream",
     "text": [
      " 21%|██▏       | 52/243 [03:46<13:52,  4.36s/it]"
     ]
    },
    {
     "name": "stdout",
     "output_type": "stream",
     "text": [
      "Orthoptera_XXXXmon82FR_19VII2022_886 fini\n"
     ]
    },
    {
     "name": "stderr",
     "output_type": "stream",
     "text": [
      " 22%|██▏       | 53/243 [03:52<14:29,  4.58s/it]"
     ]
    },
    {
     "name": "stdout",
     "output_type": "stream",
     "text": [
      "Orthoptera_XXXXmon82FR_19VII2022_887 fini\n"
     ]
    },
    {
     "name": "stderr",
     "output_type": "stream",
     "text": [
      " 22%|██▏       | 54/243 [03:54<12:36,  4.00s/it]"
     ]
    },
    {
     "name": "stdout",
     "output_type": "stream",
     "text": [
      "Orthoptera_XXXXcam11FR_12IX2022_1037 fini\n"
     ]
    },
    {
     "name": "stderr",
     "output_type": "stream",
     "text": [
      " 23%|██▎       | 55/243 [03:59<13:20,  4.26s/it]"
     ]
    },
    {
     "name": "stdout",
     "output_type": "stream",
     "text": [
      "Orthoptera_XXXXmon82FR_19VII2022_885 fini\n"
     ]
    },
    {
     "name": "stderr",
     "output_type": "stream",
     "text": [
      " 23%|██▎       | 56/243 [04:04<14:05,  4.52s/it]"
     ]
    },
    {
     "name": "stdout",
     "output_type": "stream",
     "text": [
      "Orthoptera_XXXXmon82FR_19VII2022_888 fini\n"
     ]
    },
    {
     "name": "stderr",
     "output_type": "stream",
     "text": [
      " 23%|██▎       | 57/243 [04:09<14:22,  4.63s/it]"
     ]
    },
    {
     "name": "stdout",
     "output_type": "stream",
     "text": [
      "Orthoptera_XXXXmon82FR_19VII2022_889 fini\n"
     ]
    },
    {
     "name": "stderr",
     "output_type": "stream",
     "text": [
      " 24%|██▍       | 58/243 [04:14<14:23,  4.67s/it]"
     ]
    },
    {
     "name": "stdout",
     "output_type": "stream",
     "text": [
      "Orthoptera_XXXXmon82FR_19VII2022_893 fini\n"
     ]
    },
    {
     "name": "stderr",
     "output_type": "stream",
     "text": [
      " 24%|██▍       | 59/243 [04:19<14:47,  4.82s/it]"
     ]
    },
    {
     "name": "stdout",
     "output_type": "stream",
     "text": [
      "Orthoptera_XXXXmon82FR_19VII2022_895 fini\n"
     ]
    },
    {
     "name": "stderr",
     "output_type": "stream",
     "text": [
      " 25%|██▍       | 60/243 [04:24<14:33,  4.77s/it]"
     ]
    },
    {
     "name": "stdout",
     "output_type": "stream",
     "text": [
      "Orthoptera_XXXXigeXXES_03VII2022_1194 fini\n"
     ]
    },
    {
     "name": "stderr",
     "output_type": "stream",
     "text": [
      " 25%|██▌       | 61/243 [04:30<15:25,  5.08s/it]"
     ]
    },
    {
     "name": "stdout",
     "output_type": "stream",
     "text": [
      "Orthoptera_XXXXigeXXES_14VII2022_867 fini\n"
     ]
    },
    {
     "name": "stderr",
     "output_type": "stream",
     "text": [
      " 26%|██▌       | 62/243 [04:36<16:18,  5.41s/it]"
     ]
    },
    {
     "name": "stdout",
     "output_type": "stream",
     "text": [
      "Orthoptera_XXXXigeXXES_14VII2022_872 fini\n"
     ]
    },
    {
     "name": "stderr",
     "output_type": "stream",
     "text": [
      " 26%|██▌       | 63/243 [04:41<16:06,  5.37s/it]"
     ]
    },
    {
     "name": "stdout",
     "output_type": "stream",
     "text": [
      "Orthoptera_XXXXigeXXES_14VII2022_875 fini\n"
     ]
    },
    {
     "name": "stderr",
     "output_type": "stream",
     "text": [
      " 26%|██▋       | 64/243 [04:46<15:58,  5.35s/it]"
     ]
    },
    {
     "name": "stdout",
     "output_type": "stream",
     "text": [
      "Orthoptera_XXXXigeXXES_17VII2022_882 fini\n"
     ]
    },
    {
     "name": "stderr",
     "output_type": "stream",
     "text": [
      " 27%|██▋       | 65/243 [04:50<14:41,  4.95s/it]"
     ]
    },
    {
     "name": "stdout",
     "output_type": "stream",
     "text": [
      "Orthoptera_XXXXigeXXES_17VII2022_883 fini\n"
     ]
    },
    {
     "name": "stderr",
     "output_type": "stream",
     "text": [
      " 27%|██▋       | 66/243 [04:57<15:53,  5.39s/it]"
     ]
    },
    {
     "name": "stdout",
     "output_type": "stream",
     "text": [
      "Aves_184Barjac09FR_15VI2022_0000 fini\n"
     ]
    },
    {
     "name": "stderr",
     "output_type": "stream",
     "text": [
      " 28%|██▊       | 67/243 [05:03<16:13,  5.53s/it]"
     ]
    },
    {
     "name": "stdout",
     "output_type": "stream",
     "text": [
      "Aves_186Barjac09FR_15VI2022_1300 fini\n"
     ]
    },
    {
     "name": "stderr",
     "output_type": "stream",
     "text": [
      " 28%|██▊       | 68/243 [05:09<16:32,  5.67s/it]"
     ]
    },
    {
     "name": "stdout",
     "output_type": "stream",
     "text": [
      "Aves_183Aurade32FR_03VI2022_1300 fini\n"
     ]
    },
    {
     "name": "stderr",
     "output_type": "stream",
     "text": [
      " 28%|██▊       | 69/243 [05:15<17:07,  5.91s/it]"
     ]
    },
    {
     "name": "stdout",
     "output_type": "stream",
     "text": [
      "Aves_189Franco31FR_17VI2022_1300 fini\n"
     ]
    },
    {
     "name": "stderr",
     "output_type": "stream",
     "text": [
      " 29%|██▉       | 70/243 [05:18<14:18,  4.96s/it]"
     ]
    },
    {
     "name": "stdout",
     "output_type": "stream",
     "text": [
      "Aves_195Mijane09FR_22V2022_1254 fini\n"
     ]
    },
    {
     "name": "stderr",
     "output_type": "stream",
     "text": [
      " 29%|██▉       | 71/243 [05:22<13:22,  4.66s/it]"
     ]
    },
    {
     "name": "stdout",
     "output_type": "stream",
     "text": [
      "Aves_204Goulie09FR_15VI2022_1307 fini\n"
     ]
    },
    {
     "name": "stderr",
     "output_type": "stream",
     "text": [
      " 30%|██▉       | 72/243 [05:26<12:42,  4.46s/it]"
     ]
    },
    {
     "name": "stdout",
     "output_type": "stream",
     "text": [
      "Aves_207Ustou09FR_28VI2022_1306 fini\n"
     ]
    },
    {
     "name": "stderr",
     "output_type": "stream",
     "text": [
      " 30%|███       | 73/243 [05:30<12:09,  4.29s/it]"
     ]
    },
    {
     "name": "stdout",
     "output_type": "stream",
     "text": [
      "Aves_209Antras09FR_01VI2022_0658 fini\n"
     ]
    },
    {
     "name": "stderr",
     "output_type": "stream",
     "text": [
      " 30%|███       | 74/243 [05:34<11:56,  4.24s/it]"
     ]
    },
    {
     "name": "stdout",
     "output_type": "stream",
     "text": [
      "Aves_212Cassou09FR_07VII2022_0709 fini\n"
     ]
    },
    {
     "name": "stderr",
     "output_type": "stream",
     "text": [
      " 31%|███       | 75/243 [05:38<11:50,  4.23s/it]"
     ]
    },
    {
     "name": "stdout",
     "output_type": "stream",
     "text": [
      "Aves_213Cassou09FR_07VII2022_1309 fini\n"
     ]
    },
    {
     "name": "stderr",
     "output_type": "stream",
     "text": [
      " 31%|███▏      | 76/243 [05:42<11:38,  4.18s/it]"
     ]
    },
    {
     "name": "stdout",
     "output_type": "stream",
     "text": [
      "Aves_215Merens09FR_12VI2022_0654 fini\n"
     ]
    },
    {
     "name": "stderr",
     "output_type": "stream",
     "text": [
      " 32%|███▏      | 77/243 [05:46<11:36,  4.19s/it]"
     ]
    },
    {
     "name": "stdout",
     "output_type": "stream",
     "text": [
      "Aves_216Merens09FR_12VI2022_1254 fini\n"
     ]
    },
    {
     "name": "stderr",
     "output_type": "stream",
     "text": [
      " 32%|███▏      | 78/243 [05:50<11:26,  4.16s/it]"
     ]
    },
    {
     "name": "stdout",
     "output_type": "stream",
     "text": [
      "Aves_219Bonac-09FR_29VI2022_1246 fini\n"
     ]
    },
    {
     "name": "stderr",
     "output_type": "stream",
     "text": [
      " 33%|███▎      | 79/243 [05:54<11:20,  4.15s/it]"
     ]
    },
    {
     "name": "stdout",
     "output_type": "stream",
     "text": [
      "Aves_221Orgeix09FR_13VI2022_0707 fini\n"
     ]
    },
    {
     "name": "stderr",
     "output_type": "stream",
     "text": [
      " 33%|███▎      | 80/243 [05:59<11:12,  4.12s/it]"
     ]
    },
    {
     "name": "stdout",
     "output_type": "stream",
     "text": [
      "Aves_222Orgeix09FR_13VI2022_1307 fini\n"
     ]
    },
    {
     "name": "stderr",
     "output_type": "stream",
     "text": [
      " 33%|███▎      | 81/243 [06:02<11:00,  4.08s/it]"
     ]
    },
    {
     "name": "stdout",
     "output_type": "stream",
     "text": [
      "Aves_225Orlu09FR_28VI2022_1306 fini\n"
     ]
    },
    {
     "name": "stderr",
     "output_type": "stream",
     "text": [
      " 34%|███▎      | 82/243 [06:07<10:57,  4.08s/it]"
     ]
    },
    {
     "name": "stdout",
     "output_type": "stream",
     "text": [
      "Aves_231Seix09FR_23VI2022_1309 fini\n"
     ]
    },
    {
     "name": "stderr",
     "output_type": "stream",
     "text": [
      " 34%|███▍      | 83/243 [06:11<10:56,  4.10s/it]"
     ]
    },
    {
     "name": "stdout",
     "output_type": "stream",
     "text": [
      "Aves_236Montse09FR_29VI2022_0653 fini\n"
     ]
    },
    {
     "name": "stderr",
     "output_type": "stream",
     "text": [
      " 35%|███▍      | 84/243 [06:15<10:56,  4.13s/it]"
     ]
    },
    {
     "name": "stdout",
     "output_type": "stream",
     "text": [
      "Aves_237Montse09FR_29VI2022_1253 fini\n"
     ]
    },
    {
     "name": "stderr",
     "output_type": "stream",
     "text": [
      " 35%|███▍      | 85/243 [06:19<10:44,  4.08s/it]"
     ]
    },
    {
     "name": "stdout",
     "output_type": "stream",
     "text": [
      "Aves_1Eoux31FR_04V2021_0000 fini\n"
     ]
    },
    {
     "name": "stderr",
     "output_type": "stream",
     "text": [
      " 35%|███▌      | 86/243 [06:22<10:01,  3.83s/it]"
     ]
    },
    {
     "name": "stdout",
     "output_type": "stream",
     "text": [
      "Aves_4Benque31FR_05V2021_1300 fini\n"
     ]
    },
    {
     "name": "stderr",
     "output_type": "stream",
     "text": [
      " 36%|███▌      | 87/243 [06:26<09:58,  3.84s/it]"
     ]
    },
    {
     "name": "stdout",
     "output_type": "stream",
     "text": [
      "Aves_7Benque31FR_28V2020_0000 fini\n"
     ]
    },
    {
     "name": "stderr",
     "output_type": "stream",
     "text": [
      " 36%|███▌      | 88/243 [06:30<09:55,  3.84s/it]"
     ]
    },
    {
     "name": "stdout",
     "output_type": "stream",
     "text": [
      "Aves_9Benque31FR_28V2020_1300 fini\n"
     ]
    },
    {
     "name": "stderr",
     "output_type": "stream",
     "text": [
      " 37%|███▋      | 89/243 [06:36<11:44,  4.58s/it]"
     ]
    },
    {
     "name": "stdout",
     "output_type": "stream",
     "text": [
      "Aves_11Esparr31FR_29V2020_0000 fini\n"
     ]
    },
    {
     "name": "stderr",
     "output_type": "stream",
     "text": [
      " 37%|███▋      | 90/243 [06:42<12:56,  5.07s/it]"
     ]
    },
    {
     "name": "stdout",
     "output_type": "stream",
     "text": [
      "Aves_12Esparr31FR_29V2020_0700 fini\n"
     ]
    },
    {
     "name": "stderr",
     "output_type": "stream",
     "text": [
      " 37%|███▋      | 91/243 [06:46<11:55,  4.71s/it]"
     ]
    },
    {
     "name": "stdout",
     "output_type": "stream",
     "text": [
      "Aves_13StAndre31FR_22IV2019_1300 fini\n"
     ]
    },
    {
     "name": "stderr",
     "output_type": "stream",
     "text": [
      " 38%|███▊      | 92/243 [06:50<11:10,  4.44s/it]"
     ]
    },
    {
     "name": "stdout",
     "output_type": "stream",
     "text": [
      "Aves_14StAndre31FR_23IV2019_0000 fini\n"
     ]
    },
    {
     "name": "stderr",
     "output_type": "stream",
     "text": [
      " 38%|███▊      | 93/243 [06:53<10:16,  4.11s/it]"
     ]
    },
    {
     "name": "stdout",
     "output_type": "stream",
     "text": [
      "Aves_16StAndre31FR_05V2021_0000 fini\n"
     ]
    },
    {
     "name": "stderr",
     "output_type": "stream",
     "text": [
      " 39%|███▊      | 94/243 [06:59<11:16,  4.54s/it]"
     ]
    },
    {
     "name": "stdout",
     "output_type": "stream",
     "text": [
      "Aves_19Samoui31FR_28V2020_0000 fini\n"
     ]
    },
    {
     "name": "stderr",
     "output_type": "stream",
     "text": [
      " 39%|███▉      | 95/243 [07:03<10:42,  4.34s/it]"
     ]
    },
    {
     "name": "stdout",
     "output_type": "stream",
     "text": [
      "Aves_24Samoui31FR_03V2021_1300 fini\n"
     ]
    },
    {
     "name": "stderr",
     "output_type": "stream",
     "text": [
      " 40%|███▉      | 96/243 [07:05<09:20,  3.81s/it]"
     ]
    },
    {
     "name": "stdout",
     "output_type": "stream",
     "text": [
      "Aves_27Esparr31FR_23IV2019_1300 fini\n"
     ]
    },
    {
     "name": "stderr",
     "output_type": "stream",
     "text": [
      " 40%|███▉      | 97/243 [07:12<11:07,  4.57s/it]"
     ]
    },
    {
     "name": "stdout",
     "output_type": "stream",
     "text": [
      "Aves_28StAndre31FR_28V2020_1300 fini\n"
     ]
    },
    {
     "name": "stderr",
     "output_type": "stream",
     "text": [
      " 40%|████      | 98/243 [07:18<12:09,  5.03s/it]"
     ]
    },
    {
     "name": "stdout",
     "output_type": "stream",
     "text": [
      "Aves_30StAndre31FR_29V2020_0700 fini\n"
     ]
    },
    {
     "name": "stderr",
     "output_type": "stream",
     "text": [
      " 41%|████      | 99/243 [07:21<10:54,  4.54s/it]"
     ]
    },
    {
     "name": "stdout",
     "output_type": "stream",
     "text": [
      "Aves_31StAndre31FR_24IV2019_1300 fini\n"
     ]
    },
    {
     "name": "stderr",
     "output_type": "stream",
     "text": [
      " 41%|████      | 100/243 [07:25<10:17,  4.32s/it]"
     ]
    },
    {
     "name": "stdout",
     "output_type": "stream",
     "text": [
      "Aves_34Eoux31FR_17VI2019_0000 fini\n"
     ]
    },
    {
     "name": "stderr",
     "output_type": "stream",
     "text": [
      " 42%|████▏     | 101/243 [07:29<09:57,  4.21s/it]"
     ]
    },
    {
     "name": "stdout",
     "output_type": "stream",
     "text": [
      "Aves_35Eoux31FR_17VI2019_0700 fini\n"
     ]
    },
    {
     "name": "stderr",
     "output_type": "stream",
     "text": [
      " 42%|████▏     | 102/243 [07:33<09:44,  4.15s/it]"
     ]
    },
    {
     "name": "stdout",
     "output_type": "stream",
     "text": [
      "Aves_37Eoux31FR_09VI2021_0000 fini\n"
     ]
    },
    {
     "name": "stderr",
     "output_type": "stream",
     "text": [
      " 42%|████▏     | 103/243 [07:37<09:32,  4.09s/it]"
     ]
    },
    {
     "name": "stdout",
     "output_type": "stream",
     "text": [
      "Aves_38Eoux31FR_09VI2021_0700 fini\n"
     ]
    },
    {
     "name": "stderr",
     "output_type": "stream",
     "text": [
      " 43%|████▎     | 104/243 [07:41<09:24,  4.06s/it]"
     ]
    },
    {
     "name": "stdout",
     "output_type": "stream",
     "text": [
      "Aves_39Eoux31FR_09VI2021_1300 fini\n"
     ]
    },
    {
     "name": "stderr",
     "output_type": "stream",
     "text": [
      " 43%|████▎     | 105/243 [07:47<10:53,  4.74s/it]"
     ]
    },
    {
     "name": "stdout",
     "output_type": "stream",
     "text": [
      "Aves_40Benque31FR_17VI2019_0000 fini\n"
     ]
    },
    {
     "name": "stderr",
     "output_type": "stream",
     "text": [
      " 44%|████▎     | 106/243 [07:51<10:19,  4.52s/it]"
     ]
    },
    {
     "name": "stdout",
     "output_type": "stream",
     "text": [
      "Aves_43Benque31FR_09VI2021_0000 fini\n"
     ]
    },
    {
     "name": "stderr",
     "output_type": "stream",
     "text": [
      " 44%|████▍     | 107/243 [07:55<09:29,  4.19s/it]"
     ]
    },
    {
     "name": "stdout",
     "output_type": "stream",
     "text": [
      "Aves_45Benque31FR_09VI2021_1300 fini\n"
     ]
    },
    {
     "name": "stderr",
     "output_type": "stream",
     "text": [
      " 44%|████▍     | 108/243 [08:00<10:23,  4.62s/it]"
     ]
    },
    {
     "name": "stdout",
     "output_type": "stream",
     "text": [
      "Aves_48Benque31FR_29V2020_1300 fini\n"
     ]
    },
    {
     "name": "stderr",
     "output_type": "stream",
     "text": [
      " 45%|████▍     | 109/243 [08:04<09:53,  4.43s/it]"
     ]
    },
    {
     "name": "stdout",
     "output_type": "stream",
     "text": [
      "Aves_53StAndre31FR_25IV2019_0000 fini\n"
     ]
    },
    {
     "name": "stderr",
     "output_type": "stream",
     "text": [
      " 45%|████▌     | 110/243 [08:08<09:24,  4.24s/it]"
     ]
    },
    {
     "name": "stdout",
     "output_type": "stream",
     "text": [
      "Aves_55StAndre31FR_21IV2019_1300 fini\n"
     ]
    },
    {
     "name": "stderr",
     "output_type": "stream",
     "text": [
      " 46%|████▌     | 111/243 [08:14<10:11,  4.63s/it]"
     ]
    },
    {
     "name": "stdout",
     "output_type": "stream",
     "text": [
      "Aves_58Boussa31FR_17VI2019_0000 fini\n"
     ]
    },
    {
     "name": "stderr",
     "output_type": "stream",
     "text": [
      " 46%|████▌     | 112/243 [08:20<11:30,  5.27s/it]"
     ]
    },
    {
     "name": "stdout",
     "output_type": "stream",
     "text": [
      "Aves_60Boussa31FR_17VI2019_1300 fini\n"
     ]
    },
    {
     "name": "stderr",
     "output_type": "stream",
     "text": [
      " 47%|████▋     | 113/243 [08:25<10:44,  4.95s/it]"
     ]
    },
    {
     "name": "stdout",
     "output_type": "stream",
     "text": [
      "Aves_61Benque31FR_09VI2021_0000 fini\n"
     ]
    },
    {
     "name": "stderr",
     "output_type": "stream",
     "text": [
      " 47%|████▋     | 114/243 [08:29<10:07,  4.71s/it]"
     ]
    },
    {
     "name": "stdout",
     "output_type": "stream",
     "text": [
      "Aves_64Benque31FR_09VI2021_0000 fini\n"
     ]
    },
    {
     "name": "stderr",
     "output_type": "stream",
     "text": [
      " 47%|████▋     | 115/243 [08:32<09:20,  4.38s/it]"
     ]
    },
    {
     "name": "stdout",
     "output_type": "stream",
     "text": [
      "Aves_65Benque31FR_09VI2021_0700 fini\n"
     ]
    },
    {
     "name": "stderr",
     "output_type": "stream",
     "text": [
      " 48%|████▊     | 116/243 [08:36<08:45,  4.14s/it]"
     ]
    },
    {
     "name": "stdout",
     "output_type": "stream",
     "text": [
      "Aves_66Benque31FR_09VI2021_1300 fini\n"
     ]
    },
    {
     "name": "stderr",
     "output_type": "stream",
     "text": [
      " 48%|████▊     | 117/243 [08:40<08:40,  4.13s/it]"
     ]
    },
    {
     "name": "stdout",
     "output_type": "stream",
     "text": [
      "Aves_67Bachas31FR_19VI2019_0000 fini\n"
     ]
    },
    {
     "name": "stderr",
     "output_type": "stream",
     "text": [
      " 49%|████▊     | 118/243 [08:44<08:29,  4.07s/it]"
     ]
    },
    {
     "name": "stdout",
     "output_type": "stream",
     "text": [
      "Aves_69Bachas31FR_19VI2019_1300 fini\n"
     ]
    },
    {
     "name": "stderr",
     "output_type": "stream",
     "text": [
      " 49%|████▉     | 119/243 [08:49<09:10,  4.44s/it]"
     ]
    },
    {
     "name": "stdout",
     "output_type": "stream",
     "text": [
      "Aves_70StAndre31FR_28V2020_1300 fini\n"
     ]
    },
    {
     "name": "stderr",
     "output_type": "stream",
     "text": [
      " 49%|████▉     | 120/243 [08:55<10:07,  4.94s/it]"
     ]
    },
    {
     "name": "stdout",
     "output_type": "stream",
     "text": [
      "Aves_72StAndre31FR_29V2020_0700 fini\n"
     ]
    },
    {
     "name": "stderr",
     "output_type": "stream",
     "text": [
      " 50%|████▉     | 121/243 [08:59<09:27,  4.65s/it]"
     ]
    },
    {
     "name": "stdout",
     "output_type": "stream",
     "text": [
      "Aves_73Benque31FR_29V2020_0000 fini\n"
     ]
    },
    {
     "name": "stderr",
     "output_type": "stream",
     "text": [
      " 50%|█████     | 122/243 [09:03<08:55,  4.43s/it]"
     ]
    },
    {
     "name": "stdout",
     "output_type": "stream",
     "text": [
      "Aves_75Benque31FR_29V2020_1300 fini\n"
     ]
    },
    {
     "name": "stderr",
     "output_type": "stream",
     "text": [
      " 51%|█████     | 123/243 [09:10<09:59,  5.00s/it]"
     ]
    },
    {
     "name": "stdout",
     "output_type": "stream",
     "text": [
      "Aves_78Benque31FR_19VI2019_1300 fini\n"
     ]
    },
    {
     "name": "stderr",
     "output_type": "stream",
     "text": [
      " 51%|█████     | 124/243 [09:16<11:01,  5.56s/it]"
     ]
    },
    {
     "name": "stdout",
     "output_type": "stream",
     "text": [
      "Aves_79Cassag31FR_13V2019_1300 fini\n"
     ]
    },
    {
     "name": "stderr",
     "output_type": "stream",
     "text": [
      " 51%|█████▏    | 125/243 [09:24<11:55,  6.06s/it]"
     ]
    },
    {
     "name": "stdout",
     "output_type": "stream",
     "text": [
      "Aves_83Boussa31FR_18VI2019_0700 fini\n"
     ]
    },
    {
     "name": "stderr",
     "output_type": "stream",
     "text": [
      " 52%|█████▏    | 126/243 [09:30<11:55,  6.12s/it]"
     ]
    },
    {
     "name": "stdout",
     "output_type": "stream",
     "text": [
      "Aves_84Boussa31FR_18VI2019_1300 fini\n"
     ]
    },
    {
     "name": "stderr",
     "output_type": "stream",
     "text": [
      " 52%|█████▏    | 127/243 [09:36<11:46,  6.09s/it]"
     ]
    },
    {
     "name": "stdout",
     "output_type": "stream",
     "text": [
      "Aves_85Benque31FR_19VI2019_0000 fini\n"
     ]
    },
    {
     "name": "stderr",
     "output_type": "stream",
     "text": [
      " 53%|█████▎    | 128/243 [09:43<12:06,  6.32s/it]"
     ]
    },
    {
     "name": "stdout",
     "output_type": "stream",
     "text": [
      "Aves_86Benque31FR_19VI2019_0700 fini\n"
     ]
    },
    {
     "name": "stderr",
     "output_type": "stream",
     "text": [
      " 53%|█████▎    | 129/243 [09:49<12:07,  6.38s/it]"
     ]
    },
    {
     "name": "stdout",
     "output_type": "stream",
     "text": [
      "Aves_87Benque31FR_19VI2019_1300 fini\n"
     ]
    },
    {
     "name": "stderr",
     "output_type": "stream",
     "text": [
      " 53%|█████▎    | 130/243 [09:56<12:04,  6.41s/it]"
     ]
    },
    {
     "name": "stdout",
     "output_type": "stream",
     "text": [
      "Aves_88Terreb31FR_28V2020_0000 fini\n"
     ]
    },
    {
     "name": "stderr",
     "output_type": "stream",
     "text": [
      " 54%|█████▍    | 131/243 [10:02<12:05,  6.48s/it]"
     ]
    },
    {
     "name": "stdout",
     "output_type": "stream",
     "text": [
      "Aves_89Terreb31FR_28V2020_0700 fini\n"
     ]
    },
    {
     "name": "stderr",
     "output_type": "stream",
     "text": [
      " 54%|█████▍    | 132/243 [10:06<10:33,  5.71s/it]"
     ]
    },
    {
     "name": "stdout",
     "output_type": "stream",
     "text": [
      "Aves_97Boussa31FR_18VI2019_0000 fini\n"
     ]
    },
    {
     "name": "stderr",
     "output_type": "stream",
     "text": [
      " 55%|█████▍    | 133/243 [10:10<09:32,  5.20s/it]"
     ]
    },
    {
     "name": "stdout",
     "output_type": "stream",
     "text": [
      "Aves_98Boussa31FR_18VI2019_0700 fini\n"
     ]
    },
    {
     "name": "stderr",
     "output_type": "stream",
     "text": [
      " 55%|█████▌    | 134/243 [10:14<08:41,  4.78s/it]"
     ]
    },
    {
     "name": "stdout",
     "output_type": "stream",
     "text": [
      "Aves_99Boussa31FR_18VI2019_1300 fini\n"
     ]
    },
    {
     "name": "stderr",
     "output_type": "stream",
     "text": [
      " 56%|█████▌    | 135/243 [10:23<10:58,  6.10s/it]"
     ]
    },
    {
     "name": "stdout",
     "output_type": "stream",
     "text": [
      "Aves_101Boussa31FR_18VI2019_0700 fini\n"
     ]
    },
    {
     "name": "stderr",
     "output_type": "stream",
     "text": [
      " 56%|█████▌    | 136/243 [10:30<11:23,  6.39s/it]"
     ]
    },
    {
     "name": "stdout",
     "output_type": "stream",
     "text": [
      "Aves_102Boussa31FR_18VI2019_1300 fini\n"
     ]
    },
    {
     "name": "stderr",
     "output_type": "stream",
     "text": [
      " 56%|█████▋    | 137/243 [10:36<10:52,  6.16s/it]"
     ]
    },
    {
     "name": "stdout",
     "output_type": "stream",
     "text": [
      "Aves_105Terreb31FR_28V2020_1300 fini\n"
     ]
    },
    {
     "name": "stderr",
     "output_type": "stream",
     "text": [
      " 57%|█████▋    | 138/243 [10:43<10:58,  6.27s/it]"
     ]
    },
    {
     "name": "stdout",
     "output_type": "stream",
     "text": [
      "Aves_106Terreb31FR_28V2020_0000 fini\n"
     ]
    },
    {
     "name": "stderr",
     "output_type": "stream",
     "text": [
      " 57%|█████▋    | 139/243 [10:48<10:09,  5.87s/it]"
     ]
    },
    {
     "name": "stdout",
     "output_type": "stream",
     "text": [
      "Aves_109Cassag31FR_22V2019_0000 fini\n"
     ]
    },
    {
     "name": "stderr",
     "output_type": "stream",
     "text": [
      " 58%|█████▊    | 140/243 [10:51<09:01,  5.26s/it]"
     ]
    },
    {
     "name": "stdout",
     "output_type": "stream",
     "text": [
      "Aves_112Cassag31FR_18V2021_0000 fini\n"
     ]
    },
    {
     "name": "stderr",
     "output_type": "stream",
     "text": [
      " 58%|█████▊    | 141/243 [10:55<08:09,  4.80s/it]"
     ]
    },
    {
     "name": "stdout",
     "output_type": "stream",
     "text": [
      "Aves_114Cassag31FR_18V2021_1300 fini\n"
     ]
    },
    {
     "name": "stderr",
     "output_type": "stream",
     "text": [
      " 58%|█████▊    | 142/243 [10:59<07:33,  4.49s/it]"
     ]
    },
    {
     "name": "stdout",
     "output_type": "stream",
     "text": [
      "Aves_117Montou31FR_29V2020_1300 fini\n"
     ]
    },
    {
     "name": "stderr",
     "output_type": "stream",
     "text": [
      " 59%|█████▉    | 143/243 [11:05<08:07,  4.88s/it]"
     ]
    },
    {
     "name": "stdout",
     "output_type": "stream",
     "text": [
      "Aves_120Alan31FR_28V2020_1300 fini\n"
     ]
    },
    {
     "name": "stderr",
     "output_type": "stream",
     "text": [
      " 59%|█████▉    | 144/243 [11:08<07:32,  4.57s/it]"
     ]
    },
    {
     "name": "stdout",
     "output_type": "stream",
     "text": [
      "Aves_121Terreb31FR_28V2020_0000 fini\n"
     ]
    },
    {
     "name": "stderr",
     "output_type": "stream",
     "text": [
      " 60%|█████▉    | 145/243 [11:12<07:06,  4.35s/it]"
     ]
    },
    {
     "name": "stdout",
     "output_type": "stream",
     "text": [
      "Aves_127Terreb31FR_28V2020_0000 fini\n"
     ]
    },
    {
     "name": "stderr",
     "output_type": "stream",
     "text": [
      " 60%|██████    | 146/243 [11:16<06:46,  4.19s/it]"
     ]
    },
    {
     "name": "stdout",
     "output_type": "stream",
     "text": [
      "Aves_129Terreb31FR_28V2020_1300 fini\n"
     ]
    },
    {
     "name": "stderr",
     "output_type": "stream",
     "text": [
      " 60%|██████    | 147/243 [11:22<07:32,  4.72s/it]"
     ]
    },
    {
     "name": "stdout",
     "output_type": "stream",
     "text": [
      "Aves_130Eoux31FR_28V2020_1300 fini\n"
     ]
    },
    {
     "name": "stderr",
     "output_type": "stream",
     "text": [
      " 61%|██████    | 148/243 [11:28<08:00,  5.06s/it]"
     ]
    },
    {
     "name": "stdout",
     "output_type": "stream",
     "text": [
      "Aves_131Eoux31FR_29V2020_0000 fini\n"
     ]
    },
    {
     "name": "stderr",
     "output_type": "stream",
     "text": [
      " 61%|██████▏   | 149/243 [11:34<08:17,  5.29s/it]"
     ]
    },
    {
     "name": "stdout",
     "output_type": "stream",
     "text": [
      "Aves_132Eoux31FR_29V2020_0700 fini\n"
     ]
    },
    {
     "name": "stderr",
     "output_type": "stream",
     "text": [
      " 62%|██████▏   | 150/243 [11:38<07:34,  4.88s/it]"
     ]
    },
    {
     "name": "stdout",
     "output_type": "stream",
     "text": [
      "Aves_136Alan31FR_29V2020_0000 fini\n"
     ]
    },
    {
     "name": "stderr",
     "output_type": "stream",
     "text": [
      " 62%|██████▏   | 151/243 [11:42<07:04,  4.61s/it]"
     ]
    },
    {
     "name": "stdout",
     "output_type": "stream",
     "text": [
      "Aves_138Alan31FR_29V2020_1300 fini\n"
     ]
    },
    {
     "name": "stderr",
     "output_type": "stream",
     "text": [
      " 63%|██████▎   | 152/243 [11:45<06:31,  4.30s/it]"
     ]
    },
    {
     "name": "stdout",
     "output_type": "stream",
     "text": [
      "Aves_139Cassag31FR_20V2021_1300 fini\n"
     ]
    },
    {
     "name": "stderr",
     "output_type": "stream",
     "text": [
      " 63%|██████▎   | 153/243 [11:49<06:17,  4.19s/it]"
     ]
    },
    {
     "name": "stdout",
     "output_type": "stream",
     "text": [
      "Aves_140Cassag31FR_21V2021_0000 fini\n"
     ]
    },
    {
     "name": "stderr",
     "output_type": "stream",
     "text": [
      " 63%|██████▎   | 154/243 [11:53<06:09,  4.15s/it]"
     ]
    },
    {
     "name": "stdout",
     "output_type": "stream",
     "text": [
      "Aves_144Peyris31FR_20VI2019_1300 fini\n"
     ]
    },
    {
     "name": "stderr",
     "output_type": "stream",
     "text": [
      " 64%|██████▍   | 155/243 [12:03<08:22,  5.72s/it]"
     ]
    },
    {
     "name": "stdout",
     "output_type": "stream",
     "text": [
      "Aves_145Peyrou31FR_29V2020_0000 fini\n"
     ]
    },
    {
     "ename": "",
     "evalue": "",
     "output_type": "error",
     "traceback": [
      "\u001b[1;31mLe noyau s’est bloqué lors de l’exécution du code dans une cellule active ou une cellule précédente. \n",
      "\u001b[1;31mVeuillez vérifier le code dans la ou les cellules pour identifier une cause possible de l’échec. \n",
      "\u001b[1;31mCliquez <a href='https://aka.ms/vscodeJupyterKernelCrash'>ici</a> pour plus d’informations. \n",
      "\u001b[1;31mPour plus d’informations, consultez Jupyter <a href='command:jupyter.viewOutput'>log</a>."
     ]
    }
   ],
   "source": [
    "# print les BB \n",
    "# Pour randomforest\n",
    "df_randomf = new_df\n",
    "df_randomf['predicted_label'] = predictions_label_randomf\n",
    "\n",
    "code_uniques = df_truth[\"code_unique\"].unique()\n",
    "save_path = \"../../../DataSet/ResultsRand\"\n",
    "\n",
    "for code_unique in tqdm(code_uniques):\n",
    "    image_to_compare(code_unique, save_path, df_randomf)"
   ]
  },
  {
   "cell_type": "code",
   "execution_count": 1,
   "metadata": {},
   "outputs": [
    {
     "ename": "NameError",
     "evalue": "name 'new_df' is not defined",
     "output_type": "error",
     "traceback": [
      "\u001b[0;31m---------------------------------------------------------------------------\u001b[0m",
      "\u001b[0;31mNameError\u001b[0m                                 Traceback (most recent call last)",
      "Cell \u001b[0;32mIn [1], line 2\u001b[0m\n\u001b[1;32m      1\u001b[0m \u001b[38;5;66;03m# Pour XGBoost\u001b[39;00m\n\u001b[0;32m----> 2\u001b[0m df_xgb \u001b[38;5;241m=\u001b[39m \u001b[43mnew_df\u001b[49m\n\u001b[1;32m      3\u001b[0m df_xgb[\u001b[38;5;124m'\u001b[39m\u001b[38;5;124mpredicted_label\u001b[39m\u001b[38;5;124m'\u001b[39m] \u001b[38;5;241m=\u001b[39m predictions_label_xgb\n\u001b[1;32m      5\u001b[0m code_uniques \u001b[38;5;241m=\u001b[39m df_truth[\u001b[38;5;124m\"\u001b[39m\u001b[38;5;124mcode_unique\u001b[39m\u001b[38;5;124m\"\u001b[39m]\u001b[38;5;241m.\u001b[39munique()\n",
      "\u001b[0;31mNameError\u001b[0m: name 'new_df' is not defined"
     ]
    }
   ],
   "source": [
    "# Pour XGBoost\n",
    "df_xgb = new_df\n",
    "df_xgb['predicted_label'] = predictions_label_xgb\n",
    "\n",
    "code_uniques = df_truth[\"code_unique\"].unique()\n",
    "save_path = \"../../../DataSet/ResultsXGB\"\n",
    "\n",
    "for code_unique in tqdm(code_uniques):\n",
    "    image_to_compare(code_unique, save_path, df_xgb)"
   ]
  },
  {
   "cell_type": "code",
   "execution_count": null,
   "metadata": {},
   "outputs": [],
   "source": []
  }
 ],
 "metadata": {
  "kernelspec": {
   "display_name": "Python 3",
   "language": "python",
   "name": "python3"
  },
  "language_info": {
   "codemirror_mode": {
    "name": "ipython",
    "version": 3
   },
   "file_extension": ".py",
   "mimetype": "text/x-python",
   "name": "python",
   "nbconvert_exporter": "python",
   "pygments_lexer": "ipython3",
   "version": "3.10.12"
  }
 },
 "nbformat": 4,
 "nbformat_minor": 2
}
