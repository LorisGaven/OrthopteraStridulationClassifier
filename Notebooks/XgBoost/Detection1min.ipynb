{
 "cells": [
  {
   "cell_type": "code",
   "execution_count": 41,
   "metadata": {},
   "outputs": [],
   "source": [
    "import pandas as pd\n",
    "import seaborn as sns\n",
    "import matplotlib.pyplot as plt\n",
    "import numpy as np\n",
    "import csv\n",
    "from PIL import Image"
   ]
  },
  {
   "cell_type": "code",
   "execution_count": 42,
   "metadata": {},
   "outputs": [
    {
     "name": "stdout",
     "output_type": "stream",
     "text": [
      "Requirement already satisfied: librosa in /usr/local/lib/python3.10/dist-packages (0.10.1)\n",
      "Requirement already satisfied: decorator>=4.3.0 in /usr/local/lib/python3.10/dist-packages (from librosa) (5.1.1)\n",
      "Requirement already satisfied: scipy>=1.2.0 in /usr/local/lib/python3.10/dist-packages (from librosa) (1.11.4)\n",
      "Requirement already satisfied: typing-extensions>=4.1.1 in /usr/local/lib/python3.10/dist-packages (from librosa) (4.9.0)\n",
      "Requirement already satisfied: scikit-learn>=0.20.0 in /usr/local/lib/python3.10/dist-packages (from librosa) (1.4.0)\n",
      "Requirement already satisfied: numpy!=1.22.0,!=1.22.1,!=1.22.2,>=1.20.3 in /usr/local/lib/python3.10/dist-packages (from librosa) (1.26.1)\n",
      "Requirement already satisfied: audioread>=2.1.9 in /usr/local/lib/python3.10/dist-packages (from librosa) (3.0.1)\n",
      "Requirement already satisfied: lazy-loader>=0.1 in /usr/local/lib/python3.10/dist-packages (from librosa) (0.3)\n",
      "Requirement already satisfied: soundfile>=0.12.1 in /usr/local/lib/python3.10/dist-packages (from librosa) (0.12.1)\n",
      "Requirement already satisfied: msgpack>=1.0 in /usr/local/lib/python3.10/dist-packages (from librosa) (1.0.7)\n",
      "Requirement already satisfied: pooch>=1.0 in /usr/local/lib/python3.10/dist-packages (from librosa) (1.8.0)\n",
      "Requirement already satisfied: soxr>=0.3.2 in /usr/local/lib/python3.10/dist-packages (from librosa) (0.3.7)\n",
      "Requirement already satisfied: numba>=0.51.0 in /usr/local/lib/python3.10/dist-packages (from librosa) (0.59.0)\n",
      "Requirement already satisfied: joblib>=0.14 in /usr/local/lib/python3.10/dist-packages (from librosa) (1.3.2)\n",
      "Requirement already satisfied: llvmlite<0.43,>=0.42.0dev0 in /usr/local/lib/python3.10/dist-packages (from numba>=0.51.0->librosa) (0.42.0)\n",
      "Requirement already satisfied: packaging>=20.0 in /usr/local/lib/python3.10/dist-packages (from pooch>=1.0->librosa) (21.3)\n",
      "Requirement already satisfied: platformdirs>=2.5.0 in /usr/local/lib/python3.10/dist-packages (from pooch>=1.0->librosa) (4.2.0)\n",
      "Requirement already satisfied: requests>=2.19.0 in /usr/local/lib/python3.10/dist-packages (from pooch>=1.0->librosa) (2.31.0)\n",
      "Requirement already satisfied: threadpoolctl>=2.0.0 in /usr/local/lib/python3.10/dist-packages (from scikit-learn>=0.20.0->librosa) (3.3.0)\n",
      "Requirement already satisfied: cffi>=1.0 in /usr/local/lib/python3.10/dist-packages (from soundfile>=0.12.1->librosa) (1.15.1)\n",
      "Requirement already satisfied: pycparser in /usr/local/lib/python3.10/dist-packages (from cffi>=1.0->soundfile>=0.12.1->librosa) (2.21)\n",
      "Requirement already satisfied: pyparsing!=3.0.5,>=2.0.2 in /usr/lib/python3/dist-packages (from packaging>=20.0->pooch>=1.0->librosa) (2.4.7)\n",
      "Requirement already satisfied: idna<4,>=2.5 in /usr/lib/python3/dist-packages (from requests>=2.19.0->pooch>=1.0->librosa) (3.3)\n",
      "Requirement already satisfied: certifi>=2017.4.17 in /usr/lib/python3/dist-packages (from requests>=2.19.0->pooch>=1.0->librosa) (2020.6.20)\n",
      "Requirement already satisfied: charset-normalizer<4,>=2 in /usr/local/lib/python3.10/dist-packages (from requests>=2.19.0->pooch>=1.0->librosa) (3.3.2)\n",
      "Requirement already satisfied: urllib3<3,>=1.21.1 in /usr/lib/python3/dist-packages (from requests>=2.19.0->pooch>=1.0->librosa) (1.26.5)\n",
      "\u001b[33mWARNING: Running pip as the 'root' user can result in broken permissions and conflicting behaviour with the system package manager. It is recommended to use a virtual environment instead: https://pip.pypa.io/warnings/venv\u001b[0m\u001b[33m\n",
      "\u001b[0mNote: you may need to restart the kernel to use updated packages.\n"
     ]
    }
   ],
   "source": [
    "pip install librosa"
   ]
  },
  {
   "cell_type": "code",
   "execution_count": 43,
   "metadata": {},
   "outputs": [
    {
     "name": "stdout",
     "output_type": "stream",
     "text": [
      "Requirement already satisfied: xgboost in /usr/local/lib/python3.10/dist-packages (2.0.3)\n",
      "Requirement already satisfied: numpy in /usr/local/lib/python3.10/dist-packages (from xgboost) (1.26.1)\n",
      "Requirement already satisfied: scipy in /usr/local/lib/python3.10/dist-packages (from xgboost) (1.11.4)\n",
      "\u001b[33mWARNING: Running pip as the 'root' user can result in broken permissions and conflicting behaviour with the system package manager. It is recommended to use a virtual environment instead: https://pip.pypa.io/warnings/venv\u001b[0m\u001b[33m\n",
      "\u001b[0mNote: you may need to restart the kernel to use updated packages.\n"
     ]
    }
   ],
   "source": [
    "pip install xgboost"
   ]
  },
  {
   "cell_type": "code",
   "execution_count": 44,
   "metadata": {},
   "outputs": [
    {
     "name": "stdout",
     "output_type": "stream",
     "text": [
      "/root/3A/ProjetLong/OrthopteraStridulationClassifier/Notebooks/XgBoost\n"
     ]
    }
   ],
   "source": [
    "!pwd"
   ]
  },
  {
   "cell_type": "code",
   "execution_count": 45,
   "metadata": {},
   "outputs": [],
   "source": [
    "# Path Yolo results\n",
    "path_audible_results_YOLO = \"../../../DataSet/soundscape_to_5s/Selection soundscapes 1 min split 5s/\"\n",
    "path_audible_csv_YOLO = \"../../../DataSet/soundscape_to_5s/CSV soundscapes 1 min split 5s boxes/1min_to_5s_boxes.csv\"\n",
    "df_yolo = pd.read_csv(path_audible_csv_YOLO)\n",
    "\n",
    "# path for audio files \n",
    "path_audible_audio_files = \"../../../DataSet/Selection soundscapes 1 min/\"\n",
    "path_audible_csv = \"../../../DataSet/CSVs soundscapes 1 min/selected_soundscapes.csv\" \n",
    "df = pd.read_csv(path_audible_csv)"
   ]
  },
  {
   "cell_type": "code",
   "execution_count": 46,
   "metadata": {},
   "outputs": [],
   "source": [
    "# spectrogrammes pour chaque audio\n",
    "# Charger l'audio\n",
    "filtered_audio = set()\n",
    "with open(path_audible_csv, newline='') as fichier_csv:\n",
    "    lecteur_csv = csv.reader(fichier_csv)\n",
    "    next(lecteur_csv)\n",
    "    # Parcourir chaque ligne du fichier CSV\n",
    "    for ligne in lecteur_csv:\n",
    "        filtered_audio.add(ligne[1])\n",
    "\n",
    "audio_list = list(filtered_audio)\n"
   ]
  },
  {
   "cell_type": "code",
   "execution_count": 49,
   "metadata": {},
   "outputs": [
    {
     "name": "stderr",
     "output_type": "stream",
     "text": [
      "/usr/local/lib/python3.10/dist-packages/librosa/core/spectrum.py:257: UserWarning: n_fft=2048 is too large for input signal of length=0\n",
      "  warnings.warn(\n"
     ]
    }
   ],
   "source": [
    "import librosa\n",
    "\n",
    "colonnes = [\"unique_code\", \"max_frequency\", \"min_frequency\", \"avg_frequency\", \"x1\", \"x2\", \"y1\", \"y2\" \"duree\", \"start_split\", \"fin_split\", \"predicted_label\"]\n",
    "new_df = pd.DataFrame(columns= colonnes)\n",
    "new_df[\"unique_code\"] = df_yolo[\"unique_code\"]\n",
    "new_df[\"start_split\"] = df_yolo[\"start_split\"]\n",
    "new_df[\"end_split\"] = df_yolo[\"end_split\"]\n",
    "new_df[\"x1\"] = df_yolo[\"x1\"]\n",
    "new_df[\"x2\"] = df_yolo[\"x2\"]\n",
    "new_df[\"y1\"] = df_yolo[\"y1\"]\n",
    "new_df[\"y2\"] = df_yolo[\"y2\"]\n",
    "\n",
    "# On calcule les spectrogrammes de la liste si dessus \n",
    "# on parcourt le csv de yolo pour repérer les bounding box, et on recup les infos qu'on veut : freq et durée \n",
    "based_sr = 48000\n",
    "\n",
    "for audio in audio_list : \n",
    "    \n",
    "    wav_path = path_audible_audio_files + audio + \".wav\"\n",
    "    y, sr = librosa.load(wav_path, sr=based_sr)\n",
    "    #print(len(y))\n",
    "    # parcourir toutes les bounding box de cette audio \n",
    "    df_inter = df_yolo[df_yolo[\"unique_code\"] == audio]\n",
    "\n",
    "    for _, row in df_inter.iterrows():\n",
    "        # convertir les bounding box en sec \n",
    "        width = row[\"img_width\"]\n",
    "        x1 = row[\"x1\"]\n",
    "        x2 = row[\"x2\"]\n",
    "        start = row[\"start_split\"]\n",
    "        end = row[\"end_split\"]\n",
    "        debut = int((start + x1*5/width)*based_sr)\n",
    "        fin = int((start + x2*5/width)*based_sr)\n",
    "        y_crop = y[debut:fin]\n",
    "        D = librosa.amplitude_to_db(np.abs(librosa.stft(y_crop)), ref=np.max)\n",
    "        amplitude_spectrale = np.abs(librosa.stft(y_crop))\n",
    "\n",
    "        # Prendre les infos necessaires dans cette boundingbox \n",
    "        freq = librosa.fft_frequencies(sr=based_sr, n_fft=amplitude_spectrale.shape[0])\n",
    "        new_df[\"min_frequency\"] = freq.min()\n",
    "        new_df[\"max_frequency\"]  = freq.max()\n",
    "        new_df[\"avg_frequency\"]  = freq.mean()\n",
    "        new_df[\"duree\"] = end - start"
   ]
  },
  {
   "cell_type": "code",
   "execution_count": 50,
   "metadata": {},
   "outputs": [
    {
     "name": "stderr",
     "output_type": "stream",
     "text": [
      "/tmp/ipykernel_10833/773233697.py:35: SettingWithCopyWarning: \n",
      "A value is trying to be set on a copy of a slice from a DataFrame.\n",
      "Try using .loc[row_indexer,col_indexer] = value instead\n",
      "\n",
      "See the caveats in the documentation: https://pandas.pydata.org/pandas-docs/stable/user_guide/indexing.html#returning-a-view-versus-a-copy\n",
      "  new_dftest['min_frequency'] = new_dftest['min_frequency'].astype(int)\n",
      "/tmp/ipykernel_10833/773233697.py:36: SettingWithCopyWarning: \n",
      "A value is trying to be set on a copy of a slice from a DataFrame.\n",
      "Try using .loc[row_indexer,col_indexer] = value instead\n",
      "\n",
      "See the caveats in the documentation: https://pandas.pydata.org/pandas-docs/stable/user_guide/indexing.html#returning-a-view-versus-a-copy\n",
      "  new_dftest['max_frequency'] = new_dftest['max_frequency'].astype(int)\n"
     ]
    }
   ],
   "source": [
    "# Préparation des données \n",
    "from sklearn.preprocessing import LabelEncoder\n",
    "from xgboost import XGBClassifier\n",
    "from sklearn.utils.class_weight import compute_class_weight\n",
    "from sklearn.metrics import accuracy_score, classification_report\n",
    "from sklearn.metrics import confusion_matrix\n",
    "\n",
    "path_global_5s_train = \"../../../DataSet/CSVs_morceaux_audio_5s/Audible/train_audible_recording_chunks.csv\"\n",
    "df_train = pd.read_csv(path_global_5s_train)\n",
    "df_train = df_train[df_train[\"label_class\"] == \"Insecta\"]\n",
    "\n",
    "label_encoder = LabelEncoder()\n",
    "label_encoder.fit(df_train['label_order'])\n",
    "\n",
    "y_label = label_encoder.transform(df_train['label_order'])\n",
    "\n",
    "df_train['duree'] = df_train['duree_min'] * 60 + df_train['duree_sec']\n",
    "df_train = df_train[['max_frequency', 'min_frequency', 'avg_frequency', 'duree']]\n",
    "df_train['min_frequency'] = df_train['min_frequency'].astype(int)\n",
    "df_train['max_frequency'] = df_train['max_frequency'].astype(int)\n",
    "\n",
    "# Gestion des valeurs manquantes\n",
    "#df.fillna(df.mean(), inplace=True)\n",
    "df_train = df_train.dropna()\n",
    "\n",
    "# Gestion des variables catégorielles\n",
    "df_train = pd.get_dummies(df_train)\n",
    "\n",
    "X_train = df_train\n",
    "\n",
    "#################### Préparer X_test avec les données ci-dessus \n",
    "#y_yolo_label = label_encoder.transform(new_df['label']) # A changer\n",
    "\n",
    "new_dftest = new_df[['max_frequency', 'min_frequency', 'avg_frequency', 'duree']]\n",
    "new_dftest['min_frequency'] = new_dftest['min_frequency'].astype(int)\n",
    "new_dftest['max_frequency'] = new_dftest['max_frequency'].astype(int)\n",
    "\n",
    "# Gestion des valeurs manquantes\n",
    "#df.fillna(df.mean(), inplace=True)\n",
    "new_dftest = new_dftest.dropna()\n",
    "\n",
    "# Gestion des variables catégorielles\n",
    "new_dftest = pd.get_dummies(new_dftest)\n",
    "\n",
    "X_test = new_dftest"
   ]
  },
  {
   "cell_type": "code",
   "execution_count": 51,
   "metadata": {},
   "outputs": [],
   "source": [
    "# XGBoost\n",
    "# Initialiser et entraîner le modèle XGBoost\n",
    "xgb_model = XGBClassifier(use_label_encoder=False, eval_metric='logloss', verbosity=2)\n",
    "\n",
    "# Calculer les poids des classes\n",
    "# 'balanced' ajuste automatiquement les poids inversément proportionnels aux fréquences des classes\n",
    "class_weights = compute_class_weight(class_weight='balanced', classes=np.unique(y_label), y=y_label)\n",
    "\n",
    "# Créer un dictionnaire des poids pour faciliter l'application des poids aux échantillons\n",
    "weights_dict = {i: class_weights[i] for i in range(len(class_weights))}\n",
    "\n",
    "# Appliquer les poids aux instances de formation\n",
    "sample_weight = np.array([weights_dict[y] for y in y_label])\n",
    "\n",
    "# Entraînement du modèle avec les poids des instances\n",
    "xgb_model.fit(X_train, y_label, sample_weight=sample_weight)\n",
    "\n",
    "predictions_label_xgb = xgb_model.predict(X_test)\n",
    "\n",
    "# Évaluation LightGBM\n",
    "#print(\"Évaluation Yolo :\")\n",
    "#print(\"Accuracy sur l'ensemble de validation:\", accuracy_score(y_yolo_label, predictions_label))\n",
    "#print(classification_report(y_yolo_label, predictions_label))\n",
    "\n",
    "# matrice de confusion\n",
    "#cm = confusion_matrix(y_yolo_label, predictions_label)\n",
    "#y_test_inversed = label_encoder.inverse_transform(y_yolo_label)\n",
    "\n",
    "#unique_labels = np.unique(y_test_inversed)\n",
    "\n",
    "# plt.figure(figsize=(30,30))\n",
    "# sns.heatmap(cm, annot=True, fmt=\"d\", cmap=\"Blues\", xticklabels=unique_labels, yticklabels=unique_labels)\n",
    "# plt.title('Matrice de confusion - Labels')\n",
    "# plt.ylabel('Valeur réelle')\n",
    "# plt.xlabel('Valeur prédite')\n",
    "# plt.show()"
   ]
  },
  {
   "cell_type": "code",
   "execution_count": 52,
   "metadata": {},
   "outputs": [
    {
     "name": "stdout",
     "output_type": "stream",
     "text": [
      "[2 2 2 ... 2 2 2]\n"
     ]
    }
   ],
   "source": [
    "print(predictions_label_xgb)"
   ]
  },
  {
   "cell_type": "code",
   "execution_count": 53,
   "metadata": {},
   "outputs": [],
   "source": [
    "# Random forest\n",
    "from sklearn.ensemble import RandomForestClassifier\n",
    "from sklearn.metrics import accuracy_score, classification_report\n",
    "from sklearn.metrics import confusion_matrix\n",
    "\n",
    "rf_classifier = RandomForestClassifier(n_estimators=100, random_state=42, class_weight=\"balanced\")\n",
    "\n",
    "rf_classifier.fit(X_train, y_label)\n",
    "\n",
    "predictions_label_randomf = rf_classifier.predict(X_test)\n",
    "\n",
    "# # Évaluation LightGBM\n",
    "# print(\"Évaluation LightGBM :\")\n",
    "# print(\"Accuracy sur l'ensemble de validation:\", accuracy_score(y_label, predictions_label))\n",
    "# print(classification_report(y_label, predictions_label))\n",
    "\n",
    "# # matrice de confusion\n",
    "# cm = confusion_matrix(y_label, predictions_label)\n",
    "# y_test_inversed = label_encoder.inverse_transform(y_label)\n",
    "\n",
    "# unique_labels = np.unique(y_test_inversed)\n",
    "\n",
    "# plt.figure(figsize=(30,30))\n",
    "# sns.heatmap(cm, annot=True, fmt=\"d\", cmap=\"Blues\", xticklabels=unique_labels, yticklabels=unique_labels)\n",
    "# plt.title('Matrice de confusion - Labels')\n",
    "# plt.ylabel('Valeur réelle')\n",
    "# plt.xlabel('Valeur prédite')\n",
    "# plt.show()"
   ]
  },
  {
   "cell_type": "code",
   "execution_count": 54,
   "metadata": {},
   "outputs": [
    {
     "name": "stdout",
     "output_type": "stream",
     "text": [
      "[0 0 0 ... 0 0 0]\n"
     ]
    }
   ],
   "source": [
    "print(predictions_label_randomf)"
   ]
  },
  {
   "cell_type": "code",
   "execution_count": 59,
   "metadata": {},
   "outputs": [],
   "source": [
    "import matplotlib.pyplot as plt\n",
    "import matplotlib.patches as patches\n",
    "from tqdm import tqdm\n",
    "\n",
    "df_truth = df = pd.read_csv(path_audible_csv)\n",
    "# TODO : génerer les spectrogrammes \n",
    "soundscape_image_path = \"../../../DataSet/Spectro_1min/\"\n",
    "\n",
    "def image_to_compare(code_unique, save_path, df_yolo) : \n",
    "\n",
    "    df_yolo_filtered = df_yolo[df_yolo[\"unique_code\"] == code_unique]\n",
    "    df_truth_filtered = df_truth[(df_truth[\"code_unique\"] == code_unique) & (df_truth[\"label_class\"] == \"Insecta\")]\n",
    "\n",
    "    chunk_duration = (df_truth_filtered[\"duree_min\"] * 60 + df_truth_filtered[\"duree_sec\"]).iloc[0]\n",
    "\n",
    "    image = Image.open(f'{soundscape_image_path}{code_unique}.png')\n",
    "    img_width, img_height = image.width, image.height\n",
    "\n",
    "    # On fait le truth\n",
    "    image = Image.open(f'{soundscape_image_path}{code_unique}.png')\n",
    "    img_width, img_height = image.width, image.height\n",
    "\n",
    "    plt.figure(figsize=(50, 10))\n",
    "\n",
    "    for _, row in df_yolo_filtered.iterrows():\n",
    "        label = row[\"predicted_label\"]\n",
    "        x1 = row[\"x1\"]\n",
    "        x2 = row[\"x2\"]\n",
    "        y1 = row[\"y1\"]\n",
    "        y2 = row[\"y2\"]\n",
    "        start_split = row[\"start_split\"] * (img_width // chunk_duration)\n",
    "        end_split = row[\"end_split\"] * (img_width // chunk_duration)\n",
    "\n",
    "        t1_pixel = x1 + start_split\n",
    "        f1_pixel = y1\n",
    "        f2_pixel = y2\n",
    "        t2_pixel = x2 + start_split\n",
    "\n",
    "        rect = patches.Rectangle((t1_pixel, f1_pixel), t2_pixel - t1_pixel, f2_pixel - f1_pixel, linewidth=2, edgecolor='yellow', facecolor='none')\n",
    "        plt.gca().add_patch(rect)\n",
    "\n",
    "        plt.text(t1_pixel, f1_pixel + 0.01, label, verticalalignment='bottom', horizontalalignment='left',\n",
    "            color='black',  # Couleur du texte\n",
    "            bbox=dict(facecolor='yellow', edgecolor='none', pad=2.0))\n",
    "\n",
    "    plt.imshow(image)\n",
    "    plt.title(f'{code_unique} predicted')\n",
    "    plt.tight_layout()\n",
    "    plt.savefig(f'{save_path}/{code_unique}_predicted.png')\n",
    "\n",
    "    plt.figure(figsize=(50, 10))\n",
    "\n",
    "    for _, row in df_truth_filtered.iterrows():\n",
    "        chunk_initial_time = 0.0\n",
    "        chunk_final_time = 60.0\n",
    "        annotation_initial_time = row[\"annotation_initial_time\"]\n",
    "        annotation_final_time = row[\"annotation_final_time\"]\n",
    "        min_frequency = row[\"min_frequency\"]\n",
    "        max_frequency = row[\"max_frequency\"]\n",
    "        label = row[\"label\"]\n",
    "\n",
    "        # Create the BB\n",
    "        t1 = row[\"annotation_initial_time\"]\n",
    "        t2 = row[\"annotation_final_time\"]\n",
    "        f1 = int(row['min_frequency'])\n",
    "        f2 = int(row['max_frequency'])\n",
    "        sr = 48000 #row['sampling_rate']\n",
    "        #sr = row['sampling_rate']\n",
    "\n",
    "        t1_pixel = int(t1 * img_width/chunk_duration)\n",
    "        t2_pixel = int(t2 * img_width/chunk_duration)\n",
    "\n",
    "        # for the frequency, the spectrogram is flipped\n",
    "        f1_pixel = img_height - int(f1 * img_height/(sr/2))\n",
    "        f2_pixel = img_height - int(f2 * img_height/(sr/2))\n",
    "\n",
    "        rect = patches.Rectangle((t1_pixel, f1_pixel), t2_pixel - t1_pixel, f2_pixel - f1_pixel, linewidth=2, edgecolor='r', facecolor='none')\n",
    "        plt.gca().add_patch(rect)\n",
    "\n",
    "        plt.text(t1_pixel, f2_pixel + 0.01, label, verticalalignment='bottom', horizontalalignment='left',\n",
    "            color='white',  # Couleur du texte\n",
    "            bbox=dict(facecolor='red', edgecolor='none', pad=2.0))\n",
    "\n",
    "    plt.imshow(image)\n",
    "    plt.title(f'{code_unique} truth')\n",
    "    plt.tight_layout()\n",
    "    plt.savefig(f'{save_path}/{code_unique}_truth.png')\n",
    "    plt.clf()\n",
    "    plt.cla()\n",
    "    \n",
    "    print(f'{code_unique} fini')"
   ]
  },
  {
   "cell_type": "code",
   "execution_count": 60,
   "metadata": {},
   "outputs": [
    {
     "name": "stderr",
     "output_type": "stream",
     "text": [
      "  0%|          | 1/243 [00:07<30:04,  7.45s/it]"
     ]
    },
    {
     "name": "stdout",
     "output_type": "stream",
     "text": [
      "Orthoptera_cdpotsa09FR_05X2022_806 fini\n"
     ]
    },
    {
     "name": "stderr",
     "output_type": "stream",
     "text": [
      "  1%|          | 2/243 [00:12<24:40,  6.14s/it]"
     ]
    },
    {
     "name": "stdout",
     "output_type": "stream",
     "text": [
      "Orthoptera_plmarsa31FR_12V2023_1213 fini\n"
     ]
    },
    {
     "name": "stderr",
     "output_type": "stream",
     "text": [
      "  1%|          | 3/243 [00:17<22:42,  5.68s/it]"
     ]
    },
    {
     "name": "stdout",
     "output_type": "stream",
     "text": [
      "Orthoptera_cdpotsa09FR_05X2022_830 fini\n"
     ]
    },
    {
     "name": "stderr",
     "output_type": "stream",
     "text": [
      "  2%|▏         | 4/243 [00:22<21:41,  5.45s/it]"
     ]
    },
    {
     "name": "stdout",
     "output_type": "stream",
     "text": [
      "Orthoptera_guneust09FR_10VII2023_1329 fini\n"
     ]
    },
    {
     "name": "stderr",
     "output_type": "stream",
     "text": [
      "  2%|▏         | 5/243 [00:27<19:52,  5.01s/it]"
     ]
    },
    {
     "name": "stdout",
     "output_type": "stream",
     "text": [
      "Orthoptera_guneust09FR_10VII2023_1332 fini\n"
     ]
    },
    {
     "name": "stderr",
     "output_type": "stream",
     "text": [
      "  2%|▏         | 6/243 [00:31<19:07,  4.84s/it]"
     ]
    },
    {
     "name": "stdout",
     "output_type": "stream",
     "text": [
      "Orthoptera_adkarsa31FR_21IX2022_1023 fini\n"
     ]
    },
    {
     "name": "stderr",
     "output_type": "stream",
     "text": [
      "  3%|▎         | 7/243 [00:35<18:04,  4.59s/it]"
     ]
    },
    {
     "name": "stdout",
     "output_type": "stream",
     "text": [
      "Orthoptera_hotrrsa31FR_21IX2022_706 fini\n"
     ]
    },
    {
     "name": "stderr",
     "output_type": "stream",
     "text": [
      "  3%|▎         | 8/243 [00:39<17:32,  4.48s/it]"
     ]
    },
    {
     "name": "stdout",
     "output_type": "stream",
     "text": [
      "Orthoptera_hotrrsa31FR_21IX2022_991 fini\n"
     ]
    },
    {
     "name": "stderr",
     "output_type": "stream",
     "text": [
      "  4%|▎         | 9/243 [00:42<14:46,  3.79s/it]"
     ]
    },
    {
     "name": "stdout",
     "output_type": "stream",
     "text": [
      "Orthoptera_cdchcau09FR_18IX2022_1055 fini\n"
     ]
    },
    {
     "name": "stderr",
     "output_type": "stream",
     "text": [
      "  4%|▍         | 10/243 [00:45<13:30,  3.48s/it]"
     ]
    },
    {
     "name": "stdout",
     "output_type": "stream",
     "text": [
      "Orthoptera_cdchcau09FR_18IX2022_1048 fini\n"
     ]
    },
    {
     "name": "stderr",
     "output_type": "stream",
     "text": [
      "/tmp/ipykernel_10833/474324838.py:23: RuntimeWarning: More than 20 figures have been opened. Figures created through the pyplot interface (`matplotlib.pyplot.figure`) are retained until explicitly closed and may consume too much memory. (To control this warning, see the rcParam `figure.max_open_warning`). Consider using `matplotlib.pyplot.close()`.\n",
      "  plt.figure(figsize=(50, 10))\n",
      "  5%|▍         | 11/243 [00:47<12:37,  3.27s/it]"
     ]
    },
    {
     "name": "stdout",
     "output_type": "stream",
     "text": [
      "Orthoptera_cdchcau09FR_18IX2022_1052 fini\n"
     ]
    },
    {
     "name": "stderr",
     "output_type": "stream",
     "text": [
      "  5%|▍         | 12/243 [00:53<15:16,  3.97s/it]"
     ]
    },
    {
     "name": "stdout",
     "output_type": "stream",
     "text": [
      "Orthoptera_XXXXigeXXES_01VII2022_331 fini\n"
     ]
    },
    {
     "name": "stderr",
     "output_type": "stream",
     "text": [
      "  5%|▌         | 13/243 [00:58<16:04,  4.19s/it]"
     ]
    },
    {
     "name": "stdout",
     "output_type": "stream",
     "text": [
      "Orthoptera_XXXXigeXXES_01VII2022_332 fini\n"
     ]
    },
    {
     "name": "stderr",
     "output_type": "stream",
     "text": [
      "  6%|▌         | 14/243 [01:02<16:37,  4.36s/it]"
     ]
    },
    {
     "name": "stdout",
     "output_type": "stream",
     "text": [
      "Orthoptera_XXXXigeXXES_01VIII2022_900 fini\n"
     ]
    },
    {
     "name": "stderr",
     "output_type": "stream",
     "text": [
      "  6%|▌         | 15/243 [01:08<17:50,  4.69s/it]"
     ]
    },
    {
     "name": "stdout",
     "output_type": "stream",
     "text": [
      "Orthoptera_XXXXigeXXES_02VIII2022_901 fini\n"
     ]
    },
    {
     "name": "stderr",
     "output_type": "stream",
     "text": [
      "  7%|▋         | 16/243 [01:12<17:12,  4.55s/it]"
     ]
    },
    {
     "name": "stdout",
     "output_type": "stream",
     "text": [
      "Orthoptera_XXXXjacXXES_26VIII2022_1035 fini\n"
     ]
    },
    {
     "name": "stderr",
     "output_type": "stream",
     "text": [
      "  7%|▋         | 17/243 [01:17<17:55,  4.76s/it]"
     ]
    },
    {
     "name": "stdout",
     "output_type": "stream",
     "text": [
      "Orthoptera_XXXXporXXES_06V2022_123 fini\n"
     ]
    },
    {
     "name": "stderr",
     "output_type": "stream",
     "text": [
      "  7%|▋         | 18/243 [01:22<18:20,  4.89s/it]"
     ]
    },
    {
     "name": "stdout",
     "output_type": "stream",
     "text": [
      "Orthoptera_XXXXporXXES_06V2022_124 fini\n"
     ]
    },
    {
     "name": "stderr",
     "output_type": "stream",
     "text": [
      "  8%|▊         | 19/243 [01:27<17:41,  4.74s/it]"
     ]
    },
    {
     "name": "stdout",
     "output_type": "stream",
     "text": [
      "Orthoptera_XXXXporXXES_06V2022_125 fini\n"
     ]
    },
    {
     "name": "stderr",
     "output_type": "stream",
     "text": [
      "  8%|▊         | 20/243 [01:30<16:23,  4.41s/it]"
     ]
    },
    {
     "name": "stdout",
     "output_type": "stream",
     "text": [
      "Orthoptera_XXXXporXXES_30IV2022_117 fini\n"
     ]
    },
    {
     "name": "stderr",
     "output_type": "stream",
     "text": [
      "  9%|▊         | 21/243 [01:34<14:55,  4.03s/it]"
     ]
    },
    {
     "name": "stdout",
     "output_type": "stream",
     "text": [
      "Orthoptera_XXXXporXXES_30IV2022_118 fini\n"
     ]
    },
    {
     "name": "stderr",
     "output_type": "stream",
     "text": [
      "  9%|▉         | 22/243 [01:38<15:44,  4.27s/it]"
     ]
    },
    {
     "name": "stdout",
     "output_type": "stream",
     "text": [
      "Orthoptera_XXXXbid07FR_27IV2022_98 fini\n"
     ]
    },
    {
     "name": "stderr",
     "output_type": "stream",
     "text": [
      "  9%|▉         | 23/243 [01:44<16:45,  4.57s/it]"
     ]
    },
    {
     "name": "stdout",
     "output_type": "stream",
     "text": [
      "Orthoptera_XXXXjacXXES_26VIII2022_1029 fini\n"
     ]
    },
    {
     "name": "stderr",
     "output_type": "stream",
     "text": [
      " 10%|▉         | 24/243 [01:48<16:48,  4.61s/it]"
     ]
    },
    {
     "name": "stdout",
     "output_type": "stream",
     "text": [
      "Orthoptera_XXXXsma07FR_27IV2022_112 fini\n"
     ]
    },
    {
     "name": "stderr",
     "output_type": "stream",
     "text": [
      " 10%|█         | 25/243 [01:51<14:50,  4.08s/it]"
     ]
    },
    {
     "name": "stdout",
     "output_type": "stream",
     "text": [
      "Orthoptera_cdchcau09FR_18IX2022_1056 fini\n"
     ]
    },
    {
     "name": "stderr",
     "output_type": "stream",
     "text": [
      " 11%|█         | 26/243 [01:56<15:48,  4.37s/it]"
     ]
    },
    {
     "name": "stdout",
     "output_type": "stream",
     "text": [
      "Orthoptera_XXXXjacXXES_26VIII2022_1058 fini\n"
     ]
    },
    {
     "name": "stderr",
     "output_type": "stream",
     "text": [
      " 11%|█         | 27/243 [02:02<16:40,  4.63s/it]"
     ]
    },
    {
     "name": "stdout",
     "output_type": "stream",
     "text": [
      "Orthoptera_XXXXigeXXES_01VIII2022_896 fini\n"
     ]
    },
    {
     "name": "stderr",
     "output_type": "stream",
     "text": [
      " 12%|█▏        | 28/243 [02:07<17:31,  4.89s/it]"
     ]
    },
    {
     "name": "stdout",
     "output_type": "stream",
     "text": [
      "Orthoptera_XXXXigeXXES_01VIII2022_898 fini\n"
     ]
    },
    {
     "name": "stderr",
     "output_type": "stream",
     "text": [
      " 12%|█▏        | 29/243 [02:12<17:29,  4.91s/it]"
     ]
    },
    {
     "name": "stdout",
     "output_type": "stream",
     "text": [
      "Orthoptera_XXXXigeXXES_01VIII2022_899 fini\n"
     ]
    },
    {
     "name": "stderr",
     "output_type": "stream",
     "text": [
      " 12%|█▏        | 30/243 [02:18<18:14,  5.14s/it]"
     ]
    },
    {
     "name": "stdout",
     "output_type": "stream",
     "text": [
      "Orthoptera_XXXXigeXXES_10VIII2022_1190 fini\n"
     ]
    },
    {
     "name": "stderr",
     "output_type": "stream",
     "text": [
      " 13%|█▎        | 31/243 [02:22<17:15,  4.89s/it]"
     ]
    },
    {
     "name": "stdout",
     "output_type": "stream",
     "text": [
      "Orthoptera_XXXXigeXXES_15VII2022_876 fini\n"
     ]
    },
    {
     "name": "stderr",
     "output_type": "stream",
     "text": [
      " 13%|█▎        | 32/243 [02:28<17:54,  5.09s/it]"
     ]
    },
    {
     "name": "stdout",
     "output_type": "stream",
     "text": [
      "Orthoptera_XXXXigeXXES_17VII2022_880 fini\n"
     ]
    },
    {
     "name": "stderr",
     "output_type": "stream",
     "text": [
      " 14%|█▎        | 33/243 [02:32<17:27,  4.99s/it]"
     ]
    },
    {
     "name": "stdout",
     "output_type": "stream",
     "text": [
      "Orthoptera_XXXXigeXXES_19VII2022_1198 fini\n"
     ]
    },
    {
     "name": "stderr",
     "output_type": "stream",
     "text": [
      " 14%|█▍        | 34/243 [02:36<16:29,  4.73s/it]"
     ]
    },
    {
     "name": "stdout",
     "output_type": "stream",
     "text": [
      "Orthoptera_XXXXjacXXES_26VIII2022_1030 fini\n"
     ]
    },
    {
     "name": "stderr",
     "output_type": "stream",
     "text": [
      " 14%|█▍        | 35/243 [02:41<15:54,  4.59s/it]"
     ]
    },
    {
     "name": "stdout",
     "output_type": "stream",
     "text": [
      "Orthoptera_XXXXjacXXES_26VIII2022_661 fini\n"
     ]
    },
    {
     "name": "stderr",
     "output_type": "stream",
     "text": [
      " 15%|█▍        | 36/243 [02:46<16:19,  4.73s/it]"
     ]
    },
    {
     "name": "stdout",
     "output_type": "stream",
     "text": [
      "Orthoptera_XXXXjacXXES_26VIII2022_662 fini\n"
     ]
    },
    {
     "name": "stderr",
     "output_type": "stream",
     "text": [
      " 15%|█▌        | 37/243 [02:50<16:03,  4.68s/it]"
     ]
    },
    {
     "name": "stdout",
     "output_type": "stream",
     "text": [
      "Orthoptera_XXXXsma07FR_10VIII2022_904 fini\n"
     ]
    },
    {
     "name": "stderr",
     "output_type": "stream",
     "text": [
      " 16%|█▌        | 38/243 [02:55<15:40,  4.59s/it]"
     ]
    },
    {
     "name": "stdout",
     "output_type": "stream",
     "text": [
      "Orthoptera_XXXXsma07FR_10VIII2022_905 fini\n"
     ]
    },
    {
     "name": "stderr",
     "output_type": "stream",
     "text": [
      " 16%|█▌        | 39/243 [02:59<15:40,  4.61s/it]"
     ]
    },
    {
     "name": "stdout",
     "output_type": "stream",
     "text": [
      "Orthoptera_XXXXigeXXES_17VII2022_877 fini\n"
     ]
    },
    {
     "name": "stderr",
     "output_type": "stream",
     "text": [
      " 16%|█▋        | 40/243 [03:04<15:37,  4.62s/it]"
     ]
    },
    {
     "name": "stdout",
     "output_type": "stream",
     "text": [
      "Orthoptera_XXXXigeXXES_14VII2022_863 fini\n"
     ]
    },
    {
     "name": "stderr",
     "output_type": "stream",
     "text": [
      " 17%|█▋        | 41/243 [03:08<15:11,  4.51s/it]"
     ]
    },
    {
     "name": "stdout",
     "output_type": "stream",
     "text": [
      "Orthoptera_cdmasma07FR_14VIII2022_908 fini\n"
     ]
    },
    {
     "name": "stderr",
     "output_type": "stream",
     "text": [
      " 17%|█▋        | 42/243 [03:11<13:41,  4.09s/it]"
     ]
    },
    {
     "name": "stdout",
     "output_type": "stream",
     "text": [
      "Orthoptera_cdmasma07FR_14VIII2022_909 fini\n"
     ]
    },
    {
     "name": "stderr",
     "output_type": "stream",
     "text": [
      " 18%|█▊        | 43/243 [03:14<12:18,  3.69s/it]"
     ]
    },
    {
     "name": "stdout",
     "output_type": "stream",
     "text": [
      "Orthoptera_XXXXascXXES_26VIII2022_1027 fini\n"
     ]
    },
    {
     "name": "stderr",
     "output_type": "stream",
     "text": [
      " 18%|█▊        | 44/243 [03:17<11:12,  3.38s/it]"
     ]
    },
    {
     "name": "stdout",
     "output_type": "stream",
     "text": [
      "Orthoptera_XXXXascXXES_26VIII2022_660 fini\n"
     ]
    },
    {
     "name": "stderr",
     "output_type": "stream",
     "text": [
      " 19%|█▊        | 45/243 [03:22<12:55,  3.91s/it]"
     ]
    },
    {
     "name": "stdout",
     "output_type": "stream",
     "text": [
      "Orthoptera_XXXXigeXXES_03VII2022_423 fini\n"
     ]
    },
    {
     "name": "stderr",
     "output_type": "stream",
     "text": [
      " 19%|█▉        | 46/243 [03:27<14:27,  4.41s/it]"
     ]
    },
    {
     "name": "stdout",
     "output_type": "stream",
     "text": [
      "Orthoptera_XXXXigeXXES_14VII2022_871 fini\n"
     ]
    },
    {
     "name": "stderr",
     "output_type": "stream",
     "text": [
      " 19%|█▉        | 47/243 [03:32<14:15,  4.37s/it]"
     ]
    },
    {
     "name": "stdout",
     "output_type": "stream",
     "text": [
      "Orthoptera_XXXXigeXXES_02VIII2022_1189 fini\n"
     ]
    },
    {
     "name": "stderr",
     "output_type": "stream",
     "text": [
      " 20%|█▉        | 48/243 [03:36<14:12,  4.37s/it]"
     ]
    },
    {
     "name": "stdout",
     "output_type": "stream",
     "text": [
      "Orthoptera_XXXXigeXXES_02VII2022_337 fini\n"
     ]
    },
    {
     "name": "stderr",
     "output_type": "stream",
     "text": [
      " 20%|██        | 49/243 [03:41<14:18,  4.43s/it]"
     ]
    },
    {
     "name": "stdout",
     "output_type": "stream",
     "text": [
      "Orthoptera_XXXXigeXXES_02VIII2022_1188 fini\n"
     ]
    },
    {
     "name": "stderr",
     "output_type": "stream",
     "text": [
      " 21%|██        | 50/243 [03:45<14:07,  4.39s/it]"
     ]
    },
    {
     "name": "stdout",
     "output_type": "stream",
     "text": [
      "Orthoptera_XXXXigeXXES_14VII2022_861 fini\n"
     ]
    },
    {
     "name": "stderr",
     "output_type": "stream",
     "text": [
      " 21%|██        | 51/243 [03:49<14:03,  4.39s/it]"
     ]
    },
    {
     "name": "stdout",
     "output_type": "stream",
     "text": [
      "Orthoptera_XXXXigeXXES_17VII2022_879 fini\n"
     ]
    },
    {
     "name": "stderr",
     "output_type": "stream",
     "text": [
      " 21%|██▏       | 52/243 [03:54<14:04,  4.42s/it]"
     ]
    },
    {
     "name": "stdout",
     "output_type": "stream",
     "text": [
      "Orthoptera_XXXXmon82FR_19VII2022_886 fini\n"
     ]
    },
    {
     "name": "stderr",
     "output_type": "stream",
     "text": [
      " 22%|██▏       | 53/243 [03:59<14:39,  4.63s/it]"
     ]
    },
    {
     "name": "stdout",
     "output_type": "stream",
     "text": [
      "Orthoptera_XXXXmon82FR_19VII2022_887 fini\n"
     ]
    },
    {
     "name": "stderr",
     "output_type": "stream",
     "text": [
      " 22%|██▏       | 54/243 [04:02<12:44,  4.04s/it]"
     ]
    },
    {
     "name": "stdout",
     "output_type": "stream",
     "text": [
      "Orthoptera_XXXXcam11FR_12IX2022_1037 fini\n"
     ]
    },
    {
     "name": "stderr",
     "output_type": "stream",
     "text": [
      " 23%|██▎       | 55/243 [04:06<13:23,  4.27s/it]"
     ]
    },
    {
     "name": "stdout",
     "output_type": "stream",
     "text": [
      "Orthoptera_XXXXmon82FR_19VII2022_885 fini\n"
     ]
    },
    {
     "name": "stderr",
     "output_type": "stream",
     "text": [
      " 23%|██▎       | 56/243 [04:11<13:55,  4.47s/it]"
     ]
    },
    {
     "name": "stdout",
     "output_type": "stream",
     "text": [
      "Orthoptera_XXXXmon82FR_19VII2022_888 fini\n"
     ]
    },
    {
     "name": "stderr",
     "output_type": "stream",
     "text": [
      " 23%|██▎       | 57/243 [04:16<14:09,  4.57s/it]"
     ]
    },
    {
     "name": "stdout",
     "output_type": "stream",
     "text": [
      "Orthoptera_XXXXmon82FR_19VII2022_889 fini\n"
     ]
    },
    {
     "name": "stderr",
     "output_type": "stream",
     "text": [
      " 24%|██▍       | 58/243 [04:21<14:22,  4.66s/it]"
     ]
    },
    {
     "name": "stdout",
     "output_type": "stream",
     "text": [
      "Orthoptera_XXXXmon82FR_19VII2022_893 fini\n"
     ]
    },
    {
     "name": "stderr",
     "output_type": "stream",
     "text": [
      " 24%|██▍       | 59/243 [04:26<14:45,  4.81s/it]"
     ]
    },
    {
     "name": "stdout",
     "output_type": "stream",
     "text": [
      "Orthoptera_XXXXmon82FR_19VII2022_895 fini\n"
     ]
    },
    {
     "name": "stderr",
     "output_type": "stream",
     "text": [
      " 25%|██▍       | 60/243 [04:31<14:25,  4.73s/it]"
     ]
    },
    {
     "name": "stdout",
     "output_type": "stream",
     "text": [
      "Orthoptera_XXXXigeXXES_03VII2022_1194 fini\n"
     ]
    },
    {
     "name": "stderr",
     "output_type": "stream",
     "text": [
      " 25%|██▌       | 61/243 [04:36<15:00,  4.95s/it]"
     ]
    },
    {
     "name": "stdout",
     "output_type": "stream",
     "text": [
      "Orthoptera_XXXXigeXXES_14VII2022_867 fini\n"
     ]
    },
    {
     "name": "stderr",
     "output_type": "stream",
     "text": [
      " 26%|██▌       | 62/243 [04:42<15:24,  5.11s/it]"
     ]
    },
    {
     "name": "stdout",
     "output_type": "stream",
     "text": [
      "Orthoptera_XXXXigeXXES_14VII2022_872 fini\n"
     ]
    },
    {
     "name": "stderr",
     "output_type": "stream",
     "text": [
      " 26%|██▌       | 63/243 [04:47<15:08,  5.05s/it]"
     ]
    },
    {
     "name": "stdout",
     "output_type": "stream",
     "text": [
      "Orthoptera_XXXXigeXXES_14VII2022_875 fini\n"
     ]
    },
    {
     "name": "stderr",
     "output_type": "stream",
     "text": [
      " 26%|██▋       | 64/243 [04:52<15:15,  5.11s/it]"
     ]
    },
    {
     "name": "stdout",
     "output_type": "stream",
     "text": [
      "Orthoptera_XXXXigeXXES_17VII2022_882 fini\n"
     ]
    },
    {
     "name": "stderr",
     "output_type": "stream",
     "text": [
      " 27%|██▋       | 65/243 [04:56<14:10,  4.78s/it]"
     ]
    },
    {
     "name": "stdout",
     "output_type": "stream",
     "text": [
      "Orthoptera_XXXXigeXXES_17VII2022_883 fini\n"
     ]
    },
    {
     "name": "stderr",
     "output_type": "stream",
     "text": [
      " 27%|██▋       | 66/243 [05:02<15:19,  5.20s/it]"
     ]
    },
    {
     "name": "stdout",
     "output_type": "stream",
     "text": [
      "Aves_184Barjac09FR_15VI2022_0000 fini\n"
     ]
    },
    {
     "name": "stderr",
     "output_type": "stream",
     "text": [
      " 28%|██▊       | 67/243 [05:08<15:48,  5.39s/it]"
     ]
    },
    {
     "name": "stdout",
     "output_type": "stream",
     "text": [
      "Aves_186Barjac09FR_15VI2022_1300 fini\n"
     ]
    },
    {
     "name": "stderr",
     "output_type": "stream",
     "text": [
      " 28%|██▊       | 68/243 [05:14<16:02,  5.50s/it]"
     ]
    },
    {
     "name": "stdout",
     "output_type": "stream",
     "text": [
      "Aves_183Aurade32FR_03VI2022_1300 fini\n"
     ]
    },
    {
     "name": "stderr",
     "output_type": "stream",
     "text": [
      " 28%|██▊       | 69/243 [05:20<16:29,  5.69s/it]"
     ]
    },
    {
     "name": "stdout",
     "output_type": "stream",
     "text": [
      "Aves_189Franco31FR_17VI2022_1300 fini\n"
     ]
    },
    {
     "name": "stderr",
     "output_type": "stream",
     "text": [
      " 29%|██▉       | 70/243 [05:23<13:58,  4.84s/it]"
     ]
    },
    {
     "name": "stdout",
     "output_type": "stream",
     "text": [
      "Aves_195Mijane09FR_22V2022_1254 fini\n"
     ]
    },
    {
     "name": "stderr",
     "output_type": "stream",
     "text": [
      " 29%|██▉       | 71/243 [05:28<13:56,  4.86s/it]"
     ]
    },
    {
     "name": "stdout",
     "output_type": "stream",
     "text": [
      "Aves_204Goulie09FR_15VI2022_1307 fini\n"
     ]
    },
    {
     "name": "stderr",
     "output_type": "stream",
     "text": [
      " 30%|██▉       | 72/243 [05:32<13:04,  4.59s/it]"
     ]
    },
    {
     "name": "stdout",
     "output_type": "stream",
     "text": [
      "Aves_207Ustou09FR_28VI2022_1306 fini\n"
     ]
    },
    {
     "name": "stderr",
     "output_type": "stream",
     "text": [
      " 30%|███       | 73/243 [05:36<12:31,  4.42s/it]"
     ]
    },
    {
     "name": "stdout",
     "output_type": "stream",
     "text": [
      "Aves_209Antras09FR_01VI2022_0658 fini\n"
     ]
    },
    {
     "name": "stderr",
     "output_type": "stream",
     "text": [
      " 30%|███       | 74/243 [05:40<12:20,  4.38s/it]"
     ]
    },
    {
     "name": "stdout",
     "output_type": "stream",
     "text": [
      "Aves_212Cassou09FR_07VII2022_0709 fini\n"
     ]
    },
    {
     "name": "stderr",
     "output_type": "stream",
     "text": [
      " 31%|███       | 75/243 [05:44<12:04,  4.31s/it]"
     ]
    },
    {
     "name": "stdout",
     "output_type": "stream",
     "text": [
      "Aves_213Cassou09FR_07VII2022_1309 fini\n"
     ]
    },
    {
     "name": "stderr",
     "output_type": "stream",
     "text": [
      " 31%|███▏      | 76/243 [05:48<11:50,  4.26s/it]"
     ]
    },
    {
     "name": "stdout",
     "output_type": "stream",
     "text": [
      "Aves_215Merens09FR_12VI2022_0654 fini\n"
     ]
    },
    {
     "name": "stderr",
     "output_type": "stream",
     "text": [
      " 32%|███▏      | 77/243 [05:52<11:38,  4.21s/it]"
     ]
    },
    {
     "name": "stdout",
     "output_type": "stream",
     "text": [
      "Aves_216Merens09FR_12VI2022_1254 fini\n"
     ]
    },
    {
     "name": "stderr",
     "output_type": "stream",
     "text": [
      " 32%|███▏      | 78/243 [05:56<11:23,  4.14s/it]"
     ]
    },
    {
     "name": "stdout",
     "output_type": "stream",
     "text": [
      "Aves_219Bonac-09FR_29VI2022_1246 fini\n"
     ]
    },
    {
     "name": "stderr",
     "output_type": "stream",
     "text": [
      " 33%|███▎      | 79/243 [06:00<11:04,  4.05s/it]"
     ]
    },
    {
     "name": "stdout",
     "output_type": "stream",
     "text": [
      "Aves_221Orgeix09FR_13VI2022_0707 fini\n"
     ]
    },
    {
     "name": "stderr",
     "output_type": "stream",
     "text": [
      " 33%|███▎      | 80/243 [06:04<10:56,  4.03s/it]"
     ]
    },
    {
     "name": "stdout",
     "output_type": "stream",
     "text": [
      "Aves_222Orgeix09FR_13VI2022_1307 fini\n"
     ]
    },
    {
     "name": "stderr",
     "output_type": "stream",
     "text": [
      " 33%|███▎      | 81/243 [06:09<11:24,  4.23s/it]"
     ]
    },
    {
     "name": "stdout",
     "output_type": "stream",
     "text": [
      "Aves_225Orlu09FR_28VI2022_1306 fini\n"
     ]
    },
    {
     "name": "stderr",
     "output_type": "stream",
     "text": [
      " 34%|███▎      | 82/243 [06:13<11:20,  4.23s/it]"
     ]
    },
    {
     "name": "stdout",
     "output_type": "stream",
     "text": [
      "Aves_231Seix09FR_23VI2022_1309 fini\n"
     ]
    },
    {
     "name": "stderr",
     "output_type": "stream",
     "text": [
      " 34%|███▍      | 83/243 [06:17<11:06,  4.17s/it]"
     ]
    },
    {
     "name": "stdout",
     "output_type": "stream",
     "text": [
      "Aves_236Montse09FR_29VI2022_0653 fini\n"
     ]
    },
    {
     "name": "stderr",
     "output_type": "stream",
     "text": [
      " 35%|███▍      | 84/243 [06:21<11:06,  4.19s/it]"
     ]
    },
    {
     "name": "stdout",
     "output_type": "stream",
     "text": [
      "Aves_237Montse09FR_29VI2022_1253 fini\n"
     ]
    },
    {
     "name": "stderr",
     "output_type": "stream",
     "text": [
      " 35%|███▍      | 85/243 [06:25<10:55,  4.15s/it]"
     ]
    },
    {
     "name": "stdout",
     "output_type": "stream",
     "text": [
      "Aves_1Eoux31FR_04V2021_0000 fini\n"
     ]
    },
    {
     "name": "stderr",
     "output_type": "stream",
     "text": [
      " 35%|███▌      | 86/243 [06:29<10:12,  3.90s/it]"
     ]
    },
    {
     "name": "stdout",
     "output_type": "stream",
     "text": [
      "Aves_4Benque31FR_05V2021_1300 fini\n"
     ]
    },
    {
     "name": "stderr",
     "output_type": "stream",
     "text": [
      " 36%|███▌      | 87/243 [06:32<10:06,  3.89s/it]"
     ]
    },
    {
     "name": "stdout",
     "output_type": "stream",
     "text": [
      "Aves_7Benque31FR_28V2020_0000 fini\n"
     ]
    },
    {
     "name": "stderr",
     "output_type": "stream",
     "text": [
      " 36%|███▌      | 88/243 [06:36<10:09,  3.93s/it]"
     ]
    },
    {
     "name": "stdout",
     "output_type": "stream",
     "text": [
      "Aves_9Benque31FR_28V2020_1300 fini\n"
     ]
    },
    {
     "name": "stderr",
     "output_type": "stream",
     "text": [
      " 37%|███▋      | 89/243 [06:43<12:03,  4.70s/it]"
     ]
    },
    {
     "name": "stdout",
     "output_type": "stream",
     "text": [
      "Aves_11Esparr31FR_29V2020_0000 fini\n"
     ]
    },
    {
     "name": "stderr",
     "output_type": "stream",
     "text": [
      " 37%|███▋      | 90/243 [06:49<13:17,  5.21s/it]"
     ]
    },
    {
     "name": "stdout",
     "output_type": "stream",
     "text": [
      "Aves_12Esparr31FR_29V2020_0700 fini\n"
     ]
    },
    {
     "name": "stderr",
     "output_type": "stream",
     "text": [
      " 37%|███▋      | 91/243 [06:54<12:28,  4.93s/it]"
     ]
    },
    {
     "name": "stdout",
     "output_type": "stream",
     "text": [
      "Aves_13StAndre31FR_22IV2019_1300 fini\n"
     ]
    },
    {
     "name": "stderr",
     "output_type": "stream",
     "text": [
      " 38%|███▊      | 92/243 [06:58<12:09,  4.83s/it]"
     ]
    },
    {
     "name": "stdout",
     "output_type": "stream",
     "text": [
      "Aves_14StAndre31FR_23IV2019_0000 fini\n"
     ]
    },
    {
     "name": "stderr",
     "output_type": "stream",
     "text": [
      " 38%|███▊      | 93/243 [07:02<11:02,  4.42s/it]"
     ]
    },
    {
     "name": "stdout",
     "output_type": "stream",
     "text": [
      "Aves_16StAndre31FR_05V2021_0000 fini\n"
     ]
    },
    {
     "name": "stderr",
     "output_type": "stream",
     "text": [
      " 39%|███▊      | 94/243 [07:08<12:09,  4.90s/it]"
     ]
    },
    {
     "name": "stdout",
     "output_type": "stream",
     "text": [
      "Aves_19Samoui31FR_28V2020_0000 fini\n"
     ]
    },
    {
     "name": "stderr",
     "output_type": "stream",
     "text": [
      " 39%|███▉      | 95/243 [07:12<11:35,  4.70s/it]"
     ]
    },
    {
     "name": "stdout",
     "output_type": "stream",
     "text": [
      "Aves_24Samoui31FR_03V2021_1300 fini\n"
     ]
    },
    {
     "name": "stderr",
     "output_type": "stream",
     "text": [
      " 40%|███▉      | 96/243 [07:15<10:08,  4.14s/it]"
     ]
    },
    {
     "name": "stdout",
     "output_type": "stream",
     "text": [
      "Aves_27Esparr31FR_23IV2019_1300 fini\n"
     ]
    },
    {
     "name": "stderr",
     "output_type": "stream",
     "text": [
      " 40%|███▉      | 97/243 [07:23<12:54,  5.30s/it]"
     ]
    },
    {
     "name": "stdout",
     "output_type": "stream",
     "text": [
      "Aves_28StAndre31FR_28V2020_1300 fini\n"
     ]
    },
    {
     "ename": "",
     "evalue": "",
     "output_type": "error",
     "traceback": [
      "\u001b[1;31mLe noyau s’est bloqué lors de l’exécution du code dans une cellule active ou une cellule précédente. \n",
      "\u001b[1;31mVeuillez vérifier le code dans la ou les cellules pour identifier une cause possible de l’échec. \n",
      "\u001b[1;31mCliquez <a href='https://aka.ms/vscodeJupyterKernelCrash'>ici</a> pour plus d’informations. \n",
      "\u001b[1;31mPour plus d’informations, consultez Jupyter <a href='command:jupyter.viewOutput'>log</a>."
     ]
    }
   ],
   "source": [
    "# print les BB \n",
    "# Pour randomforest\n",
    "df_randomf = new_df\n",
    "df_randomf['predicted_label'] = predictions_label_randomf\n",
    "\n",
    "code_uniques = df_truth[\"code_unique\"].unique()\n",
    "save_path = \"../../../DataSet/ResultsRand\"\n",
    "\n",
    "for code_unique in tqdm(code_uniques):\n",
    "    image_to_compare(code_unique, save_path, df_randomf)"
   ]
  },
  {
   "cell_type": "code",
   "execution_count": 1,
   "metadata": {},
   "outputs": [
    {
     "ename": "NameError",
     "evalue": "name 'new_df' is not defined",
     "output_type": "error",
     "traceback": [
      "\u001b[0;31m---------------------------------------------------------------------------\u001b[0m",
      "\u001b[0;31mNameError\u001b[0m                                 Traceback (most recent call last)",
      "Cell \u001b[0;32mIn [1], line 2\u001b[0m\n\u001b[1;32m      1\u001b[0m \u001b[38;5;66;03m# Pour XGBoost\u001b[39;00m\n\u001b[0;32m----> 2\u001b[0m df_xgb \u001b[38;5;241m=\u001b[39m \u001b[43mnew_df\u001b[49m\n\u001b[1;32m      3\u001b[0m df_xgb[\u001b[38;5;124m'\u001b[39m\u001b[38;5;124mpredicted_label\u001b[39m\u001b[38;5;124m'\u001b[39m] \u001b[38;5;241m=\u001b[39m predictions_label_xgb\n\u001b[1;32m      5\u001b[0m code_uniques \u001b[38;5;241m=\u001b[39m df_truth[\u001b[38;5;124m\"\u001b[39m\u001b[38;5;124mcode_unique\u001b[39m\u001b[38;5;124m\"\u001b[39m]\u001b[38;5;241m.\u001b[39munique()\n",
      "\u001b[0;31mNameError\u001b[0m: name 'new_df' is not defined"
     ]
    }
   ],
   "source": [
    "# Pour XGBoost\n",
    "df_xgb = new_df\n",
    "df_xgb['predicted_label'] = predictions_label_xgb\n",
    "\n",
    "code_uniques = df_truth[\"code_unique\"].unique()\n",
    "save_path = \"../../../DataSet/ResultsXGB\"\n",
    "\n",
    "for code_unique in tqdm(code_uniques):\n",
    "    image_to_compare(code_unique, save_path, df_xgb)"
   ]
  },
  {
   "cell_type": "code",
   "execution_count": null,
   "metadata": {},
   "outputs": [],
   "source": []
  }
 ],
 "metadata": {
  "kernelspec": {
   "display_name": "Python 3",
   "language": "python",
   "name": "python3"
  },
  "language_info": {
   "codemirror_mode": {
    "name": "ipython",
    "version": 3
   },
   "file_extension": ".py",
   "mimetype": "text/x-python",
   "name": "python",
   "nbconvert_exporter": "python",
   "pygments_lexer": "ipython3",
   "version": "3.10.12"
  }
 },
 "nbformat": 4,
 "nbformat_minor": 2
}
