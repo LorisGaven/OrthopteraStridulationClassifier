{
 "cells": [
  {
   "cell_type": "code",
   "execution_count": 1,
   "metadata": {},
   "outputs": [
    {
     "name": "stderr",
     "output_type": "stream",
     "text": [
      "/tmp/ipykernel_10833/2011421623.py:1: DeprecationWarning: \n",
      "Pyarrow will become a required dependency of pandas in the next major release of pandas (pandas 3.0),\n",
      "(to allow more performant data types, such as the Arrow string type, and better interoperability with other libraries)\n",
      "but was not found to be installed on your system.\n",
      "If this would cause problems for you,\n",
      "please provide us feedback at https://github.com/pandas-dev/pandas/issues/54466\n",
      "        \n",
      "  import pandas as pd\n"
     ]
    }
   ],
   "source": [
    "import pandas as pd\n",
    "import seaborn as sns\n",
    "import matplotlib.pyplot as plt\n",
    "import numpy as np"
   ]
  },
  {
   "cell_type": "code",
   "execution_count": null,
   "metadata": {},
   "outputs": [],
   "source": [
    "## detection d'audio avec les extraits de 1min \n",
    "## avec la libraire scikit-maad \n",
    "\n",
    "# Correctly specifying your file path\n",
    "path_audible_5s_train = \"DataSet/CSVs_morceaux_audio_5s/Audible/train_audible_recording_chunks.csv\"\n",
    "path_audible_5s_test = \"DataSet/CSVs_morceaux_audio_5s/Audible/test_audible_recording_chunks.csv\"\n",
    "path_audible_5s_val = \"DataSet/CSVs_morceaux_audio_5s/Audible/val_audible_recording_chunks.csv\"\n",
    "\n",
    "# Using pandas to read the CSV file into a DataFrame\n",
    "df_train = pd.read_csv(path_audible_5s_train)\n",
    "df_test = pd.read_csv(path_audible_5s_test)\n",
    "df_val = pd.read_csv(path_audible_5s_val)\n",
    "\n",
    "# Paths for the audio files \n",
    "path_global_5s_train = \"DataSet/Selection_morceaux_audio_5s/Audible/train_audible_recording_chunks.csv\"\n",
    "path_global_5s_test = \"DataSet/CSVs_morceaux_audio_5s/Audible/test_audible_recording_chunks.csv\"\n",
    "path_global_5s_val = \"DataSet/CSVs_morceaux_audio_5s/Audible/val_audible_recording_chunks.csv\""
   ]
  },
  {
   "cell_type": "code",
   "execution_count": null,
   "metadata": {},
   "outputs": [],
   "source": [
    "# Path Yolo results\n",
    "path_audible_results_YOLO = \"DataSet/soundscape_to_5s/Selection soundscapes 1 min/\"\n",
    "path_audible_csv_YOLO = \"DataSet/soundscape_to_5s/CSV soundscapes 1 min split 5s boxes/1min_to_5s_boxes.csv\"\n",
    "df_yolo = pd.read_csv(path_audible_csv_YOLO)\n",
    "\n",
    "soundscape_truth_df = \"DataSet/CSV soundscapes 1 min/selected_soundscapes.csv\"\n",
    "# generer spectrogramme \n",
    "soundscape_image_path = \"DataSet/Selection soundscapes 1 min/\"\n",
    "\n",
    "df_truth = pd.read_csv(soundscape_truth_df)"
   ]
  },
  {
   "cell_type": "code",
   "execution_count": null,
   "metadata": {},
   "outputs": [],
   "source": [
    "# Comparer les bounding boxes \n",
    "\n"
   ]
  }
 ],
 "metadata": {
  "kernelspec": {
   "display_name": "Python 3",
   "language": "python",
   "name": "python3"
  },
  "language_info": {
   "codemirror_mode": {
    "name": "ipython",
    "version": 3
   },
   "file_extension": ".py",
   "mimetype": "text/x-python",
   "name": "python",
   "nbconvert_exporter": "python",
   "pygments_lexer": "ipython3",
   "version": "3.10.12"
  }
 },
 "nbformat": 4,
 "nbformat_minor": 2
}
