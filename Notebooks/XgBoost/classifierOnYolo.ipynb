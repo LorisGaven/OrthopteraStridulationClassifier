{
 "cells": [
  {
   "cell_type": "code",
   "execution_count": 1,
   "metadata": {},
   "outputs": [
    {
     "name": "stderr",
     "output_type": "stream",
     "text": [
      "/tmp/ipykernel_6901/3914160640.py:1: DeprecationWarning: \n",
      "Pyarrow will become a required dependency of pandas in the next major release of pandas (pandas 3.0),\n",
      "(to allow more performant data types, such as the Arrow string type, and better interoperability with other libraries)\n",
      "but was not found to be installed on your system.\n",
      "If this would cause problems for you,\n",
      "please provide us feedback at https://github.com/pandas-dev/pandas/issues/54466\n",
      "        \n",
      "  import pandas as pd\n"
     ]
    }
   ],
   "source": [
    "import pandas as pd\n",
    "import seaborn as sns\n",
    "import matplotlib.pyplot as plt\n",
    "import numpy as np\n",
    "import os\n",
    "import csv\n",
    "from PIL import Image\n",
    "from sklearn.ensemble import RandomForestClassifier\n",
    "from sklearn.metrics import accuracy_score, classification_report\n",
    "from sklearn.metrics import confusion_matrix\n",
    "from sklearn.preprocessing import LabelEncoder\n",
    "from xgboost import XGBClassifier"
   ]
  },
  {
   "cell_type": "code",
   "execution_count": 2,
   "metadata": {},
   "outputs": [
    {
     "name": "stdout",
     "output_type": "stream",
     "text": [
      "Requirement already satisfied: librosa in /usr/local/lib/python3.10/dist-packages (0.10.1)\n",
      "Requirement already satisfied: pooch>=1.0 in /usr/local/lib/python3.10/dist-packages (from librosa) (1.8.0)\n",
      "Requirement already satisfied: msgpack>=1.0 in /usr/local/lib/python3.10/dist-packages (from librosa) (1.0.7)\n",
      "Requirement already satisfied: numba>=0.51.0 in /usr/local/lib/python3.10/dist-packages (from librosa) (0.59.0)\n",
      "Requirement already satisfied: lazy-loader>=0.1 in /usr/local/lib/python3.10/dist-packages (from librosa) (0.3)\n",
      "Requirement already satisfied: scipy>=1.2.0 in /usr/local/lib/python3.10/dist-packages (from librosa) (1.11.4)\n",
      "Requirement already satisfied: numpy!=1.22.0,!=1.22.1,!=1.22.2,>=1.20.3 in /usr/local/lib/python3.10/dist-packages (from librosa) (1.26.1)\n",
      "Requirement already satisfied: audioread>=2.1.9 in /usr/local/lib/python3.10/dist-packages (from librosa) (3.0.1)\n",
      "Requirement already satisfied: scikit-learn>=0.20.0 in /usr/local/lib/python3.10/dist-packages (from librosa) (1.4.0)\n",
      "Requirement already satisfied: soundfile>=0.12.1 in /usr/local/lib/python3.10/dist-packages (from librosa) (0.12.1)\n",
      "Requirement already satisfied: decorator>=4.3.0 in /usr/local/lib/python3.10/dist-packages (from librosa) (5.1.1)\n",
      "Requirement already satisfied: soxr>=0.3.2 in /usr/local/lib/python3.10/dist-packages (from librosa) (0.3.7)\n",
      "Requirement already satisfied: typing-extensions>=4.1.1 in /usr/local/lib/python3.10/dist-packages (from librosa) (4.9.0)\n",
      "Requirement already satisfied: joblib>=0.14 in /usr/local/lib/python3.10/dist-packages (from librosa) (1.3.2)\n",
      "Requirement already satisfied: llvmlite<0.43,>=0.42.0dev0 in /usr/local/lib/python3.10/dist-packages (from numba>=0.51.0->librosa) (0.42.0)\n",
      "Requirement already satisfied: requests>=2.19.0 in /usr/local/lib/python3.10/dist-packages (from pooch>=1.0->librosa) (2.31.0)\n",
      "Requirement already satisfied: platformdirs>=2.5.0 in /usr/local/lib/python3.10/dist-packages (from pooch>=1.0->librosa) (4.2.0)\n",
      "Requirement already satisfied: packaging>=20.0 in /usr/local/lib/python3.10/dist-packages (from pooch>=1.0->librosa) (21.3)\n",
      "Requirement already satisfied: threadpoolctl>=2.0.0 in /usr/local/lib/python3.10/dist-packages (from scikit-learn>=0.20.0->librosa) (3.3.0)\n",
      "Requirement already satisfied: cffi>=1.0 in /usr/local/lib/python3.10/dist-packages (from soundfile>=0.12.1->librosa) (1.15.1)\n",
      "Requirement already satisfied: pycparser in /usr/local/lib/python3.10/dist-packages (from cffi>=1.0->soundfile>=0.12.1->librosa) (2.21)\n",
      "Requirement already satisfied: pyparsing!=3.0.5,>=2.0.2 in /usr/lib/python3/dist-packages (from packaging>=20.0->pooch>=1.0->librosa) (2.4.7)\n",
      "Requirement already satisfied: certifi>=2017.4.17 in /usr/lib/python3/dist-packages (from requests>=2.19.0->pooch>=1.0->librosa) (2020.6.20)\n",
      "Requirement already satisfied: charset-normalizer<4,>=2 in /usr/local/lib/python3.10/dist-packages (from requests>=2.19.0->pooch>=1.0->librosa) (3.3.2)\n",
      "Requirement already satisfied: urllib3<3,>=1.21.1 in /usr/lib/python3/dist-packages (from requests>=2.19.0->pooch>=1.0->librosa) (1.26.5)\n",
      "Requirement already satisfied: idna<4,>=2.5 in /usr/lib/python3/dist-packages (from requests>=2.19.0->pooch>=1.0->librosa) (3.3)\n",
      "\u001b[33mWARNING: Running pip as the 'root' user can result in broken permissions and conflicting behaviour with the system package manager. It is recommended to use a virtual environment instead: https://pip.pypa.io/warnings/venv\u001b[0m\u001b[33m\n",
      "\u001b[0mNote: you may need to restart the kernel to use updated packages.\n"
     ]
    }
   ],
   "source": [
    "pip install librosa"
   ]
  },
  {
   "cell_type": "code",
   "execution_count": 3,
   "metadata": {},
   "outputs": [
    {
     "name": "stdout",
     "output_type": "stream",
     "text": [
      "Requirement already satisfied: xgboost in /usr/local/lib/python3.10/dist-packages (2.0.3)\n",
      "Requirement already satisfied: scipy in /usr/local/lib/python3.10/dist-packages (from xgboost) (1.11.4)\n",
      "Requirement already satisfied: numpy in /usr/local/lib/python3.10/dist-packages (from xgboost) (1.26.1)\n",
      "\u001b[33mWARNING: Running pip as the 'root' user can result in broken permissions and conflicting behaviour with the system package manager. It is recommended to use a virtual environment instead: https://pip.pypa.io/warnings/venv\u001b[0m\u001b[33m\n",
      "\u001b[0mNote: you may need to restart the kernel to use updated packages.\n"
     ]
    }
   ],
   "source": [
    "pip install xgboost"
   ]
  },
  {
   "cell_type": "code",
   "execution_count": 4,
   "metadata": {},
   "outputs": [
    {
     "name": "stdout",
     "output_type": "stream",
     "text": [
      "/root/3A/ProjetLong/OrthopteraStridulationClassifier/Notebooks/XgBoost\n"
     ]
    }
   ],
   "source": [
    "!pwd"
   ]
  },
  {
   "cell_type": "code",
   "execution_count": 5,
   "metadata": {},
   "outputs": [],
   "source": [
    "## Pour train : les données de 1 min qui ont été streched\n",
    "path_train_audio_files = \"../../../DataSet/NewDataSet5sec/Selection soundscapes 1 min/\"\n",
    "path_train_csv = \"../../../DataSet/NewYolo/train_csv.csv\" \n",
    "\n",
    "## Pour test : les boundingbox de Yolo\n",
    "path_test_csv = \"../../../DataSet/NewYolo/1min_to_5s_yolo.csv\""
   ]
  },
  {
   "cell_type": "code",
   "execution_count": 6,
   "metadata": {},
   "outputs": [],
   "source": [
    "df_train = pd.read_csv(path_train_csv) \n",
    "df_test = pd.read_csv(path_test_csv) "
   ]
  },
  {
   "cell_type": "code",
   "execution_count": 7,
   "metadata": {},
   "outputs": [
    {
     "name": "stdout",
     "output_type": "stream",
     "text": [
      "{'Orthoptera_cdpotsa09FR_05X2022_806': 38400, 'Orthoptera_plmarsa31FR_12V2023_1213': 44100, 'Orthoptera_cdpotsa09FR_05X2022_830': 38400, 'Orthoptera_guneust09FR_10VII2023_1329': 96000, 'Orthoptera_guneust09FR_10VII2023_1332': 96000, 'Orthoptera_adkarsa31FR_21IX2022_1023': 38400, 'Orthoptera_hotrrsa31FR_21IX2022_706': 38400, 'Orthoptera_hotrrsa31FR_21IX2022_991': 38400, 'Orthoptera_cdchcau09FR_18IX2022_1055': 96000, 'Orthoptera_cdchcau09FR_18IX2022_1048': 96000, 'Orthoptera_cdchcau09FR_18IX2022_1052': 96000, 'Orthoptera_XXXXigeXXES_01VII2022_331': 44100, 'Orthoptera_XXXXigeXXES_01VII2022_332': 44100, 'Orthoptera_XXXXigeXXES_01VIII2022_900': 44100, 'Orthoptera_XXXXigeXXES_02VIII2022_901': 44100, 'Orthoptera_XXXXjacXXES_26VIII2022_1035': 96000, 'Orthoptera_XXXXporXXES_06V2022_123': 44100, 'Orthoptera_XXXXporXXES_06V2022_124': 44100, 'Orthoptera_XXXXporXXES_06V2022_125': 44100, 'Orthoptera_XXXXporXXES_30IV2022_117': 44100, 'Orthoptera_XXXXporXXES_30IV2022_118': 44100, 'Orthoptera_XXXXbid07FR_27IV2022_98': 44100, 'Orthoptera_XXXXjacXXES_26VIII2022_1029': 96000, 'Orthoptera_XXXXsma07FR_27IV2022_112': 44100, 'Orthoptera_cdchcau09FR_18IX2022_1056': 96000, 'Orthoptera_XXXXjacXXES_26VIII2022_1058': 96000, 'Orthoptera_XXXXigeXXES_01VIII2022_896': 44100, 'Orthoptera_XXXXigeXXES_01VIII2022_898': 44100, 'Orthoptera_XXXXigeXXES_01VIII2022_899': 44100, 'Orthoptera_XXXXigeXXES_10VIII2022_1190': 44100, 'Orthoptera_XXXXigeXXES_15VII2022_876': 44100, 'Orthoptera_XXXXigeXXES_17VII2022_880': 44100, 'Orthoptera_XXXXigeXXES_19VII2022_1198': 44100, 'Orthoptera_XXXXjacXXES_26VIII2022_1030': 96000, 'Orthoptera_XXXXjacXXES_26VIII2022_661': 96000, 'Orthoptera_XXXXjacXXES_26VIII2022_662': 96000, 'Orthoptera_XXXXsma07FR_10VIII2022_904': 44100, 'Orthoptera_XXXXsma07FR_10VIII2022_905': 44100, 'Orthoptera_XXXXigeXXES_17VII2022_877': 44100, 'Orthoptera_XXXXigeXXES_14VII2022_863': 44100, 'Orthoptera_cdmasma07FR_14VIII2022_908': 44100, 'Orthoptera_cdmasma07FR_14VIII2022_909': 44100, 'Orthoptera_XXXXascXXES_26VIII2022_1027': 96000, 'Orthoptera_XXXXascXXES_26VIII2022_660': 96000, 'Orthoptera_XXXXigeXXES_03VII2022_423': 44100, 'Orthoptera_XXXXigeXXES_14VII2022_871': 44100, 'Orthoptera_XXXXigeXXES_02VIII2022_1189': 44100, 'Orthoptera_XXXXigeXXES_02VII2022_337': 44100, 'Orthoptera_XXXXigeXXES_02VIII2022_1188': 44100, 'Orthoptera_XXXXigeXXES_14VII2022_861': 44100, 'Orthoptera_XXXXigeXXES_17VII2022_879': 44100, 'Orthoptera_XXXXmon82FR_19VII2022_886': 44100, 'Orthoptera_XXXXmon82FR_19VII2022_887': 44100, 'Orthoptera_XXXXcam11FR_12IX2022_1037': 96000, 'Orthoptera_XXXXmon82FR_19VII2022_885': 44100, 'Orthoptera_XXXXmon82FR_19VII2022_888': 44100, 'Orthoptera_XXXXmon82FR_19VII2022_889': 44100, 'Orthoptera_XXXXmon82FR_19VII2022_893': 44100, 'Orthoptera_XXXXmon82FR_19VII2022_895': 44100, 'Orthoptera_XXXXigeXXES_03VII2022_1194': 44100, 'Orthoptera_XXXXigeXXES_14VII2022_867': 44100, 'Orthoptera_XXXXigeXXES_14VII2022_872': 44100, 'Orthoptera_XXXXigeXXES_14VII2022_875': 44100, 'Orthoptera_XXXXigeXXES_17VII2022_882': 44100, 'Orthoptera_XXXXigeXXES_17VII2022_883': 44100, 'Aves_184Barjac09FR_15VI2022_0000': 48000, 'Aves_186Barjac09FR_15VI2022_1300': 48000, 'Aves_183Aurade32FR_03VI2022_1300': 48000, 'Aves_189Franco31FR_17VI2022_1300': 48000, 'Aves_195Mijane09FR_22V2022_1254': 24000, 'Aves_204Goulie09FR_15VI2022_1307': 24000, 'Aves_207Ustou09FR_28VI2022_1306': 24000, 'Aves_209Antras09FR_01VI2022_0658': 24000, 'Aves_212Cassou09FR_07VII2022_0709': 24000, 'Aves_213Cassou09FR_07VII2022_1309': 24000, 'Aves_215Merens09FR_12VI2022_0654': 24000, 'Aves_216Merens09FR_12VI2022_1254': 24000, 'Aves_219Bonac-09FR_29VI2022_1246': 24000, 'Aves_221Orgeix09FR_13VI2022_0707': 24000, 'Aves_222Orgeix09FR_13VI2022_1307': 24000, 'Aves_225Orlu09FR_28VI2022_1306': 24000, 'Aves_231Seix09FR_23VI2022_1309': 24000, 'Aves_236Montse09FR_29VI2022_0653': 24000, 'Aves_237Montse09FR_29VI2022_1253': 24000, 'Aves_1Eoux31FR_04V2021_0000': 24000, 'Aves_4Benque31FR_05V2021_1300': 24000, 'Aves_7Benque31FR_28V2020_0000': 24000, 'Aves_9Benque31FR_28V2020_1300': 24000, 'Aves_11Esparr31FR_29V2020_0000': 48000, 'Aves_12Esparr31FR_29V2020_0700': 48000, 'Aves_13StAndre31FR_22IV2019_1300': 24000, 'Aves_14StAndre31FR_23IV2019_0000': 24000, 'Aves_16StAndre31FR_05V2021_0000': 24000, 'Aves_19Samoui31FR_28V2020_0000': 48000, 'Aves_24Samoui31FR_03V2021_1300': 24000, 'Aves_27Esparr31FR_23IV2019_1300': 24000, 'Aves_28StAndre31FR_28V2020_1300': 48000, 'Aves_30StAndre31FR_29V2020_0700': 48000, 'Aves_31StAndre31FR_24IV2019_1300': 24000, 'Aves_34Eoux31FR_17VI2019_0000': 24000, 'Aves_35Eoux31FR_17VI2019_0700': 24000, 'Aves_37Eoux31FR_09VI2021_0000': 24000, 'Aves_38Eoux31FR_09VI2021_0700': 24000, 'Aves_39Eoux31FR_09VI2021_1300': 24000, 'Aves_40Benque31FR_17VI2019_0000': 48000, 'Aves_43Benque31FR_09VI2021_0000': 24000, 'Aves_45Benque31FR_09VI2021_1300': 24000, 'Aves_48Benque31FR_29V2020_1300': 48000, 'Aves_53StAndre31FR_25IV2019_0000': 24000, 'Aves_55StAndre31FR_21IV2019_1300': 24000, 'Aves_58Boussa31FR_17VI2019_0000': 48000, 'Aves_60Boussa31FR_17VI2019_1300': 48000, 'Aves_61Benque31FR_09VI2021_0000': 24000, 'Aves_64Benque31FR_09VI2021_0000': 24000, 'Aves_65Benque31FR_09VI2021_0700': 24000, 'Aves_66Benque31FR_09VI2021_1300': 24000, 'Aves_67Bachas31FR_19VI2019_0000': 24000, 'Aves_69Bachas31FR_19VI2019_1300': 24000, 'Aves_70StAndre31FR_28V2020_1300': 48000, 'Aves_72StAndre31FR_29V2020_0700': 48000, 'Aves_73Benque31FR_29V2020_0000': 24000, 'Aves_75Benque31FR_29V2020_1300': 24000, 'Aves_78Benque31FR_19VI2019_1300': 48000, 'Aves_79Cassag31FR_13V2019_1300': 48000, 'Aves_83Boussa31FR_18VI2019_0700': 48000, 'Aves_84Boussa31FR_18VI2019_1300': 48000, 'Aves_85Benque31FR_19VI2019_0000': 48000, 'Aves_86Benque31FR_19VI2019_0700': 48000, 'Aves_87Benque31FR_19VI2019_1300': 48000, 'Aves_88Terreb31FR_28V2020_0000': 48000, 'Aves_89Terreb31FR_28V2020_0700': 48000, 'Aves_97Boussa31FR_18VI2019_0000': 24000, 'Aves_98Boussa31FR_18VI2019_0700': 24000, 'Aves_99Boussa31FR_18VI2019_1300': 24000, 'Aves_101Boussa31FR_18VI2019_0700': 48000, 'Aves_102Boussa31FR_18VI2019_1300': 48000, 'Aves_105Terreb31FR_28V2020_1300': 48000, 'Aves_106Terreb31FR_28V2020_0000': 48000, 'Aves_109Cassag31FR_22V2019_0000': 48000, 'Aves_112Cassag31FR_18V2021_0000': 24000, 'Aves_114Cassag31FR_18V2021_1300': 24000, 'Aves_117Montou31FR_29V2020_1300': 24000, 'Aves_120Alan31FR_28V2020_1300': 48000, 'Aves_121Terreb31FR_28V2020_0000': 24000, 'Aves_127Terreb31FR_28V2020_0000': 24000, 'Aves_129Terreb31FR_28V2020_1300': 24000, 'Aves_130Eoux31FR_28V2020_1300': 48000, 'Aves_131Eoux31FR_29V2020_0000': 48000, 'Aves_132Eoux31FR_29V2020_0700': 48000, 'Aves_136Alan31FR_29V2020_0000': 24000, 'Aves_138Alan31FR_29V2020_1300': 24000, 'Aves_139Cassag31FR_20V2021_1300': 24000, 'Aves_140Cassag31FR_21V2021_0000': 24000, 'Aves_144Peyris31FR_20VI2019_1300': 24000, 'Aves_145Peyrou31FR_29V2020_0000': 48000, 'Aves_147Peyrou31FR_29V2020_1300': 48000, 'Aves_148Cassag31FR_29V2020_0000': 48000, 'Aves_149Cassag31FR_29V2020_0700': 48000, 'Aves_150Cassag31FR_29V2020_1300': 48000, 'Aves_151Aurign31FR_29V2020_0000': 48000, 'Aves_154Aurign31FR_29V2020_0000': 48000, 'Aves_156Aurign31FR_29V2020_1300': 48000, 'Aves_157StElix-31FR_29V2020_0000': 48000, 'Aves_160Eoux31FR_18VI2019_0000': 24000, 'Aves_162Eoux31FR_18VI2019_1300': 24000, 'Aves_163StElix-31FR_29V2020_0000': 24000, 'Aves_165StElix-31FR_29V2020_1300': 24000, 'Aves_168Peyris31FR_19VI2019_1300': 24000, 'Aves_174Peyris31FR_20VI2019_1300': 48000, 'Aves_176Esparr31FR_29V2020_0000': 48000, 'Aves_177Esparr31FR_29V2020_0700': 48000, 'Anura_cdbomar12FR_27IV2022_2145': 48000, 'Anura_cdbomar12FR_27IV2022_2230': 48000, 'Orthoptera_cdbomar12FR_28IV2022_2130': 48000, 'Orthoptera_cdbomar12FR_28IV2022_2145': 48000, 'Orthoptera_cdbomar12FR_28IV2022_2200': 48000, 'Orthoptera_cdbomar12FR_28IV2022_2230': 48000, 'Orthoptera_cdbomar12FR_30IV2022_2145': 48000, 'Orthoptera_cdbomar12FR_30IV2022_2200': 48000, 'Anura_estalep09FR_27III2022_1330': 48000, 'Anura_estalep09FR_27III2022_1345': 48000, 'Anura_estalep09FR_28III2022_1045': 48000, 'Anura_pechpuy46FR_06V2022_1915': 48000, 'Anura_pechpuy46FR_06V2022_2000': 48000, 'Anura_pechpuy46FR_06V2022_2115': 48000, 'Anura_pechpuy46FR_06V2022_2145': 48000, 'Anura_pechpuy46FR_06V2022_2200': 48000, 'Anura_pechpuy46FR_06V2022_2215': 48000, 'Anura_pechpuy46FR_06V2022_2230': 48000, 'Orthoptera_pechpuy46FR_06V2022_2015': 48000, 'Orthoptera_pechpuy46FR_06V2022_2100': 48000, 'Orthoptera_pechpuy46FR_06V2022_2130': 48000, 'Anura_pechpuy46FR_07V2022_0000': 48000, 'Anura_pechpuy46FR_07V2022_1700': 48000, 'Anura_pechpuy46FR_07V2022_1815': 48000, 'Anura_pechpuy46FR_07V2022_1915': 48000, 'Anura_pechpuy46FR_07V2022_2145': 48000, 'Anura_pechpuy46FR_07V2022_2200': 48000, 'Anura_pechpuy46FR_07V2022_2215': 48000, 'Anura_pechpuy46FR_07V2022_2230': 48000, 'Anura_pechpuy46FR_07V2022_2300': 48000, 'Anura_pechpuy46FR_08V2022_2115': 48000, 'Anura_pechpuy46FR_08V2022_2130': 48000, 'Anura_pechpuy46FR_08V2022_2145': 48000, 'Anura_pechpuy46FR_08V2022_2200': 48000, 'Anura_pechpuy46FR_08V2022_2215': 48000, 'Anura_pechpuy46FR_08V2022_2230': 48000, 'Anura_pechpuy46FR_08V2022_2345': 48000, 'Anura_pechpuy46FR_09V2022_0030': 48000, 'Anura_pechpuy46FR_09V2022_2015': 48000, 'Anura_pechpuy46FR_09V2022_2115': 48000, 'Anura_pechpuy46FR_09V2022_2145': 48000, 'Anura_pechpuy46FR_09V2022_2230': 48000, 'Anura_pechpuy46FR_09V2022_2330': 48000, 'Anura_pechpuy46FR_10V2022_0030': 48000, 'Anura_pechpuy46FR_10V2022_0045': 48000, 'Anura_pechpuy46FR_10V2022_0115': 48000, 'Anura_pechpuy46FR_10V2022_2045': 48000, 'Anura_pechpuy46FR_10V2022_2130': 48000, 'Anura_pechpuy46FR_10V2022_2145': 48000, 'Anura_pechpuy46FR_10V2022_2200': 48000, 'Anura_pechpuy46FR_10V2022_2215': 48000, 'Anura_pechpuy46FR_10V2022_2330': 48000, 'Anura_pechpuy46FR_11V2022_0030': 48000, 'Anura_pechpuy46FR_11V2022_0315': 48000, 'Anura_pechpuy46FR_11V2022_0345': 48000, 'Orthoptera_pechpuy46FR_11V2022_0530': 48000, 'Aves_idpofra31FR_23VIII2022_0000': 48000, 'Aves_idpofra31FR_23VIII2022_0030': 48000, 'Aves_idpofra31FR_23VIII2022_0115': 48000, 'Aves_idpofra31FR_23VIII2022_0130': 48000, 'Aves_idpofra31FR_23VIII2022_0245': 48000, 'Aves_idpofra31FR_23VIII2022_0400': 48000, 'Orthoptera_idpofra31FR_23VIII2022_0015': 48000, 'Orthoptera_idpofra31FR_23VIII2022_0045': 48000, 'Orthoptera_idpofra31FR_23VIII2022_0145': 48000, 'Orthoptera_idpofra31FR_23VIII2022_0200': 48000, 'Orthoptera_idpofra31FR_23VIII2022_0215': 48000, 'Orthoptera_idpofra31FR_23VIII2022_0230': 48000, 'Orthoptera_idpofra31FR_23VIII2022_0300': 48000, 'Orthoptera_idpofra31FR_23VIII2022_0315': 48000, 'Orthoptera_idpofra31FR_23VIII2022_0330': 48000, 'Orthoptera_JuBa_AoUe09FR_12IX2017_4123': 384000}\n"
     ]
    }
   ],
   "source": [
    "## get_sampling_rate of the recordings and the code_unique \n",
    "sampling_dict = dict()\n",
    "for _, row in df_train.iterrows() : \n",
    "    code = row['code_unique']\n",
    "    if code not in sampling_dict : \n",
    "        sampling_dict[code] = row['sampling_rate']\n",
    "\n",
    "print(sampling_dict)"
   ]
  },
  {
   "cell_type": "code",
   "execution_count": 8,
   "metadata": {},
   "outputs": [],
   "source": [
    "######## Preparer les données de Yolo pour retrouver les fréquences à partir des pixels\n",
    "def prepare_yolo_data(df_yolo) :     \n",
    "    colonnes = [\"unique_code\", \"max_frequency\", \"min_frequency\",\"img_width\", \"img_height\", \"x1\", \"x2\", \"y1\", \"y2\", \"duree\", \"start_split\", \"end_split\", \"predicted_label\"]\n",
    "    new_df = pd.DataFrame(columns=colonnes)\n",
    "    new_df[\"unique_code\"] = df_yolo[\"unique_code\"]\n",
    "    new_df[\"start_split\"] = df_yolo[\"start_split\"]\n",
    "    new_df[\"end_split\"] = df_yolo[\"end_split\"]\n",
    "    new_df[\"x1\"] = df_yolo[\"x1\"]\n",
    "    new_df[\"x2\"] = df_yolo[\"x2\"]\n",
    "    new_df[\"y1\"] = df_yolo[\"y1\"]\n",
    "    new_df[\"y2\"] = df_yolo[\"y2\"]\n",
    "    new_df[\"img_width\"] = df_yolo[\"img_width\"]\n",
    "    new_df[\"img_height\"] = df_yolo[\"img_height\"]\n",
    "\n",
    "    based_sr = 48000\n",
    "    for ind, row in new_df.iterrows():\n",
    "        width = row[\"img_width\"]\n",
    "        height = row[\"img_height\"]\n",
    "        x1 = row[\"x1\"]\n",
    "        x2 = row[\"x2\"]\n",
    "        y1 = row[\"y1\"]\n",
    "        y2 = row[\"y2\"]\n",
    "        start = row[\"start_split\"]\n",
    "        end = row[\"end_split\"]\n",
    "        code = row[\"unique_code\"]\n",
    "        ratio = min(sampling_dict[code]/based_sr,1)\n",
    "        minfreq = ((height - y2)*based_sr*ratio) / (height * 2)\n",
    "        maxfreq = ((height - y1)*based_sr*ratio) / (height * 2)\n",
    "\n",
    "        new_df.loc[ind, \"min_frequency\"] = minfreq \n",
    "        new_df.loc[ind, \"max_frequency\"] = maxfreq \n",
    "        new_df.loc[ind, \"duree\"] = end - start\n",
    "    return new_df\n"
   ]
  },
  {
   "cell_type": "code",
   "execution_count": 9,
   "metadata": {},
   "outputs": [
    {
     "name": "stdout",
     "output_type": "stream",
     "text": [
      "                              unique_code max_frequency min_frequency  \\\n",
      "0        Anura_estalep09FR_27III2022_1330   2177.560976    351.219512   \n",
      "1        Anura_estalep09FR_27III2022_1345    1240.97561     23.414634   \n",
      "2        Anura_estalep09FR_27III2022_1345   1685.853659     23.414634   \n",
      "3        Anura_estalep09FR_27III2022_1345   1170.731707           0.0   \n",
      "4        Anura_estalep09FR_27III2022_1345   1030.243902           0.0   \n",
      "...                                   ...           ...           ...   \n",
      "2295  Orthoptera_XXXXsma07FR_27IV2022_112  18070.243902   3183.804878   \n",
      "2296  Orthoptera_XXXXsma07FR_27IV2022_112  18156.292683   3248.341463   \n",
      "2297  Orthoptera_XXXXsma07FR_27IV2022_112  18048.731707   3205.317073   \n",
      "2298  Orthoptera_XXXXsma07FR_27IV2022_112  18070.243902   3183.804878   \n",
      "2299  Orthoptera_XXXXsma07FR_27IV2022_112  18048.731707   3226.829268   \n",
      "\n",
      "      img_width  img_height  x1   x2   y1    y2 duree  start_split  end_split  \\\n",
      "0           469        1025  45   95  932  1010     5           15         20   \n",
      "1           469        1025   0  469  972  1024     5            0          5   \n",
      "2           469        1025   0  466  953  1024     5           25         30   \n",
      "3           469        1025   0  469  975  1025     5           40         45   \n",
      "4           469        1025   0  399  981  1025     5           45         50   \n",
      "...         ...         ...  ..  ...  ...   ...   ...          ...        ...   \n",
      "2295        469        1025   0  469  185   877     5           75         80   \n",
      "2296        469        1025   1  469  181   874     5           80         85   \n",
      "2297        469        1025   1  468  186   876     5           85         90   \n",
      "2298        469        1025   0  469  185   877     5           90         95   \n",
      "2299        469        1025   1  469  186   875     5           95        100   \n",
      "\n",
      "     predicted_label  \n",
      "0                NaN  \n",
      "1                NaN  \n",
      "2                NaN  \n",
      "3                NaN  \n",
      "4                NaN  \n",
      "...              ...  \n",
      "2295             NaN  \n",
      "2296             NaN  \n",
      "2297             NaN  \n",
      "2298             NaN  \n",
      "2299             NaN  \n",
      "\n",
      "[2300 rows x 13 columns]\n"
     ]
    }
   ],
   "source": [
    "new_df = prepare_yolo_data(df_test)\n",
    "print(new_df)"
   ]
  },
  {
   "cell_type": "code",
   "execution_count": 42,
   "metadata": {},
   "outputs": [
    {
     "name": "stdout",
     "output_type": "stream",
     "text": [
      "0.0\n",
      "17373.658536585364\n",
      "608.780487804878\n",
      "24000.0\n"
     ]
    }
   ],
   "source": [
    "print(new_df['min_frequency'].min())\n",
    "print(new_df['min_frequency'].max())\n",
    "print(new_df['max_frequency'].min())\n",
    "print(new_df['max_frequency'].max())"
   ]
  },
  {
   "cell_type": "code",
   "execution_count": 43,
   "metadata": {},
   "outputs": [
    {
     "name": "stderr",
     "output_type": "stream",
     "text": [
      "/tmp/ipykernel_11871/2747467818.py:38: SettingWithCopyWarning: \n",
      "A value is trying to be set on a copy of a slice from a DataFrame.\n",
      "Try using .loc[row_indexer,col_indexer] = value instead\n",
      "\n",
      "See the caveats in the documentation: https://pandas.pydata.org/pandas-docs/stable/user_guide/indexing.html#returning-a-view-versus-a-copy\n",
      "  new_dftest['min_frequency'] = new_dftest['min_frequency'].astype(int)\n",
      "/tmp/ipykernel_11871/2747467818.py:39: SettingWithCopyWarning: \n",
      "A value is trying to be set on a copy of a slice from a DataFrame.\n",
      "Try using .loc[row_indexer,col_indexer] = value instead\n",
      "\n",
      "See the caveats in the documentation: https://pandas.pydata.org/pandas-docs/stable/user_guide/indexing.html#returning-a-view-versus-a-copy\n",
      "  new_dftest['max_frequency'] = new_dftest['max_frequency'].astype(int)\n"
     ]
    }
   ],
   "source": [
    "path_1min = \"../../../DataSet/NewYolo/train_stretch.csv\"\n",
    "\n",
    "df_train = pd.read_csv(path_1min)\n",
    "#df_train = df_train[df_train[\"label_class\"] == \"Insecta\"]\n",
    "\n",
    "label_encoder = LabelEncoder()\n",
    "label_encoder.fit(df_train['label'])\n",
    "\n",
    "y_label = label_encoder.transform(df_train['label'])\n",
    "\n",
    "df_train = df_train[['max_frequency', 'min_frequency']]\n",
    "df_train['min_frequency'] = df_train['min_frequency'].astype(int)\n",
    "df_train['max_frequency'] = df_train['max_frequency'].astype(int)\n",
    "\n",
    "# Gestion des valeurs manquantes\n",
    "#df.fillna(df.mean(), inplace=True)\n",
    "df_train = df_train.dropna()\n",
    "\n",
    "# Gestion des variables catégorielles\n",
    "df_train = pd.get_dummies(df_train)\n",
    "\n",
    "X_train = df_train\n",
    "\n",
    "#################### Préparer X_test avec les données ci-dessus \n",
    "\n",
    "new_dftest = new_df[['max_frequency', 'min_frequency']]\n",
    "new_dftest['min_frequency'] = new_dftest['min_frequency'].astype(int)\n",
    "new_dftest['max_frequency'] = new_dftest['max_frequency'].astype(int)\n",
    "\n",
    "# Gestion des valeurs manquantes\n",
    "#new_dftest.fillna(new_dftest.mean(), inplace=True)\n",
    "new_dftest = new_dftest.dropna()\n",
    "\n",
    "# Gestion des variables catégorielles\n",
    "new_dftest = pd.get_dummies(new_dftest)\n",
    "\n",
    "X_test = new_dftest"
   ]
  },
  {
   "cell_type": "code",
   "execution_count": 44,
   "metadata": {},
   "outputs": [
    {
     "name": "stdout",
     "output_type": "stream",
     "text": [
      "      max_frequency  min_frequency\n",
      "0              2177            351\n",
      "1              1240             23\n",
      "2              1685             23\n",
      "3              1170              0\n",
      "4              1030              0\n",
      "...             ...            ...\n",
      "2295          18070           3183\n",
      "2296          18156           3248\n",
      "2297          18048           3205\n",
      "2298          18070           3183\n",
      "2299          18048           3226\n",
      "\n",
      "[2300 rows x 2 columns]\n"
     ]
    }
   ],
   "source": [
    "print(X_test)"
   ]
  },
  {
   "cell_type": "code",
   "execution_count": 45,
   "metadata": {},
   "outputs": [],
   "source": [
    "# XGBoost\n",
    "xgb_model = XGBClassifier(use_label_encoder=False, eval_metric='logloss', verbosity=2)\n",
    "\n",
    "xgb_model.fit(X_train, y_label)\n",
    "\n",
    "predictions_xgb = xgb_model.predict(X_test)\n",
    "\n",
    "predictions_label_xgb = label_encoder.inverse_transform(predictions_xgb)"
   ]
  },
  {
   "cell_type": "code",
   "execution_count": 46,
   "metadata": {},
   "outputs": [
    {
     "name": "stdout",
     "output_type": "stream",
     "text": [
      "['Mouche' 'Mouche' 'Mouche' ... 'Aves sp.' 'Aves sp.' 'Sylvia atricapilla']\n"
     ]
    }
   ],
   "source": [
    "print(predictions_label_xgb)"
   ]
  },
  {
   "cell_type": "code",
   "execution_count": 47,
   "metadata": {},
   "outputs": [],
   "source": [
    "# Random forest\n",
    "\n",
    "rf_classifier = RandomForestClassifier(n_estimators=100, random_state=42, class_weight=\"balanced\")\n",
    "\n",
    "rf_classifier.fit(X_train, y_label)\n",
    "\n",
    "predictions_randomf = rf_classifier.predict(X_test)\n",
    "\n",
    "predictions_label_randomf = label_encoder.inverse_transform(predictions_randomf)\n"
   ]
  },
  {
   "cell_type": "code",
   "execution_count": 49,
   "metadata": {},
   "outputs": [
    {
     "name": "stdout",
     "output_type": "stream",
     "text": [
      "                              unique_code max_frequency min_frequency  \\\n",
      "0        Anura_estalep09FR_27III2022_1330   2177.560976    351.219512   \n",
      "1        Anura_estalep09FR_27III2022_1345    1240.97561     23.414634   \n",
      "2        Anura_estalep09FR_27III2022_1345   1685.853659     23.414634   \n",
      "3        Anura_estalep09FR_27III2022_1345   1170.731707           0.0   \n",
      "4        Anura_estalep09FR_27III2022_1345   1030.243902           0.0   \n",
      "...                                   ...           ...           ...   \n",
      "2295  Orthoptera_XXXXsma07FR_27IV2022_112  18070.243902   3183.804878   \n",
      "2296  Orthoptera_XXXXsma07FR_27IV2022_112  18156.292683   3248.341463   \n",
      "2297  Orthoptera_XXXXsma07FR_27IV2022_112  18048.731707   3205.317073   \n",
      "2298  Orthoptera_XXXXsma07FR_27IV2022_112  18070.243902   3183.804878   \n",
      "2299  Orthoptera_XXXXsma07FR_27IV2022_112  18048.731707   3226.829268   \n",
      "\n",
      "      img_width  img_height  x1   x2   y1    y2 duree  start_split  end_split  \\\n",
      "0           469        1025  45   95  932  1010     5           15         20   \n",
      "1           469        1025   0  469  972  1024     5            0          5   \n",
      "2           469        1025   0  466  953  1024     5           25         30   \n",
      "3           469        1025   0  469  975  1025     5           40         45   \n",
      "4           469        1025   0  399  981  1025     5           45         50   \n",
      "...         ...         ...  ..  ...  ...   ...   ...          ...        ...   \n",
      "2295        469        1025   0  469  185   877     5           75         80   \n",
      "2296        469        1025   1  469  181   874     5           80         85   \n",
      "2297        469        1025   1  468  186   876     5           85         90   \n",
      "2298        469        1025   0  469  185   877     5           90         95   \n",
      "2299        469        1025   1  469  186   875     5           95        100   \n",
      "\n",
      "         predicted_label  \n",
      "0                 Mouche  \n",
      "1                 Mouche  \n",
      "2                 Mouche  \n",
      "3                   Vent  \n",
      "4                   Vent  \n",
      "...                  ...  \n",
      "2295            Aves sp.  \n",
      "2296  Sylvia atricapilla  \n",
      "2297            Aves sp.  \n",
      "2298            Aves sp.  \n",
      "2299  Sylvia atricapilla  \n",
      "\n",
      "[2300 rows x 13 columns]\n"
     ]
    }
   ],
   "source": [
    "df = pd.read_csv(path_train_csv) \n",
    "df_randomf = new_df\n",
    "df_randomf['predicted_label'] = predictions_label_randomf\n",
    "\n",
    "df_xgb= new_df\n",
    "df_xgb['predicted_label'] = predictions_label_xgb\n",
    "print(df_xgb)"
   ]
  },
  {
   "cell_type": "code",
   "execution_count": 50,
   "metadata": {},
   "outputs": [
    {
     "name": "stdout",
     "output_type": "stream",
     "text": [
      "0.3565217391304348\n",
      "0.3565217391304348\n"
     ]
    }
   ],
   "source": [
    "# Calcul d'une métrique : \n",
    "# Dans un soundcsape, on considère ici que le label est bien prédit s'il est effectivement présent dans la minute d'enregistrement.\n",
    "# A affiner pour vérifier bounding box par bounding box\n",
    "def acc(sub_df) : \n",
    "    val = 0 \n",
    "    for _,row in sub_df.iterrows() : \n",
    "        pred = row['predicted_label']\n",
    "        code = row['unique_code']\n",
    "        inter_df = df[df['code_unique'] == code]\n",
    "        for _, row2 in inter_df.iterrows() : \n",
    "            truth = row2['label'] \n",
    "            if truth == pred : \n",
    "                val +=1 \n",
    "                break\n",
    "    result = val/len(sub_df['predicted_label'])\n",
    "    return result \n",
    "\n",
    "acc_xgb  = acc(df_xgb)\n",
    "print(acc_xgb)\n",
    "acc_randf = acc(df_randomf)\n",
    "print(acc_randf)"
   ]
  }
 ],
 "metadata": {
  "kernelspec": {
   "display_name": "Python 3",
   "language": "python",
   "name": "python3"
  },
  "language_info": {
   "codemirror_mode": {
    "name": "ipython",
    "version": 3
   },
   "file_extension": ".py",
   "mimetype": "text/x-python",
   "name": "python",
   "nbconvert_exporter": "python",
   "pygments_lexer": "ipython3",
   "version": "3.10.12"
  }
 },
 "nbformat": 4,
 "nbformat_minor": 2
}
