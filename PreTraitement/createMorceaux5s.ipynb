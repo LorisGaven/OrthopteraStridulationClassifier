{
 "cells": [
  {
   "cell_type": "code",
   "execution_count": 1,
   "metadata": {},
   "outputs": [
    {
     "name": "stdout",
     "output_type": "stream",
     "text": [
      "cuda available:  True\n"
     ]
    },
    {
     "data": {
      "text/plain": [
       "'0.15.2+cu118'"
      ]
     },
     "execution_count": 1,
     "metadata": {},
     "output_type": "execute_result"
    }
   ],
   "source": [
    "import pandas as pd\n",
    "from tqdm import tqdm\n",
    "import os\n",
    "from PIL import Image\n",
    "\n",
    "from ultralytics import YOLO\n",
    "import torch\n",
    "import torchvision\n",
    "from matplotlib import pyplot as plt\n",
    "import numpy as np\n",
    "\n",
    "print(\"cuda available: \",torch.cuda.is_available())\n",
    "torchvision.__version__"
   ]
  },
  {
   "cell_type": "code",
   "execution_count": 2,
   "metadata": {},
   "outputs": [],
   "source": [
    "segment_width = 469"
   ]
  },
  {
   "cell_type": "code",
   "execution_count": 5,
   "metadata": {},
   "outputs": [],
   "source": [
    "def convertSpectro1minTo5s(path, save_path):\n",
    "    # Assurer que le dossier de sauvegarde existe\n",
    "    os.makedirs(save_path, exist_ok=True)\n",
    "    \n",
    "    # Obtenir la liste de tous les fichiers dans le dossier 'path'\n",
    "    for filename in tqdm(os.listdir(path)):\n",
    "        # Construire le chemin complet vers l'image\n",
    "        file_path = os.path.join(path, filename)\n",
    "        \n",
    "        # Vérifier si le fichier est une image (par exemple, vérifier l'extension)\n",
    "        if file_path.lower().endswith(('.png', '.jpg', '.jpeg')):\n",
    "            try:\n",
    "                # Ouvrir l'image\n",
    "                image = Image.open(file_path)\n",
    "                \n",
    "                # Diviser l'image et sauvegarder chaque segment\n",
    "                i = 0\n",
    "                left = i * segment_width\n",
    "                while left < image.width:\n",
    "                    # Définir la boîte de découpage pour chaque segment\n",
    "                    top = 0\n",
    "                    bottom = image.height\n",
    "                    \n",
    "                    if left + segment_width < image.width:\n",
    "                        right = left + segment_width\n",
    "                    else:\n",
    "                        right = image.width\n",
    "                    \n",
    "                    chunk_duration = int((right - left) / segment_width * 5)\n",
    "                    \n",
    "                    # Découper l'image\n",
    "                    segment = image.crop((left, top, right, bottom))\n",
    "                    \n",
    "                    # get unique code\n",
    "                    unique_code = filename.split('.')[0]\n",
    "                    \n",
    "                    # Définir le chemin du fichier de sortie pour le segment actuel\n",
    "                    new_segment_name = f\"{unique_code}_split_{i*5}_{5*i+chunk_duration}.png\"\n",
    "                    output_path = os.path.join(save_path, new_segment_name)\n",
    "                    \n",
    "                    # Enregistrer le segment\n",
    "                    segment.save(output_path)\n",
    "                    i += 1\n",
    "                    left = i * segment_width\n",
    "                    \n",
    "                print(f\"Les segments de '{filename}' ont été sauvegardés avec succès.\")\n",
    "                \n",
    "            except Exception as e:\n",
    "                print(f\"Une erreur est survenue lors du traitement de '{filename}': {e}\")"
   ]
  },
  {
   "cell_type": "code",
   "execution_count": 3,
   "metadata": {},
   "outputs": [],
   "source": [
    "path_1min = r\"C:\\Users\\lucas\\Documents\\Annee_3_ENSEEIHT\\Projet long\\OrthopteraStridulationClassifier\\Dataset acoustique insectes\\DatasetStretch\\Soundscape 1 min\\Soundscape 1 min spectro\"\n",
    "path_5s = r\"C:\\Users\\lucas\\Documents\\Annee_3_ENSEEIHT\\Projet long\\OrthopteraStridulationClassifier\\Dataset acoustique insectes\\DatasetStretch\\Soundscape 1 min\\Soundscape 1 min split 5s\""
   ]
  },
  {
   "cell_type": "code",
   "execution_count": 5,
   "metadata": {},
   "outputs": [
    {
     "name": "stderr",
     "output_type": "stream",
     "text": [
      "  1%|          | 1/177 [00:00<02:11,  1.34it/s]"
     ]
    },
    {
     "name": "stdout",
     "output_type": "stream",
     "text": [
      "Les segments de 'Anura_estalep09FR_27III2022_1330.png' ont été sauvegardés avec succès.\n"
     ]
    },
    {
     "name": "stderr",
     "output_type": "stream",
     "text": [
      "  1%|          | 2/177 [00:01<02:03,  1.41it/s]"
     ]
    },
    {
     "name": "stdout",
     "output_type": "stream",
     "text": [
      "Les segments de 'Anura_estalep09FR_27III2022_1345.png' ont été sauvegardés avec succès.\n"
     ]
    },
    {
     "name": "stderr",
     "output_type": "stream",
     "text": [
      "  2%|▏         | 3/177 [00:01<01:34,  1.85it/s]"
     ]
    },
    {
     "name": "stdout",
     "output_type": "stream",
     "text": [
      "Les segments de 'Anura_estalep09FR_28III2022_1045.png' ont été sauvegardés avec succès.\n"
     ]
    },
    {
     "name": "stderr",
     "output_type": "stream",
     "text": [
      "  2%|▏         | 4/177 [00:02<01:42,  1.69it/s]"
     ]
    },
    {
     "name": "stdout",
     "output_type": "stream",
     "text": [
      "Les segments de 'Anura_pechpuy46FR_06V2022_1915.png' ont été sauvegardés avec succès.\n"
     ]
    },
    {
     "name": "stderr",
     "output_type": "stream",
     "text": [
      "  3%|▎         | 5/177 [00:03<01:47,  1.60it/s]"
     ]
    },
    {
     "name": "stdout",
     "output_type": "stream",
     "text": [
      "Les segments de 'Anura_pechpuy46FR_06V2022_2000.png' ont été sauvegardés avec succès.\n"
     ]
    },
    {
     "name": "stderr",
     "output_type": "stream",
     "text": [
      "  3%|▎         | 6/177 [00:03<01:53,  1.50it/s]"
     ]
    },
    {
     "name": "stdout",
     "output_type": "stream",
     "text": [
      "Les segments de 'Anura_pechpuy46FR_06V2022_2115.png' ont été sauvegardés avec succès.\n"
     ]
    },
    {
     "name": "stderr",
     "output_type": "stream",
     "text": [
      "  4%|▍         | 7/177 [00:04<01:53,  1.50it/s]"
     ]
    },
    {
     "name": "stdout",
     "output_type": "stream",
     "text": [
      "Les segments de 'Anura_pechpuy46FR_06V2022_2145.png' ont été sauvegardés avec succès.\n"
     ]
    },
    {
     "name": "stderr",
     "output_type": "stream",
     "text": [
      "  5%|▍         | 8/177 [00:05<01:52,  1.50it/s]"
     ]
    },
    {
     "name": "stdout",
     "output_type": "stream",
     "text": [
      "Les segments de 'Anura_pechpuy46FR_06V2022_2200.png' ont été sauvegardés avec succès.\n"
     ]
    },
    {
     "name": "stderr",
     "output_type": "stream",
     "text": [
      "  5%|▌         | 9/177 [00:05<01:51,  1.51it/s]"
     ]
    },
    {
     "name": "stdout",
     "output_type": "stream",
     "text": [
      "Les segments de 'Anura_pechpuy46FR_06V2022_2215.png' ont été sauvegardés avec succès.\n"
     ]
    },
    {
     "name": "stderr",
     "output_type": "stream",
     "text": [
      "  6%|▌         | 10/177 [00:06<01:51,  1.50it/s]"
     ]
    },
    {
     "name": "stdout",
     "output_type": "stream",
     "text": [
      "Les segments de 'Anura_pechpuy46FR_06V2022_2230.png' ont été sauvegardés avec succès.\n"
     ]
    },
    {
     "name": "stderr",
     "output_type": "stream",
     "text": [
      "  6%|▌         | 11/177 [00:07<01:51,  1.49it/s]"
     ]
    },
    {
     "name": "stdout",
     "output_type": "stream",
     "text": [
      "Les segments de 'Anura_pechpuy46FR_07V2022_0000.png' ont été sauvegardés avec succès.\n"
     ]
    },
    {
     "name": "stderr",
     "output_type": "stream",
     "text": [
      "  7%|▋         | 12/177 [00:07<01:48,  1.52it/s]"
     ]
    },
    {
     "name": "stdout",
     "output_type": "stream",
     "text": [
      "Les segments de 'Anura_pechpuy46FR_07V2022_1700.png' ont été sauvegardés avec succès.\n"
     ]
    },
    {
     "name": "stderr",
     "output_type": "stream",
     "text": [
      "  7%|▋         | 13/177 [00:08<01:51,  1.47it/s]"
     ]
    },
    {
     "name": "stdout",
     "output_type": "stream",
     "text": [
      "Les segments de 'Anura_pechpuy46FR_07V2022_1815.png' ont été sauvegardés avec succès.\n"
     ]
    },
    {
     "name": "stderr",
     "output_type": "stream",
     "text": [
      "  8%|▊         | 14/177 [00:09<01:53,  1.44it/s]"
     ]
    },
    {
     "name": "stdout",
     "output_type": "stream",
     "text": [
      "Les segments de 'Anura_pechpuy46FR_07V2022_1915.png' ont été sauvegardés avec succès.\n"
     ]
    },
    {
     "name": "stderr",
     "output_type": "stream",
     "text": [
      "  8%|▊         | 15/177 [00:09<01:50,  1.46it/s]"
     ]
    },
    {
     "name": "stdout",
     "output_type": "stream",
     "text": [
      "Les segments de 'Anura_pechpuy46FR_07V2022_2145.png' ont été sauvegardés avec succès.\n"
     ]
    },
    {
     "name": "stderr",
     "output_type": "stream",
     "text": [
      "  9%|▉         | 16/177 [00:10<01:47,  1.50it/s]"
     ]
    },
    {
     "name": "stdout",
     "output_type": "stream",
     "text": [
      "Les segments de 'Anura_pechpuy46FR_07V2022_2200.png' ont été sauvegardés avec succès.\n"
     ]
    },
    {
     "name": "stderr",
     "output_type": "stream",
     "text": [
      " 10%|▉         | 17/177 [00:11<01:46,  1.50it/s]"
     ]
    },
    {
     "name": "stdout",
     "output_type": "stream",
     "text": [
      "Les segments de 'Anura_pechpuy46FR_07V2022_2215.png' ont été sauvegardés avec succès.\n"
     ]
    },
    {
     "name": "stderr",
     "output_type": "stream",
     "text": [
      " 10%|█         | 18/177 [00:11<01:42,  1.55it/s]"
     ]
    },
    {
     "name": "stdout",
     "output_type": "stream",
     "text": [
      "Les segments de 'Anura_pechpuy46FR_07V2022_2230.png' ont été sauvegardés avec succès.\n"
     ]
    },
    {
     "name": "stderr",
     "output_type": "stream",
     "text": [
      " 11%|█         | 19/177 [00:12<01:41,  1.56it/s]"
     ]
    },
    {
     "name": "stdout",
     "output_type": "stream",
     "text": [
      "Les segments de 'Anura_pechpuy46FR_07V2022_2300.png' ont été sauvegardés avec succès.\n"
     ]
    },
    {
     "name": "stderr",
     "output_type": "stream",
     "text": [
      " 11%|█▏        | 20/177 [00:13<01:40,  1.57it/s]"
     ]
    },
    {
     "name": "stdout",
     "output_type": "stream",
     "text": [
      "Les segments de 'Anura_pechpuy46FR_08V2022_2115.png' ont été sauvegardés avec succès.\n"
     ]
    },
    {
     "name": "stderr",
     "output_type": "stream",
     "text": [
      " 12%|█▏        | 21/177 [00:13<01:42,  1.53it/s]"
     ]
    },
    {
     "name": "stdout",
     "output_type": "stream",
     "text": [
      "Les segments de 'Anura_pechpuy46FR_08V2022_2130.png' ont été sauvegardés avec succès.\n"
     ]
    },
    {
     "name": "stderr",
     "output_type": "stream",
     "text": [
      " 12%|█▏        | 22/177 [00:14<01:40,  1.55it/s]"
     ]
    },
    {
     "name": "stdout",
     "output_type": "stream",
     "text": [
      "Les segments de 'Anura_pechpuy46FR_08V2022_2145.png' ont été sauvegardés avec succès.\n"
     ]
    },
    {
     "name": "stderr",
     "output_type": "stream",
     "text": [
      " 13%|█▎        | 23/177 [00:15<01:41,  1.52it/s]"
     ]
    },
    {
     "name": "stdout",
     "output_type": "stream",
     "text": [
      "Les segments de 'Anura_pechpuy46FR_08V2022_2200.png' ont été sauvegardés avec succès.\n"
     ]
    },
    {
     "name": "stderr",
     "output_type": "stream",
     "text": [
      " 14%|█▎        | 24/177 [00:15<01:40,  1.52it/s]"
     ]
    },
    {
     "name": "stdout",
     "output_type": "stream",
     "text": [
      "Les segments de 'Anura_pechpuy46FR_08V2022_2215.png' ont été sauvegardés avec succès.\n"
     ]
    },
    {
     "name": "stderr",
     "output_type": "stream",
     "text": [
      " 14%|█▍        | 25/177 [00:16<01:39,  1.53it/s]"
     ]
    },
    {
     "name": "stdout",
     "output_type": "stream",
     "text": [
      "Les segments de 'Anura_pechpuy46FR_08V2022_2230.png' ont été sauvegardés avec succès.\n"
     ]
    },
    {
     "name": "stderr",
     "output_type": "stream",
     "text": [
      " 15%|█▍        | 26/177 [00:17<01:37,  1.55it/s]"
     ]
    },
    {
     "name": "stdout",
     "output_type": "stream",
     "text": [
      "Les segments de 'Anura_pechpuy46FR_08V2022_2345.png' ont été sauvegardés avec succès.\n"
     ]
    },
    {
     "name": "stderr",
     "output_type": "stream",
     "text": [
      " 15%|█▌        | 27/177 [00:17<01:35,  1.56it/s]"
     ]
    },
    {
     "name": "stdout",
     "output_type": "stream",
     "text": [
      "Les segments de 'Anura_pechpuy46FR_09V2022_0030.png' ont été sauvegardés avec succès.\n"
     ]
    },
    {
     "name": "stderr",
     "output_type": "stream",
     "text": [
      " 16%|█▌        | 28/177 [00:18<01:35,  1.56it/s]"
     ]
    },
    {
     "name": "stdout",
     "output_type": "stream",
     "text": [
      "Les segments de 'Anura_pechpuy46FR_09V2022_2015.png' ont été sauvegardés avec succès.\n"
     ]
    },
    {
     "name": "stderr",
     "output_type": "stream",
     "text": [
      " 16%|█▋        | 29/177 [00:18<01:36,  1.54it/s]"
     ]
    },
    {
     "name": "stdout",
     "output_type": "stream",
     "text": [
      "Les segments de 'Anura_pechpuy46FR_09V2022_2115.png' ont été sauvegardés avec succès.\n"
     ]
    },
    {
     "name": "stderr",
     "output_type": "stream",
     "text": [
      " 17%|█▋        | 30/177 [00:19<01:34,  1.55it/s]"
     ]
    },
    {
     "name": "stdout",
     "output_type": "stream",
     "text": [
      "Les segments de 'Anura_pechpuy46FR_09V2022_2145.png' ont été sauvegardés avec succès.\n"
     ]
    },
    {
     "name": "stderr",
     "output_type": "stream",
     "text": [
      " 18%|█▊        | 31/177 [00:20<01:34,  1.55it/s]"
     ]
    },
    {
     "name": "stdout",
     "output_type": "stream",
     "text": [
      "Les segments de 'Anura_pechpuy46FR_09V2022_2230.png' ont été sauvegardés avec succès.\n"
     ]
    },
    {
     "name": "stderr",
     "output_type": "stream",
     "text": [
      " 18%|█▊        | 32/177 [00:20<01:33,  1.54it/s]"
     ]
    },
    {
     "name": "stdout",
     "output_type": "stream",
     "text": [
      "Les segments de 'Anura_pechpuy46FR_09V2022_2330.png' ont été sauvegardés avec succès.\n"
     ]
    },
    {
     "name": "stderr",
     "output_type": "stream",
     "text": [
      " 19%|█▊        | 33/177 [00:21<01:33,  1.53it/s]"
     ]
    },
    {
     "name": "stdout",
     "output_type": "stream",
     "text": [
      "Les segments de 'Anura_pechpuy46FR_10V2022_0030.png' ont été sauvegardés avec succès.\n"
     ]
    },
    {
     "name": "stderr",
     "output_type": "stream",
     "text": [
      " 19%|█▉        | 34/177 [00:22<01:32,  1.55it/s]"
     ]
    },
    {
     "name": "stdout",
     "output_type": "stream",
     "text": [
      "Les segments de 'Anura_pechpuy46FR_10V2022_0045.png' ont été sauvegardés avec succès.\n"
     ]
    },
    {
     "name": "stderr",
     "output_type": "stream",
     "text": [
      " 20%|█▉        | 35/177 [00:22<01:31,  1.56it/s]"
     ]
    },
    {
     "name": "stdout",
     "output_type": "stream",
     "text": [
      "Les segments de 'Anura_pechpuy46FR_10V2022_0115.png' ont été sauvegardés avec succès.\n"
     ]
    },
    {
     "name": "stderr",
     "output_type": "stream",
     "text": [
      " 20%|██        | 36/177 [00:23<01:31,  1.54it/s]"
     ]
    },
    {
     "name": "stdout",
     "output_type": "stream",
     "text": [
      "Les segments de 'Anura_pechpuy46FR_10V2022_2045.png' ont été sauvegardés avec succès.\n"
     ]
    },
    {
     "name": "stderr",
     "output_type": "stream",
     "text": [
      " 21%|██        | 37/177 [00:24<01:29,  1.56it/s]"
     ]
    },
    {
     "name": "stdout",
     "output_type": "stream",
     "text": [
      "Les segments de 'Anura_pechpuy46FR_10V2022_2130.png' ont été sauvegardés avec succès.\n"
     ]
    },
    {
     "name": "stderr",
     "output_type": "stream",
     "text": [
      " 21%|██▏       | 38/177 [00:24<01:28,  1.57it/s]"
     ]
    },
    {
     "name": "stdout",
     "output_type": "stream",
     "text": [
      "Les segments de 'Anura_pechpuy46FR_10V2022_2145.png' ont été sauvegardés avec succès.\n"
     ]
    },
    {
     "name": "stderr",
     "output_type": "stream",
     "text": [
      " 22%|██▏       | 39/177 [00:25<01:27,  1.59it/s]"
     ]
    },
    {
     "name": "stdout",
     "output_type": "stream",
     "text": [
      "Les segments de 'Anura_pechpuy46FR_10V2022_2200.png' ont été sauvegardés avec succès.\n"
     ]
    },
    {
     "name": "stderr",
     "output_type": "stream",
     "text": [
      " 23%|██▎       | 40/177 [00:26<01:26,  1.58it/s]"
     ]
    },
    {
     "name": "stdout",
     "output_type": "stream",
     "text": [
      "Les segments de 'Anura_pechpuy46FR_10V2022_2215.png' ont été sauvegardés avec succès.\n"
     ]
    },
    {
     "name": "stderr",
     "output_type": "stream",
     "text": [
      " 23%|██▎       | 41/177 [00:26<01:25,  1.59it/s]"
     ]
    },
    {
     "name": "stdout",
     "output_type": "stream",
     "text": [
      "Les segments de 'Anura_pechpuy46FR_10V2022_2330.png' ont été sauvegardés avec succès.\n"
     ]
    },
    {
     "name": "stderr",
     "output_type": "stream",
     "text": [
      " 24%|██▎       | 42/177 [00:27<01:25,  1.57it/s]"
     ]
    },
    {
     "name": "stdout",
     "output_type": "stream",
     "text": [
      "Les segments de 'Anura_pechpuy46FR_11V2022_0030.png' ont été sauvegardés avec succès.\n"
     ]
    },
    {
     "name": "stderr",
     "output_type": "stream",
     "text": [
      " 24%|██▍       | 43/177 [00:27<01:27,  1.54it/s]"
     ]
    },
    {
     "name": "stdout",
     "output_type": "stream",
     "text": [
      "Les segments de 'Anura_pechpuy46FR_11V2022_0315.png' ont été sauvegardés avec succès.\n"
     ]
    },
    {
     "name": "stderr",
     "output_type": "stream",
     "text": [
      " 25%|██▍       | 44/177 [00:28<01:25,  1.56it/s]"
     ]
    },
    {
     "name": "stdout",
     "output_type": "stream",
     "text": [
      "Les segments de 'Anura_pechpuy46FR_11V2022_0345.png' ont été sauvegardés avec succès.\n"
     ]
    },
    {
     "name": "stderr",
     "output_type": "stream",
     "text": [
      " 25%|██▌       | 45/177 [00:29<01:21,  1.63it/s]"
     ]
    },
    {
     "name": "stdout",
     "output_type": "stream",
     "text": [
      "Les segments de 'Aves_109Cassag31FR_22V2019_0000.png' ont été sauvegardés avec succès.\n"
     ]
    },
    {
     "name": "stderr",
     "output_type": "stream",
     "text": [
      " 26%|██▌       | 46/177 [00:30<01:33,  1.40it/s]"
     ]
    },
    {
     "name": "stdout",
     "output_type": "stream",
     "text": [
      "Les segments de 'Aves_112Cassag31FR_18V2021_0000.png' ont été sauvegardés avec succès.\n"
     ]
    },
    {
     "name": "stderr",
     "output_type": "stream",
     "text": [
      " 27%|██▋       | 47/177 [00:30<01:35,  1.36it/s]"
     ]
    },
    {
     "name": "stdout",
     "output_type": "stream",
     "text": [
      "Les segments de 'Aves_114Cassag31FR_18V2021_1300.png' ont été sauvegardés avec succès.\n"
     ]
    },
    {
     "name": "stderr",
     "output_type": "stream",
     "text": [
      " 27%|██▋       | 48/177 [00:31<01:28,  1.47it/s]"
     ]
    },
    {
     "name": "stdout",
     "output_type": "stream",
     "text": [
      "Les segments de 'Aves_11Esparr31FR_29V2020_0000.png' ont été sauvegardés avec succès.\n"
     ]
    },
    {
     "name": "stderr",
     "output_type": "stream",
     "text": [
      " 28%|██▊       | 49/177 [00:32<01:25,  1.50it/s]"
     ]
    },
    {
     "name": "stdout",
     "output_type": "stream",
     "text": [
      "Les segments de 'Aves_121Terreb31FR_28V2020_0000.png' ont été sauvegardés avec succès.\n"
     ]
    },
    {
     "name": "stderr",
     "output_type": "stream",
     "text": [
      " 28%|██▊       | 50/177 [00:32<01:24,  1.51it/s]"
     ]
    },
    {
     "name": "stdout",
     "output_type": "stream",
     "text": [
      "Les segments de 'Aves_129Terreb31FR_28V2020_1300.png' ont été sauvegardés avec succès.\n"
     ]
    },
    {
     "name": "stderr",
     "output_type": "stream",
     "text": [
      " 29%|██▉       | 51/177 [00:33<01:19,  1.58it/s]"
     ]
    },
    {
     "name": "stdout",
     "output_type": "stream",
     "text": [
      "Les segments de 'Aves_131Eoux31FR_29V2020_0000.png' ont été sauvegardés avec succès.\n"
     ]
    },
    {
     "name": "stderr",
     "output_type": "stream",
     "text": [
      " 29%|██▉       | 52/177 [00:33<01:17,  1.61it/s]"
     ]
    },
    {
     "name": "stdout",
     "output_type": "stream",
     "text": [
      "Les segments de 'Aves_136Alan31FR_29V2020_0000.png' ont été sauvegardés avec succès.\n"
     ]
    },
    {
     "name": "stderr",
     "output_type": "stream",
     "text": [
      " 30%|██▉       | 53/177 [00:34<01:16,  1.61it/s]"
     ]
    },
    {
     "name": "stdout",
     "output_type": "stream",
     "text": [
      "Les segments de 'Aves_13StAndre31FR_22IV2019_1300.png' ont été sauvegardés avec succès.\n"
     ]
    },
    {
     "name": "stderr",
     "output_type": "stream",
     "text": [
      " 31%|███       | 54/177 [00:35<01:16,  1.60it/s]"
     ]
    },
    {
     "name": "stdout",
     "output_type": "stream",
     "text": [
      "Les segments de 'Aves_140Cassag31FR_21V2021_0000.png' ont été sauvegardés avec succès.\n"
     ]
    },
    {
     "name": "stderr",
     "output_type": "stream",
     "text": [
      " 31%|███       | 55/177 [00:35<01:16,  1.59it/s]"
     ]
    },
    {
     "name": "stdout",
     "output_type": "stream",
     "text": [
      "Les segments de 'Aves_144Peyris31FR_20VI2019_1300.png' ont été sauvegardés avec succès.\n"
     ]
    },
    {
     "name": "stderr",
     "output_type": "stream",
     "text": [
      " 32%|███▏      | 56/177 [00:36<01:17,  1.56it/s]"
     ]
    },
    {
     "name": "stdout",
     "output_type": "stream",
     "text": [
      "Les segments de 'Aves_14StAndre31FR_23IV2019_0000.png' ont été sauvegardés avec succès.\n"
     ]
    },
    {
     "name": "stderr",
     "output_type": "stream",
     "text": [
      " 32%|███▏      | 57/177 [00:37<01:16,  1.57it/s]"
     ]
    },
    {
     "name": "stdout",
     "output_type": "stream",
     "text": [
      "Les segments de 'Aves_151Aurign31FR_29V2020_0000.png' ont été sauvegardés avec succès.\n"
     ]
    },
    {
     "name": "stderr",
     "output_type": "stream",
     "text": [
      " 33%|███▎      | 58/177 [00:37<01:15,  1.58it/s]"
     ]
    },
    {
     "name": "stdout",
     "output_type": "stream",
     "text": [
      "Les segments de 'Aves_160Eoux31FR_18VI2019_0000.png' ont été sauvegardés avec succès.\n"
     ]
    },
    {
     "name": "stderr",
     "output_type": "stream",
     "text": [
      " 33%|███▎      | 59/177 [00:38<01:30,  1.30it/s]"
     ]
    },
    {
     "name": "stdout",
     "output_type": "stream",
     "text": [
      "Les segments de 'Aves_16StAndre31FR_05V2021_0000.png' ont été sauvegardés avec succès.\n"
     ]
    },
    {
     "name": "stderr",
     "output_type": "stream",
     "text": [
      " 34%|███▍      | 60/177 [00:39<01:21,  1.43it/s]"
     ]
    },
    {
     "name": "stdout",
     "output_type": "stream",
     "text": [
      "Les segments de 'Aves_176Esparr31FR_29V2020_0000.png' ont été sauvegardés avec succès.\n"
     ]
    },
    {
     "name": "stderr",
     "output_type": "stream",
     "text": [
      " 34%|███▍      | 61/177 [00:39<01:14,  1.55it/s]"
     ]
    },
    {
     "name": "stdout",
     "output_type": "stream",
     "text": [
      "Les segments de 'Aves_177Esparr31FR_29V2020_0700.png' ont été sauvegardés avec succès.\n"
     ]
    },
    {
     "name": "stderr",
     "output_type": "stream",
     "text": [
      " 35%|███▌      | 62/177 [00:40<01:10,  1.64it/s]"
     ]
    },
    {
     "name": "stdout",
     "output_type": "stream",
     "text": [
      "Les segments de 'Aves_184Barjac09FR_15VI2022_0000.png' ont été sauvegardés avec succès.\n"
     ]
    },
    {
     "name": "stderr",
     "output_type": "stream",
     "text": [
      " 36%|███▌      | 63/177 [00:40<01:08,  1.67it/s]"
     ]
    },
    {
     "name": "stdout",
     "output_type": "stream",
     "text": [
      "Les segments de 'Aves_186Barjac09FR_15VI2022_1300.png' ont été sauvegardés avec succès.\n"
     ]
    },
    {
     "name": "stderr",
     "output_type": "stream",
     "text": [
      " 36%|███▌      | 64/177 [00:41<01:03,  1.79it/s]"
     ]
    },
    {
     "name": "stdout",
     "output_type": "stream",
     "text": [
      "Les segments de 'Aves_195Mijane09FR_22V2022_1254.png' ont été sauvegardés avec succès.\n"
     ]
    },
    {
     "name": "stderr",
     "output_type": "stream",
     "text": [
      " 37%|███▋      | 65/177 [00:42<01:04,  1.75it/s]"
     ]
    },
    {
     "name": "stdout",
     "output_type": "stream",
     "text": [
      "Les segments de 'Aves_1Eoux31FR_04V2021_0000.png' ont été sauvegardés avec succès.\n"
     ]
    },
    {
     "name": "stderr",
     "output_type": "stream",
     "text": [
      " 37%|███▋      | 66/177 [00:42<01:09,  1.59it/s]"
     ]
    },
    {
     "name": "stdout",
     "output_type": "stream",
     "text": [
      "Les segments de 'Aves_204Goulie09FR_15VI2022_1307.png' ont été sauvegardés avec succès.\n"
     ]
    },
    {
     "name": "stderr",
     "output_type": "stream",
     "text": [
      " 38%|███▊      | 67/177 [00:43<01:08,  1.60it/s]"
     ]
    },
    {
     "name": "stdout",
     "output_type": "stream",
     "text": [
      "Les segments de 'Aves_209Antras09FR_01VI2022_0658.png' ont été sauvegardés avec succès.\n"
     ]
    },
    {
     "name": "stderr",
     "output_type": "stream",
     "text": [
      " 38%|███▊      | 68/177 [00:44<01:07,  1.61it/s]"
     ]
    },
    {
     "name": "stdout",
     "output_type": "stream",
     "text": [
      "Les segments de 'Aves_212Cassou09FR_07VII2022_0709.png' ont été sauvegardés avec succès.\n"
     ]
    },
    {
     "name": "stderr",
     "output_type": "stream",
     "text": [
      " 39%|███▉      | 69/177 [00:44<01:06,  1.62it/s]"
     ]
    },
    {
     "name": "stdout",
     "output_type": "stream",
     "text": [
      "Les segments de 'Aves_215Merens09FR_12VI2022_0654.png' ont été sauvegardés avec succès.\n"
     ]
    },
    {
     "name": "stderr",
     "output_type": "stream",
     "text": [
      " 40%|███▉      | 70/177 [00:45<01:05,  1.63it/s]"
     ]
    },
    {
     "name": "stdout",
     "output_type": "stream",
     "text": [
      "Les segments de 'Aves_216Merens09FR_12VI2022_1254.png' ont été sauvegardés avec succès.\n"
     ]
    },
    {
     "name": "stderr",
     "output_type": "stream",
     "text": [
      " 40%|████      | 71/177 [00:46<01:13,  1.43it/s]"
     ]
    },
    {
     "name": "stdout",
     "output_type": "stream",
     "text": [
      "Les segments de 'Aves_221Orgeix09FR_13VI2022_0707.png' ont été sauvegardés avec succès.\n"
     ]
    },
    {
     "name": "stderr",
     "output_type": "stream",
     "text": [
      " 41%|████      | 72/177 [00:46<01:10,  1.50it/s]"
     ]
    },
    {
     "name": "stdout",
     "output_type": "stream",
     "text": [
      "Les segments de 'Aves_222Orgeix09FR_13VI2022_1307.png' ont été sauvegardés avec succès.\n"
     ]
    },
    {
     "name": "stderr",
     "output_type": "stream",
     "text": [
      " 41%|████      | 73/177 [00:47<01:07,  1.54it/s]"
     ]
    },
    {
     "name": "stdout",
     "output_type": "stream",
     "text": [
      "Les segments de 'Aves_225Orlu09FR_28VI2022_1306.png' ont été sauvegardés avec succès.\n"
     ]
    },
    {
     "name": "stderr",
     "output_type": "stream",
     "text": [
      " 42%|████▏     | 74/177 [00:47<01:07,  1.53it/s]"
     ]
    },
    {
     "name": "stdout",
     "output_type": "stream",
     "text": [
      "Les segments de 'Aves_24Samoui31FR_03V2021_1300.png' ont été sauvegardés avec succès.\n"
     ]
    },
    {
     "name": "stderr",
     "output_type": "stream",
     "text": [
      " 42%|████▏     | 75/177 [00:48<01:02,  1.62it/s]"
     ]
    },
    {
     "name": "stdout",
     "output_type": "stream",
     "text": [
      "Les segments de 'Aves_28StAndre31FR_28V2020_1300.png' ont été sauvegardés avec succès.\n"
     ]
    },
    {
     "name": "stderr",
     "output_type": "stream",
     "text": [
      " 43%|████▎     | 76/177 [00:49<01:04,  1.56it/s]"
     ]
    },
    {
     "name": "stdout",
     "output_type": "stream",
     "text": [
      "Les segments de 'Aves_35Eoux31FR_17VI2019_0700.png' ont été sauvegardés avec succès.\n"
     ]
    },
    {
     "name": "stderr",
     "output_type": "stream",
     "text": [
      " 44%|████▎     | 77/177 [00:49<01:03,  1.57it/s]"
     ]
    },
    {
     "name": "stdout",
     "output_type": "stream",
     "text": [
      "Les segments de 'Aves_38Eoux31FR_09VI2021_0700.png' ont été sauvegardés avec succès.\n"
     ]
    },
    {
     "name": "stderr",
     "output_type": "stream",
     "text": [
      " 44%|████▍     | 78/177 [00:50<01:05,  1.52it/s]"
     ]
    },
    {
     "name": "stdout",
     "output_type": "stream",
     "text": [
      "Les segments de 'Aves_39Eoux31FR_09VI2021_1300.png' ont été sauvegardés avec succès.\n"
     ]
    },
    {
     "name": "stderr",
     "output_type": "stream",
     "text": [
      " 45%|████▍     | 79/177 [00:51<01:01,  1.59it/s]"
     ]
    },
    {
     "name": "stdout",
     "output_type": "stream",
     "text": [
      "Les segments de 'Aves_40Benque31FR_17VI2019_0000.png' ont été sauvegardés avec succès.\n"
     ]
    },
    {
     "name": "stderr",
     "output_type": "stream",
     "text": [
      " 45%|████▌     | 80/177 [00:51<01:02,  1.56it/s]"
     ]
    },
    {
     "name": "stdout",
     "output_type": "stream",
     "text": [
      "Les segments de 'Aves_43Benque31FR_09VI2021_0000.png' ont été sauvegardés avec succès.\n"
     ]
    },
    {
     "name": "stderr",
     "output_type": "stream",
     "text": [
      " 46%|████▌     | 81/177 [00:52<01:04,  1.48it/s]"
     ]
    },
    {
     "name": "stdout",
     "output_type": "stream",
     "text": [
      "Les segments de 'Aves_4Benque31FR_05V2021_1300.png' ont été sauvegardés avec succès.\n"
     ]
    },
    {
     "name": "stderr",
     "output_type": "stream",
     "text": [
      " 46%|████▋     | 82/177 [00:53<01:00,  1.58it/s]"
     ]
    },
    {
     "name": "stdout",
     "output_type": "stream",
     "text": [
      "Les segments de 'Aves_60Boussa31FR_17VI2019_1300.png' ont été sauvegardés avec succès.\n"
     ]
    },
    {
     "name": "stderr",
     "output_type": "stream",
     "text": [
      " 47%|████▋     | 83/177 [00:53<00:59,  1.58it/s]"
     ]
    },
    {
     "name": "stdout",
     "output_type": "stream",
     "text": [
      "Les segments de 'Aves_64Benque31FR_09VI2021_0000.png' ont été sauvegardés avec succès.\n"
     ]
    },
    {
     "name": "stderr",
     "output_type": "stream",
     "text": [
      " 47%|████▋     | 84/177 [00:54<01:07,  1.37it/s]"
     ]
    },
    {
     "name": "stdout",
     "output_type": "stream",
     "text": [
      "Les segments de 'Aves_65Benque31FR_09VI2021_0700.png' ont été sauvegardés avec succès.\n"
     ]
    },
    {
     "name": "stderr",
     "output_type": "stream",
     "text": [
      " 48%|████▊     | 85/177 [00:55<01:05,  1.40it/s]"
     ]
    },
    {
     "name": "stdout",
     "output_type": "stream",
     "text": [
      "Les segments de 'Aves_67Bachas31FR_19VI2019_0000.png' ont été sauvegardés avec succès.\n"
     ]
    },
    {
     "name": "stderr",
     "output_type": "stream",
     "text": [
      " 49%|████▊     | 86/177 [00:56<01:12,  1.25it/s]"
     ]
    },
    {
     "name": "stdout",
     "output_type": "stream",
     "text": [
      "Les segments de 'Aves_69Bachas31FR_19VI2019_1300.png' ont été sauvegardés avec succès.\n"
     ]
    },
    {
     "name": "stderr",
     "output_type": "stream",
     "text": [
      " 49%|████▉     | 87/177 [00:56<01:04,  1.39it/s]"
     ]
    },
    {
     "name": "stdout",
     "output_type": "stream",
     "text": [
      "Les segments de 'Aves_70StAndre31FR_28V2020_1300.png' ont été sauvegardés avec succès.\n"
     ]
    },
    {
     "name": "stderr",
     "output_type": "stream",
     "text": [
      " 50%|████▉     | 88/177 [00:57<00:58,  1.51it/s]"
     ]
    },
    {
     "name": "stdout",
     "output_type": "stream",
     "text": [
      "Les segments de 'Aves_72StAndre31FR_29V2020_0700.png' ont été sauvegardés avec succès.\n"
     ]
    },
    {
     "name": "stderr",
     "output_type": "stream",
     "text": [
      " 50%|█████     | 89/177 [00:57<00:56,  1.55it/s]"
     ]
    },
    {
     "name": "stdout",
     "output_type": "stream",
     "text": [
      "Les segments de 'Aves_75Benque31FR_29V2020_1300.png' ont été sauvegardés avec succès.\n"
     ]
    },
    {
     "name": "stderr",
     "output_type": "stream",
     "text": [
      " 51%|█████     | 90/177 [00:58<00:54,  1.59it/s]"
     ]
    },
    {
     "name": "stdout",
     "output_type": "stream",
     "text": [
      "Les segments de 'Aves_7Benque31FR_28V2020_0000.png' ont été sauvegardés avec succès.\n"
     ]
    },
    {
     "name": "stderr",
     "output_type": "stream",
     "text": [
      " 51%|█████▏    | 91/177 [00:59<00:51,  1.66it/s]"
     ]
    },
    {
     "name": "stdout",
     "output_type": "stream",
     "text": [
      "Les segments de 'Aves_86Benque31FR_19VI2019_0700.png' ont été sauvegardés avec succès.\n"
     ]
    },
    {
     "name": "stderr",
     "output_type": "stream",
     "text": [
      " 52%|█████▏    | 92/177 [00:59<00:50,  1.69it/s]"
     ]
    },
    {
     "name": "stdout",
     "output_type": "stream",
     "text": [
      "Les segments de 'Aves_89Terreb31FR_28V2020_0700.png' ont été sauvegardés avec succès.\n"
     ]
    },
    {
     "name": "stderr",
     "output_type": "stream",
     "text": [
      " 53%|█████▎    | 93/177 [01:00<00:52,  1.61it/s]"
     ]
    },
    {
     "name": "stdout",
     "output_type": "stream",
     "text": [
      "Les segments de 'Aves_98Boussa31FR_18VI2019_0700.png' ont été sauvegardés avec succès.\n"
     ]
    },
    {
     "name": "stderr",
     "output_type": "stream",
     "text": [
      " 53%|█████▎    | 94/177 [01:01<00:53,  1.56it/s]"
     ]
    },
    {
     "name": "stdout",
     "output_type": "stream",
     "text": [
      "Les segments de 'Aves_99Boussa31FR_18VI2019_1300.png' ont été sauvegardés avec succès.\n"
     ]
    },
    {
     "name": "stderr",
     "output_type": "stream",
     "text": [
      " 54%|█████▎    | 95/177 [01:01<00:52,  1.57it/s]"
     ]
    },
    {
     "name": "stdout",
     "output_type": "stream",
     "text": [
      "Les segments de 'Aves_9Benque31FR_28V2020_1300.png' ont été sauvegardés avec succès.\n"
     ]
    },
    {
     "name": "stderr",
     "output_type": "stream",
     "text": [
      " 54%|█████▍    | 96/177 [01:02<00:49,  1.62it/s]"
     ]
    },
    {
     "name": "stdout",
     "output_type": "stream",
     "text": [
      "Les segments de 'Aves_idpofra31FR_23VIII2022_0000.png' ont été sauvegardés avec succès.\n"
     ]
    },
    {
     "name": "stderr",
     "output_type": "stream",
     "text": [
      " 55%|█████▍    | 97/177 [01:02<00:47,  1.69it/s]"
     ]
    },
    {
     "name": "stdout",
     "output_type": "stream",
     "text": [
      "Les segments de 'Aves_idpofra31FR_23VIII2022_0030.png' ont été sauvegardés avec succès.\n"
     ]
    },
    {
     "name": "stderr",
     "output_type": "stream",
     "text": [
      " 55%|█████▌    | 98/177 [01:03<00:46,  1.69it/s]"
     ]
    },
    {
     "name": "stdout",
     "output_type": "stream",
     "text": [
      "Les segments de 'Aves_idpofra31FR_23VIII2022_0115.png' ont été sauvegardés avec succès.\n"
     ]
    },
    {
     "name": "stderr",
     "output_type": "stream",
     "text": [
      " 56%|█████▌    | 99/177 [01:03<00:45,  1.70it/s]"
     ]
    },
    {
     "name": "stdout",
     "output_type": "stream",
     "text": [
      "Les segments de 'Aves_idpofra31FR_23VIII2022_0130.png' ont été sauvegardés avec succès.\n"
     ]
    },
    {
     "name": "stderr",
     "output_type": "stream",
     "text": [
      " 56%|█████▋    | 100/177 [01:04<00:43,  1.75it/s]"
     ]
    },
    {
     "name": "stdout",
     "output_type": "stream",
     "text": [
      "Les segments de 'Aves_idpofra31FR_23VIII2022_0245.png' ont été sauvegardés avec succès.\n"
     ]
    },
    {
     "name": "stderr",
     "output_type": "stream",
     "text": [
      " 57%|█████▋    | 101/177 [01:05<00:42,  1.78it/s]"
     ]
    },
    {
     "name": "stdout",
     "output_type": "stream",
     "text": [
      "Les segments de 'Aves_idpofra31FR_23VIII2022_0400.png' ont été sauvegardés avec succès.\n"
     ]
    },
    {
     "name": "stderr",
     "output_type": "stream",
     "text": [
      " 58%|█████▊    | 102/177 [01:05<00:48,  1.55it/s]"
     ]
    },
    {
     "name": "stdout",
     "output_type": "stream",
     "text": [
      "Les segments de 'Orthoptera_adkarsa31FR_21IX2022_1023.png' ont été sauvegardés avec succès.\n"
     ]
    },
    {
     "name": "stderr",
     "output_type": "stream",
     "text": [
      " 58%|█████▊    | 103/177 [01:06<00:43,  1.72it/s]"
     ]
    },
    {
     "name": "stdout",
     "output_type": "stream",
     "text": [
      "Les segments de 'Orthoptera_cdchcau09FR_18IX2022_1048.png' ont été sauvegardés avec succès.\n"
     ]
    },
    {
     "name": "stderr",
     "output_type": "stream",
     "text": [
      " 59%|█████▉    | 104/177 [01:06<00:39,  1.84it/s]"
     ]
    },
    {
     "name": "stdout",
     "output_type": "stream",
     "text": [
      "Les segments de 'Orthoptera_cdchcau09FR_18IX2022_1052.png' ont été sauvegardés avec succès.\n"
     ]
    },
    {
     "name": "stderr",
     "output_type": "stream",
     "text": [
      " 59%|█████▉    | 105/177 [01:06<00:32,  2.24it/s]"
     ]
    },
    {
     "name": "stdout",
     "output_type": "stream",
     "text": [
      "Les segments de 'Orthoptera_cdchcau09FR_18IX2022_1055.png' ont été sauvegardés avec succès.\n"
     ]
    },
    {
     "name": "stderr",
     "output_type": "stream",
     "text": [
      " 60%|█████▉    | 106/177 [01:07<00:29,  2.37it/s]"
     ]
    },
    {
     "name": "stdout",
     "output_type": "stream",
     "text": [
      "Les segments de 'Orthoptera_cdchcau09FR_18IX2022_1056.png' ont été sauvegardés avec succès.\n"
     ]
    },
    {
     "name": "stderr",
     "output_type": "stream",
     "text": [
      " 60%|██████    | 107/177 [01:08<00:39,  1.77it/s]"
     ]
    },
    {
     "name": "stdout",
     "output_type": "stream",
     "text": [
      "Les segments de 'Orthoptera_cdmasma07FR_14VIII2022_908.png' ont été sauvegardés avec succès.\n"
     ]
    },
    {
     "name": "stderr",
     "output_type": "stream",
     "text": [
      " 61%|██████    | 108/177 [01:08<00:40,  1.69it/s]"
     ]
    },
    {
     "name": "stdout",
     "output_type": "stream",
     "text": [
      "Les segments de 'Orthoptera_cdmasma07FR_14VIII2022_909.png' ont été sauvegardés avec succès.\n"
     ]
    },
    {
     "name": "stderr",
     "output_type": "stream",
     "text": [
      " 62%|██████▏   | 109/177 [01:09<00:43,  1.58it/s]"
     ]
    },
    {
     "name": "stdout",
     "output_type": "stream",
     "text": [
      "Les segments de 'Orthoptera_cdpotsa09FR_05X2022_806.png' ont été sauvegardés avec succès.\n"
     ]
    },
    {
     "name": "stderr",
     "output_type": "stream",
     "text": [
      " 62%|██████▏   | 110/177 [01:10<00:41,  1.62it/s]"
     ]
    },
    {
     "name": "stdout",
     "output_type": "stream",
     "text": [
      "Les segments de 'Orthoptera_cdpotsa09FR_05X2022_830.png' ont été sauvegardés avec succès.\n"
     ]
    },
    {
     "name": "stderr",
     "output_type": "stream",
     "text": [
      " 63%|██████▎   | 111/177 [01:11<00:48,  1.37it/s]"
     ]
    },
    {
     "name": "stdout",
     "output_type": "stream",
     "text": [
      "Les segments de 'Orthoptera_hotrrsa31FR_21IX2022_706.png' ont été sauvegardés avec succès.\n"
     ]
    },
    {
     "name": "stderr",
     "output_type": "stream",
     "text": [
      " 63%|██████▎   | 112/177 [01:12<00:50,  1.28it/s]"
     ]
    },
    {
     "name": "stdout",
     "output_type": "stream",
     "text": [
      "Les segments de 'Orthoptera_hotrrsa31FR_21IX2022_991.png' ont été sauvegardés avec succès.\n"
     ]
    },
    {
     "name": "stderr",
     "output_type": "stream",
     "text": [
      " 64%|██████▍   | 113/177 [01:12<00:45,  1.39it/s]"
     ]
    },
    {
     "name": "stdout",
     "output_type": "stream",
     "text": [
      "Les segments de 'Orthoptera_idpofra31FR_23VIII2022_0015.png' ont été sauvegardés avec succès.\n"
     ]
    },
    {
     "name": "stderr",
     "output_type": "stream",
     "text": [
      " 64%|██████▍   | 114/177 [01:13<00:42,  1.49it/s]"
     ]
    },
    {
     "name": "stdout",
     "output_type": "stream",
     "text": [
      "Les segments de 'Orthoptera_idpofra31FR_23VIII2022_0045.png' ont été sauvegardés avec succès.\n"
     ]
    },
    {
     "name": "stderr",
     "output_type": "stream",
     "text": [
      " 65%|██████▍   | 115/177 [01:13<00:39,  1.58it/s]"
     ]
    },
    {
     "name": "stdout",
     "output_type": "stream",
     "text": [
      "Les segments de 'Orthoptera_idpofra31FR_23VIII2022_0145.png' ont été sauvegardés avec succès.\n"
     ]
    },
    {
     "name": "stderr",
     "output_type": "stream",
     "text": [
      " 66%|██████▌   | 116/177 [01:14<00:37,  1.64it/s]"
     ]
    },
    {
     "name": "stdout",
     "output_type": "stream",
     "text": [
      "Les segments de 'Orthoptera_idpofra31FR_23VIII2022_0200.png' ont été sauvegardés avec succès.\n"
     ]
    },
    {
     "name": "stderr",
     "output_type": "stream",
     "text": [
      " 66%|██████▌   | 117/177 [01:14<00:35,  1.71it/s]"
     ]
    },
    {
     "name": "stdout",
     "output_type": "stream",
     "text": [
      "Les segments de 'Orthoptera_idpofra31FR_23VIII2022_0215.png' ont été sauvegardés avec succès.\n"
     ]
    },
    {
     "name": "stderr",
     "output_type": "stream",
     "text": [
      " 67%|██████▋   | 118/177 [01:15<00:33,  1.75it/s]"
     ]
    },
    {
     "name": "stdout",
     "output_type": "stream",
     "text": [
      "Les segments de 'Orthoptera_idpofra31FR_23VIII2022_0230.png' ont été sauvegardés avec succès.\n"
     ]
    },
    {
     "name": "stderr",
     "output_type": "stream",
     "text": [
      " 67%|██████▋   | 119/177 [01:15<00:33,  1.73it/s]"
     ]
    },
    {
     "name": "stdout",
     "output_type": "stream",
     "text": [
      "Les segments de 'Orthoptera_idpofra31FR_23VIII2022_0300.png' ont été sauvegardés avec succès.\n"
     ]
    },
    {
     "name": "stderr",
     "output_type": "stream",
     "text": [
      " 68%|██████▊   | 120/177 [01:16<00:32,  1.75it/s]"
     ]
    },
    {
     "name": "stdout",
     "output_type": "stream",
     "text": [
      "Les segments de 'Orthoptera_idpofra31FR_23VIII2022_0315.png' ont été sauvegardés avec succès.\n"
     ]
    },
    {
     "name": "stderr",
     "output_type": "stream",
     "text": [
      " 68%|██████▊   | 121/177 [01:17<00:31,  1.75it/s]"
     ]
    },
    {
     "name": "stdout",
     "output_type": "stream",
     "text": [
      "Les segments de 'Orthoptera_idpofra31FR_23VIII2022_0330.png' ont été sauvegardés avec succès.\n"
     ]
    },
    {
     "name": "stderr",
     "output_type": "stream",
     "text": [
      " 69%|██████▉   | 122/177 [01:17<00:32,  1.70it/s]"
     ]
    },
    {
     "name": "stdout",
     "output_type": "stream",
     "text": [
      "Les segments de 'Orthoptera_pechpuy46FR_06V2022_2015.png' ont été sauvegardés avec succès.\n"
     ]
    },
    {
     "name": "stderr",
     "output_type": "stream",
     "text": [
      " 69%|██████▉   | 123/177 [01:18<00:32,  1.66it/s]"
     ]
    },
    {
     "name": "stdout",
     "output_type": "stream",
     "text": [
      "Les segments de 'Orthoptera_pechpuy46FR_06V2022_2100.png' ont été sauvegardés avec succès.\n"
     ]
    },
    {
     "name": "stderr",
     "output_type": "stream",
     "text": [
      " 70%|███████   | 124/177 [01:19<00:32,  1.65it/s]"
     ]
    },
    {
     "name": "stdout",
     "output_type": "stream",
     "text": [
      "Les segments de 'Orthoptera_pechpuy46FR_06V2022_2130.png' ont été sauvegardés avec succès.\n"
     ]
    },
    {
     "name": "stderr",
     "output_type": "stream",
     "text": [
      " 71%|███████   | 125/177 [01:19<00:32,  1.60it/s]"
     ]
    },
    {
     "name": "stdout",
     "output_type": "stream",
     "text": [
      "Les segments de 'Orthoptera_pechpuy46FR_11V2022_0530.png' ont été sauvegardés avec succès.\n"
     ]
    },
    {
     "name": "stderr",
     "output_type": "stream",
     "text": [
      " 71%|███████   | 126/177 [01:20<00:30,  1.65it/s]"
     ]
    },
    {
     "name": "stdout",
     "output_type": "stream",
     "text": [
      "Les segments de 'Orthoptera_plmarsa31FR_12V2023_1213.png' ont été sauvegardés avec succès.\n"
     ]
    },
    {
     "name": "stderr",
     "output_type": "stream",
     "text": [
      " 72%|███████▏  | 127/177 [01:20<00:25,  1.96it/s]"
     ]
    },
    {
     "name": "stdout",
     "output_type": "stream",
     "text": [
      "Les segments de 'Orthoptera_XXXXascXXES_26VIII2022_1027.png' ont été sauvegardés avec succès.\n"
     ]
    },
    {
     "name": "stderr",
     "output_type": "stream",
     "text": [
      " 72%|███████▏  | 128/177 [01:20<00:21,  2.27it/s]"
     ]
    },
    {
     "name": "stdout",
     "output_type": "stream",
     "text": [
      "Les segments de 'Orthoptera_XXXXascXXES_26VIII2022_660.png' ont été sauvegardés avec succès.\n"
     ]
    },
    {
     "name": "stderr",
     "output_type": "stream",
     "text": [
      " 73%|███████▎  | 129/177 [01:22<00:34,  1.40it/s]"
     ]
    },
    {
     "name": "stdout",
     "output_type": "stream",
     "text": [
      "Les segments de 'Orthoptera_XXXXbid07FR_27IV2022_98.png' ont été sauvegardés avec succès.\n"
     ]
    },
    {
     "name": "stderr",
     "output_type": "stream",
     "text": [
      " 73%|███████▎  | 130/177 [01:22<00:27,  1.72it/s]"
     ]
    },
    {
     "name": "stdout",
     "output_type": "stream",
     "text": [
      "Les segments de 'Orthoptera_XXXXcam11FR_12IX2022_1037.png' ont été sauvegardés avec succès.\n"
     ]
    },
    {
     "name": "stderr",
     "output_type": "stream",
     "text": [
      " 74%|███████▍  | 131/177 [01:23<00:27,  1.69it/s]"
     ]
    },
    {
     "name": "stdout",
     "output_type": "stream",
     "text": [
      "Les segments de 'Orthoptera_XXXXigeXXES_01VII2022_331.png' ont été sauvegardés avec succès.\n"
     ]
    },
    {
     "name": "stderr",
     "output_type": "stream",
     "text": [
      " 75%|███████▍  | 132/177 [01:23<00:30,  1.45it/s]"
     ]
    },
    {
     "name": "stdout",
     "output_type": "stream",
     "text": [
      "Les segments de 'Orthoptera_XXXXigeXXES_01VII2022_332.png' ont été sauvegardés avec succès.\n"
     ]
    },
    {
     "name": "stderr",
     "output_type": "stream",
     "text": [
      " 75%|███████▌  | 133/177 [01:24<00:31,  1.41it/s]"
     ]
    },
    {
     "name": "stdout",
     "output_type": "stream",
     "text": [
      "Les segments de 'Orthoptera_XXXXigeXXES_01VIII2022_896.png' ont été sauvegardés avec succès.\n"
     ]
    },
    {
     "name": "stderr",
     "output_type": "stream",
     "text": [
      " 76%|███████▌  | 134/177 [01:25<00:28,  1.49it/s]"
     ]
    },
    {
     "name": "stdout",
     "output_type": "stream",
     "text": [
      "Les segments de 'Orthoptera_XXXXigeXXES_01VIII2022_898.png' ont été sauvegardés avec succès.\n"
     ]
    },
    {
     "name": "stderr",
     "output_type": "stream",
     "text": [
      " 76%|███████▋  | 135/177 [01:26<00:30,  1.38it/s]"
     ]
    },
    {
     "name": "stdout",
     "output_type": "stream",
     "text": [
      "Les segments de 'Orthoptera_XXXXigeXXES_01VIII2022_899.png' ont été sauvegardés avec succès.\n"
     ]
    },
    {
     "name": "stderr",
     "output_type": "stream",
     "text": [
      " 77%|███████▋  | 136/177 [01:26<00:31,  1.32it/s]"
     ]
    },
    {
     "name": "stdout",
     "output_type": "stream",
     "text": [
      "Les segments de 'Orthoptera_XXXXigeXXES_01VIII2022_900.png' ont été sauvegardés avec succès.\n"
     ]
    },
    {
     "name": "stderr",
     "output_type": "stream",
     "text": [
      " 77%|███████▋  | 137/177 [01:27<00:31,  1.26it/s]"
     ]
    },
    {
     "name": "stdout",
     "output_type": "stream",
     "text": [
      "Les segments de 'Orthoptera_XXXXigeXXES_02VII2022_337.png' ont été sauvegardés avec succès.\n"
     ]
    },
    {
     "name": "stderr",
     "output_type": "stream",
     "text": [
      " 78%|███████▊  | 138/177 [01:28<00:31,  1.26it/s]"
     ]
    },
    {
     "name": "stdout",
     "output_type": "stream",
     "text": [
      "Les segments de 'Orthoptera_XXXXigeXXES_02VIII2022_1188.png' ont été sauvegardés avec succès.\n"
     ]
    },
    {
     "name": "stderr",
     "output_type": "stream",
     "text": [
      " 79%|███████▊  | 139/177 [01:29<00:32,  1.16it/s]"
     ]
    },
    {
     "name": "stdout",
     "output_type": "stream",
     "text": [
      "Les segments de 'Orthoptera_XXXXigeXXES_02VIII2022_1189.png' ont été sauvegardés avec succès.\n"
     ]
    },
    {
     "name": "stderr",
     "output_type": "stream",
     "text": [
      " 79%|███████▉  | 140/177 [01:30<00:29,  1.25it/s]"
     ]
    },
    {
     "name": "stdout",
     "output_type": "stream",
     "text": [
      "Les segments de 'Orthoptera_XXXXigeXXES_02VIII2022_901.png' ont été sauvegardés avec succès.\n"
     ]
    },
    {
     "name": "stderr",
     "output_type": "stream",
     "text": [
      " 80%|███████▉  | 141/177 [01:31<00:29,  1.21it/s]"
     ]
    },
    {
     "name": "stdout",
     "output_type": "stream",
     "text": [
      "Les segments de 'Orthoptera_XXXXigeXXES_03VII2022_1194.png' ont été sauvegardés avec succès.\n"
     ]
    },
    {
     "name": "stderr",
     "output_type": "stream",
     "text": [
      " 80%|████████  | 142/177 [01:31<00:28,  1.23it/s]"
     ]
    },
    {
     "name": "stdout",
     "output_type": "stream",
     "text": [
      "Les segments de 'Orthoptera_XXXXigeXXES_03VII2022_423.png' ont été sauvegardés avec succès.\n"
     ]
    },
    {
     "name": "stderr",
     "output_type": "stream",
     "text": [
      " 81%|████████  | 143/177 [01:32<00:25,  1.32it/s]"
     ]
    },
    {
     "name": "stdout",
     "output_type": "stream",
     "text": [
      "Les segments de 'Orthoptera_XXXXigeXXES_10VIII2022_1190.png' ont été sauvegardés avec succès.\n"
     ]
    },
    {
     "name": "stderr",
     "output_type": "stream",
     "text": [
      " 81%|████████▏ | 144/177 [01:33<00:25,  1.28it/s]"
     ]
    },
    {
     "name": "stdout",
     "output_type": "stream",
     "text": [
      "Les segments de 'Orthoptera_XXXXigeXXES_14VII2022_861.png' ont été sauvegardés avec succès.\n"
     ]
    },
    {
     "name": "stderr",
     "output_type": "stream",
     "text": [
      " 82%|████████▏ | 145/177 [01:34<00:26,  1.19it/s]"
     ]
    },
    {
     "name": "stdout",
     "output_type": "stream",
     "text": [
      "Les segments de 'Orthoptera_XXXXigeXXES_14VII2022_863.png' ont été sauvegardés avec succès.\n"
     ]
    },
    {
     "name": "stderr",
     "output_type": "stream",
     "text": [
      " 82%|████████▏ | 146/177 [01:34<00:23,  1.32it/s]"
     ]
    },
    {
     "name": "stdout",
     "output_type": "stream",
     "text": [
      "Les segments de 'Orthoptera_XXXXigeXXES_14VII2022_867.png' ont été sauvegardés avec succès.\n"
     ]
    },
    {
     "name": "stderr",
     "output_type": "stream",
     "text": [
      " 83%|████████▎ | 147/177 [01:35<00:21,  1.42it/s]"
     ]
    },
    {
     "name": "stdout",
     "output_type": "stream",
     "text": [
      "Les segments de 'Orthoptera_XXXXigeXXES_14VII2022_871.png' ont été sauvegardés avec succès.\n"
     ]
    },
    {
     "name": "stderr",
     "output_type": "stream",
     "text": [
      " 84%|████████▎ | 148/177 [01:36<00:19,  1.50it/s]"
     ]
    },
    {
     "name": "stdout",
     "output_type": "stream",
     "text": [
      "Les segments de 'Orthoptera_XXXXigeXXES_14VII2022_872.png' ont été sauvegardés avec succès.\n"
     ]
    },
    {
     "name": "stderr",
     "output_type": "stream",
     "text": [
      " 84%|████████▍ | 149/177 [01:37<00:20,  1.37it/s]"
     ]
    },
    {
     "name": "stdout",
     "output_type": "stream",
     "text": [
      "Les segments de 'Orthoptera_XXXXigeXXES_14VII2022_875.png' ont été sauvegardés avec succès.\n"
     ]
    },
    {
     "name": "stderr",
     "output_type": "stream",
     "text": [
      " 85%|████████▍ | 150/177 [01:38<00:23,  1.17it/s]"
     ]
    },
    {
     "name": "stdout",
     "output_type": "stream",
     "text": [
      "Les segments de 'Orthoptera_XXXXigeXXES_15VII2022_876.png' ont été sauvegardés avec succès.\n"
     ]
    },
    {
     "name": "stderr",
     "output_type": "stream",
     "text": [
      " 85%|████████▌ | 151/177 [01:39<00:23,  1.09it/s]"
     ]
    },
    {
     "name": "stdout",
     "output_type": "stream",
     "text": [
      "Les segments de 'Orthoptera_XXXXigeXXES_17VII2022_877.png' ont été sauvegardés avec succès.\n"
     ]
    },
    {
     "name": "stderr",
     "output_type": "stream",
     "text": [
      " 86%|████████▌ | 152/177 [01:40<00:22,  1.13it/s]"
     ]
    },
    {
     "name": "stdout",
     "output_type": "stream",
     "text": [
      "Les segments de 'Orthoptera_XXXXigeXXES_17VII2022_879.png' ont été sauvegardés avec succès.\n"
     ]
    },
    {
     "name": "stderr",
     "output_type": "stream",
     "text": [
      " 86%|████████▋ | 153/177 [01:40<00:18,  1.27it/s]"
     ]
    },
    {
     "name": "stdout",
     "output_type": "stream",
     "text": [
      "Les segments de 'Orthoptera_XXXXigeXXES_17VII2022_880.png' ont été sauvegardés avec succès.\n"
     ]
    },
    {
     "name": "stderr",
     "output_type": "stream",
     "text": [
      " 87%|████████▋ | 154/177 [01:41<00:17,  1.35it/s]"
     ]
    },
    {
     "name": "stdout",
     "output_type": "stream",
     "text": [
      "Les segments de 'Orthoptera_XXXXigeXXES_17VII2022_882.png' ont été sauvegardés avec succès.\n"
     ]
    },
    {
     "name": "stderr",
     "output_type": "stream",
     "text": [
      " 88%|████████▊ | 155/177 [01:42<00:18,  1.21it/s]"
     ]
    },
    {
     "name": "stdout",
     "output_type": "stream",
     "text": [
      "Les segments de 'Orthoptera_XXXXigeXXES_17VII2022_883.png' ont été sauvegardés avec succès.\n"
     ]
    },
    {
     "name": "stderr",
     "output_type": "stream",
     "text": [
      " 88%|████████▊ | 156/177 [01:43<00:17,  1.20it/s]"
     ]
    },
    {
     "name": "stdout",
     "output_type": "stream",
     "text": [
      "Les segments de 'Orthoptera_XXXXigeXXES_19VII2022_1198.png' ont été sauvegardés avec succès.\n"
     ]
    },
    {
     "name": "stderr",
     "output_type": "stream",
     "text": [
      " 89%|████████▊ | 157/177 [01:44<00:22,  1.10s/it]"
     ]
    },
    {
     "name": "stdout",
     "output_type": "stream",
     "text": [
      "Les segments de 'Orthoptera_XXXXjacXXES_26VIII2022_1029.png' ont été sauvegardés avec succès.\n"
     ]
    },
    {
     "name": "stderr",
     "output_type": "stream",
     "text": [
      " 89%|████████▉ | 158/177 [01:46<00:26,  1.38s/it]"
     ]
    },
    {
     "name": "stdout",
     "output_type": "stream",
     "text": [
      "Les segments de 'Orthoptera_XXXXjacXXES_26VIII2022_1030.png' ont été sauvegardés avec succès.\n"
     ]
    },
    {
     "name": "stderr",
     "output_type": "stream",
     "text": [
      " 90%|████████▉ | 159/177 [01:48<00:26,  1.50s/it]"
     ]
    },
    {
     "name": "stdout",
     "output_type": "stream",
     "text": [
      "Les segments de 'Orthoptera_XXXXjacXXES_26VIII2022_1035.png' ont été sauvegardés avec succès.\n"
     ]
    },
    {
     "name": "stderr",
     "output_type": "stream",
     "text": [
      " 90%|█████████ | 160/177 [01:49<00:22,  1.34s/it]"
     ]
    },
    {
     "name": "stdout",
     "output_type": "stream",
     "text": [
      "Les segments de 'Orthoptera_XXXXjacXXES_26VIII2022_1058.png' ont été sauvegardés avec succès.\n"
     ]
    },
    {
     "name": "stderr",
     "output_type": "stream",
     "text": [
      " 91%|█████████ | 161/177 [01:51<00:25,  1.59s/it]"
     ]
    },
    {
     "name": "stdout",
     "output_type": "stream",
     "text": [
      "Les segments de 'Orthoptera_XXXXjacXXES_26VIII2022_661.png' ont été sauvegardés avec succès.\n"
     ]
    },
    {
     "name": "stderr",
     "output_type": "stream",
     "text": [
      " 92%|█████████▏| 162/177 [01:52<00:21,  1.41s/it]"
     ]
    },
    {
     "name": "stdout",
     "output_type": "stream",
     "text": [
      "Les segments de 'Orthoptera_XXXXjacXXES_26VIII2022_662.png' ont été sauvegardés avec succès.\n"
     ]
    },
    {
     "name": "stderr",
     "output_type": "stream",
     "text": [
      " 92%|█████████▏| 163/177 [01:53<00:17,  1.23s/it]"
     ]
    },
    {
     "name": "stdout",
     "output_type": "stream",
     "text": [
      "Les segments de 'Orthoptera_XXXXmon82FR_19VII2022_885.png' ont été sauvegardés avec succès.\n"
     ]
    },
    {
     "name": "stderr",
     "output_type": "stream",
     "text": [
      " 93%|█████████▎| 164/177 [01:54<00:14,  1.11s/it]"
     ]
    },
    {
     "name": "stdout",
     "output_type": "stream",
     "text": [
      "Les segments de 'Orthoptera_XXXXmon82FR_19VII2022_886.png' ont été sauvegardés avec succès.\n"
     ]
    },
    {
     "name": "stderr",
     "output_type": "stream",
     "text": [
      " 93%|█████████▎| 165/177 [01:54<00:11,  1.08it/s]"
     ]
    },
    {
     "name": "stdout",
     "output_type": "stream",
     "text": [
      "Les segments de 'Orthoptera_XXXXmon82FR_19VII2022_887.png' ont été sauvegardés avec succès.\n"
     ]
    },
    {
     "name": "stderr",
     "output_type": "stream",
     "text": [
      " 94%|█████████▍| 166/177 [01:55<00:09,  1.21it/s]"
     ]
    },
    {
     "name": "stdout",
     "output_type": "stream",
     "text": [
      "Les segments de 'Orthoptera_XXXXmon82FR_19VII2022_888.png' ont été sauvegardés avec succès.\n"
     ]
    },
    {
     "name": "stderr",
     "output_type": "stream",
     "text": [
      " 94%|█████████▍| 167/177 [01:56<00:07,  1.27it/s]"
     ]
    },
    {
     "name": "stdout",
     "output_type": "stream",
     "text": [
      "Les segments de 'Orthoptera_XXXXmon82FR_19VII2022_889.png' ont été sauvegardés avec succès.\n"
     ]
    },
    {
     "name": "stderr",
     "output_type": "stream",
     "text": [
      " 95%|█████████▍| 168/177 [01:56<00:06,  1.30it/s]"
     ]
    },
    {
     "name": "stdout",
     "output_type": "stream",
     "text": [
      "Les segments de 'Orthoptera_XXXXmon82FR_19VII2022_893.png' ont été sauvegardés avec succès.\n"
     ]
    },
    {
     "name": "stderr",
     "output_type": "stream",
     "text": [
      " 95%|█████████▌| 169/177 [01:57<00:06,  1.32it/s]"
     ]
    },
    {
     "name": "stdout",
     "output_type": "stream",
     "text": [
      "Les segments de 'Orthoptera_XXXXmon82FR_19VII2022_895.png' ont été sauvegardés avec succès.\n"
     ]
    },
    {
     "name": "stderr",
     "output_type": "stream",
     "text": [
      " 96%|█████████▌| 170/177 [01:58<00:06,  1.12it/s]"
     ]
    },
    {
     "name": "stdout",
     "output_type": "stream",
     "text": [
      "Les segments de 'Orthoptera_XXXXporXXES_06V2022_123.png' ont été sauvegardés avec succès.\n"
     ]
    },
    {
     "name": "stderr",
     "output_type": "stream",
     "text": [
      " 97%|█████████▋| 171/177 [02:00<00:05,  1.03it/s]"
     ]
    },
    {
     "name": "stdout",
     "output_type": "stream",
     "text": [
      "Les segments de 'Orthoptera_XXXXporXXES_06V2022_124.png' ont été sauvegardés avec succès.\n"
     ]
    },
    {
     "name": "stderr",
     "output_type": "stream",
     "text": [
      " 97%|█████████▋| 172/177 [02:02<00:07,  1.49s/it]"
     ]
    },
    {
     "name": "stdout",
     "output_type": "stream",
     "text": [
      "Les segments de 'Orthoptera_XXXXporXXES_06V2022_125.png' ont été sauvegardés avec succès.\n"
     ]
    },
    {
     "name": "stderr",
     "output_type": "stream",
     "text": [
      " 98%|█████████▊| 173/177 [02:04<00:06,  1.55s/it]"
     ]
    },
    {
     "name": "stdout",
     "output_type": "stream",
     "text": [
      "Les segments de 'Orthoptera_XXXXporXXES_30IV2022_117.png' ont été sauvegardés avec succès.\n"
     ]
    },
    {
     "name": "stderr",
     "output_type": "stream",
     "text": [
      " 98%|█████████▊| 174/177 [02:05<00:03,  1.28s/it]"
     ]
    },
    {
     "name": "stdout",
     "output_type": "stream",
     "text": [
      "Les segments de 'Orthoptera_XXXXporXXES_30IV2022_118.png' ont été sauvegardés avec succès.\n"
     ]
    },
    {
     "name": "stderr",
     "output_type": "stream",
     "text": [
      " 99%|█████████▉| 175/177 [02:06<00:02,  1.36s/it]"
     ]
    },
    {
     "name": "stdout",
     "output_type": "stream",
     "text": [
      "Les segments de 'Orthoptera_XXXXsma07FR_10VIII2022_904.png' ont été sauvegardés avec succès.\n"
     ]
    },
    {
     "name": "stderr",
     "output_type": "stream",
     "text": [
      " 99%|█████████▉| 176/177 [02:08<00:01,  1.54s/it]"
     ]
    },
    {
     "name": "stdout",
     "output_type": "stream",
     "text": [
      "Les segments de 'Orthoptera_XXXXsma07FR_10VIII2022_905.png' ont été sauvegardés avec succès.\n"
     ]
    },
    {
     "name": "stderr",
     "output_type": "stream",
     "text": [
      "100%|██████████| 177/177 [02:10<00:00,  1.36it/s]"
     ]
    },
    {
     "name": "stdout",
     "output_type": "stream",
     "text": [
      "Les segments de 'Orthoptera_XXXXsma07FR_27IV2022_112.png' ont été sauvegardés avec succès.\n"
     ]
    },
    {
     "name": "stderr",
     "output_type": "stream",
     "text": [
      "\n"
     ]
    }
   ],
   "source": [
    "\n",
    "convertSpectro1minTo5s(path_1min, path_5s)"
   ]
  },
  {
   "cell_type": "code",
   "execution_count": 4,
   "metadata": {},
   "outputs": [],
   "source": [
    "# Load yolo model\n",
    "model_version = \"best.pt\"\n",
    "modelpath = r\"../Notebooks/YOLO/runs/detect/new dataset/weights\" + os.sep + model_version\n",
    "model = YOLO(modelpath)"
   ]
  },
  {
   "cell_type": "code",
   "execution_count": 5,
   "metadata": {},
   "outputs": [
    {
     "name": "stderr",
     "output_type": "stream",
     "text": [
      "  0%|          | 0/2537 [00:00<?, ?it/s]"
     ]
    },
    {
     "name": "stderr",
     "output_type": "stream",
     "text": [
      "100%|██████████| 2537/2537 [01:06<00:00, 38.38it/s]\n"
     ]
    }
   ],
   "source": [
    "# create new dataframe for the boxes\n",
    "columns = [\"unique_code\", \"x1\", \"y1\", \"x2\", \"y2\", \"confidence\", \"img_height\", \"img_width\", \"start_split\", \"end_split\"]\n",
    "df_boxes = pd.DataFrame(columns=columns)\n",
    "\n",
    "for filename in tqdm(os.listdir(path_5s)):\n",
    "    file_path = os.path.join(path_5s, filename)\n",
    "    if file_path.lower().endswith(('.png', '.jpg', '.jpeg')):\n",
    "        image = Image.open(file_path)\n",
    "        name = filename.split('.')[0]\n",
    "        \n",
    "        # predict\n",
    "        results = model.predict(image, conf=0.319, verbose=False)\n",
    "        for result in results:\n",
    "            boxes = result.boxes\n",
    "            for box in boxes:\n",
    "                xyxy = box.xyxy[0]\n",
    "                conf = box.conf[0]\n",
    "                height, width = box.orig_shape\n",
    "                \n",
    "                # get xyxy values\n",
    "                x1 = min(round(float(xyxy[0])), width)\n",
    "                y1 = min(round(float(xyxy[1])), height)\n",
    "                x2 = min(round(float(xyxy[2])), width)\n",
    "                y2 = min(round(float(xyxy[3])), height)\n",
    "                conf = float(conf)\n",
    "                \n",
    "                unique_code = name.split('_split_')[0]\n",
    "                start_split = int(name.split('_split_')[1].split('_')[0])\n",
    "                end_split = int(name.split('_split_')[1].split('_')[1])\n",
    "                \n",
    "                # Append a new row to the DataFrame\n",
    "                new_row = {\"unique_code\": unique_code, \"x1\": x1, \"y1\": y1, \"x2\": x2, \"y2\": y2, \"confidence\": conf, \"img_height\": height, \"img_width\": width, \"start_split\": start_split, \"end_split\": end_split}\n",
    "                df_boxes = pd.concat([df_boxes, pd.DataFrame([new_row])], ignore_index=True)"
   ]
  },
  {
   "cell_type": "code",
   "execution_count": 10,
   "metadata": {},
   "outputs": [],
   "source": [
    "df_boxes\n",
    "\n",
    "# Save the dataframe to a csv file\n",
    "save_path_csv = r'C:\\Users\\lucas\\Documents\\Annee_3_ENSEEIHT\\Projet long\\OrthopteraStridulationClassifier\\Dataset acoustique insectes\\DatasetStretch\\CSV Soundscape 1 min split 5s'\n",
    "\n",
    "# if the folder does not exist, create it\n",
    "os.makedirs(save_path_csv, exist_ok=True)\n",
    "\n",
    "# save the dataframe to a csv file\n",
    "csv_file = \"1min_to_5s_boxes.csv\"\n",
    "df_boxes.to_csv(save_path_csv + os.sep + csv_file, index=False)"
   ]
  }
 ],
 "metadata": {
  "kernelspec": {
   "display_name": "Python 3",
   "language": "python",
   "name": "python3"
  },
  "language_info": {
   "codemirror_mode": {
    "name": "ipython",
    "version": 3
   },
   "file_extension": ".py",
   "mimetype": "text/x-python",
   "name": "python",
   "nbconvert_exporter": "python",
   "pygments_lexer": "ipython3",
   "version": "3.10.12"
  }
 },
 "nbformat": 4,
 "nbformat_minor": 2
}
