{
 "cells": [
  {
   "cell_type": "code",
   "execution_count": 2,
   "metadata": {},
   "outputs": [
    {
     "name": "stdout",
     "output_type": "stream",
     "text": [
      "cuda available:  True\n"
     ]
    },
    {
     "data": {
      "text/plain": [
       "'0.15.2+cu118'"
      ]
     },
     "execution_count": 2,
     "metadata": {},
     "output_type": "execute_result"
    }
   ],
   "source": [
    "import pandas as pd\n",
    "from tqdm import tqdm\n",
    "import os\n",
    "from PIL import Image\n",
    "\n",
    "from ultralytics import YOLO\n",
    "import torch\n",
    "import torchvision\n",
    "from matplotlib import pyplot as plt\n",
    "import numpy as np\n",
    "\n",
    "print(\"cuda available: \",torch.cuda.is_available())\n",
    "torchvision.__version__"
   ]
  },
  {
   "cell_type": "code",
   "execution_count": 3,
   "metadata": {},
   "outputs": [],
   "source": [
    "segment_width = 469"
   ]
  },
  {
   "cell_type": "code",
   "execution_count": 4,
   "metadata": {},
   "outputs": [],
   "source": [
    "def convertSpectro1minTo5s(path, save_path):\n",
    "    # Assurer que le dossier de sauvegarde existe\n",
    "    os.makedirs(save_path, exist_ok=True)\n",
    "    \n",
    "    # Obtenir la liste de tous les fichiers dans le dossier 'path'\n",
    "    for filename in tqdm(os.listdir(path)):\n",
    "        # Construire le chemin complet vers l'image\n",
    "        file_path = os.path.join(path, filename)\n",
    "        \n",
    "        # Vérifier si le fichier est une image (par exemple, vérifier l'extension)\n",
    "        if file_path.lower().endswith(('.png', '.jpg', '.jpeg')):\n",
    "            try:\n",
    "                # Ouvrir l'image\n",
    "                image = Image.open(file_path)\n",
    "                \n",
    "                # Diviser l'image et sauvegarder chaque segment\n",
    "                i = 0\n",
    "                left = i * segment_width\n",
    "                while left < image.width:\n",
    "                    # Définir la boîte de découpage pour chaque segment\n",
    "                    top = 0\n",
    "                    bottom = image.height\n",
    "                    \n",
    "                    if left + segment_width < image.width:\n",
    "                        right = left + segment_width\n",
    "                    else:\n",
    "                        right = image.width\n",
    "                    \n",
    "                    chunk_duration = int((right - left) / segment_width * 5)\n",
    "                    \n",
    "                    # Découper l'image\n",
    "                    segment = image.crop((left, top, right, bottom))\n",
    "                    \n",
    "                    # get unique code\n",
    "                    unique_code = filename.split('.')[0]\n",
    "                    \n",
    "                    # Définir le chemin du fichier de sortie pour le segment actuel\n",
    "                    new_segment_name = f\"{unique_code}_split_{i*5}_{5*i+chunk_duration}.png\"\n",
    "                    output_path = os.path.join(save_path, new_segment_name)\n",
    "                    \n",
    "                    # Enregistrer le segment\n",
    "                    segment.save(output_path)\n",
    "                    i += 1\n",
    "                    left = i * segment_width\n",
    "                    \n",
    "                print(f\"Les segments de '{filename}' ont été sauvegardés avec succès.\")\n",
    "                \n",
    "            except Exception as e:\n",
    "                print(f\"Une erreur est survenue lors du traitement de '{filename}': {e}\")"
   ]
  },
  {
   "cell_type": "code",
   "execution_count": 5,
   "metadata": {},
   "outputs": [],
   "source": [
    "path_1min = r'C:\\Users\\lucas\\Documents\\Annee_3_ENSEEIHT\\Projet long\\OrthopteraStridulationClassifier\\Dataset acoustique insectes\\Selection soundscapes 1 min spectro'\n",
    "path_5s = r'C:\\Users\\lucas\\Documents\\Annee_3_ENSEEIHT\\Projet long\\OrthopteraStridulationClassifier\\Dataset acoustique insectes\\Selection soundscapes 1 min split 5s'"
   ]
  },
  {
   "cell_type": "code",
   "execution_count": 6,
   "metadata": {},
   "outputs": [
    {
     "name": "stderr",
     "output_type": "stream",
     "text": [
      "  1%|          | 1/177 [00:00<00:56,  3.13it/s]"
     ]
    },
    {
     "name": "stdout",
     "output_type": "stream",
     "text": [
      "Les segments de 'Anura_estalep09FR_27III2022_1330.png' ont été sauvegardés avec succès.\n"
     ]
    },
    {
     "name": "stderr",
     "output_type": "stream",
     "text": [
      "  2%|▏         | 3/177 [00:00<00:40,  4.25it/s]"
     ]
    },
    {
     "name": "stdout",
     "output_type": "stream",
     "text": [
      "Les segments de 'Anura_estalep09FR_27III2022_1345.png' ont été sauvegardés avec succès.\n",
      "Les segments de 'Anura_estalep09FR_28III2022_1045.png' ont été sauvegardés avec succès.\n"
     ]
    },
    {
     "name": "stderr",
     "output_type": "stream",
     "text": [
      "  2%|▏         | 4/177 [00:01<00:43,  3.98it/s]"
     ]
    },
    {
     "name": "stdout",
     "output_type": "stream",
     "text": [
      "Les segments de 'Anura_pechpuy46FR_06V2022_1915.png' ont été sauvegardés avec succès.\n"
     ]
    },
    {
     "name": "stderr",
     "output_type": "stream",
     "text": [
      "  3%|▎         | 5/177 [00:01<00:46,  3.72it/s]"
     ]
    },
    {
     "name": "stdout",
     "output_type": "stream",
     "text": [
      "Les segments de 'Anura_pechpuy46FR_06V2022_2000.png' ont été sauvegardés avec succès.\n"
     ]
    },
    {
     "name": "stderr",
     "output_type": "stream",
     "text": [
      "  3%|▎         | 6/177 [00:01<00:46,  3.68it/s]"
     ]
    },
    {
     "name": "stdout",
     "output_type": "stream",
     "text": [
      "Les segments de 'Anura_pechpuy46FR_06V2022_2115.png' ont été sauvegardés avec succès.\n"
     ]
    },
    {
     "name": "stderr",
     "output_type": "stream",
     "text": [
      "  4%|▍         | 7/177 [00:01<00:46,  3.66it/s]"
     ]
    },
    {
     "name": "stdout",
     "output_type": "stream",
     "text": [
      "Les segments de 'Anura_pechpuy46FR_06V2022_2145.png' ont été sauvegardés avec succès.\n"
     ]
    },
    {
     "name": "stderr",
     "output_type": "stream",
     "text": [
      "  5%|▍         | 8/177 [00:02<00:46,  3.64it/s]"
     ]
    },
    {
     "name": "stdout",
     "output_type": "stream",
     "text": [
      "Les segments de 'Anura_pechpuy46FR_06V2022_2200.png' ont été sauvegardés avec succès.\n"
     ]
    },
    {
     "name": "stderr",
     "output_type": "stream",
     "text": [
      "  5%|▌         | 9/177 [00:02<00:46,  3.64it/s]"
     ]
    },
    {
     "name": "stdout",
     "output_type": "stream",
     "text": [
      "Les segments de 'Anura_pechpuy46FR_06V2022_2215.png' ont été sauvegardés avec succès.\n"
     ]
    },
    {
     "name": "stderr",
     "output_type": "stream",
     "text": [
      "  6%|▌         | 10/177 [00:02<00:45,  3.65it/s]"
     ]
    },
    {
     "name": "stdout",
     "output_type": "stream",
     "text": [
      "Les segments de 'Anura_pechpuy46FR_06V2022_2230.png' ont été sauvegardés avec succès.\n"
     ]
    },
    {
     "name": "stderr",
     "output_type": "stream",
     "text": [
      "  6%|▌         | 11/177 [00:02<00:45,  3.66it/s]"
     ]
    },
    {
     "name": "stdout",
     "output_type": "stream",
     "text": [
      "Les segments de 'Anura_pechpuy46FR_07V2022_0000.png' ont été sauvegardés avec succès.\n"
     ]
    },
    {
     "name": "stderr",
     "output_type": "stream",
     "text": [
      "  7%|▋         | 12/177 [00:03<00:45,  3.66it/s]"
     ]
    },
    {
     "name": "stdout",
     "output_type": "stream",
     "text": [
      "Les segments de 'Anura_pechpuy46FR_07V2022_1700.png' ont été sauvegardés avec succès.\n"
     ]
    },
    {
     "name": "stderr",
     "output_type": "stream",
     "text": [
      "  7%|▋         | 13/177 [00:03<00:44,  3.65it/s]"
     ]
    },
    {
     "name": "stdout",
     "output_type": "stream",
     "text": [
      "Les segments de 'Anura_pechpuy46FR_07V2022_1815.png' ont été sauvegardés avec succès.\n"
     ]
    },
    {
     "name": "stderr",
     "output_type": "stream",
     "text": [
      "  8%|▊         | 14/177 [00:03<00:45,  3.58it/s]"
     ]
    },
    {
     "name": "stdout",
     "output_type": "stream",
     "text": [
      "Les segments de 'Anura_pechpuy46FR_07V2022_1915.png' ont été sauvegardés avec succès.\n"
     ]
    },
    {
     "name": "stderr",
     "output_type": "stream",
     "text": [
      "  8%|▊         | 15/177 [00:04<00:44,  3.63it/s]"
     ]
    },
    {
     "name": "stdout",
     "output_type": "stream",
     "text": [
      "Les segments de 'Anura_pechpuy46FR_07V2022_2145.png' ont été sauvegardés avec succès.\n"
     ]
    },
    {
     "name": "stderr",
     "output_type": "stream",
     "text": [
      "  9%|▉         | 16/177 [00:04<00:44,  3.58it/s]"
     ]
    },
    {
     "name": "stdout",
     "output_type": "stream",
     "text": [
      "Les segments de 'Anura_pechpuy46FR_07V2022_2200.png' ont été sauvegardés avec succès.\n"
     ]
    },
    {
     "name": "stderr",
     "output_type": "stream",
     "text": [
      " 10%|▉         | 17/177 [00:04<00:45,  3.55it/s]"
     ]
    },
    {
     "name": "stdout",
     "output_type": "stream",
     "text": [
      "Les segments de 'Anura_pechpuy46FR_07V2022_2215.png' ont été sauvegardés avec succès.\n"
     ]
    },
    {
     "name": "stderr",
     "output_type": "stream",
     "text": [
      " 10%|█         | 18/177 [00:04<00:44,  3.59it/s]"
     ]
    },
    {
     "name": "stdout",
     "output_type": "stream",
     "text": [
      "Les segments de 'Anura_pechpuy46FR_07V2022_2230.png' ont été sauvegardés avec succès.\n"
     ]
    },
    {
     "name": "stderr",
     "output_type": "stream",
     "text": [
      " 11%|█         | 19/177 [00:05<00:43,  3.65it/s]"
     ]
    },
    {
     "name": "stdout",
     "output_type": "stream",
     "text": [
      "Les segments de 'Anura_pechpuy46FR_07V2022_2300.png' ont été sauvegardés avec succès.\n"
     ]
    },
    {
     "name": "stderr",
     "output_type": "stream",
     "text": [
      " 11%|█▏        | 20/177 [00:05<00:42,  3.68it/s]"
     ]
    },
    {
     "name": "stdout",
     "output_type": "stream",
     "text": [
      "Les segments de 'Anura_pechpuy46FR_08V2022_2115.png' ont été sauvegardés avec succès.\n"
     ]
    },
    {
     "name": "stderr",
     "output_type": "stream",
     "text": [
      " 12%|█▏        | 21/177 [00:05<00:42,  3.67it/s]"
     ]
    },
    {
     "name": "stdout",
     "output_type": "stream",
     "text": [
      "Les segments de 'Anura_pechpuy46FR_08V2022_2130.png' ont été sauvegardés avec succès.\n"
     ]
    },
    {
     "name": "stderr",
     "output_type": "stream",
     "text": [
      " 12%|█▏        | 22/177 [00:06<00:42,  3.68it/s]"
     ]
    },
    {
     "name": "stdout",
     "output_type": "stream",
     "text": [
      "Les segments de 'Anura_pechpuy46FR_08V2022_2145.png' ont été sauvegardés avec succès.\n"
     ]
    },
    {
     "name": "stderr",
     "output_type": "stream",
     "text": [
      " 13%|█▎        | 23/177 [00:06<00:41,  3.68it/s]"
     ]
    },
    {
     "name": "stdout",
     "output_type": "stream",
     "text": [
      "Les segments de 'Anura_pechpuy46FR_08V2022_2200.png' ont été sauvegardés avec succès.\n"
     ]
    },
    {
     "name": "stderr",
     "output_type": "stream",
     "text": [
      " 14%|█▎        | 24/177 [00:06<00:41,  3.65it/s]"
     ]
    },
    {
     "name": "stdout",
     "output_type": "stream",
     "text": [
      "Les segments de 'Anura_pechpuy46FR_08V2022_2215.png' ont été sauvegardés avec succès.\n"
     ]
    },
    {
     "name": "stderr",
     "output_type": "stream",
     "text": [
      " 14%|█▍        | 25/177 [00:06<00:41,  3.67it/s]"
     ]
    },
    {
     "name": "stdout",
     "output_type": "stream",
     "text": [
      "Les segments de 'Anura_pechpuy46FR_08V2022_2230.png' ont été sauvegardés avec succès.\n"
     ]
    },
    {
     "name": "stderr",
     "output_type": "stream",
     "text": [
      " 15%|█▍        | 26/177 [00:07<00:40,  3.71it/s]"
     ]
    },
    {
     "name": "stdout",
     "output_type": "stream",
     "text": [
      "Les segments de 'Anura_pechpuy46FR_08V2022_2345.png' ont été sauvegardés avec succès.\n"
     ]
    },
    {
     "name": "stderr",
     "output_type": "stream",
     "text": [
      " 15%|█▌        | 27/177 [00:07<00:42,  3.49it/s]"
     ]
    },
    {
     "name": "stdout",
     "output_type": "stream",
     "text": [
      "Les segments de 'Anura_pechpuy46FR_09V2022_0030.png' ont été sauvegardés avec succès.\n"
     ]
    },
    {
     "name": "stderr",
     "output_type": "stream",
     "text": [
      " 16%|█▌        | 28/177 [00:07<00:47,  3.14it/s]"
     ]
    },
    {
     "name": "stdout",
     "output_type": "stream",
     "text": [
      "Les segments de 'Anura_pechpuy46FR_09V2022_2015.png' ont été sauvegardés avec succès.\n"
     ]
    },
    {
     "name": "stderr",
     "output_type": "stream",
     "text": [
      " 16%|█▋        | 29/177 [00:08<00:50,  2.93it/s]"
     ]
    },
    {
     "name": "stdout",
     "output_type": "stream",
     "text": [
      "Les segments de 'Anura_pechpuy46FR_09V2022_2115.png' ont été sauvegardés avec succès.\n"
     ]
    },
    {
     "name": "stderr",
     "output_type": "stream",
     "text": [
      " 17%|█▋        | 30/177 [00:08<00:56,  2.59it/s]"
     ]
    },
    {
     "name": "stdout",
     "output_type": "stream",
     "text": [
      "Les segments de 'Anura_pechpuy46FR_09V2022_2145.png' ont été sauvegardés avec succès.\n"
     ]
    },
    {
     "name": "stderr",
     "output_type": "stream",
     "text": [
      " 18%|█▊        | 31/177 [00:09<01:00,  2.43it/s]"
     ]
    },
    {
     "name": "stdout",
     "output_type": "stream",
     "text": [
      "Les segments de 'Anura_pechpuy46FR_09V2022_2230.png' ont été sauvegardés avec succès.\n"
     ]
    },
    {
     "name": "stderr",
     "output_type": "stream",
     "text": [
      " 18%|█▊        | 32/177 [00:09<00:59,  2.42it/s]"
     ]
    },
    {
     "name": "stdout",
     "output_type": "stream",
     "text": [
      "Les segments de 'Anura_pechpuy46FR_09V2022_2330.png' ont été sauvegardés avec succès.\n"
     ]
    },
    {
     "name": "stderr",
     "output_type": "stream",
     "text": [
      " 19%|█▊        | 33/177 [00:09<00:58,  2.48it/s]"
     ]
    },
    {
     "name": "stdout",
     "output_type": "stream",
     "text": [
      "Les segments de 'Anura_pechpuy46FR_10V2022_0030.png' ont été sauvegardés avec succès.\n"
     ]
    },
    {
     "name": "stderr",
     "output_type": "stream",
     "text": [
      " 19%|█▉        | 34/177 [00:10<00:59,  2.42it/s]"
     ]
    },
    {
     "name": "stdout",
     "output_type": "stream",
     "text": [
      "Les segments de 'Anura_pechpuy46FR_10V2022_0045.png' ont été sauvegardés avec succès.\n"
     ]
    },
    {
     "name": "stderr",
     "output_type": "stream",
     "text": [
      " 20%|█▉        | 35/177 [00:10<00:57,  2.46it/s]"
     ]
    },
    {
     "name": "stdout",
     "output_type": "stream",
     "text": [
      "Les segments de 'Anura_pechpuy46FR_10V2022_0115.png' ont été sauvegardés avec succès.\n"
     ]
    },
    {
     "name": "stderr",
     "output_type": "stream",
     "text": [
      " 20%|██        | 36/177 [00:11<00:56,  2.51it/s]"
     ]
    },
    {
     "name": "stdout",
     "output_type": "stream",
     "text": [
      "Les segments de 'Anura_pechpuy46FR_10V2022_2045.png' ont été sauvegardés avec succès.\n"
     ]
    },
    {
     "name": "stderr",
     "output_type": "stream",
     "text": [
      " 21%|██        | 37/177 [00:11<00:55,  2.50it/s]"
     ]
    },
    {
     "name": "stdout",
     "output_type": "stream",
     "text": [
      "Les segments de 'Anura_pechpuy46FR_10V2022_2130.png' ont été sauvegardés avec succès.\n"
     ]
    },
    {
     "name": "stderr",
     "output_type": "stream",
     "text": [
      " 21%|██▏       | 38/177 [00:12<00:58,  2.37it/s]"
     ]
    },
    {
     "name": "stdout",
     "output_type": "stream",
     "text": [
      "Les segments de 'Anura_pechpuy46FR_10V2022_2145.png' ont été sauvegardés avec succès.\n"
     ]
    },
    {
     "name": "stderr",
     "output_type": "stream",
     "text": [
      " 22%|██▏       | 39/177 [00:12<00:59,  2.30it/s]"
     ]
    },
    {
     "name": "stdout",
     "output_type": "stream",
     "text": [
      "Les segments de 'Anura_pechpuy46FR_10V2022_2200.png' ont été sauvegardés avec succès.\n"
     ]
    },
    {
     "name": "stderr",
     "output_type": "stream",
     "text": [
      " 23%|██▎       | 40/177 [00:12<01:01,  2.24it/s]"
     ]
    },
    {
     "name": "stdout",
     "output_type": "stream",
     "text": [
      "Les segments de 'Anura_pechpuy46FR_10V2022_2215.png' ont été sauvegardés avec succès.\n"
     ]
    },
    {
     "name": "stderr",
     "output_type": "stream",
     "text": [
      " 23%|██▎       | 41/177 [00:13<00:59,  2.28it/s]"
     ]
    },
    {
     "name": "stdout",
     "output_type": "stream",
     "text": [
      "Les segments de 'Anura_pechpuy46FR_10V2022_2330.png' ont été sauvegardés avec succès.\n"
     ]
    },
    {
     "name": "stderr",
     "output_type": "stream",
     "text": [
      " 24%|██▎       | 42/177 [00:13<00:57,  2.34it/s]"
     ]
    },
    {
     "name": "stdout",
     "output_type": "stream",
     "text": [
      "Les segments de 'Anura_pechpuy46FR_11V2022_0030.png' ont été sauvegardés avec succès.\n"
     ]
    },
    {
     "name": "stderr",
     "output_type": "stream",
     "text": [
      " 24%|██▍       | 43/177 [00:14<00:55,  2.42it/s]"
     ]
    },
    {
     "name": "stdout",
     "output_type": "stream",
     "text": [
      "Les segments de 'Anura_pechpuy46FR_11V2022_0315.png' ont été sauvegardés avec succès.\n"
     ]
    },
    {
     "name": "stderr",
     "output_type": "stream",
     "text": [
      " 25%|██▍       | 44/177 [00:14<00:54,  2.42it/s]"
     ]
    },
    {
     "name": "stdout",
     "output_type": "stream",
     "text": [
      "Les segments de 'Anura_pechpuy46FR_11V2022_0345.png' ont été sauvegardés avec succès.\n"
     ]
    },
    {
     "name": "stderr",
     "output_type": "stream",
     "text": [
      " 25%|██▌       | 45/177 [00:14<00:52,  2.53it/s]"
     ]
    },
    {
     "name": "stdout",
     "output_type": "stream",
     "text": [
      "Les segments de 'Aves_109Cassag31FR_22V2019_0000.png' ont été sauvegardés avec succès.\n"
     ]
    },
    {
     "name": "stderr",
     "output_type": "stream",
     "text": [
      " 26%|██▌       | 46/177 [00:15<00:48,  2.72it/s]"
     ]
    },
    {
     "name": "stdout",
     "output_type": "stream",
     "text": [
      "Les segments de 'Aves_112Cassag31FR_18V2021_0000.png' ont été sauvegardés avec succès.\n"
     ]
    },
    {
     "name": "stderr",
     "output_type": "stream",
     "text": [
      " 27%|██▋       | 47/177 [00:15<00:43,  3.02it/s]"
     ]
    },
    {
     "name": "stdout",
     "output_type": "stream",
     "text": [
      "Les segments de 'Aves_114Cassag31FR_18V2021_1300.png' ont été sauvegardés avec succès.\n"
     ]
    },
    {
     "name": "stderr",
     "output_type": "stream",
     "text": [
      " 28%|██▊       | 49/177 [00:16<00:38,  3.36it/s]"
     ]
    },
    {
     "name": "stdout",
     "output_type": "stream",
     "text": [
      "Les segments de 'Aves_11Esparr31FR_29V2020_0000.png' ont été sauvegardés avec succès.\n",
      "Les segments de 'Aves_121Terreb31FR_28V2020_0000.png' ont été sauvegardés avec succès.\n"
     ]
    },
    {
     "name": "stderr",
     "output_type": "stream",
     "text": [
      " 28%|██▊       | 50/177 [00:16<00:34,  3.63it/s]"
     ]
    },
    {
     "name": "stdout",
     "output_type": "stream",
     "text": [
      "Les segments de 'Aves_129Terreb31FR_28V2020_1300.png' ont été sauvegardés avec succès.\n"
     ]
    },
    {
     "name": "stderr",
     "output_type": "stream",
     "text": [
      " 29%|██▉       | 51/177 [00:16<00:37,  3.33it/s]"
     ]
    },
    {
     "name": "stdout",
     "output_type": "stream",
     "text": [
      "Les segments de 'Aves_131Eoux31FR_29V2020_0000.png' ont été sauvegardés avec succès.\n"
     ]
    },
    {
     "name": "stderr",
     "output_type": "stream",
     "text": [
      " 29%|██▉       | 52/177 [00:16<00:34,  3.60it/s]"
     ]
    },
    {
     "name": "stdout",
     "output_type": "stream",
     "text": [
      "Les segments de 'Aves_136Alan31FR_29V2020_0000.png' ont été sauvegardés avec succès.\n"
     ]
    },
    {
     "name": "stderr",
     "output_type": "stream",
     "text": [
      " 30%|██▉       | 53/177 [00:17<00:32,  3.79it/s]"
     ]
    },
    {
     "name": "stdout",
     "output_type": "stream",
     "text": [
      "Les segments de 'Aves_13StAndre31FR_22IV2019_1300.png' ont été sauvegardés avec succès.\n"
     ]
    },
    {
     "name": "stderr",
     "output_type": "stream",
     "text": [
      " 31%|███       | 54/177 [00:17<00:31,  3.95it/s]"
     ]
    },
    {
     "name": "stdout",
     "output_type": "stream",
     "text": [
      "Les segments de 'Aves_140Cassag31FR_21V2021_0000.png' ont été sauvegardés avec succès.\n"
     ]
    },
    {
     "name": "stderr",
     "output_type": "stream",
     "text": [
      " 31%|███       | 55/177 [00:17<00:30,  4.07it/s]"
     ]
    },
    {
     "name": "stdout",
     "output_type": "stream",
     "text": [
      "Les segments de 'Aves_144Peyris31FR_20VI2019_1300.png' ont été sauvegardés avec succès.\n",
      "Les segments de 'Aves_14StAndre31FR_23IV2019_0000.png' ont été sauvegardés avec succès.\n"
     ]
    },
    {
     "name": "stderr",
     "output_type": "stream",
     "text": [
      " 32%|███▏      | 57/177 [00:18<00:33,  3.61it/s]"
     ]
    },
    {
     "name": "stdout",
     "output_type": "stream",
     "text": [
      "Les segments de 'Aves_151Aurign31FR_29V2020_0000.png' ont été sauvegardés avec succès.\n"
     ]
    },
    {
     "name": "stderr",
     "output_type": "stream",
     "text": [
      " 33%|███▎      | 58/177 [00:18<00:30,  3.96it/s]"
     ]
    },
    {
     "name": "stdout",
     "output_type": "stream",
     "text": [
      "Les segments de 'Aves_160Eoux31FR_18VI2019_0000.png' ont été sauvegardés avec succès.\n"
     ]
    },
    {
     "name": "stderr",
     "output_type": "stream",
     "text": [
      " 33%|███▎      | 59/177 [00:18<00:35,  3.32it/s]"
     ]
    },
    {
     "name": "stdout",
     "output_type": "stream",
     "text": [
      "Les segments de 'Aves_16StAndre31FR_05V2021_0000.png' ont été sauvegardés avec succès.\n"
     ]
    },
    {
     "name": "stderr",
     "output_type": "stream",
     "text": [
      " 34%|███▍      | 60/177 [00:19<00:37,  3.12it/s]"
     ]
    },
    {
     "name": "stdout",
     "output_type": "stream",
     "text": [
      "Les segments de 'Aves_176Esparr31FR_29V2020_0000.png' ont été sauvegardés avec succès.\n"
     ]
    },
    {
     "name": "stderr",
     "output_type": "stream",
     "text": [
      " 34%|███▍      | 61/177 [00:19<00:38,  3.05it/s]"
     ]
    },
    {
     "name": "stdout",
     "output_type": "stream",
     "text": [
      "Les segments de 'Aves_177Esparr31FR_29V2020_0700.png' ont été sauvegardés avec succès.\n"
     ]
    },
    {
     "name": "stderr",
     "output_type": "stream",
     "text": [
      " 35%|███▌      | 62/177 [00:19<00:39,  2.94it/s]"
     ]
    },
    {
     "name": "stdout",
     "output_type": "stream",
     "text": [
      "Les segments de 'Aves_184Barjac09FR_15VI2022_0000.png' ont été sauvegardés avec succès.\n"
     ]
    },
    {
     "name": "stderr",
     "output_type": "stream",
     "text": [
      " 36%|███▌      | 64/177 [00:20<00:32,  3.51it/s]"
     ]
    },
    {
     "name": "stdout",
     "output_type": "stream",
     "text": [
      "Les segments de 'Aves_186Barjac09FR_15VI2022_1300.png' ont été sauvegardés avec succès.\n",
      "Les segments de 'Aves_195Mijane09FR_22V2022_1254.png' ont été sauvegardés avec succès.\n"
     ]
    },
    {
     "name": "stderr",
     "output_type": "stream",
     "text": [
      " 37%|███▋      | 65/177 [00:20<00:29,  3.86it/s]"
     ]
    },
    {
     "name": "stdout",
     "output_type": "stream",
     "text": [
      "Les segments de 'Aves_1Eoux31FR_04V2021_0000.png' ont été sauvegardés avec succès.\n"
     ]
    },
    {
     "name": "stderr",
     "output_type": "stream",
     "text": [
      " 38%|███▊      | 67/177 [00:20<00:25,  4.40it/s]"
     ]
    },
    {
     "name": "stdout",
     "output_type": "stream",
     "text": [
      "Les segments de 'Aves_204Goulie09FR_15VI2022_1307.png' ont été sauvegardés avec succès.\n",
      "Les segments de 'Aves_209Antras09FR_01VI2022_0658.png' ont été sauvegardés avec succès.\n"
     ]
    },
    {
     "name": "stderr",
     "output_type": "stream",
     "text": [
      " 39%|███▉      | 69/177 [00:21<00:22,  4.77it/s]"
     ]
    },
    {
     "name": "stdout",
     "output_type": "stream",
     "text": [
      "Les segments de 'Aves_212Cassou09FR_07VII2022_0709.png' ont été sauvegardés avec succès.\n",
      "Les segments de 'Aves_215Merens09FR_12VI2022_0654.png' ont été sauvegardés avec succès.\n"
     ]
    },
    {
     "name": "stderr",
     "output_type": "stream",
     "text": [
      " 40%|███▉      | 70/177 [00:21<00:21,  5.02it/s]"
     ]
    },
    {
     "name": "stdout",
     "output_type": "stream",
     "text": [
      "Les segments de 'Aves_216Merens09FR_12VI2022_1254.png' ont été sauvegardés avec succès.\n"
     ]
    },
    {
     "name": "stderr",
     "output_type": "stream",
     "text": [
      " 41%|████      | 72/177 [00:21<00:23,  4.50it/s]"
     ]
    },
    {
     "name": "stdout",
     "output_type": "stream",
     "text": [
      "Les segments de 'Aves_221Orgeix09FR_13VI2022_0707.png' ont été sauvegardés avec succès.\n",
      "Les segments de 'Aves_222Orgeix09FR_13VI2022_1307.png' ont été sauvegardés avec succès.\n"
     ]
    },
    {
     "name": "stderr",
     "output_type": "stream",
     "text": [
      " 41%|████      | 73/177 [00:22<00:23,  4.52it/s]"
     ]
    },
    {
     "name": "stdout",
     "output_type": "stream",
     "text": [
      "Les segments de 'Aves_225Orlu09FR_28VI2022_1306.png' ont été sauvegardés avec succès.\n"
     ]
    },
    {
     "name": "stderr",
     "output_type": "stream",
     "text": [
      " 42%|████▏     | 74/177 [00:22<00:23,  4.40it/s]"
     ]
    },
    {
     "name": "stdout",
     "output_type": "stream",
     "text": [
      "Les segments de 'Aves_24Samoui31FR_03V2021_1300.png' ont été sauvegardés avec succès.\n"
     ]
    },
    {
     "name": "stderr",
     "output_type": "stream",
     "text": [
      " 43%|████▎     | 76/177 [00:22<00:24,  4.13it/s]"
     ]
    },
    {
     "name": "stdout",
     "output_type": "stream",
     "text": [
      "Les segments de 'Aves_28StAndre31FR_28V2020_1300.png' ont été sauvegardés avec succès.\n",
      "Les segments de 'Aves_35Eoux31FR_17VI2019_0700.png' ont été sauvegardés avec succès.\n"
     ]
    },
    {
     "name": "stderr",
     "output_type": "stream",
     "text": [
      " 44%|████▎     | 77/177 [00:23<00:23,  4.34it/s]"
     ]
    },
    {
     "name": "stdout",
     "output_type": "stream",
     "text": [
      "Les segments de 'Aves_38Eoux31FR_09VI2021_0700.png' ont été sauvegardés avec succès.\n"
     ]
    },
    {
     "name": "stderr",
     "output_type": "stream",
     "text": [
      " 44%|████▍     | 78/177 [00:23<00:22,  4.48it/s]"
     ]
    },
    {
     "name": "stdout",
     "output_type": "stream",
     "text": [
      "Les segments de 'Aves_39Eoux31FR_09VI2021_1300.png' ont été sauvegardés avec succès.\n"
     ]
    },
    {
     "name": "stderr",
     "output_type": "stream",
     "text": [
      " 45%|████▍     | 79/177 [00:23<00:25,  3.79it/s]"
     ]
    },
    {
     "name": "stdout",
     "output_type": "stream",
     "text": [
      "Les segments de 'Aves_40Benque31FR_17VI2019_0000.png' ont été sauvegardés avec succès.\n"
     ]
    },
    {
     "name": "stderr",
     "output_type": "stream",
     "text": [
      " 45%|████▌     | 80/177 [00:23<00:24,  3.93it/s]"
     ]
    },
    {
     "name": "stdout",
     "output_type": "stream",
     "text": [
      "Les segments de 'Aves_43Benque31FR_09VI2021_0000.png' ont été sauvegardés avec succès.\n"
     ]
    },
    {
     "name": "stderr",
     "output_type": "stream",
     "text": [
      " 46%|████▌     | 81/177 [00:24<00:25,  3.83it/s]"
     ]
    },
    {
     "name": "stdout",
     "output_type": "stream",
     "text": [
      "Les segments de 'Aves_4Benque31FR_05V2021_1300.png' ont été sauvegardés avec succès.\n"
     ]
    },
    {
     "name": "stderr",
     "output_type": "stream",
     "text": [
      " 46%|████▋     | 82/177 [00:24<00:26,  3.54it/s]"
     ]
    },
    {
     "name": "stdout",
     "output_type": "stream",
     "text": [
      "Les segments de 'Aves_60Boussa31FR_17VI2019_1300.png' ont été sauvegardés avec succès.\n"
     ]
    },
    {
     "name": "stderr",
     "output_type": "stream",
     "text": [
      " 47%|████▋     | 83/177 [00:24<00:25,  3.68it/s]"
     ]
    },
    {
     "name": "stdout",
     "output_type": "stream",
     "text": [
      "Les segments de 'Aves_64Benque31FR_09VI2021_0000.png' ont été sauvegardés avec succès.\n"
     ]
    },
    {
     "name": "stderr",
     "output_type": "stream",
     "text": [
      " 48%|████▊     | 85/177 [00:25<00:24,  3.83it/s]"
     ]
    },
    {
     "name": "stdout",
     "output_type": "stream",
     "text": [
      "Les segments de 'Aves_65Benque31FR_09VI2021_0700.png' ont été sauvegardés avec succès.\n",
      "Les segments de 'Aves_67Bachas31FR_19VI2019_0000.png' ont été sauvegardés avec succès.\n"
     ]
    },
    {
     "name": "stderr",
     "output_type": "stream",
     "text": [
      " 49%|████▊     | 86/177 [00:25<00:26,  3.49it/s]"
     ]
    },
    {
     "name": "stdout",
     "output_type": "stream",
     "text": [
      "Les segments de 'Aves_69Bachas31FR_19VI2019_1300.png' ont été sauvegardés avec succès.\n"
     ]
    },
    {
     "name": "stderr",
     "output_type": "stream",
     "text": [
      " 49%|████▉     | 87/177 [00:26<00:28,  3.21it/s]"
     ]
    },
    {
     "name": "stdout",
     "output_type": "stream",
     "text": [
      "Les segments de 'Aves_70StAndre31FR_28V2020_1300.png' ont été sauvegardés avec succès.\n"
     ]
    },
    {
     "name": "stderr",
     "output_type": "stream",
     "text": [
      " 50%|████▉     | 88/177 [00:26<00:27,  3.24it/s]"
     ]
    },
    {
     "name": "stdout",
     "output_type": "stream",
     "text": [
      "Les segments de 'Aves_72StAndre31FR_29V2020_0700.png' ont été sauvegardés avec succès.\n"
     ]
    },
    {
     "name": "stderr",
     "output_type": "stream",
     "text": [
      " 51%|█████     | 90/177 [00:26<00:21,  3.98it/s]"
     ]
    },
    {
     "name": "stdout",
     "output_type": "stream",
     "text": [
      "Les segments de 'Aves_75Benque31FR_29V2020_1300.png' ont été sauvegardés avec succès.\n",
      "Les segments de 'Aves_7Benque31FR_28V2020_0000.png' ont été sauvegardés avec succès.\n"
     ]
    },
    {
     "name": "stderr",
     "output_type": "stream",
     "text": [
      " 51%|█████▏    | 91/177 [00:27<00:24,  3.56it/s]"
     ]
    },
    {
     "name": "stdout",
     "output_type": "stream",
     "text": [
      "Les segments de 'Aves_86Benque31FR_19VI2019_0700.png' ont été sauvegardés avec succès.\n"
     ]
    },
    {
     "name": "stderr",
     "output_type": "stream",
     "text": [
      " 53%|█████▎    | 93/177 [00:27<00:22,  3.74it/s]"
     ]
    },
    {
     "name": "stdout",
     "output_type": "stream",
     "text": [
      "Les segments de 'Aves_89Terreb31FR_28V2020_0700.png' ont été sauvegardés avec succès.\n",
      "Les segments de 'Aves_98Boussa31FR_18VI2019_0700.png' ont été sauvegardés avec succès.\n"
     ]
    },
    {
     "name": "stderr",
     "output_type": "stream",
     "text": [
      " 54%|█████▎    | 95/177 [00:28<00:20,  4.08it/s]"
     ]
    },
    {
     "name": "stdout",
     "output_type": "stream",
     "text": [
      "Les segments de 'Aves_99Boussa31FR_18VI2019_1300.png' ont été sauvegardés avec succès.\n",
      "Les segments de 'Aves_9Benque31FR_28V2020_1300.png' ont été sauvegardés avec succès.\n"
     ]
    },
    {
     "name": "stderr",
     "output_type": "stream",
     "text": [
      " 54%|█████▍    | 96/177 [00:28<00:22,  3.65it/s]"
     ]
    },
    {
     "name": "stdout",
     "output_type": "stream",
     "text": [
      "Les segments de 'Aves_idpofra31FR_23VIII2022_0000.png' ont été sauvegardés avec succès.\n"
     ]
    },
    {
     "name": "stderr",
     "output_type": "stream",
     "text": [
      " 55%|█████▍    | 97/177 [00:28<00:23,  3.38it/s]"
     ]
    },
    {
     "name": "stdout",
     "output_type": "stream",
     "text": [
      "Les segments de 'Aves_idpofra31FR_23VIII2022_0030.png' ont été sauvegardés avec succès.\n"
     ]
    },
    {
     "name": "stderr",
     "output_type": "stream",
     "text": [
      " 55%|█████▌    | 98/177 [00:29<00:25,  3.15it/s]"
     ]
    },
    {
     "name": "stdout",
     "output_type": "stream",
     "text": [
      "Les segments de 'Aves_idpofra31FR_23VIII2022_0115.png' ont été sauvegardés avec succès.\n"
     ]
    },
    {
     "name": "stderr",
     "output_type": "stream",
     "text": [
      " 56%|█████▌    | 99/177 [00:29<00:26,  2.97it/s]"
     ]
    },
    {
     "name": "stdout",
     "output_type": "stream",
     "text": [
      "Les segments de 'Aves_idpofra31FR_23VIII2022_0130.png' ont été sauvegardés avec succès.\n"
     ]
    },
    {
     "name": "stderr",
     "output_type": "stream",
     "text": [
      " 56%|█████▋    | 100/177 [00:29<00:26,  2.88it/s]"
     ]
    },
    {
     "name": "stdout",
     "output_type": "stream",
     "text": [
      "Les segments de 'Aves_idpofra31FR_23VIII2022_0245.png' ont été sauvegardés avec succès.\n"
     ]
    },
    {
     "name": "stderr",
     "output_type": "stream",
     "text": [
      " 57%|█████▋    | 101/177 [00:30<00:27,  2.78it/s]"
     ]
    },
    {
     "name": "stdout",
     "output_type": "stream",
     "text": [
      "Les segments de 'Aves_idpofra31FR_23VIII2022_0400.png' ont été sauvegardés avec succès.\n"
     ]
    },
    {
     "name": "stderr",
     "output_type": "stream",
     "text": [
      " 58%|█████▊    | 102/177 [00:30<00:29,  2.57it/s]"
     ]
    },
    {
     "name": "stdout",
     "output_type": "stream",
     "text": [
      "Les segments de 'Orthoptera_adkarsa31FR_21IX2022_1023.png' ont été sauvegardés avec succès.\n"
     ]
    },
    {
     "name": "stderr",
     "output_type": "stream",
     "text": [
      " 58%|█████▊    | 103/177 [00:31<00:27,  2.73it/s]"
     ]
    },
    {
     "name": "stdout",
     "output_type": "stream",
     "text": [
      "Les segments de 'Orthoptera_cdchcau09FR_18IX2022_1048.png' ont été sauvegardés avec succès.\n"
     ]
    },
    {
     "name": "stderr",
     "output_type": "stream",
     "text": [
      " 59%|█████▉    | 105/177 [00:31<00:20,  3.53it/s]"
     ]
    },
    {
     "name": "stdout",
     "output_type": "stream",
     "text": [
      "Les segments de 'Orthoptera_cdchcau09FR_18IX2022_1052.png' ont été sauvegardés avec succès.\n",
      "Les segments de 'Orthoptera_cdchcau09FR_18IX2022_1055.png' ont été sauvegardés avec succès.\n"
     ]
    },
    {
     "name": "stderr",
     "output_type": "stream",
     "text": [
      " 60%|█████▉    | 106/177 [00:31<00:18,  3.75it/s]"
     ]
    },
    {
     "name": "stdout",
     "output_type": "stream",
     "text": [
      "Les segments de 'Orthoptera_cdchcau09FR_18IX2022_1056.png' ont été sauvegardés avec succès.\n"
     ]
    },
    {
     "name": "stderr",
     "output_type": "stream",
     "text": [
      " 60%|██████    | 107/177 [00:32<00:22,  3.05it/s]"
     ]
    },
    {
     "name": "stdout",
     "output_type": "stream",
     "text": [
      "Les segments de 'Orthoptera_cdmasma07FR_14VIII2022_908.png' ont été sauvegardés avec succès.\n"
     ]
    },
    {
     "name": "stderr",
     "output_type": "stream",
     "text": [
      " 61%|██████    | 108/177 [00:32<00:22,  3.13it/s]"
     ]
    },
    {
     "name": "stdout",
     "output_type": "stream",
     "text": [
      "Les segments de 'Orthoptera_cdmasma07FR_14VIII2022_909.png' ont été sauvegardés avec succès.\n"
     ]
    },
    {
     "name": "stderr",
     "output_type": "stream",
     "text": [
      " 62%|██████▏   | 109/177 [00:32<00:22,  2.99it/s]"
     ]
    },
    {
     "name": "stdout",
     "output_type": "stream",
     "text": [
      "Les segments de 'Orthoptera_cdpotsa09FR_05X2022_806.png' ont été sauvegardés avec succès.\n"
     ]
    },
    {
     "name": "stderr",
     "output_type": "stream",
     "text": [
      " 62%|██████▏   | 110/177 [00:33<00:21,  3.08it/s]"
     ]
    },
    {
     "name": "stdout",
     "output_type": "stream",
     "text": [
      "Les segments de 'Orthoptera_cdpotsa09FR_05X2022_830.png' ont été sauvegardés avec succès.\n"
     ]
    },
    {
     "name": "stderr",
     "output_type": "stream",
     "text": [
      " 63%|██████▎   | 111/177 [00:33<00:25,  2.63it/s]"
     ]
    },
    {
     "name": "stdout",
     "output_type": "stream",
     "text": [
      "Les segments de 'Orthoptera_hotrrsa31FR_21IX2022_706.png' ont été sauvegardés avec succès.\n"
     ]
    },
    {
     "name": "stderr",
     "output_type": "stream",
     "text": [
      " 63%|██████▎   | 112/177 [00:34<00:25,  2.52it/s]"
     ]
    },
    {
     "name": "stdout",
     "output_type": "stream",
     "text": [
      "Les segments de 'Orthoptera_hotrrsa31FR_21IX2022_991.png' ont été sauvegardés avec succès.\n"
     ]
    },
    {
     "name": "stderr",
     "output_type": "stream",
     "text": [
      " 64%|██████▍   | 113/177 [00:34<00:24,  2.58it/s]"
     ]
    },
    {
     "name": "stdout",
     "output_type": "stream",
     "text": [
      "Les segments de 'Orthoptera_idpofra31FR_23VIII2022_0015.png' ont été sauvegardés avec succès.\n"
     ]
    },
    {
     "name": "stderr",
     "output_type": "stream",
     "text": [
      " 64%|██████▍   | 114/177 [00:34<00:23,  2.67it/s]"
     ]
    },
    {
     "name": "stdout",
     "output_type": "stream",
     "text": [
      "Les segments de 'Orthoptera_idpofra31FR_23VIII2022_0045.png' ont été sauvegardés avec succès.\n"
     ]
    },
    {
     "name": "stderr",
     "output_type": "stream",
     "text": [
      " 65%|██████▍   | 115/177 [00:35<00:23,  2.66it/s]"
     ]
    },
    {
     "name": "stdout",
     "output_type": "stream",
     "text": [
      "Les segments de 'Orthoptera_idpofra31FR_23VIII2022_0145.png' ont été sauvegardés avec succès.\n"
     ]
    },
    {
     "name": "stderr",
     "output_type": "stream",
     "text": [
      " 66%|██████▌   | 116/177 [00:35<00:22,  2.74it/s]"
     ]
    },
    {
     "name": "stdout",
     "output_type": "stream",
     "text": [
      "Les segments de 'Orthoptera_idpofra31FR_23VIII2022_0200.png' ont été sauvegardés avec succès.\n"
     ]
    },
    {
     "name": "stderr",
     "output_type": "stream",
     "text": [
      " 66%|██████▌   | 117/177 [00:35<00:21,  2.80it/s]"
     ]
    },
    {
     "name": "stdout",
     "output_type": "stream",
     "text": [
      "Les segments de 'Orthoptera_idpofra31FR_23VIII2022_0215.png' ont été sauvegardés avec succès.\n"
     ]
    },
    {
     "name": "stderr",
     "output_type": "stream",
     "text": [
      " 67%|██████▋   | 118/177 [00:36<00:20,  2.95it/s]"
     ]
    },
    {
     "name": "stdout",
     "output_type": "stream",
     "text": [
      "Les segments de 'Orthoptera_idpofra31FR_23VIII2022_0230.png' ont été sauvegardés avec succès.\n"
     ]
    },
    {
     "name": "stderr",
     "output_type": "stream",
     "text": [
      " 67%|██████▋   | 119/177 [00:36<00:19,  3.02it/s]"
     ]
    },
    {
     "name": "stdout",
     "output_type": "stream",
     "text": [
      "Les segments de 'Orthoptera_idpofra31FR_23VIII2022_0300.png' ont été sauvegardés avec succès.\n"
     ]
    },
    {
     "name": "stderr",
     "output_type": "stream",
     "text": [
      " 68%|██████▊   | 120/177 [00:36<00:18,  3.07it/s]"
     ]
    },
    {
     "name": "stdout",
     "output_type": "stream",
     "text": [
      "Les segments de 'Orthoptera_idpofra31FR_23VIII2022_0315.png' ont été sauvegardés avec succès.\n"
     ]
    },
    {
     "name": "stderr",
     "output_type": "stream",
     "text": [
      " 68%|██████▊   | 121/177 [00:37<00:18,  3.10it/s]"
     ]
    },
    {
     "name": "stdout",
     "output_type": "stream",
     "text": [
      "Les segments de 'Orthoptera_idpofra31FR_23VIII2022_0330.png' ont été sauvegardés avec succès.\n"
     ]
    },
    {
     "name": "stderr",
     "output_type": "stream",
     "text": [
      " 69%|██████▉   | 122/177 [00:37<00:18,  2.96it/s]"
     ]
    },
    {
     "name": "stdout",
     "output_type": "stream",
     "text": [
      "Les segments de 'Orthoptera_pechpuy46FR_06V2022_2015.png' ont été sauvegardés avec succès.\n"
     ]
    },
    {
     "name": "stderr",
     "output_type": "stream",
     "text": [
      " 69%|██████▉   | 123/177 [00:37<00:19,  2.71it/s]"
     ]
    },
    {
     "name": "stdout",
     "output_type": "stream",
     "text": [
      "Les segments de 'Orthoptera_pechpuy46FR_06V2022_2100.png' ont été sauvegardés avec succès.\n"
     ]
    },
    {
     "name": "stderr",
     "output_type": "stream",
     "text": [
      " 70%|███████   | 124/177 [00:38<00:20,  2.53it/s]"
     ]
    },
    {
     "name": "stdout",
     "output_type": "stream",
     "text": [
      "Les segments de 'Orthoptera_pechpuy46FR_06V2022_2130.png' ont été sauvegardés avec succès.\n"
     ]
    },
    {
     "name": "stderr",
     "output_type": "stream",
     "text": [
      " 71%|███████   | 125/177 [00:38<00:20,  2.56it/s]"
     ]
    },
    {
     "name": "stdout",
     "output_type": "stream",
     "text": [
      "Les segments de 'Orthoptera_pechpuy46FR_11V2022_0530.png' ont été sauvegardés avec succès.\n"
     ]
    },
    {
     "name": "stderr",
     "output_type": "stream",
     "text": [
      " 71%|███████   | 126/177 [00:39<00:19,  2.65it/s]"
     ]
    },
    {
     "name": "stdout",
     "output_type": "stream",
     "text": [
      "Les segments de 'Orthoptera_plmarsa31FR_12V2023_1213.png' ont été sauvegardés avec succès.\n"
     ]
    },
    {
     "name": "stderr",
     "output_type": "stream",
     "text": [
      " 72%|███████▏  | 128/177 [00:39<00:14,  3.47it/s]"
     ]
    },
    {
     "name": "stdout",
     "output_type": "stream",
     "text": [
      "Les segments de 'Orthoptera_XXXXascXXES_26VIII2022_1027.png' ont été sauvegardés avec succès.\n",
      "Les segments de 'Orthoptera_XXXXascXXES_26VIII2022_660.png' ont été sauvegardés avec succès.\n"
     ]
    },
    {
     "name": "stderr",
     "output_type": "stream",
     "text": [
      " 73%|███████▎  | 130/177 [00:40<00:18,  2.49it/s]"
     ]
    },
    {
     "name": "stdout",
     "output_type": "stream",
     "text": [
      "Les segments de 'Orthoptera_XXXXbid07FR_27IV2022_98.png' ont été sauvegardés avec succès.\n",
      "Les segments de 'Orthoptera_XXXXcam11FR_12IX2022_1037.png' ont été sauvegardés avec succès.\n"
     ]
    },
    {
     "name": "stderr",
     "output_type": "stream",
     "text": [
      " 74%|███████▍  | 131/177 [00:41<00:18,  2.52it/s]"
     ]
    },
    {
     "name": "stdout",
     "output_type": "stream",
     "text": [
      "Les segments de 'Orthoptera_XXXXigeXXES_01VII2022_331.png' ont été sauvegardés avec succès.\n"
     ]
    },
    {
     "name": "stderr",
     "output_type": "stream",
     "text": [
      " 75%|███████▍  | 132/177 [00:41<00:20,  2.17it/s]"
     ]
    },
    {
     "name": "stdout",
     "output_type": "stream",
     "text": [
      "Les segments de 'Orthoptera_XXXXigeXXES_01VII2022_332.png' ont été sauvegardés avec succès.\n"
     ]
    },
    {
     "name": "stderr",
     "output_type": "stream",
     "text": [
      " 75%|███████▌  | 133/177 [00:42<00:19,  2.25it/s]"
     ]
    },
    {
     "name": "stdout",
     "output_type": "stream",
     "text": [
      "Les segments de 'Orthoptera_XXXXigeXXES_01VIII2022_896.png' ont été sauvegardés avec succès.\n"
     ]
    },
    {
     "name": "stderr",
     "output_type": "stream",
     "text": [
      " 76%|███████▌  | 134/177 [00:42<00:17,  2.40it/s]"
     ]
    },
    {
     "name": "stdout",
     "output_type": "stream",
     "text": [
      "Les segments de 'Orthoptera_XXXXigeXXES_01VIII2022_898.png' ont été sauvegardés avec succès.\n"
     ]
    },
    {
     "name": "stderr",
     "output_type": "stream",
     "text": [
      " 76%|███████▋  | 135/177 [00:42<00:18,  2.24it/s]"
     ]
    },
    {
     "name": "stdout",
     "output_type": "stream",
     "text": [
      "Les segments de 'Orthoptera_XXXXigeXXES_01VIII2022_899.png' ont été sauvegardés avec succès.\n"
     ]
    },
    {
     "name": "stderr",
     "output_type": "stream",
     "text": [
      " 77%|███████▋  | 136/177 [00:43<00:19,  2.10it/s]"
     ]
    },
    {
     "name": "stdout",
     "output_type": "stream",
     "text": [
      "Les segments de 'Orthoptera_XXXXigeXXES_01VIII2022_900.png' ont été sauvegardés avec succès.\n"
     ]
    },
    {
     "name": "stderr",
     "output_type": "stream",
     "text": [
      " 77%|███████▋  | 137/177 [00:44<00:19,  2.00it/s]"
     ]
    },
    {
     "name": "stdout",
     "output_type": "stream",
     "text": [
      "Les segments de 'Orthoptera_XXXXigeXXES_02VII2022_337.png' ont été sauvegardés avec succès.\n"
     ]
    },
    {
     "name": "stderr",
     "output_type": "stream",
     "text": [
      " 78%|███████▊  | 138/177 [00:44<00:18,  2.09it/s]"
     ]
    },
    {
     "name": "stdout",
     "output_type": "stream",
     "text": [
      "Les segments de 'Orthoptera_XXXXigeXXES_02VIII2022_1188.png' ont été sauvegardés avec succès.\n"
     ]
    },
    {
     "name": "stderr",
     "output_type": "stream",
     "text": [
      " 79%|███████▊  | 139/177 [00:45<00:19,  1.95it/s]"
     ]
    },
    {
     "name": "stdout",
     "output_type": "stream",
     "text": [
      "Les segments de 'Orthoptera_XXXXigeXXES_02VIII2022_1189.png' ont été sauvegardés avec succès.\n"
     ]
    },
    {
     "name": "stderr",
     "output_type": "stream",
     "text": [
      " 79%|███████▉  | 140/177 [00:45<00:16,  2.21it/s]"
     ]
    },
    {
     "name": "stdout",
     "output_type": "stream",
     "text": [
      "Les segments de 'Orthoptera_XXXXigeXXES_02VIII2022_901.png' ont été sauvegardés avec succès.\n"
     ]
    },
    {
     "name": "stderr",
     "output_type": "stream",
     "text": [
      " 80%|███████▉  | 141/177 [00:45<00:16,  2.14it/s]"
     ]
    },
    {
     "name": "stdout",
     "output_type": "stream",
     "text": [
      "Les segments de 'Orthoptera_XXXXigeXXES_03VII2022_1194.png' ont été sauvegardés avec succès.\n"
     ]
    },
    {
     "name": "stderr",
     "output_type": "stream",
     "text": [
      " 80%|████████  | 142/177 [00:46<00:15,  2.19it/s]"
     ]
    },
    {
     "name": "stdout",
     "output_type": "stream",
     "text": [
      "Les segments de 'Orthoptera_XXXXigeXXES_03VII2022_423.png' ont été sauvegardés avec succès.\n"
     ]
    },
    {
     "name": "stderr",
     "output_type": "stream",
     "text": [
      " 81%|████████  | 143/177 [00:46<00:13,  2.48it/s]"
     ]
    },
    {
     "name": "stdout",
     "output_type": "stream",
     "text": [
      "Les segments de 'Orthoptera_XXXXigeXXES_10VIII2022_1190.png' ont été sauvegardés avec succès.\n"
     ]
    },
    {
     "name": "stderr",
     "output_type": "stream",
     "text": [
      " 81%|████████▏ | 144/177 [00:47<00:13,  2.48it/s]"
     ]
    },
    {
     "name": "stdout",
     "output_type": "stream",
     "text": [
      "Les segments de 'Orthoptera_XXXXigeXXES_14VII2022_861.png' ont été sauvegardés avec succès.\n"
     ]
    },
    {
     "name": "stderr",
     "output_type": "stream",
     "text": [
      " 82%|████████▏ | 145/177 [00:47<00:14,  2.24it/s]"
     ]
    },
    {
     "name": "stdout",
     "output_type": "stream",
     "text": [
      "Les segments de 'Orthoptera_XXXXigeXXES_14VII2022_863.png' ont été sauvegardés avec succès.\n"
     ]
    },
    {
     "name": "stderr",
     "output_type": "stream",
     "text": [
      " 82%|████████▏ | 146/177 [00:47<00:12,  2.41it/s]"
     ]
    },
    {
     "name": "stdout",
     "output_type": "stream",
     "text": [
      "Les segments de 'Orthoptera_XXXXigeXXES_14VII2022_867.png' ont été sauvegardés avec succès.\n"
     ]
    },
    {
     "name": "stderr",
     "output_type": "stream",
     "text": [
      " 83%|████████▎ | 147/177 [00:48<00:11,  2.57it/s]"
     ]
    },
    {
     "name": "stdout",
     "output_type": "stream",
     "text": [
      "Les segments de 'Orthoptera_XXXXigeXXES_14VII2022_871.png' ont été sauvegardés avec succès.\n"
     ]
    },
    {
     "name": "stderr",
     "output_type": "stream",
     "text": [
      " 84%|████████▎ | 148/177 [00:48<00:11,  2.63it/s]"
     ]
    },
    {
     "name": "stdout",
     "output_type": "stream",
     "text": [
      "Les segments de 'Orthoptera_XXXXigeXXES_14VII2022_872.png' ont été sauvegardés avec succès.\n"
     ]
    },
    {
     "name": "stderr",
     "output_type": "stream",
     "text": [
      " 84%|████████▍ | 149/177 [00:49<00:10,  2.55it/s]"
     ]
    },
    {
     "name": "stdout",
     "output_type": "stream",
     "text": [
      "Les segments de 'Orthoptera_XXXXigeXXES_14VII2022_875.png' ont été sauvegardés avec succès.\n"
     ]
    },
    {
     "name": "stderr",
     "output_type": "stream",
     "text": [
      " 85%|████████▍ | 150/177 [00:49<00:12,  2.19it/s]"
     ]
    },
    {
     "name": "stdout",
     "output_type": "stream",
     "text": [
      "Les segments de 'Orthoptera_XXXXigeXXES_15VII2022_876.png' ont été sauvegardés avec succès.\n"
     ]
    },
    {
     "name": "stderr",
     "output_type": "stream",
     "text": [
      " 85%|████████▌ | 151/177 [00:50<00:12,  2.03it/s]"
     ]
    },
    {
     "name": "stdout",
     "output_type": "stream",
     "text": [
      "Les segments de 'Orthoptera_XXXXigeXXES_17VII2022_877.png' ont été sauvegardés avec succès.\n"
     ]
    },
    {
     "name": "stderr",
     "output_type": "stream",
     "text": [
      " 86%|████████▌ | 152/177 [00:50<00:12,  2.08it/s]"
     ]
    },
    {
     "name": "stdout",
     "output_type": "stream",
     "text": [
      "Les segments de 'Orthoptera_XXXXigeXXES_17VII2022_879.png' ont été sauvegardés avec succès.\n"
     ]
    },
    {
     "name": "stderr",
     "output_type": "stream",
     "text": [
      " 86%|████████▋ | 153/177 [00:50<00:10,  2.31it/s]"
     ]
    },
    {
     "name": "stdout",
     "output_type": "stream",
     "text": [
      "Les segments de 'Orthoptera_XXXXigeXXES_17VII2022_880.png' ont été sauvegardés avec succès.\n"
     ]
    },
    {
     "name": "stderr",
     "output_type": "stream",
     "text": [
      " 87%|████████▋ | 154/177 [00:51<00:10,  2.27it/s]"
     ]
    },
    {
     "name": "stdout",
     "output_type": "stream",
     "text": [
      "Les segments de 'Orthoptera_XXXXigeXXES_17VII2022_882.png' ont été sauvegardés avec succès.\n"
     ]
    },
    {
     "name": "stderr",
     "output_type": "stream",
     "text": [
      " 88%|████████▊ | 155/177 [00:52<00:10,  2.02it/s]"
     ]
    },
    {
     "name": "stdout",
     "output_type": "stream",
     "text": [
      "Les segments de 'Orthoptera_XXXXigeXXES_17VII2022_883.png' ont été sauvegardés avec succès.\n"
     ]
    },
    {
     "name": "stderr",
     "output_type": "stream",
     "text": [
      " 88%|████████▊ | 156/177 [00:52<00:10,  1.99it/s]"
     ]
    },
    {
     "name": "stdout",
     "output_type": "stream",
     "text": [
      "Les segments de 'Orthoptera_XXXXigeXXES_19VII2022_1198.png' ont été sauvegardés avec succès.\n"
     ]
    },
    {
     "name": "stderr",
     "output_type": "stream",
     "text": [
      " 89%|████████▊ | 157/177 [00:53<00:12,  1.55it/s]"
     ]
    },
    {
     "name": "stdout",
     "output_type": "stream",
     "text": [
      "Les segments de 'Orthoptera_XXXXjacXXES_26VIII2022_1029.png' ont été sauvegardés avec succès.\n"
     ]
    },
    {
     "name": "stderr",
     "output_type": "stream",
     "text": [
      " 89%|████████▉ | 158/177 [00:54<00:15,  1.23it/s]"
     ]
    },
    {
     "name": "stdout",
     "output_type": "stream",
     "text": [
      "Les segments de 'Orthoptera_XXXXjacXXES_26VIII2022_1030.png' ont été sauvegardés avec succès.\n"
     ]
    },
    {
     "name": "stderr",
     "output_type": "stream",
     "text": [
      " 90%|████████▉ | 159/177 [00:55<00:15,  1.13it/s]"
     ]
    },
    {
     "name": "stdout",
     "output_type": "stream",
     "text": [
      "Les segments de 'Orthoptera_XXXXjacXXES_26VIII2022_1035.png' ont été sauvegardés avec succès.\n"
     ]
    },
    {
     "name": "stderr",
     "output_type": "stream",
     "text": [
      " 90%|█████████ | 160/177 [00:56<00:13,  1.28it/s]"
     ]
    },
    {
     "name": "stdout",
     "output_type": "stream",
     "text": [
      "Les segments de 'Orthoptera_XXXXjacXXES_26VIII2022_1058.png' ont été sauvegardés avec succès.\n"
     ]
    },
    {
     "name": "stderr",
     "output_type": "stream",
     "text": [
      " 91%|█████████ | 161/177 [00:57<00:14,  1.12it/s]"
     ]
    },
    {
     "name": "stdout",
     "output_type": "stream",
     "text": [
      "Les segments de 'Orthoptera_XXXXjacXXES_26VIII2022_661.png' ont été sauvegardés avec succès.\n"
     ]
    },
    {
     "name": "stderr",
     "output_type": "stream",
     "text": [
      " 92%|█████████▏| 162/177 [00:58<00:12,  1.22it/s]"
     ]
    },
    {
     "name": "stdout",
     "output_type": "stream",
     "text": [
      "Les segments de 'Orthoptera_XXXXjacXXES_26VIII2022_662.png' ont été sauvegardés avec succès.\n"
     ]
    },
    {
     "name": "stderr",
     "output_type": "stream",
     "text": [
      " 92%|█████████▏| 163/177 [00:58<00:09,  1.40it/s]"
     ]
    },
    {
     "name": "stdout",
     "output_type": "stream",
     "text": [
      "Les segments de 'Orthoptera_XXXXmon82FR_19VII2022_885.png' ont été sauvegardés avec succès.\n"
     ]
    },
    {
     "name": "stderr",
     "output_type": "stream",
     "text": [
      " 93%|█████████▎| 164/177 [00:59<00:08,  1.50it/s]"
     ]
    },
    {
     "name": "stdout",
     "output_type": "stream",
     "text": [
      "Les segments de 'Orthoptera_XXXXmon82FR_19VII2022_886.png' ont été sauvegardés avec succès.\n"
     ]
    },
    {
     "name": "stderr",
     "output_type": "stream",
     "text": [
      " 93%|█████████▎| 165/177 [00:59<00:07,  1.68it/s]"
     ]
    },
    {
     "name": "stdout",
     "output_type": "stream",
     "text": [
      "Les segments de 'Orthoptera_XXXXmon82FR_19VII2022_887.png' ont été sauvegardés avec succès.\n"
     ]
    },
    {
     "name": "stderr",
     "output_type": "stream",
     "text": [
      " 94%|█████████▍| 166/177 [00:59<00:05,  1.95it/s]"
     ]
    },
    {
     "name": "stdout",
     "output_type": "stream",
     "text": [
      "Les segments de 'Orthoptera_XXXXmon82FR_19VII2022_888.png' ont été sauvegardés avec succès.\n"
     ]
    },
    {
     "name": "stderr",
     "output_type": "stream",
     "text": [
      " 94%|█████████▍| 167/177 [01:00<00:04,  2.22it/s]"
     ]
    },
    {
     "name": "stdout",
     "output_type": "stream",
     "text": [
      "Les segments de 'Orthoptera_XXXXmon82FR_19VII2022_889.png' ont été sauvegardés avec succès.\n"
     ]
    },
    {
     "name": "stderr",
     "output_type": "stream",
     "text": [
      " 95%|█████████▍| 168/177 [01:00<00:03,  2.37it/s]"
     ]
    },
    {
     "name": "stdout",
     "output_type": "stream",
     "text": [
      "Les segments de 'Orthoptera_XXXXmon82FR_19VII2022_893.png' ont été sauvegardés avec succès.\n"
     ]
    },
    {
     "name": "stderr",
     "output_type": "stream",
     "text": [
      " 95%|█████████▌| 169/177 [01:00<00:03,  2.62it/s]"
     ]
    },
    {
     "name": "stdout",
     "output_type": "stream",
     "text": [
      "Les segments de 'Orthoptera_XXXXmon82FR_19VII2022_895.png' ont été sauvegardés avec succès.\n"
     ]
    },
    {
     "name": "stderr",
     "output_type": "stream",
     "text": [
      " 96%|█████████▌| 170/177 [01:01<00:03,  2.25it/s]"
     ]
    },
    {
     "name": "stdout",
     "output_type": "stream",
     "text": [
      "Les segments de 'Orthoptera_XXXXporXXES_06V2022_123.png' ont été sauvegardés avec succès.\n"
     ]
    },
    {
     "name": "stderr",
     "output_type": "stream",
     "text": [
      " 97%|█████████▋| 171/177 [01:01<00:02,  2.37it/s]"
     ]
    },
    {
     "name": "stdout",
     "output_type": "stream",
     "text": [
      "Les segments de 'Orthoptera_XXXXporXXES_06V2022_124.png' ont été sauvegardés avec succès.\n"
     ]
    },
    {
     "name": "stderr",
     "output_type": "stream",
     "text": [
      " 97%|█████████▋| 172/177 [01:02<00:02,  1.89it/s]"
     ]
    },
    {
     "name": "stdout",
     "output_type": "stream",
     "text": [
      "Les segments de 'Orthoptera_XXXXporXXES_06V2022_125.png' ont été sauvegardés avec succès.\n"
     ]
    },
    {
     "name": "stderr",
     "output_type": "stream",
     "text": [
      " 98%|█████████▊| 173/177 [01:03<00:02,  1.99it/s]"
     ]
    },
    {
     "name": "stdout",
     "output_type": "stream",
     "text": [
      "Les segments de 'Orthoptera_XXXXporXXES_30IV2022_117.png' ont été sauvegardés avec succès.\n",
      "Les segments de 'Orthoptera_XXXXporXXES_30IV2022_118.png' ont été sauvegardés avec succès.\n"
     ]
    },
    {
     "name": "stderr",
     "output_type": "stream",
     "text": [
      " 99%|█████████▉| 175/177 [01:03<00:00,  2.35it/s]"
     ]
    },
    {
     "name": "stdout",
     "output_type": "stream",
     "text": [
      "Les segments de 'Orthoptera_XXXXsma07FR_10VIII2022_904.png' ont été sauvegardés avec succès.\n"
     ]
    },
    {
     "name": "stderr",
     "output_type": "stream",
     "text": [
      " 99%|█████████▉| 176/177 [01:04<00:00,  2.27it/s]"
     ]
    },
    {
     "name": "stdout",
     "output_type": "stream",
     "text": [
      "Les segments de 'Orthoptera_XXXXsma07FR_10VIII2022_905.png' ont été sauvegardés avec succès.\n"
     ]
    },
    {
     "name": "stderr",
     "output_type": "stream",
     "text": [
      "100%|██████████| 177/177 [01:04<00:00,  2.74it/s]"
     ]
    },
    {
     "name": "stdout",
     "output_type": "stream",
     "text": [
      "Les segments de 'Orthoptera_XXXXsma07FR_27IV2022_112.png' ont été sauvegardés avec succès.\n"
     ]
    },
    {
     "name": "stderr",
     "output_type": "stream",
     "text": [
      "\n"
     ]
    }
   ],
   "source": [
    "\n",
    "convertSpectro1minTo5s(path_1min, path_5s)"
   ]
  },
  {
   "cell_type": "code",
   "execution_count": 6,
   "metadata": {},
   "outputs": [],
   "source": [
    "# Load yolo model\n",
    "model_version = \"best.pt\"\n",
    "modelpath = r\"../Notebooks/YOLO/runs/detect/small 1 classe spectrogramme 48k/weights\" + os.sep + model_version\n",
    "model = YOLO(modelpath)"
   ]
  },
  {
   "cell_type": "code",
   "execution_count": 48,
   "metadata": {},
   "outputs": [
    {
     "name": "stderr",
     "output_type": "stream",
     "text": [
      "100%|██████████| 2537/2537 [00:44<00:00, 56.40it/s]\n"
     ]
    }
   ],
   "source": [
    "# create new dataframe for the boxes\n",
    "columns = [\"unique_code\", \"x1\", \"y1\", \"x2\", \"y2\", \"confidence\", \"img_height\", \"img_width\", \"start_split\", \"end_split\"]\n",
    "df_boxes = pd.DataFrame(columns=columns)\n",
    "\n",
    "for filename in tqdm(os.listdir(path_5s)):\n",
    "    file_path = os.path.join(path_5s, filename)\n",
    "    if file_path.lower().endswith(('.png', '.jpg', '.jpeg')):\n",
    "        image = Image.open(file_path)\n",
    "        name = filename.split('.')[0]\n",
    "        \n",
    "        # predict\n",
    "        results = model.predict(image, conf=0.417,verbose=False)\n",
    "        for result in results:\n",
    "            boxes = result.boxes\n",
    "            for box in boxes:\n",
    "                xyxy = box.xyxy[0]\n",
    "                conf = box.conf[0]\n",
    "                height, width = box.orig_shape\n",
    "                \n",
    "                # get xyxy values\n",
    "                x1 = min(round(float(xyxy[0])), width)\n",
    "                y1 = min(round(float(xyxy[1])), height)\n",
    "                x2 = min(round(float(xyxy[2])), width)\n",
    "                y2 = min(round(float(xyxy[3])), height)\n",
    "                conf = float(conf)\n",
    "                \n",
    "                unique_code = name.split('_split_')[0]\n",
    "                start_split = int(name.split('_split_')[1].split('_')[0])\n",
    "                end_split = int(name.split('_split_')[1].split('_')[1])\n",
    "                \n",
    "                # Append a new row to the DataFrame\n",
    "                new_row = {\"unique_code\": unique_code, \"x1\": x1, \"y1\": y1, \"x2\": x2, \"y2\": y2, \"confidence\": conf, \"img_height\": height, \"img_width\": width, \"start_split\": start_split, \"end_split\": end_split}\n",
    "                df_boxes = pd.concat([df_boxes, pd.DataFrame([new_row])], ignore_index=True)"
   ]
  },
  {
   "cell_type": "code",
   "execution_count": 51,
   "metadata": {},
   "outputs": [
    {
     "ename": "OSError",
     "evalue": "Cannot save file into a non-existent directory: 'C:\\Users\\lucas\\Documents\\Annee_3_ENSEEIHT\\Projet long\\OrthopteraStridulationClassifier\\Dataset acoustique insectes\\CSV soundscapes 1 min split 5s boxes'",
     "output_type": "error",
     "traceback": [
      "\u001b[1;31m---------------------------------------------------------------------------\u001b[0m",
      "\u001b[1;31mOSError\u001b[0m                                   Traceback (most recent call last)",
      "Cell \u001b[1;32mIn[51], line 6\u001b[0m\n\u001b[0;32m      4\u001b[0m save_path_csv \u001b[38;5;241m=\u001b[39m \u001b[38;5;124mr\u001b[39m\u001b[38;5;124m'\u001b[39m\u001b[38;5;124mC:\u001b[39m\u001b[38;5;124m\\\u001b[39m\u001b[38;5;124mUsers\u001b[39m\u001b[38;5;124m\\\u001b[39m\u001b[38;5;124mlucas\u001b[39m\u001b[38;5;124m\\\u001b[39m\u001b[38;5;124mDocuments\u001b[39m\u001b[38;5;124m\\\u001b[39m\u001b[38;5;124mAnnee_3_ENSEEIHT\u001b[39m\u001b[38;5;124m\\\u001b[39m\u001b[38;5;124mProjet long\u001b[39m\u001b[38;5;124m\\\u001b[39m\u001b[38;5;124mOrthopteraStridulationClassifier\u001b[39m\u001b[38;5;124m\\\u001b[39m\u001b[38;5;124mDataset acoustique insectes\u001b[39m\u001b[38;5;124m\\\u001b[39m\u001b[38;5;124mCSV soundscapes 1 min split 5s boxes\u001b[39m\u001b[38;5;124m'\u001b[39m\n\u001b[0;32m      5\u001b[0m csv_file \u001b[38;5;241m=\u001b[39m \u001b[38;5;124m\"\u001b[39m\u001b[38;5;124m1min_to_5s_boxes.csv\u001b[39m\u001b[38;5;124m\"\u001b[39m\n\u001b[1;32m----> 6\u001b[0m \u001b[43mdf_boxes\u001b[49m\u001b[38;5;241;43m.\u001b[39;49m\u001b[43mto_csv\u001b[49m\u001b[43m(\u001b[49m\u001b[43msave_path_csv\u001b[49m\u001b[43m \u001b[49m\u001b[38;5;241;43m+\u001b[39;49m\u001b[43m \u001b[49m\u001b[43mos\u001b[49m\u001b[38;5;241;43m.\u001b[39;49m\u001b[43msep\u001b[49m\u001b[43m \u001b[49m\u001b[38;5;241;43m+\u001b[39;49m\u001b[43m \u001b[49m\u001b[43mcsv_file\u001b[49m\u001b[43m,\u001b[49m\u001b[43m \u001b[49m\u001b[43mindex\u001b[49m\u001b[38;5;241;43m=\u001b[39;49m\u001b[38;5;28;43;01mFalse\u001b[39;49;00m\u001b[43m)\u001b[49m\n",
      "File \u001b[1;32mc:\\Users\\lucas\\AppData\\Local\\Programs\\Python\\Python311\\Lib\\site-packages\\pandas\\core\\generic.py:3772\u001b[0m, in \u001b[0;36mNDFrame.to_csv\u001b[1;34m(self, path_or_buf, sep, na_rep, float_format, columns, header, index, index_label, mode, encoding, compression, quoting, quotechar, lineterminator, chunksize, date_format, doublequote, escapechar, decimal, errors, storage_options)\u001b[0m\n\u001b[0;32m   3761\u001b[0m df \u001b[38;5;241m=\u001b[39m \u001b[38;5;28mself\u001b[39m \u001b[38;5;28;01mif\u001b[39;00m \u001b[38;5;28misinstance\u001b[39m(\u001b[38;5;28mself\u001b[39m, ABCDataFrame) \u001b[38;5;28;01melse\u001b[39;00m \u001b[38;5;28mself\u001b[39m\u001b[38;5;241m.\u001b[39mto_frame()\n\u001b[0;32m   3763\u001b[0m formatter \u001b[38;5;241m=\u001b[39m DataFrameFormatter(\n\u001b[0;32m   3764\u001b[0m     frame\u001b[38;5;241m=\u001b[39mdf,\n\u001b[0;32m   3765\u001b[0m     header\u001b[38;5;241m=\u001b[39mheader,\n\u001b[1;32m   (...)\u001b[0m\n\u001b[0;32m   3769\u001b[0m     decimal\u001b[38;5;241m=\u001b[39mdecimal,\n\u001b[0;32m   3770\u001b[0m )\n\u001b[1;32m-> 3772\u001b[0m \u001b[38;5;28;01mreturn\u001b[39;00m \u001b[43mDataFrameRenderer\u001b[49m\u001b[43m(\u001b[49m\u001b[43mformatter\u001b[49m\u001b[43m)\u001b[49m\u001b[38;5;241;43m.\u001b[39;49m\u001b[43mto_csv\u001b[49m\u001b[43m(\u001b[49m\n\u001b[0;32m   3773\u001b[0m \u001b[43m    \u001b[49m\u001b[43mpath_or_buf\u001b[49m\u001b[43m,\u001b[49m\n\u001b[0;32m   3774\u001b[0m \u001b[43m    \u001b[49m\u001b[43mlineterminator\u001b[49m\u001b[38;5;241;43m=\u001b[39;49m\u001b[43mlineterminator\u001b[49m\u001b[43m,\u001b[49m\n\u001b[0;32m   3775\u001b[0m \u001b[43m    \u001b[49m\u001b[43msep\u001b[49m\u001b[38;5;241;43m=\u001b[39;49m\u001b[43msep\u001b[49m\u001b[43m,\u001b[49m\n\u001b[0;32m   3776\u001b[0m \u001b[43m    \u001b[49m\u001b[43mencoding\u001b[49m\u001b[38;5;241;43m=\u001b[39;49m\u001b[43mencoding\u001b[49m\u001b[43m,\u001b[49m\n\u001b[0;32m   3777\u001b[0m \u001b[43m    \u001b[49m\u001b[43merrors\u001b[49m\u001b[38;5;241;43m=\u001b[39;49m\u001b[43merrors\u001b[49m\u001b[43m,\u001b[49m\n\u001b[0;32m   3778\u001b[0m \u001b[43m    \u001b[49m\u001b[43mcompression\u001b[49m\u001b[38;5;241;43m=\u001b[39;49m\u001b[43mcompression\u001b[49m\u001b[43m,\u001b[49m\n\u001b[0;32m   3779\u001b[0m \u001b[43m    \u001b[49m\u001b[43mquoting\u001b[49m\u001b[38;5;241;43m=\u001b[39;49m\u001b[43mquoting\u001b[49m\u001b[43m,\u001b[49m\n\u001b[0;32m   3780\u001b[0m \u001b[43m    \u001b[49m\u001b[43mcolumns\u001b[49m\u001b[38;5;241;43m=\u001b[39;49m\u001b[43mcolumns\u001b[49m\u001b[43m,\u001b[49m\n\u001b[0;32m   3781\u001b[0m \u001b[43m    \u001b[49m\u001b[43mindex_label\u001b[49m\u001b[38;5;241;43m=\u001b[39;49m\u001b[43mindex_label\u001b[49m\u001b[43m,\u001b[49m\n\u001b[0;32m   3782\u001b[0m \u001b[43m    \u001b[49m\u001b[43mmode\u001b[49m\u001b[38;5;241;43m=\u001b[39;49m\u001b[43mmode\u001b[49m\u001b[43m,\u001b[49m\n\u001b[0;32m   3783\u001b[0m \u001b[43m    \u001b[49m\u001b[43mchunksize\u001b[49m\u001b[38;5;241;43m=\u001b[39;49m\u001b[43mchunksize\u001b[49m\u001b[43m,\u001b[49m\n\u001b[0;32m   3784\u001b[0m \u001b[43m    \u001b[49m\u001b[43mquotechar\u001b[49m\u001b[38;5;241;43m=\u001b[39;49m\u001b[43mquotechar\u001b[49m\u001b[43m,\u001b[49m\n\u001b[0;32m   3785\u001b[0m \u001b[43m    \u001b[49m\u001b[43mdate_format\u001b[49m\u001b[38;5;241;43m=\u001b[39;49m\u001b[43mdate_format\u001b[49m\u001b[43m,\u001b[49m\n\u001b[0;32m   3786\u001b[0m \u001b[43m    \u001b[49m\u001b[43mdoublequote\u001b[49m\u001b[38;5;241;43m=\u001b[39;49m\u001b[43mdoublequote\u001b[49m\u001b[43m,\u001b[49m\n\u001b[0;32m   3787\u001b[0m \u001b[43m    \u001b[49m\u001b[43mescapechar\u001b[49m\u001b[38;5;241;43m=\u001b[39;49m\u001b[43mescapechar\u001b[49m\u001b[43m,\u001b[49m\n\u001b[0;32m   3788\u001b[0m \u001b[43m    \u001b[49m\u001b[43mstorage_options\u001b[49m\u001b[38;5;241;43m=\u001b[39;49m\u001b[43mstorage_options\u001b[49m\u001b[43m,\u001b[49m\n\u001b[0;32m   3789\u001b[0m \u001b[43m\u001b[49m\u001b[43m)\u001b[49m\n",
      "File \u001b[1;32mc:\\Users\\lucas\\AppData\\Local\\Programs\\Python\\Python311\\Lib\\site-packages\\pandas\\io\\formats\\format.py:1186\u001b[0m, in \u001b[0;36mDataFrameRenderer.to_csv\u001b[1;34m(self, path_or_buf, encoding, sep, columns, index_label, mode, compression, quoting, quotechar, lineterminator, chunksize, date_format, doublequote, escapechar, errors, storage_options)\u001b[0m\n\u001b[0;32m   1165\u001b[0m     created_buffer \u001b[38;5;241m=\u001b[39m \u001b[38;5;28;01mFalse\u001b[39;00m\n\u001b[0;32m   1167\u001b[0m csv_formatter \u001b[38;5;241m=\u001b[39m CSVFormatter(\n\u001b[0;32m   1168\u001b[0m     path_or_buf\u001b[38;5;241m=\u001b[39mpath_or_buf,\n\u001b[0;32m   1169\u001b[0m     lineterminator\u001b[38;5;241m=\u001b[39mlineterminator,\n\u001b[1;32m   (...)\u001b[0m\n\u001b[0;32m   1184\u001b[0m     formatter\u001b[38;5;241m=\u001b[39m\u001b[38;5;28mself\u001b[39m\u001b[38;5;241m.\u001b[39mfmt,\n\u001b[0;32m   1185\u001b[0m )\n\u001b[1;32m-> 1186\u001b[0m \u001b[43mcsv_formatter\u001b[49m\u001b[38;5;241;43m.\u001b[39;49m\u001b[43msave\u001b[49m\u001b[43m(\u001b[49m\u001b[43m)\u001b[49m\n\u001b[0;32m   1188\u001b[0m \u001b[38;5;28;01mif\u001b[39;00m created_buffer:\n\u001b[0;32m   1189\u001b[0m     \u001b[38;5;28;01massert\u001b[39;00m \u001b[38;5;28misinstance\u001b[39m(path_or_buf, StringIO)\n",
      "File \u001b[1;32mc:\\Users\\lucas\\AppData\\Local\\Programs\\Python\\Python311\\Lib\\site-packages\\pandas\\io\\formats\\csvs.py:240\u001b[0m, in \u001b[0;36mCSVFormatter.save\u001b[1;34m(self)\u001b[0m\n\u001b[0;32m    236\u001b[0m \u001b[38;5;250m\u001b[39m\u001b[38;5;124;03m\"\"\"\u001b[39;00m\n\u001b[0;32m    237\u001b[0m \u001b[38;5;124;03mCreate the writer & save.\u001b[39;00m\n\u001b[0;32m    238\u001b[0m \u001b[38;5;124;03m\"\"\"\u001b[39;00m\n\u001b[0;32m    239\u001b[0m \u001b[38;5;66;03m# apply compression and byte/text conversion\u001b[39;00m\n\u001b[1;32m--> 240\u001b[0m \u001b[38;5;28;01mwith\u001b[39;00m \u001b[43mget_handle\u001b[49m\u001b[43m(\u001b[49m\n\u001b[0;32m    241\u001b[0m \u001b[43m    \u001b[49m\u001b[38;5;28;43mself\u001b[39;49m\u001b[38;5;241;43m.\u001b[39;49m\u001b[43mfilepath_or_buffer\u001b[49m\u001b[43m,\u001b[49m\n\u001b[0;32m    242\u001b[0m \u001b[43m    \u001b[49m\u001b[38;5;28;43mself\u001b[39;49m\u001b[38;5;241;43m.\u001b[39;49m\u001b[43mmode\u001b[49m\u001b[43m,\u001b[49m\n\u001b[0;32m    243\u001b[0m \u001b[43m    \u001b[49m\u001b[43mencoding\u001b[49m\u001b[38;5;241;43m=\u001b[39;49m\u001b[38;5;28;43mself\u001b[39;49m\u001b[38;5;241;43m.\u001b[39;49m\u001b[43mencoding\u001b[49m\u001b[43m,\u001b[49m\n\u001b[0;32m    244\u001b[0m \u001b[43m    \u001b[49m\u001b[43merrors\u001b[49m\u001b[38;5;241;43m=\u001b[39;49m\u001b[38;5;28;43mself\u001b[39;49m\u001b[38;5;241;43m.\u001b[39;49m\u001b[43merrors\u001b[49m\u001b[43m,\u001b[49m\n\u001b[0;32m    245\u001b[0m \u001b[43m    \u001b[49m\u001b[43mcompression\u001b[49m\u001b[38;5;241;43m=\u001b[39;49m\u001b[38;5;28;43mself\u001b[39;49m\u001b[38;5;241;43m.\u001b[39;49m\u001b[43mcompression\u001b[49m\u001b[43m,\u001b[49m\n\u001b[0;32m    246\u001b[0m \u001b[43m    \u001b[49m\u001b[43mstorage_options\u001b[49m\u001b[38;5;241;43m=\u001b[39;49m\u001b[38;5;28;43mself\u001b[39;49m\u001b[38;5;241;43m.\u001b[39;49m\u001b[43mstorage_options\u001b[49m\u001b[43m,\u001b[49m\n\u001b[0;32m    247\u001b[0m \u001b[43m\u001b[49m\u001b[43m)\u001b[49m \u001b[38;5;28;01mas\u001b[39;00m handles:\n\u001b[0;32m    248\u001b[0m     \u001b[38;5;66;03m# Note: self.encoding is irrelevant here\u001b[39;00m\n\u001b[0;32m    249\u001b[0m     \u001b[38;5;28mself\u001b[39m\u001b[38;5;241m.\u001b[39mwriter \u001b[38;5;241m=\u001b[39m csvlib\u001b[38;5;241m.\u001b[39mwriter(\n\u001b[0;32m    250\u001b[0m         handles\u001b[38;5;241m.\u001b[39mhandle,\n\u001b[0;32m    251\u001b[0m         lineterminator\u001b[38;5;241m=\u001b[39m\u001b[38;5;28mself\u001b[39m\u001b[38;5;241m.\u001b[39mlineterminator,\n\u001b[1;32m   (...)\u001b[0m\n\u001b[0;32m    256\u001b[0m         quotechar\u001b[38;5;241m=\u001b[39m\u001b[38;5;28mself\u001b[39m\u001b[38;5;241m.\u001b[39mquotechar,\n\u001b[0;32m    257\u001b[0m     )\n\u001b[0;32m    259\u001b[0m     \u001b[38;5;28mself\u001b[39m\u001b[38;5;241m.\u001b[39m_save()\n",
      "File \u001b[1;32mc:\\Users\\lucas\\AppData\\Local\\Programs\\Python\\Python311\\Lib\\site-packages\\pandas\\io\\common.py:737\u001b[0m, in \u001b[0;36mget_handle\u001b[1;34m(path_or_buf, mode, encoding, compression, memory_map, is_text, errors, storage_options)\u001b[0m\n\u001b[0;32m    735\u001b[0m \u001b[38;5;66;03m# Only for write methods\u001b[39;00m\n\u001b[0;32m    736\u001b[0m \u001b[38;5;28;01mif\u001b[39;00m \u001b[38;5;124m\"\u001b[39m\u001b[38;5;124mr\u001b[39m\u001b[38;5;124m\"\u001b[39m \u001b[38;5;129;01mnot\u001b[39;00m \u001b[38;5;129;01min\u001b[39;00m mode \u001b[38;5;129;01mand\u001b[39;00m is_path:\n\u001b[1;32m--> 737\u001b[0m     \u001b[43mcheck_parent_directory\u001b[49m\u001b[43m(\u001b[49m\u001b[38;5;28;43mstr\u001b[39;49m\u001b[43m(\u001b[49m\u001b[43mhandle\u001b[49m\u001b[43m)\u001b[49m\u001b[43m)\u001b[49m\n\u001b[0;32m    739\u001b[0m \u001b[38;5;28;01mif\u001b[39;00m compression:\n\u001b[0;32m    740\u001b[0m     \u001b[38;5;28;01mif\u001b[39;00m compression \u001b[38;5;241m!=\u001b[39m \u001b[38;5;124m\"\u001b[39m\u001b[38;5;124mzstd\u001b[39m\u001b[38;5;124m\"\u001b[39m:\n\u001b[0;32m    741\u001b[0m         \u001b[38;5;66;03m# compression libraries do not like an explicit text-mode\u001b[39;00m\n",
      "File \u001b[1;32mc:\\Users\\lucas\\AppData\\Local\\Programs\\Python\\Python311\\Lib\\site-packages\\pandas\\io\\common.py:600\u001b[0m, in \u001b[0;36mcheck_parent_directory\u001b[1;34m(path)\u001b[0m\n\u001b[0;32m    598\u001b[0m parent \u001b[38;5;241m=\u001b[39m Path(path)\u001b[38;5;241m.\u001b[39mparent\n\u001b[0;32m    599\u001b[0m \u001b[38;5;28;01mif\u001b[39;00m \u001b[38;5;129;01mnot\u001b[39;00m parent\u001b[38;5;241m.\u001b[39mis_dir():\n\u001b[1;32m--> 600\u001b[0m     \u001b[38;5;28;01mraise\u001b[39;00m \u001b[38;5;167;01mOSError\u001b[39;00m(\u001b[38;5;124mrf\u001b[39m\u001b[38;5;124m\"\u001b[39m\u001b[38;5;124mCannot save file into a non-existent directory: \u001b[39m\u001b[38;5;124m'\u001b[39m\u001b[38;5;132;01m{\u001b[39;00mparent\u001b[38;5;132;01m}\u001b[39;00m\u001b[38;5;124m'\u001b[39m\u001b[38;5;124m\"\u001b[39m)\n",
      "\u001b[1;31mOSError\u001b[0m: Cannot save file into a non-existent directory: 'C:\\Users\\lucas\\Documents\\Annee_3_ENSEEIHT\\Projet long\\OrthopteraStridulationClassifier\\Dataset acoustique insectes\\CSV soundscapes 1 min split 5s boxes'"
     ]
    }
   ],
   "source": [
    "df_boxes\n",
    "\n",
    "# Save the dataframe to a csv file\n",
    "save_path_csv = r'C:\\Users\\lucas\\Documents\\Annee_3_ENSEEIHT\\Projet long\\OrthopteraStridulationClassifier\\Dataset acoustique insectes\\CSV soundscapes 1 min split 5s boxes'\n",
    "\n",
    "# if the folder does not exist, create it\n",
    "os.makedirs(save_path_csv, exist_ok=True)\n",
    "\n",
    "# save the dataframe to a csv file\n",
    "csv_file = \"1min_to_5s_boxes.csv\"\n",
    "df_boxes.to_csv(save_path_csv + os.sep + csv_file, index=False)"
   ]
  },
  {
   "cell_type": "code",
   "execution_count": null,
   "metadata": {},
   "outputs": [],
   "source": [
    "def convertTo5s(path, save_path):\n",
    "    print(f'conversion de {path}')\n",
    "    df = pd.read_csv(path)\n",
    "    new_df = pd.DataFrame(columns=df.columns)\n",
    "\n",
    "    rows = df.iterrows()\n",
    "    for _, row in tqdm(rows, total=len(df)):\n",
    "        chunk_initial_time = row[\"chunk_initial_time\"]\n",
    "        chunk_final_time = row[\"chunk_final_time\"]\n",
    "        annotation_initial_time = row[\"annotation_initial_time\"]\n",
    "        annotation_final_time = row[\"annotation_final_time\"]\n",
    "\n",
    "        time_start = chunk_initial_time\n",
    "        while time_start < chunk_final_time:\n",
    "\n",
    "            if annotation_initial_time < time_start + 1 and annotation_final_time > time_start:\n",
    "                nouvelle_ligne = row\n",
    "                nouvelle_ligne[\"chunk_initial_time\"] = time_start\n",
    "                nouvelle_ligne[\"chunk_final_time\"] = time_start + 1\n",
    "                new_df.loc[len(new_df.index)] = nouvelle_ligne\n",
    "                #new_df = pd.concat([new_df, pd.DataFrame([nouvelle_ligne])], ignore_index=True)\n",
    "\n",
    "            time_start += 1\n",
    "\n",
    "    new_df.to_csv(save_path, index=False)"
   ]
  },
  {
   "cell_type": "code",
   "execution_count": null,
   "metadata": {},
   "outputs": [],
   "source": [
    "train_path_5s = \"..\\Dataset acoustique insectes\\CSVs morceaux audio 5s\\Audible\\\\train_audible_recording_chunks.csv\"\n",
    "train_save_path = \"..\\Dataset acoustique insectes\\CSVs morceaux audio 1s\\Audible\\\\train_audible_recording_chunks.csv\"\n",
    "convertTo5s(train_path_5s, train_save_path)\n",
    "\n",
    "train_path_5s = \"..\\Dataset acoustique insectes\\CSVs morceaux audio 5s\\Audible\\\\test_audible_recording_chunks.csv\"\n",
    "train_save_path = \"..\\Dataset acoustique insectes\\CSVs morceaux audio 1s\\Audible\\\\test_audible_recording_chunks.csv\"\n",
    "convertTo5s(train_path_5s, train_save_path)"
   ]
  }
 ],
 "metadata": {
  "kernelspec": {
   "display_name": "Python 3",
   "language": "python",
   "name": "python3"
  },
  "language_info": {
   "codemirror_mode": {
    "name": "ipython",
    "version": 3
   },
   "file_extension": ".py",
   "mimetype": "text/x-python",
   "name": "python",
   "nbconvert_exporter": "python",
   "pygments_lexer": "ipython3",
   "version": "3.11.2"
  }
 },
 "nbformat": 4,
 "nbformat_minor": 2
}
