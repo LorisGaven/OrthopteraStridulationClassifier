{
 "cells": [
  {
   "cell_type": "code",
   "execution_count": 93,
   "metadata": {},
   "outputs": [],
   "source": [
    "import pandas as pd\n",
    "import librosa\n",
    "import numpy as np\n",
    "import os\n",
    "from PIL import Image"
   ]
  },
  {
   "cell_type": "code",
   "execution_count": 94,
   "metadata": {},
   "outputs": [],
   "source": [
    "path_df = \"D:\\OrthopteraStridulationClassifier\\Dataset acoustique insectes\\CSVs morceaux audio 5s\\Audible\\\\train_audible_recording_chunks.csv\"\n",
    "wav_path = \"D:\\OrthopteraStridulationClassifier\\Dataset acoustique insectes\\Sélection morceaux audio 5s\\Audible\\\\train\"\n",
    "save_path = \"D:\\OrthopteraStridulationClassifier\\Dataset acoustique insectes\\\\newDatasetClassification\\\\train_spectro\"\n",
    "save_path_df = \"D:\\OrthopteraStridulationClassifier\\Dataset acoustique insectes\\\\newDatasetClassification\""
   ]
  },
  {
   "cell_type": "code",
   "execution_count": 95,
   "metadata": {},
   "outputs": [],
   "source": [
    "df = pd.read_csv(path_df)"
   ]
  },
  {
   "cell_type": "code",
   "execution_count": 96,
   "metadata": {},
   "outputs": [],
   "source": [
    "def scale_minmax(X, min=0.0, max=1.0):\n",
    "    X_std = (X - X.min()) / (X.max() - X.min())\n",
    "    X_scaled = X_std * (max - min) + min\n",
    "    return X_scaled"
   ]
  },
  {
   "cell_type": "code",
   "execution_count": 97,
   "metadata": {},
   "outputs": [
    {
     "name": "stdout",
     "output_type": "stream",
     "text": [
      "D:\\OrthopteraStridulationClassifier\\Dataset acoustique insectes\\Sélection morceaux audio 5s\\Audible\\train\\Anura_XXXXigeXXES_01VII2022_330_split_0_5.wav\n",
      "1008 1025 30 86 (1025, 86)\n",
      "1008 1025 0 86 (1025, 86)\n",
      "1008 1025 0 86 (1025, 86)\n",
      "1008 1025 0 86 (1025, 86)\n",
      "1008 1025 0 12 (1025, 87)\n"
     ]
    }
   ],
   "source": [
    "new_rows = []\n",
    "\n",
    "for _, row in df.iterrows():\n",
    "    chunk_initial_time = row[\"chunk_initial_time\"]\n",
    "    chunk_final_time = row[\"chunk_final_time\"]\n",
    "    annotation_initial_time = row[\"annotation_initial_time\"]\n",
    "    annotation_final_time = row[\"annotation_final_time\"]\n",
    "    min_frequency = row[\"min_frequency\"]\n",
    "    max_frequency = row[\"max_frequency\"]\n",
    "    code_unique = row[\"code_unique\"]\n",
    "\n",
    "    wav_path = f'{wav_path}\\\\{code_unique}_split_{chunk_initial_time}_{chunk_final_time}.wav'\n",
    "    print(wav_path)\n",
    "    \n",
    "    y, sr = librosa.load(wav_path, sr=None)\n",
    "    D = librosa.amplitude_to_db(np.abs(librosa.stft(y)), ref=np.max)\n",
    "\n",
    "    img = scale_minmax(D, 0, 255).astype(np.uint8) # Mettre les valeurs entre 0 et 255\n",
    "    img = np.flip(img, axis=0)\n",
    "\n",
    "    image = Image.fromarray(img)\n",
    "    n = int(chunk_final_time) - int(chunk_initial_time)\n",
    "    segment_width = image.width // n\n",
    "\n",
    "    # Diviser l'image et sauvegarder chaque segment\n",
    "    for i in range(n):\n",
    "        # Définir la boîte de découpage pour chaque segment\n",
    "        left = i * segment_width\n",
    "        top = 0\n",
    "        right = left + segment_width if i < 4 else image.width\n",
    "        bottom = image.height\n",
    "        \n",
    "        # Découper l'image\n",
    "        segment = image.crop((left, top, right, bottom))\n",
    "        \n",
    "        # Définir le chemin du fichier de sortie pour le segment actuel\n",
    "        new_segment_name = f'{code_unique}_split_{chunk_initial_time + i}_{chunk_initial_time + i + 1}.png'\n",
    "        output_path = os.path.join(save_path, new_segment_name)\n",
    "\n",
    "        if annotation_initial_time < chunk_initial_time + i + 1 and annotation_final_time > chunk_initial_time + i:\n",
    "            new_row = row.copy()\n",
    "            new_row[\"chunk_initial_time\"] = chunk_initial_time + i\n",
    "            new_row[\"chunk_final_time\"] = chunk_initial_time + i + 1\n",
    "            new_row[\"annotation_initial_time\"] = max(annotation_initial_time, chunk_initial_time + i)\n",
    "            new_row[\"annotation_final_time\"] = min(annotation_final_time, chunk_initial_time + i + 1)\n",
    "            new_rows.append(new_row)\n",
    "\n",
    "        img_width, img_height = segment.width, segment.height\n",
    "\n",
    "        # Création de la BB\n",
    "        t1 = new_row[\"annotation_initial_time\"] - new_row[\"chunk_initial_time\"]\n",
    "        t2 = new_row[\"annotation_final_time\"] - new_row[\"chunk_initial_time\"]\n",
    "        f1 = int(new_row['min_frequency'])\n",
    "        f2 = int(new_row['max_frequency'])\n",
    "        sr = new_row['sampling_rate']\n",
    "        chunk_duration = new_row['chunk_final_time'] - new_row['chunk_initial_time']\n",
    "\n",
    "        t1_pixel = int(t1 * img_width/chunk_duration)\n",
    "        t2_pixel = int(t2 * img_width/chunk_duration)\n",
    "\n",
    "        # for the frequency, the spectrogram is flipped\n",
    "        f1_pixel = img_height - int(f1 * img_height/(sr/2))\n",
    "        f2_pixel = img_height - int(f2 * img_height/(sr/2))\n",
    "\n",
    "        masque = np.zeros((img_height, img_width))\n",
    "        masque[f2_pixel:f1_pixel, t1_pixel:t2_pixel] = 255\n",
    "\n",
    "        print(f2_pixel, f1_pixel, t1_pixel, t2_pixel, masque.shape)\n",
    "\n",
    "        segment_np = np.array(segment)\n",
    "        segment_np = segment_np * masque # Application du masque\n",
    "\n",
    "        segment = Image.fromarray(masque).convert('RGB')\n",
    "        # Enregistrer le segment\n",
    "        segment.save(output_path)\n",
    "\n",
    "    break\n",
    "\n",
    "new_df = pd.concat(new_rows, axis=1).transpose()\n",
    "new_df.to_csv(f'{save_path_df}\\\\train_audible.csv', index=False)\n"
   ]
  },
  {
   "cell_type": "code",
   "execution_count": null,
   "metadata": {},
   "outputs": [],
   "source": []
  }
 ],
 "metadata": {
  "kernelspec": {
   "display_name": "Python 3",
   "language": "python",
   "name": "python3"
  },
  "language_info": {
   "codemirror_mode": {
    "name": "ipython",
    "version": 3
   },
   "file_extension": ".py",
   "mimetype": "text/x-python",
   "name": "python",
   "nbconvert_exporter": "python",
   "pygments_lexer": "ipython3",
   "version": "3.11.8"
  }
 },
 "nbformat": 4,
 "nbformat_minor": 2
}
